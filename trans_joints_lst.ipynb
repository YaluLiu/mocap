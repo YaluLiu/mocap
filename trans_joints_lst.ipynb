{
 "cells": [
  {
   "cell_type": "code",
   "execution_count": null,
   "metadata": {},
   "outputs": [],
   "source": [
    "asf_to_human = [\n",
    "('root', 'Pelvis') ,\n",
    "('rhipjoint', 'RHip') ,('rfemur', 'RKnee') ,('rtibia', 'RAnkle') ,\n",
    "('lhipjoint', 'LHip') ,('lfemur', 'LKnee') ,('ltibia', 'LAnkle') ,\n",
    "('upperback', 'Spine1') ,\n",
    "('lowerneck', 'Neck') ,\n",
    "('upperneck', 'Head') ,\n",
    "('head', 'Site') ,\n",
    "('lclavicle', 'LShoulder') ,('lradius', 'LElbow') ,('lwrist', 'LWrist') ,\n",
    "('rclavicle', 'RShoulder') ,('rradius', 'RElbow') ,('rwrist', 'RWrist') , \n",
    "]"
   ]
  },
  {
   "cell_type": "code",
   "execution_count": 1,
   "metadata": {},
   "outputs": [],
   "source": [
    "bvh_to_human = [\n",
    "('Hips', 'Pelvis') ,\n",
    "('RightUpLeg', 'RHip') ,('RightLeg', 'RKnee') ,('RightFoot', 'RAnkle') ,\n",
    "('LeftUpLeg',  'LHip') , ('LeftLeg', 'LKnee') , ('LeftFoot', 'LAnkle') ,\n",
    "('Spine', 'Spine1') ,('Spine1', 'Neck') ,('Neck', 'Head') ,('Head', 'Site') ,\n",
    "('LeftShoulder', 'LShoulder') ,('LeftForeArm', 'LElbow') ,('L_Wrist_End', 'LWrist') ,\n",
    "('RightShoulder', 'RShoulder') ,('RightForeArm', 'RElbow') ,('R_Wrist_End', 'RWrist') , \n",
    "]"
   ]
  },
  {
   "cell_type": "code",
   "execution_count": null,
   "metadata": {},
   "outputs": [],
   "source": [
    "c_to_parent = [\n",
    "    (0,-1),\n",
    "    (1,0),(2,1),(3,2),\n",
    "    (4,0),(5,4),(6,5),\n",
    "    (7,0),(8,7),(9,8),(10,9),\n",
    "    (11,8),(12,11),(13,12),\n",
    "    (14,8),(15,14),(16,15),\n",
    "]"
   ]
  },
  {
   "cell_type": "code",
   "execution_count": 2,
   "metadata": {},
   "outputs": [],
   "source": [
    "def get_joint_by_name(joint_name,joints):\n",
    "    for joint in joints.values():\n",
    "        if(joint_name == joint.name):\n",
    "            return joint\n",
    "    return None\n",
    "def make_src_joints_names(tran_pairs):\n",
    "    names = []\n",
    "    for pair in tran_pairs:\n",
    "        names.append(pair[0])\n",
    "    return names\n",
    "def trans_joints(src_joints,names):\n",
    "    joints = dict()\n",
    "    joints_num = len(names)\n",
    "    #for get coordinate\n",
    "    for idx,name in enumerate(names):\n",
    "        joint = get_joint_by_name(name,src_joints)\n",
    "        if(joint != None):\n",
    "            joints[idx] = joint\n",
    "        else:\n",
    "            print(\"Error!\")\n",
    "    #make new parent tree\n",
    "    for pair in c_to_parent:\n",
    "        idx = pair[0]\n",
    "        parent_idx = pair[1]\n",
    "        new_joints[idx].index =  idx\n",
    "        new_joints[idx].parent_index =  parent_idx\n",
    "        if(parent_idx != -1):\n",
    "            new_joints[idx].parent =  new_joints[parent_idx]\n",
    "    return new_joints\n",
    "\n",
    "def trans_joints_lst(src_joints_lst,old_type):\n",
    "    if(old_type == 'bvh'):\n",
    "        names = make_src_joints_names(bvh_to_human)\n",
    "    elif(old_type == 'amc' || old_type == 'asf' )\n",
    "        names = make_src_joints_names(asf_to_human)\n",
    "    dst_joints_lst = []\n",
    "    for src_joints in src_joints_lst:\n",
    "        dst_joints = trans_joints(src_joints,names)\n",
    "        dst_joints_lst.append(dst_joints)\n",
    "    return dst_joints_lst"
   ]
  },
  {
   "cell_type": "code",
   "execution_count": null,
   "metadata": {},
   "outputs": [],
   "source": []
  }
 ],
 "metadata": {
  "kernelspec": {
   "display_name": "mocap",
   "language": "python",
   "name": "mocap"
  },
  "language_info": {
   "codemirror_mode": {
    "name": "ipython",
    "version": 3
   },
   "file_extension": ".py",
   "mimetype": "text/x-python",
   "name": "python",
   "nbconvert_exporter": "python",
   "pygments_lexer": "ipython3",
   "version": "3.5.2"
  }
 },
 "nbformat": 4,
 "nbformat_minor": 2
}
