{
 "cells": [
  {
   "cell_type": "code",
   "execution_count": 39,
   "metadata": {},
   "outputs": [],
   "source": [
    "import json\n",
    "import numpy as np\n",
    "from transforms3d.quaternions import quat2mat\n",
    "import copy"
   ]
  },
  {
   "cell_type": "code",
   "execution_count": 40,
   "metadata": {},
   "outputs": [],
   "source": [
    "class MyJoint():\n",
    "    def __init__(self,name):\n",
    "        #main attribute\n",
    "        self.name = name\n",
    "        self.parent = self.parent_index = self.pos = None\n",
    "        #not main \n",
    "        #self.children = []\n",
    "        self.offset = self.channels = self.index = None\n",
    "        self.matrix = None\n",
    "        self.type = None"
   ]
  },
  {
   "cell_type": "code",
   "execution_count": 41,
   "metadata": {},
   "outputs": [],
   "source": [
    "def read_line(stream, idx):\n",
    "  if idx >= len(stream):\n",
    "    return None, idx\n",
    "  line = stream[idx]\n",
    "  line= line[1:-2]\n",
    "  line = line.replace('\\t', '').replace(' ','')\n",
    "  line = line.strip().split(',')\n",
    "  idx += 1\n",
    "  return line, idx"
   ]
  },
  {
   "cell_type": "code",
   "execution_count": 42,
   "metadata": {},
   "outputs": [],
   "source": [
    "# [\n",
    "# \tduration of frame in seconds (1D), 0\n",
    "# \troot position (3D), 4\n",
    "# \troot rotation (4D), 8\n",
    "# \tchest rotation (4D), 12\n",
    "# \tneck rotation (4D), 16\n",
    "# \tright hip rotation (4D), 20\n",
    "# \tright knee rotation (1D), 21\n",
    "# \tright ankle rotation (4D), 25\n",
    "# \tright shoulder rotation (4D), 29\n",
    "# \tright elbow rotation (1D), 30\n",
    "# \tleft hip rotation (4D), 34\n",
    "# \tleft knee rotation (1D), 35\n",
    "# \tleft ankle rotation (4D), 39\n",
    "# \tleft shoulder rotation (4D), 43\n",
    "# \tleft elbow rotation (1D) 44\n",
    "# ]"
   ]
  },
  {
   "cell_type": "code",
   "execution_count": 43,
   "metadata": {},
   "outputs": [],
   "source": [
    "def get_motion(motion,line):\n",
    "    motion[\"duration\"] = line[0]\n",
    "    motion[\"root_pos\"] = line[1:4]\n",
    "    motion[\"root\"] = line[4:8]\n",
    "    motion[\"chest\"] = line[8:12]\n",
    "    motion[\"neck\"] = line[12:16]\n",
    "    motion[\"right_hip\"] = line[16:20]\n",
    "    motion[\"right_knee\"] = line[20:21]\n",
    "    motion[\"right_ankle\"] = line[21:25]\n",
    "    motion[\"left_shoulder\"] = line[25:29]\n",
    "    motion[\"right_elbow\"] = line[29:30]\n",
    "    motion[\"right_hip\"] = line[30:34]\n",
    "    motion[\"right_knee\"] = line[34:35]\n",
    "    motion[\"right_ankle\"] = line[35:39]\n",
    "    motion[\"left_shoulder\"] = line[39:43]\n",
    "    motion[\"right_elbow\"] = line[43:44]"
   ]
  },
  {
   "cell_type": "code",
   "execution_count": 44,
   "metadata": {},
   "outputs": [],
   "source": [
    "def parse_motion_file(file_path):\n",
    "    with open(file_path) as f:\n",
    "        content = f.read().splitlines()\n",
    "    content = content[4:]\n",
    "    idx = 0\n",
    "    eof = False\n",
    "    motions = []\n",
    "    motion = {}\n",
    "    while(eof == False):\n",
    "        line, idx = read_line(content, idx)\n",
    "        if(line == None):\n",
    "            eof = True\n",
    "        elif(len(line) > 5):\n",
    "            get_motion(motion,line)\n",
    "            motions.append(copy.deepcopy(motion))\n",
    "    return motions"
   ]
  },
  {
   "cell_type": "code",
   "execution_count": 45,
   "metadata": {},
   "outputs": [],
   "source": [
    "def get_attach(data):\n",
    "    attach = []\n",
    "    attach.append(data[\"AttachX\"])\n",
    "    attach.append(data[\"AttachY\"])\n",
    "    attach.append(data[\"AttachZ\"])\n",
    "    return attach"
   ]
  },
  {
   "cell_type": "code",
   "execution_count": 46,
   "metadata": {},
   "outputs": [],
   "source": [
    "file_path = \"./data/deepmimic/humanoid3d.txt\"\n",
    "with open(file_path) as file:\n",
    "    jdata = json.load(file)"
   ]
  },
  {
   "cell_type": "code",
   "execution_count": 47,
   "metadata": {},
   "outputs": [],
   "source": [
    "joints = []\n",
    "for data in jdata[\"Skeleton\"][\"Joints\"]:\n",
    "    joint = MyJoint(data[\"Name\"])\n",
    "    joint.index = data[\"ID\"]\n",
    "    joint.parent_index = data[\"Parent\"]\n",
    "    joint.type = data[\"Type\"]\n",
    "    joints.append(joint)"
   ]
  },
  {
   "cell_type": "code",
   "execution_count": 48,
   "metadata": {},
   "outputs": [
    {
     "name": "stdout",
     "output_type": "stream",
     "text": [
      "root\n",
      "chest\n",
      "neck\n",
      "right_hip\n",
      "right_knee\n",
      "right_ankle\n",
      "right_shoulder\n",
      "right_elbow\n",
      "right_wrist\n",
      "left_hip\n",
      "left_knee\n",
      "left_ankle\n",
      "left_shoulder\n",
      "left_elbow\n",
      "left_wrist\n"
     ]
    }
   ],
   "source": [
    "for data in jdata[\"BodyDefs\"]:\n",
    "    idx = data[\"ID\"]\n",
    "    joints[idx].offset = get_attach(data)\n",
    "    print(joints[idx].name)"
   ]
  },
  {
   "cell_type": "code",
   "execution_count": 49,
   "metadata": {},
   "outputs": [],
   "source": [
    "file_path = \"./data/deepmimic/humanoid3d_backflip.txt\"\n",
    "motions = parse_motion_file(file_path)"
   ]
  },
  {
   "cell_type": "code",
   "execution_count": 50,
   "metadata": {},
   "outputs": [],
   "source": [
    "for joint in joints:\n",
    "    if(joint.parent_index != -1):\n",
    "        joint.parent = joints[joint.parent_index]\n",
    "    else:\n",
    "        joint.parent = None"
   ]
  },
  {
   "cell_type": "code",
   "execution_count": 52,
   "metadata": {},
   "outputs": [
    {
     "name": "stdout",
     "output_type": "stream",
     "text": [
      "[ 9.99412e-01  2.92150e-02 -5.25000e-04 -1.79630e-02] <class 'numpy.float64'>\n",
      "[9.99985e-01 4.32000e-04 5.72000e-04 5.50000e-03] <class 'numpy.float64'>\n",
      "[ 0.9897717  0.00166   -0.011165  -0.140564 ] <class 'numpy.float64'>\n",
      "[ 0.999678 -0.02092  -0.012925 -0.0063  ] <class 'numpy.float64'>\n",
      "[-0.027859] <class 'numpy.float64'>\n"
     ]
    },
    {
     "ename": "ValueError",
     "evalue": "not enough values to unpack (expected 4, got 1)",
     "output_type": "error",
     "traceback": [
      "\u001b[1;31m---------------------------------------------------------------------------\u001b[0m",
      "\u001b[1;31mValueError\u001b[0m                                Traceback (most recent call last)",
      "\u001b[1;32m<ipython-input-52-63e118d44624>\u001b[0m in \u001b[0;36m<module>\u001b[1;34m\u001b[0m\n\u001b[0;32m      6\u001b[0m     \u001b[0mprint\u001b[0m\u001b[1;33m(\u001b[0m\u001b[0mquat\u001b[0m\u001b[1;33m,\u001b[0m\u001b[0mtype\u001b[0m\u001b[1;33m(\u001b[0m\u001b[0mquat\u001b[0m\u001b[1;33m[\u001b[0m\u001b[1;36m0\u001b[0m\u001b[1;33m]\u001b[0m\u001b[1;33m)\u001b[0m\u001b[1;33m)\u001b[0m\u001b[1;33m\u001b[0m\u001b[1;33m\u001b[0m\u001b[0m\n\u001b[0;32m      7\u001b[0m     \u001b[0mquat\u001b[0m \u001b[1;33m=\u001b[0m \u001b[0mnp\u001b[0m\u001b[1;33m.\u001b[0m\u001b[0mdeg2rad\u001b[0m\u001b[1;33m(\u001b[0m\u001b[0mquat\u001b[0m\u001b[1;33m)\u001b[0m\u001b[1;33m\u001b[0m\u001b[1;33m\u001b[0m\u001b[0m\n\u001b[1;32m----> 8\u001b[1;33m     \u001b[0mmat\u001b[0m \u001b[1;33m=\u001b[0m \u001b[0mquat2mat\u001b[0m\u001b[1;33m(\u001b[0m\u001b[0mquat\u001b[0m\u001b[1;33m)\u001b[0m\u001b[1;33m\u001b[0m\u001b[1;33m\u001b[0m\u001b[0m\n\u001b[0m\u001b[0;32m      9\u001b[0m     \u001b[1;32mif\u001b[0m\u001b[1;33m(\u001b[0m\u001b[0mjoint\u001b[0m\u001b[1;33m.\u001b[0m\u001b[0mparent\u001b[0m \u001b[1;33m==\u001b[0m \u001b[1;32mNone\u001b[0m\u001b[1;33m)\u001b[0m\u001b[1;33m:\u001b[0m\u001b[1;33m\u001b[0m\u001b[1;33m\u001b[0m\u001b[0m\n\u001b[0;32m     10\u001b[0m         \u001b[0mjoint\u001b[0m\u001b[1;33m.\u001b[0m\u001b[0mpos\u001b[0m \u001b[1;33m=\u001b[0m \u001b[0mmotion\u001b[0m\u001b[1;33m[\u001b[0m\u001b[1;34m\"root_pos\"\u001b[0m\u001b[1;33m]\u001b[0m\u001b[1;33m\u001b[0m\u001b[1;33m\u001b[0m\u001b[0m\n",
      "\u001b[1;32mD:\\PythonProjects\\Envs\\mocap\\lib\\site-packages\\transforms3d\\quaternions.py\u001b[0m in \u001b[0;36mquat2mat\u001b[1;34m(q)\u001b[0m\n\u001b[0;32m    131\u001b[0m     \u001b[1;32mTrue\u001b[0m\u001b[1;33m\u001b[0m\u001b[1;33m\u001b[0m\u001b[0m\n\u001b[0;32m    132\u001b[0m     '''\n\u001b[1;32m--> 133\u001b[1;33m     \u001b[0mw\u001b[0m\u001b[1;33m,\u001b[0m \u001b[0mx\u001b[0m\u001b[1;33m,\u001b[0m \u001b[0my\u001b[0m\u001b[1;33m,\u001b[0m \u001b[0mz\u001b[0m \u001b[1;33m=\u001b[0m \u001b[0mq\u001b[0m\u001b[1;33m\u001b[0m\u001b[1;33m\u001b[0m\u001b[0m\n\u001b[0m\u001b[0;32m    134\u001b[0m     \u001b[0mNq\u001b[0m \u001b[1;33m=\u001b[0m \u001b[0mw\u001b[0m\u001b[1;33m*\u001b[0m\u001b[0mw\u001b[0m \u001b[1;33m+\u001b[0m \u001b[0mx\u001b[0m\u001b[1;33m*\u001b[0m\u001b[0mx\u001b[0m \u001b[1;33m+\u001b[0m \u001b[0my\u001b[0m\u001b[1;33m*\u001b[0m\u001b[0my\u001b[0m \u001b[1;33m+\u001b[0m \u001b[0mz\u001b[0m\u001b[1;33m*\u001b[0m\u001b[0mz\u001b[0m\u001b[1;33m\u001b[0m\u001b[1;33m\u001b[0m\u001b[0m\n\u001b[0;32m    135\u001b[0m     \u001b[1;32mif\u001b[0m \u001b[0mNq\u001b[0m \u001b[1;33m<\u001b[0m \u001b[0m_FLOAT_EPS\u001b[0m\u001b[1;33m:\u001b[0m\u001b[1;33m\u001b[0m\u001b[1;33m\u001b[0m\u001b[0m\n",
      "\u001b[1;31mValueError\u001b[0m: not enough values to unpack (expected 4, got 1)"
     ]
    }
   ],
   "source": [
    "motion = motions[0]\n",
    "for joint in joints:\n",
    "    quat = motion[joint.name]\n",
    "    quat = [float(x) for x in quat]\n",
    "    quat = np.array(quat)\n",
    "    print(quat,type(quat[0]))\n",
    "    quat = np.deg2rad(quat)\n",
    "    mat = quat2mat(quat)\n",
    "    if(joint.parent == None):\n",
    "        joint.pos = motion[\"root_pos\"]\n",
    "    else:\n",
    "        joint.pos = 0"
   ]
  },
  {
   "cell_type": "code",
   "execution_count": 35,
   "metadata": {},
   "outputs": [],
   "source": [
    "??quat2mat"
   ]
  },
  {
   "cell_type": "code",
   "execution_count": null,
   "metadata": {},
   "outputs": [],
   "source": []
  },
  {
   "cell_type": "code",
   "execution_count": null,
   "metadata": {},
   "outputs": [],
   "source": []
  },
  {
   "cell_type": "code",
   "execution_count": null,
   "metadata": {},
   "outputs": [],
   "source": []
  },
  {
   "cell_type": "code",
   "execution_count": null,
   "metadata": {},
   "outputs": [],
   "source": []
  }
 ],
 "metadata": {
  "kernelspec": {
   "display_name": "mocap",
   "language": "python",
   "name": "mocap"
  },
  "language_info": {
   "codemirror_mode": {
    "name": "ipython",
    "version": 3
   },
   "file_extension": ".py",
   "mimetype": "text/x-python",
   "name": "python",
   "nbconvert_exporter": "python",
   "pygments_lexer": "ipython3",
   "version": "3.7.3"
  }
 },
 "nbformat": 4,
 "nbformat_minor": 2
}
