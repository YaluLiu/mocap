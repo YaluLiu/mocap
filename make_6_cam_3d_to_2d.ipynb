{
 "cells": [
  {
   "cell_type": "code",
   "execution_count": 1,
   "metadata": {},
   "outputs": [],
   "source": [
    "from parser.datareader   import DataReader\n",
    "from parser.datasaver    import save_data\n",
    "from parser.node         import Node\n",
    "\n",
    "from transforms3d.euler import euler2mat,mat2euler\n",
    "import cv2\n",
    "import numpy as np\n",
    "import math\n",
    "import copy\n",
    "import os\n",
    "from pprint import pprint\n",
    "\n",
    "import matplotlib.pyplot as plt\n",
    "\n",
    "%matplotlib inline"
   ]
  },
  {
   "cell_type": "code",
   "execution_count": 2,
   "metadata": {},
   "outputs": [],
   "source": [
    "def save_cam(dirpath,idx,cam_parameter):\n",
    "    cam_path = dirpath + \"/cam\" + str(idx)\n",
    "    if not os.path.isdir(cam_path):\n",
    "        os.makedirs(cam_path)\n",
    "    parameter_path = cam_path + \"/\" + \"cam_parameter.npy\"\n",
    "    np.save(parameter_path,cam_parameter)\n",
    "    return cam_path"
   ]
  },
  {
   "cell_type": "code",
   "execution_count": 3,
   "metadata": {},
   "outputs": [],
   "source": [
    "def get_rvec_tvec(pos,angle):\n",
    "    angle = np.deg2rad(angle)\n",
    "    rmat  = euler2mat(angle[0],angle[1],angle[2],'rxyz')\n",
    "    rvec = np.array(mat2euler(rmat))\n",
    "    pos  = np.array(pos)\n",
    "    tvec = -np.matmul(rmat, pos)\n",
    "    return rvec,tvec"
   ]
  },
  {
   "cell_type": "code",
   "execution_count": 4,
   "metadata": {},
   "outputs": [],
   "source": [
    "def get_cam_lst(focus,radius):\n",
    "    pos_lst = []\n",
    "    angle_lst = []\n",
    "    \n",
    "    #camera 0 right\n",
    "    pos   = [0.0, 2, 10.0]\n",
    "    angle = [0,0,0]\n",
    "    pos_lst.append(pos)\n",
    "    angle_lst.append(angle)\n",
    "    \n",
    "    #camera 1 right\n",
    "    pos = [15.0, 3,  0.0]\n",
    "    angle=[0,-90,0]\n",
    "    pos_lst.append(pos)\n",
    "    angle_lst.append(angle)\n",
    "    \n",
    "    #camera 2  right\n",
    "    pos = [0.0,  2, -10.0]\n",
    "    angle=[0,0,180]      \n",
    "    pos_lst.append(pos)\n",
    "    angle_lst.append(angle)\n",
    "    \n",
    "    #camera 3   right\n",
    "    pos = [-15.0, 2,  0.0]\n",
    "    angle=[0,90,0] \n",
    "    pos_lst.append(pos)\n",
    "    angle_lst.append(angle)\n",
    "    \n",
    "    #camera 4 right\n",
    "    pos  = [10.0, 2,  10.0]\n",
    "    angle= [0,-45,0] \n",
    "    pos_lst.append(pos)\n",
    "    angle_lst.append(angle)\n",
    "    \n",
    "    #camera 5 right\n",
    "    pos  = [-10.0, 2,  -10.0]\n",
    "    angle= [0,45,180]\n",
    "    #angle= [0,-45,180] no-see\n",
    "    pos_lst.append(pos)\n",
    "    angle_lst.append(angle)\n",
    "    \n",
    "    return pos_lst,angle_lst"
   ]
  },
  {
   "cell_type": "code",
   "execution_count": 5,
   "metadata": {},
   "outputs": [],
   "source": [
    "def get_extrinsics(rvec,tvec):\n",
    "    extMat = np.zeros((3,4))\n",
    "    R = euler2mat(rvec[0],rvec[1],rvec[2],'rxyz')\n",
    "    extMat[:3,:3] = R\n",
    "    extMat[:3,3] = tvec\n",
    "    return extMat"
   ]
  },
  {
   "cell_type": "code",
   "execution_count": 6,
   "metadata": {},
   "outputs": [],
   "source": [
    "def get_cam_parameter(idx,pos,angle):\n",
    "    width = 640\n",
    "    height = 480\n",
    "    cam = {}\n",
    "    rvec, tvec = get_rvec_tvec(pos,angle)\n",
    "    intrinsics = np.zeros((3,3),dtype = np.float64)\n",
    "    focal_len = 500\n",
    "    intrinsics[0][0] = focal_len\n",
    "    intrinsics[1][1] = focal_len\n",
    "    intrinsics[0][2] = width/2\n",
    "    intrinsics[1][2] = height/2\n",
    "    intrinsics[2][2] = 1\n",
    "    distortion = np.zeros((1, 5),dtype = np.float64)\n",
    "    cam['id']   = 'cam_' + str(idx)\n",
    "    cam['rvec'] = rvec\n",
    "    cam['tvec'] = tvec\n",
    "    cam['intrinsics'] = intrinsics\n",
    "    cam['distortion'] = distortion\n",
    "    cam['extrinsics'] = get_extrinsics(rvec,tvec)\n",
    "    cam['res_w'] = width\n",
    "    cam['res_h'] = height\n",
    "    cam['focal_len'] = 500\n",
    "    return cam"
   ]
  },
  {
   "cell_type": "code",
   "execution_count": 7,
   "metadata": {},
   "outputs": [],
   "source": [
    "def make_2d_joints_lst(joints_lst_3d,rvec, tvec, intrinsics, distortion):\n",
    "    joints_2d_lst = []\n",
    "    for joints_3d in joints_lst_3d:\n",
    "        joints_2d = {}\n",
    "        for (idx,joint_3d) in joints_3d.items():\n",
    "            # make tuple to np.array and reshape\n",
    "            #print(idx,joint.pos)\n",
    "            joint_2d = Node(joint_3d.name,joint_3d.index,joint_3d.parent_index)\n",
    "            joint_2d.pos = np.array(joint_3d.pos).reshape(1,3)\n",
    "            # compute 2d pos\n",
    "            joint_2d.pos,_ = cv2.projectPoints(joint_2d.pos, rvec, tvec, intrinsics, distortion)\n",
    "            joint_2d.pos = joint_2d.pos[0][0]\n",
    "            joints_2d[idx] = joint_2d\n",
    "        for joint in joints_2d.values():\n",
    "            if(joint.parent_index != -1):\n",
    "                joint.parent = joints_2d[joint.parent_index]\n",
    "            else:\n",
    "                joint.parent = None\n",
    "        joints_2d_lst.append(joints_2d)\n",
    "    return joints_2d_lst"
   ]
  },
  {
   "cell_type": "code",
   "execution_count": 8,
   "metadata": {},
   "outputs": [],
   "source": [
    "def make_joints_square():\n",
    "    nodes_num = 17\n",
    "    joints = []\n",
    "    joint = Node(\"point_0\",nodes_num,nodes_num + 1)\n",
    "    joint.pos = np.array([-10,15,-27], dtype = np.float64)\n",
    "    joints.append(copy.deepcopy(joint))\n",
    "    \n",
    "    joint = Node(\"point_1\",nodes_num + 1,nodes_num + 2)\n",
    "    joint.pos = np.array([10,15,-27], dtype = np.float64)\n",
    "    joints.append(copy.deepcopy(joint))\n",
    "    \n",
    "    joint = Node(\"point_2\",nodes_num + 2,nodes_num + 3)\n",
    "    joint.pos = np.array([10,15,-7], dtype = np.float64)\n",
    "    joints.append(copy.deepcopy(joint))\n",
    "    \n",
    "    joint = Node(\"point_3\",nodes_num + 3,nodes_num)\n",
    "    joint.pos = np.array([-10,15,-7], dtype = np.float64)\n",
    "    joints.append(copy.deepcopy(joint))\n",
    "\n",
    "    return joints"
   ]
  },
  {
   "cell_type": "code",
   "execution_count": 9,
   "metadata": {},
   "outputs": [],
   "source": [
    "def add_joints(joints,joints_square):\n",
    "    max_index = len(joints)\n",
    "    for vpoint in joints_square:\n",
    "        joints[max_index] = copy.deepcopy(vpoint)\n",
    "        max_index += 1\n",
    "    for joint in joints.values():\n",
    "        if(joint.parent_index == -1):\n",
    "            joint.parent = None\n",
    "        else:\n",
    "            joint.parent = joints[joint.parent_index]"
   ]
  },
  {
   "cell_type": "code",
   "execution_count": 10,
   "metadata": {},
   "outputs": [],
   "source": [
    "def add_square_to_lst(joints_lst):\n",
    "    joints_square = make_joints_square()\n",
    "    for joints in joints_lst:\n",
    "        add_joints(joints,joints_square)"
   ]
  },
  {
   "cell_type": "code",
   "execution_count": 11,
   "metadata": {},
   "outputs": [],
   "source": [
    "json_path_3dpoints = './Output/human_points_3d.json'"
   ]
  },
  {
   "cell_type": "code",
   "execution_count": 12,
   "metadata": {},
   "outputs": [
    {
     "name": "stdout",
     "output_type": "stream",
     "text": [
      "4510\n",
      "17\n"
     ]
    }
   ],
   "source": [
    "reader = DataReader(json_path_3dpoints)\n",
    "reader.load_data()\n",
    "print(reader.frames_num)\n",
    "print(reader.joints_num)\n",
    "joints_lst = reader.frames"
   ]
  },
  {
   "cell_type": "code",
   "execution_count": 13,
   "metadata": {},
   "outputs": [],
   "source": [
    "focus = [0,0,0]\n",
    "cam_pos_lst,angle_lst = get_cam_lst(focus,radius = 50)"
   ]
  },
  {
   "cell_type": "code",
   "execution_count": 14,
   "metadata": {},
   "outputs": [],
   "source": [
    "# for idx in range(len(cam_pos_lst)):\n",
    "#     pos = cam_pos_lst[idx]\n",
    "#     angle = angle_lst[idx]\n",
    "#     cam_parameter = get_cam_parameter(idx,pos,angle)\n",
    "#     save_cam(\"./Output/\",idx,cam_parameter)\n",
    "#     rvec = cam_parameter['rvec']\n",
    "#     tvec = cam_parameter['tvec']\n",
    "#     intrinsics = cam_parameter['intrinsics']\n",
    "#     distortion = cam_parameter['distortion']\n",
    "#     joints_lst_2d = make_2d_joints_lst(joints_lst,rvec, tvec, intrinsics, distortion)\n",
    "#     output_json_path = './Output/human_points_2d_cam_' +  str(idx) + '.json'\n",
    "#     output_npy_path = './Output/human_points_2d_cam_' + str(idx) + '.npy'\n",
    "#     save_data(joints_lst_2d,output_json_path,output_npy_path,dimension=2)"
   ]
  },
  {
   "cell_type": "code",
   "execution_count": 15,
   "metadata": {},
   "outputs": [],
   "source": [
    "for human_idx in range(1,30):\n",
    "    for action_idx in range(1,30):\n",
    "        dir_path = \"./output_human/\" + str(human_idx).zfill(2) + \"/\" + str(action_idx).zfill(2)\n",
    "        json_3dpoints = dir_path + \"/points_3d.json\"\n",
    "        if not os.path.isfile(json_3dpoints):\n",
    "            continue\n",
    "        reader = DataReader(json_3dpoints)\n",
    "        reader.load_data()\n",
    "        joints_lst = reader.frames\n",
    "        for cam_idx in range(len(cam_pos_lst)):\n",
    "            pos = cam_pos_lst[cam_idx]\n",
    "            angle = angle_lst[cam_idx]\n",
    "            cam_parameter = get_cam_parameter(cam_idx,pos,angle)\n",
    "            cam_path = save_cam(dir_path,cam_idx,cam_parameter)\n",
    "            rvec = cam_parameter['rvec']\n",
    "            tvec = cam_parameter['tvec']\n",
    "            intrinsics = cam_parameter['intrinsics']\n",
    "            distortion = cam_parameter['distortion']\n",
    "            joints_lst_2d = make_2d_joints_lst(joints_lst,rvec, tvec, intrinsics, distortion)\n",
    "            output_json_path = cam_path + '/points_2d' + '.json'\n",
    "            output_npy_path  = cam_path + '/points_2d' + '.npy'\n",
    "            save_data(joints_lst_2d,output_json_path,output_npy_path,dimension=2)"
   ]
  },
  {
   "cell_type": "code",
   "execution_count": 16,
   "metadata": {},
   "outputs": [
    {
     "name": "stdout",
     "output_type": "stream",
     "text": [
      "Work Done!\n"
     ]
    }
   ],
   "source": [
    "print(\"Work Done!\")"
   ]
  },
  {
   "cell_type": "code",
   "execution_count": null,
   "metadata": {},
   "outputs": [],
   "source": []
  },
  {
   "cell_type": "code",
   "execution_count": null,
   "metadata": {},
   "outputs": [],
   "source": []
  }
 ],
 "metadata": {
  "kernelspec": {
   "display_name": "mocap",
   "language": "python",
   "name": "mocap"
  },
  "language_info": {
   "codemirror_mode": {
    "name": "ipython",
    "version": 3
   },
   "file_extension": ".py",
   "mimetype": "text/x-python",
   "name": "python",
   "nbconvert_exporter": "python",
   "pygments_lexer": "ipython3",
   "version": "3.5.2"
  }
 },
 "nbformat": 4,
 "nbformat_minor": 2
}
