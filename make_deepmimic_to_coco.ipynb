{
 "cells": [
  {
   "cell_type": "code",
   "execution_count": 1,
   "metadata": {},
   "outputs": [],
   "source": [
    "import json\n",
    "import cv2\n",
    "import os\n",
    "import shutil"
   ]
  },
  {
   "cell_type": "code",
   "execution_count": 2,
   "metadata": {},
   "outputs": [],
   "source": [
    "#json_dir = \"D:\\\\Github\\\\DeepMimic\\\\Output\\\\data\\\\\";\n",
    "json_dir = \"/media/yalu/6066C1DD66C1B3D6/Github/DeepMimic/Output/data/\"\n",
    "\n",
    "train_start_id = 2\n",
    "train_end_id   = 1200\n",
    "test_start_id  = train_end_id\n",
    "test_end_id    = 1400"
   ]
  },
  {
   "cell_type": "code",
   "execution_count": 3,
   "metadata": {},
   "outputs": [],
   "source": [
    "coco_name = [\"nose\",\"left_eye\",\"right_eye\",\"left_ear\",\"right_ear\",\n",
    "              \"left_shoulder\",\"right_shoulder\",\"left_elbow\",\"right_elbow\",\n",
    "              \"left_wrist\",\"right_wrist\",\"left_hip\",\"right_hip\",\n",
    "              \"left_knee\",\"right_knee\",\"left_ankle\",\"right_ankle\"]\n",
    "fake_name = [\"neck\",\"left_eye\",\"right_eye\",\"left_ear\",\"right_ear\",\n",
    "              \"joint_left_shoulder\",\"joint_right_shoulder\",\n",
    "              \"joint_left_elbow\",\"joint_right_elbow\",\n",
    "              \"left_wrist\",\"right_wrist\",\n",
    "              \"joint_left_hip\",\"joint_right_hip\",\n",
    "              \"joint_left_knee\",\"joint_right_knee\",\n",
    "              \"joint_left_ankle\",\"joint_right_ankle\"]\n",
    "def get_keypoint(data):\n",
    "    key_point = list()\n",
    "    for i in range(17):\n",
    "        if(i > 0 and i < 5):\n",
    "            key_point.append(0)\n",
    "            key_point.append(0)\n",
    "            key_point.append(0)\n",
    "        else:\n",
    "            point_deep_name = fake_name[i]\n",
    "            x = int(data['ScreenPos'][point_deep_name]['x'])          \n",
    "            y = int(data['ScreenPos'][point_deep_name]['y'])\n",
    "            if(x > 640 or y > 480):\n",
    "                view =  0\n",
    "            else:\n",
    "                view = data['ScreenPos'][point_deep_name]['view']\n",
    "            key_point.append(x)\n",
    "            key_point.append(y)\n",
    "            key_point.append(view)\n",
    "    return key_point"
   ]
  },
  {
   "cell_type": "code",
   "execution_count": 4,
   "metadata": {},
   "outputs": [],
   "source": [
    "#get real tag key point num\n",
    "def get_keypoint_num(keypoint):\n",
    "    keypoint_num = 0\n",
    "    for x in keypoint[2::3]:\n",
    "        if(x != 0):\n",
    "            keypoint_num += 1\n",
    "    return keypoint,keypoint_num"
   ]
  },
  {
   "cell_type": "code",
   "execution_count": 5,
   "metadata": {},
   "outputs": [],
   "source": [
    "def get_annotation(data,image_id):\n",
    "    annotation = {}\n",
    "    bbox = list()\n",
    "    bbox.append(data['bbox']['x'])\n",
    "    bbox.append(data['bbox']['y'])\n",
    "    bbox.append(data['bbox']['width'])\n",
    "    bbox.append(data['bbox']['height'])\n",
    "    annotation['area'] = data['bbox']['width'] * data['bbox']['height']\n",
    "    annotation['id'] = image_id\n",
    "    annotation['bbox'] = bbox\n",
    "    annotation['category_id'] = 1\n",
    "    annotation['image_id'] = image_id\n",
    "    annotation['iscrowd'] = 0\n",
    "    annotation['keypoints'] = get_keypoint(data)\n",
    "    annotation['num_keypoints'] = get_keypoint_num(annotation['keypoints'])\n",
    "    annotation['segmentation'] = 0\n",
    "    return annotation"
   ]
  },
  {
   "cell_type": "code",
   "execution_count": 6,
   "metadata": {},
   "outputs": [],
   "source": [
    "def get_image(data,image_id):\n",
    "    image = {}\n",
    "    image['date_captured'] = 0\n",
    "    image['flickr_url'] = 0\n",
    "    image['file_name'] = str(image_id) + \".jpg\"\n",
    "    if (image_id < train_end_id):\n",
    "        image['coco_url'] = \"http://images.cocodataset.org/train2017/\" + image['file_name']\n",
    "    elif(image_id < test_end_id):\n",
    "        image['coco_url'] = \"http://images.cocodataset.org/val2017/\" + image['file_name']\n",
    "    else:\n",
    "        print(\"Error!\")\n",
    "    image['height'] = 480\n",
    "    image['width'] = 640\n",
    "    image['id'] = image_id\n",
    "    image['license'] = 4\n",
    "    return image"
   ]
  },
  {
   "cell_type": "code",
   "execution_count": 7,
   "metadata": {},
   "outputs": [],
   "source": [
    "def parse_deepmimic(image_id):\n",
    "    json_id = image_id\n",
    "    json_path = json_dir + str(json_id) + \".json\"\n",
    "    with open(json_path) as json_file:  \n",
    "        data = json.load(json_file)\n",
    "    annotation = get_annotation(data,image_id)\n",
    "    image = get_image(data,image_id)\n",
    "    return annotation,image"
   ]
  },
  {
   "cell_type": "code",
   "execution_count": 8,
   "metadata": {},
   "outputs": [],
   "source": [
    "categorie = {\n",
    "    \"supercategory\": \"person\",\n",
    "    \"id\": 1,\n",
    "    \"name\": \"person\",\n",
    "    \"keypoints\": [\"nose\",\"left_eye\",\"right_eye\",\"left_ear\",\"right_ear\",\"left_shoulder\",\"right_shoulder\",\"left_elbow\",\"right_elbow\",\"left_wrist\",\"right_wrist\",\"left_hip\",\"right_hip\",\"left_knee\",\"right_knee\",\"left_ankle\",\"right_ankle\"],\n",
    "    \"skeleton\": [[16,14],[14,12],[17,15],[15,13],[12,13],[6,12],[7,13],[6,7],[6,8],[7,9],[8,10],[9,11],[2,3],[1,2],[1,3],[2,4],[3,5],[4,6],[5,7]]\n",
    "}"
   ]
  },
  {
   "cell_type": "code",
   "execution_count": 9,
   "metadata": {},
   "outputs": [],
   "source": [
    "def get_json_data(start,end):\n",
    "    annotations = list()\n",
    "    images = list()\n",
    "    categories = list() \n",
    "    for image_id in range(start,end):\n",
    "        annotation,image = parse_deepmimic(image_id)\n",
    "        annotations.append(annotation)\n",
    "        images.append(image)\n",
    "    categories.append(categorie)\n",
    "    coco_file = {}\n",
    "    coco_file[\"annotations\"] = annotations\n",
    "    coco_file[\"images\"] = images\n",
    "    coco_file[\"categories\"] = categories\n",
    "    return coco_file"
   ]
  },
  {
   "cell_type": "code",
   "execution_count": 10,
   "metadata": {},
   "outputs": [],
   "source": [
    "coco_write_dir = \"/home/yalu/data/deepmimic\""
   ]
  },
  {
   "cell_type": "code",
   "execution_count": 11,
   "metadata": {},
   "outputs": [],
   "source": [
    "json_write_path= coco_write_dir  + \"/annotations/person_keypoints_train2017.json\"\n",
    "json_data = get_json_data(train_start_id,train_end_id)\n",
    "with open(json_write_path, \"w\") as json_file:  \n",
    "    json.dump(json_data,json_file)"
   ]
  },
  {
   "cell_type": "code",
   "execution_count": 12,
   "metadata": {},
   "outputs": [],
   "source": [
    "json_write_path = coco_write_dir  + \"/annotations/person_keypoints_val2017.json\"\n",
    "json_data = get_json_data(test_start_id,test_end_id)\n",
    "with open(json_write_path, \"w\") as json_file:  \n",
    "    json.dump(json_data,json_file)"
   ]
  },
  {
   "cell_type": "code",
   "execution_count": 13,
   "metadata": {},
   "outputs": [],
   "source": [
    "coco_data_dir = coco_write_dir + \"/train2017\"\n",
    "if not os.path.exists(coco_data_dir):\n",
    "    os.makedirs(coco_data_dir)"
   ]
  },
  {
   "cell_type": "code",
   "execution_count": 14,
   "metadata": {},
   "outputs": [],
   "source": [
    "coco_data_dir = coco_write_dir + \"/val2017\"\n",
    "if not os.path.exists(coco_data_dir):\n",
    "    os.makedirs(coco_data_dir)"
   ]
  },
  {
   "cell_type": "code",
   "execution_count": 15,
   "metadata": {},
   "outputs": [],
   "source": [
    "image_src_dir = \"/media/yalu/6066C1DD66C1B3D6/Github/DeepMimic/Output/image_without_point/\""
   ]
  },
  {
   "cell_type": "code",
   "execution_count": 16,
   "metadata": {},
   "outputs": [],
   "source": [
    "for image_id in range(train_start_id,train_end_id):\n",
    "    image_src = image_src_dir + str(image_id) + \".jpg\"\n",
    "    image_dst = coco_write_dir + \"/train2017/\" + str(image_id) + \".jpg\"\n",
    "    shutil.copy(image_src,image_dst)"
   ]
  },
  {
   "cell_type": "code",
   "execution_count": 17,
   "metadata": {},
   "outputs": [],
   "source": [
    "for image_id in range(test_start_id,test_end_id):\n",
    "    image_src = image_src_dir + str(image_id) + \".jpg\"\n",
    "    image_dst = coco_write_dir + \"/val2017/\" + str(image_id) + \".jpg\"\n",
    "    shutil.copy(image_src,image_dst)"
   ]
  },
  {
   "cell_type": "code",
   "execution_count": null,
   "metadata": {},
   "outputs": [],
   "source": []
  },
  {
   "cell_type": "code",
   "execution_count": null,
   "metadata": {},
   "outputs": [],
   "source": []
  },
  {
   "cell_type": "code",
   "execution_count": null,
   "metadata": {},
   "outputs": [],
   "source": []
  }
 ],
 "metadata": {
  "kernelspec": {
   "display_name": "Python 3",
   "language": "python",
   "name": "python3"
  },
  "language_info": {
   "codemirror_mode": {
    "name": "ipython",
    "version": 3
   },
   "file_extension": ".py",
   "mimetype": "text/x-python",
   "name": "python",
   "nbconvert_exporter": "python",
   "pygments_lexer": "ipython3",
   "version": "3.7.3"
  }
 },
 "nbformat": 4,
 "nbformat_minor": 2
}
