{
 "cells": [
  {
   "cell_type": "code",
   "execution_count": 1,
   "metadata": {},
   "outputs": [],
   "source": [
    "import numpy as np\n",
    "import matplotlib.pyplot as plt\n",
    "from transforms3d.euler import euler2mat\n",
    "from mpl_toolkits.mplot3d import Axes3D\n",
    "from bvh import Bvh, BvhNode\n",
    "import math\n",
    "# packages for 3d interactivate visualization\n",
    "import plotly\n",
    "import plotly.graph_objs as go \n",
    "import copy"
   ]
  },
  {
   "cell_type": "code",
   "execution_count": 2,
   "metadata": {},
   "outputs": [],
   "source": [
    "from parser.show3d import generate_frames_layout,draw\n",
    "from parser.datareader import DataReader\n",
    "from parser.datasaver import save_data\n",
    "from parser.trans_joints import trans_joints_lst\n",
    "from parser.bvhparser import BVHParser"
   ]
  },
  {
   "cell_type": "markdown",
   "metadata": {},
   "source": [
    "<font color=blue size=5> Read bvh data</font>"
   ]
  },
  {
   "cell_type": "code",
   "execution_count": 3,
   "metadata": {},
   "outputs": [],
   "source": [
    "bvh_file = \"./data/bvh/0005_2FeetJump001.bvh.txt\"\n",
    "parser = BVHParser(bvh_file)\n",
    "parser.parse()"
   ]
  },
  {
   "cell_type": "code",
   "execution_count": 4,
   "metadata": {},
   "outputs": [],
   "source": [
    "bvh_joints_lst = parser.joints_lst"
   ]
  },
  {
   "cell_type": "code",
   "execution_count": 5,
   "metadata": {},
   "outputs": [],
   "source": [
    "output_json_path = './Output/bvh_joints.json'\n",
    "output_npy_path = './Output/bvh_joints.npy'\n",
    "save_data(bvh_joints_lst,output_json_path,output_npy_path)"
   ]
  },
  {
   "cell_type": "markdown",
   "metadata": {},
   "source": [
    "<font color=blue size=5> change to human3.6m data</font>"
   ]
  },
  {
   "cell_type": "code",
   "execution_count": 6,
   "metadata": {},
   "outputs": [
    {
     "name": "stdout",
     "output_type": "stream",
     "text": [
      "2575\n",
      "25\n"
     ]
    }
   ],
   "source": [
    "reader = DataReader(output_json_path)\n",
    "reader.load_data()\n",
    "print(reader.frames_num)\n",
    "print(reader.joints_num)"
   ]
  },
  {
   "cell_type": "markdown",
   "metadata": {},
   "source": [
    "<font color=blue size=5> show </font>"
   ]
  },
  {
   "cell_type": "code",
   "execution_count": 7,
   "metadata": {},
   "outputs": [
    {
     "data": {
      "text/html": [
       "        <script type=\"text/javascript\">\n",
       "        window.PlotlyConfig = {MathJaxConfig: 'local'};\n",
       "        if (window.MathJax) {MathJax.Hub.Config({SVG: {font: \"STIX-Web\"}});}\n",
       "        if (typeof require !== 'undefined') {\n",
       "        require.undef(\"plotly\");\n",
       "        requirejs.config({\n",
       "            paths: {\n",
       "                'plotly': ['https://cdn.plot.ly/plotly-latest.min']\n",
       "            }\n",
       "        });\n",
       "        require(['plotly'], function(Plotly) {\n",
       "            window._Plotly = Plotly;\n",
       "        });\n",
       "        }\n",
       "        </script>\n",
       "        "
      ]
     },
     "metadata": {},
     "output_type": "display_data"
    },
    {
     "data": {
      "application/vnd.plotly.v1+json": {
       "config": {
        "linkText": "Export to plot.ly",
        "plotlyServerURL": "https://plot.ly",
        "responsive": true,
        "showLink": false
       },
       "data": [
        {
         "marker": {
          "color": "red",
          "size": 4
         },
         "name": "Hips",
         "type": "scatter3d",
         "uid": "4f86893e-5275-414b-b4ce-bef3770767e5",
         "x": [
          1.1473
         ],
         "y": [
          32.8029
         ],
         "z": [
          1.7158
         ]
        },
        {
         "line": {
          "color": "black",
          "width": 5
         },
         "marker": {
          "color": "blue",
          "size": 2
         },
         "name": "LeftUpLeg",
         "type": "scatter3d",
         "uid": "831dd736-50db-4cf5-8f9c-e51d775f27af",
         "x": [
          4.749909724872481,
          1.1473
         ],
         "y": [
          32.644741944791626,
          32.8029
         ],
         "z": [
          2.2772787802997843,
          1.7158
         ]
        },
        {
         "line": {
          "color": "black",
          "width": 5
         },
         "marker": {
          "color": "blue",
          "size": 2
         },
         "name": "LeftLeg",
         "type": "scatter3d",
         "uid": "6277d159-9273-4eb8-9f0e-1d94bf5ed687",
         "x": [
          6.606630913890318,
          4.749909724872481
         ],
         "y": [
          17.04925961054071,
          32.644741944791626
         ],
         "z": [
          2.3525836826624733,
          2.2772787802997843
         ]
        },
        {
         "line": {
          "color": "black",
          "width": 5
         },
         "marker": {
          "color": "blue",
          "size": 2
         },
         "name": "LeftFoot",
         "type": "scatter3d",
         "uid": "2f4e842f-9d7f-4d9b-b933-aef93f8ecad8",
         "x": [
          8.61853891441486,
          6.606630913890318
         ],
         "y": [
          2.0170691799566516,
          17.04925961054071
         ],
         "z": [
          -0.42606016370979694,
          2.3525836826624733
         ]
        },
        {
         "line": {
          "color": "black",
          "width": 5
         },
         "marker": {
          "color": "blue",
          "size": 2
         },
         "name": "LeftToeBase",
         "type": "scatter3d",
         "uid": "7beb02bd-8a75-4403-81b5-fef5b743daa3",
         "x": [
          8.255815916567263,
          8.61853891441486
         ],
         "y": [
          0.8498170646331555,
          2.0170691799566516
         ],
         "z": [
          5.379125597306407,
          -0.42606016370979694
         ]
        },
        {
         "line": {
          "color": "black",
          "width": 5
         },
         "marker": {
          "color": "blue",
          "size": 2
         },
         "name": "RightUpLeg",
         "type": "scatter3d",
         "uid": "897fad7c-6e57-400b-a1df-8bf4fc44fd80",
         "x": [
          -2.4553097248724804,
          1.1473
         ],
         "y": [
          32.961058055208376,
          32.8029
         ],
         "z": [
          1.1543212197002157,
          1.7158
         ]
        },
        {
         "line": {
          "color": "black",
          "width": 5
         },
         "marker": {
          "color": "blue",
          "size": 2
         },
         "name": "RightLeg",
         "type": "scatter3d",
         "uid": "e260d437-7a57-447e-8a57-24c5da1befdf",
         "x": [
          -3.317346416252013,
          -2.4553097248724804
         ],
         "y": [
          17.281216749943873,
          32.961058055208376
         ],
         "z": [
          1.4219460026267434,
          1.1543212197002157
         ]
        },
        {
         "line": {
          "color": "black",
          "width": 5
         },
         "marker": {
          "color": "blue",
          "size": 2
         },
         "name": "RightFoot",
         "type": "scatter3d",
         "uid": "81c0a0be-9824-49ea-af01-2b0dbb3e5761",
         "x": [
          -3.6020169067643693,
          -3.317346416252013
         ],
         "y": [
          1.9807211453624838,
          17.281216749943873
         ],
         "z": [
          -0.4619811549133037,
          1.4219460026267434
         ]
        },
        {
         "line": {
          "color": "black",
          "width": 5
         },
         "marker": {
          "color": "blue",
          "size": 2
         },
         "name": "RightToeBase",
         "type": "scatter3d",
         "uid": "8e055e86-6784-42a6-a52b-32dafaf1169b",
         "x": [
          -5.03512753248559,
          -3.6020169067643693
         ],
         "y": [
          1.7878341380550604,
          1.9807211453624838
         ],
         "z": [
          5.291558254064174,
          -0.4619811549133037
         ]
        },
        {
         "line": {
          "color": "black",
          "width": 5
         },
         "marker": {
          "color": "blue",
          "size": 2
         },
         "name": "Spine",
         "type": "scatter3d",
         "uid": "60eee9f4-440a-4173-af78-f46e40911b90",
         "x": [
          1.1487871725157999,
          1.1473
         ],
         "y": [
          32.84221208697372,
          32.8029
         ],
         "z": [
          1.7173313509328034,
          1.7158
         ]
        },
        {
         "line": {
          "color": "black",
          "width": 5
         },
         "marker": {
          "color": "blue",
          "size": 2
         },
         "name": "Spine1",
         "type": "scatter3d",
         "uid": "fb111b00-99ba-40a7-a4b1-a97d2b0fa69f",
         "x": [
          1.7822016443188067,
          1.1487871725157999
         ],
         "y": [
          43.06689634732499,
          32.84221208697372
         ],
         "z": [
          1.4308600484688139,
          1.7173313509328034
         ]
        },
        {
         "line": {
          "color": "black",
          "width": 5
         },
         "marker": {
          "color": "blue",
          "size": 2
         },
         "name": "Neck",
         "type": "scatter3d",
         "uid": "015f56a0-1a76-45ee-b244-2eabc3c7dc0b",
         "x": [
          1.9012811972892745,
          1.7822016443188067
         ],
         "y": [
          50.78664217953173,
          43.06689634732499
         ],
         "z": [
          2.715865240322527,
          1.4308600484688139
         ]
        },
        {
         "line": {
          "color": "black",
          "width": 5
         },
         "marker": {
          "color": "blue",
          "size": 2
         },
         "name": "Head",
         "type": "scatter3d",
         "uid": "e6de4825-4792-45a0-8e13-0e2c1ded17a9",
         "x": [
          2.0730439283704842,
          1.9012811972892745
         ],
         "y": [
          57.49392827415843,
          50.78664217953173
         ],
         "z": [
          4.356454138108591,
          2.715865240322527
         ]
        },
        {
         "line": {
          "color": "black",
          "width": 5
         },
         "marker": {
          "color": "blue",
          "size": 2
         },
         "name": "LeftShoulder",
         "type": "scatter3d",
         "uid": "343d07c7-55aa-4640-b450-bfbc2b85eb65",
         "x": [
          1.9012811972892745,
          1.7822016443188067
         ],
         "y": [
          50.78664217953173,
          43.06689634732499
         ],
         "z": [
          2.715865240322527,
          1.4308600484688139
         ]
        },
        {
         "line": {
          "color": "black",
          "width": 5
         },
         "marker": {
          "color": "blue",
          "size": 2
         },
         "name": "LeftArm",
         "type": "scatter3d",
         "uid": "d66317a2-07b6-483e-8780-eb379baca168",
         "x": [
          8.56457563485153,
          1.9012811972892745
         ],
         "y": [
          50.74687247107408,
          50.78664217953173
         ],
         "z": [
          1.925016808926793,
          2.715865240322527
         ]
        },
        {
         "line": {
          "color": "black",
          "width": 5
         },
         "marker": {
          "color": "blue",
          "size": 2
         },
         "name": "LeftForeArm",
         "type": "scatter3d",
         "uid": "1dee2717-5372-46bc-9fb9-7635b23e4384",
         "x": [
          6.45208639218659,
          8.56457563485153
         ],
         "y": [
          40.0194044523469,
          50.74687247107408
         ],
         "z": [
          1.441163665389917,
          1.925016808926793
         ]
        },
        {
         "line": {
          "color": "black",
          "width": 5
         },
         "marker": {
          "color": "blue",
          "size": 2
         },
         "name": "LeftHand",
         "type": "scatter3d",
         "uid": "84f9904f-279a-4bfa-bb1b-b0e146ccf882",
         "x": [
          4.381716568546702,
          6.45208639218659
         ],
         "y": [
          31.821445740722794,
          40.0194044523469
         ],
         "z": [
          2.4895651947515756,
          1.441163665389917
         ]
        },
        {
         "line": {
          "color": "black",
          "width": 5
         },
         "marker": {
          "color": "blue",
          "size": 2
         },
         "name": "LeftHandThumb",
         "type": "scatter3d",
         "uid": "36e05c86-4e05-4921-bc10-9770f2202c3e",
         "x": [
          4.381716568546702,
          4.381716568546702
         ],
         "y": [
          31.821445740722794,
          31.821445740722794
         ],
         "z": [
          2.4895651947515756,
          2.4895651947515756
         ]
        },
        {
         "line": {
          "color": "black",
          "width": 5
         },
         "marker": {
          "color": "blue",
          "size": 2
         },
         "name": "L_Wrist_End",
         "type": "scatter3d",
         "uid": "65d2ddd7-e670-466d-81cb-a7851dd0f44f",
         "x": [
          2.1780794400921164,
          4.381716568546702
         ],
         "y": [
          28.591894948232344,
          31.821445740722794
         ],
         "z": [
          2.952116905288606,
          2.4895651947515756
         ]
        },
        {
         "line": {
          "color": "black",
          "width": 5
         },
         "marker": {
          "color": "blue",
          "size": 2
         },
         "name": "RightShoulder",
         "type": "scatter3d",
         "uid": "3cbe0b8b-3592-4d56-b4a5-ccd34e956a31",
         "x": [
          1.9012811972892745,
          1.7822016443188067
         ],
         "y": [
          50.78664217953173,
          43.06689634732499
         ],
         "z": [
          2.715865240322527,
          1.4308600484688139
         ]
        },
        {
         "line": {
          "color": "black",
          "width": 5
         },
         "marker": {
          "color": "blue",
          "size": 2
         },
         "name": "RightArm",
         "type": "scatter3d",
         "uid": "dd192cba-7e9b-45d8-b9c8-95064b6c0cab",
         "x": [
          -4.047415969931223,
          1.9012811972892745
         ],
         "y": [
          50.80279455624644,
          50.78664217953173
         ],
         "z": [
          -0.3888500036618989,
          2.715865240322527
         ]
        },
        {
         "line": {
          "color": "black",
          "width": 5
         },
         "marker": {
          "color": "blue",
          "size": 2
         },
         "name": "RightForeArm",
         "type": "scatter3d",
         "uid": "52d8e420-eaea-4937-8601-26f106a7151c",
         "x": [
          -3.434638859090344,
          -4.047415969931223
         ],
         "y": [
          39.88168557286997,
          50.80279455624644
         ],
         "z": [
          -0.029437227952326728,
          -0.3888500036618989
         ]
        },
        {
         "line": {
          "color": "black",
          "width": 5
         },
         "marker": {
          "color": "blue",
          "size": 2
         },
         "name": "RightHand",
         "type": "scatter3d",
         "uid": "5edb53bc-2c1a-48b3-89a1-2dbdb3ddf3f8",
         "x": [
          -3.078544963894704,
          -3.434638859090344
         ],
         "y": [
          31.550140509372742,
          39.88168557286997
         ],
         "z": [
          1.7171760674337568,
          -0.029437227952326728
         ]
        },
        {
         "line": {
          "color": "black",
          "width": 5
         },
         "marker": {
          "color": "blue",
          "size": 2
         },
         "name": "RightHandThumb",
         "type": "scatter3d",
         "uid": "c1103d41-3058-46cf-a6ba-5a6348b03442",
         "x": [
          -3.078544963894704,
          -3.078544963894704
         ],
         "y": [
          31.550140509372742,
          31.550140509372742
         ],
         "z": [
          1.7171760674337568,
          1.7171760674337568
         ]
        },
        {
         "line": {
          "color": "black",
          "width": 5
         },
         "marker": {
          "color": "blue",
          "size": 2
         },
         "name": "R_Wrist_End",
         "type": "scatter3d",
         "uid": "c9db610b-fc4c-45b0-9b45-49206ece42a5",
         "x": [
          -1.7070519626437144,
          -3.078544963894704
         ],
         "y": [
          26.551432856763597,
          31.550140509372742
         ],
         "z": [
          3.208424057463033,
          1.7171760674337568
         ]
        }
       ],
       "frames": [
        {
         "data": [
          {
           "marker": {
            "color": "red",
            "size": 4
           },
           "name": "Hips",
           "type": "scatter3d",
           "x": [
            1.1473
           ],
           "y": [
            32.8029
           ],
           "z": [
            1.7158
           ]
          },
          {
           "line": {
            "color": "black",
            "width": 5
           },
           "marker": {
            "color": "blue",
            "size": 2
           },
           "name": "LeftUpLeg",
           "type": "scatter3d",
           "x": [
            4.749909724872481,
            1.1473
           ],
           "y": [
            32.644741944791626,
            32.8029
           ],
           "z": [
            2.2772787802997843,
            1.7158
           ]
          },
          {
           "line": {
            "color": "black",
            "width": 5
           },
           "marker": {
            "color": "blue",
            "size": 2
           },
           "name": "LeftLeg",
           "type": "scatter3d",
           "x": [
            6.606630913890318,
            4.749909724872481
           ],
           "y": [
            17.04925961054071,
            32.644741944791626
           ],
           "z": [
            2.3525836826624733,
            2.2772787802997843
           ]
          },
          {
           "line": {
            "color": "black",
            "width": 5
           },
           "marker": {
            "color": "blue",
            "size": 2
           },
           "name": "LeftFoot",
           "type": "scatter3d",
           "x": [
            8.61853891441486,
            6.606630913890318
           ],
           "y": [
            2.0170691799566516,
            17.04925961054071
           ],
           "z": [
            -0.42606016370979694,
            2.3525836826624733
           ]
          },
          {
           "line": {
            "color": "black",
            "width": 5
           },
           "marker": {
            "color": "blue",
            "size": 2
           },
           "name": "LeftToeBase",
           "type": "scatter3d",
           "x": [
            8.255815916567263,
            8.61853891441486
           ],
           "y": [
            0.8498170646331555,
            2.0170691799566516
           ],
           "z": [
            5.379125597306407,
            -0.42606016370979694
           ]
          },
          {
           "line": {
            "color": "black",
            "width": 5
           },
           "marker": {
            "color": "blue",
            "size": 2
           },
           "name": "RightUpLeg",
           "type": "scatter3d",
           "x": [
            -2.4553097248724804,
            1.1473
           ],
           "y": [
            32.961058055208376,
            32.8029
           ],
           "z": [
            1.1543212197002157,
            1.7158
           ]
          },
          {
           "line": {
            "color": "black",
            "width": 5
           },
           "marker": {
            "color": "blue",
            "size": 2
           },
           "name": "RightLeg",
           "type": "scatter3d",
           "x": [
            -3.317346416252013,
            -2.4553097248724804
           ],
           "y": [
            17.281216749943873,
            32.961058055208376
           ],
           "z": [
            1.4219460026267434,
            1.1543212197002157
           ]
          },
          {
           "line": {
            "color": "black",
            "width": 5
           },
           "marker": {
            "color": "blue",
            "size": 2
           },
           "name": "RightFoot",
           "type": "scatter3d",
           "x": [
            -3.6020169067643693,
            -3.317346416252013
           ],
           "y": [
            1.9807211453624838,
            17.281216749943873
           ],
           "z": [
            -0.4619811549133037,
            1.4219460026267434
           ]
          },
          {
           "line": {
            "color": "black",
            "width": 5
           },
           "marker": {
            "color": "blue",
            "size": 2
           },
           "name": "RightToeBase",
           "type": "scatter3d",
           "x": [
            -5.03512753248559,
            -3.6020169067643693
           ],
           "y": [
            1.7878341380550604,
            1.9807211453624838
           ],
           "z": [
            5.291558254064174,
            -0.4619811549133037
           ]
          },
          {
           "line": {
            "color": "black",
            "width": 5
           },
           "marker": {
            "color": "blue",
            "size": 2
           },
           "name": "Spine",
           "type": "scatter3d",
           "x": [
            1.1487871725157999,
            1.1473
           ],
           "y": [
            32.84221208697372,
            32.8029
           ],
           "z": [
            1.7173313509328034,
            1.7158
           ]
          },
          {
           "line": {
            "color": "black",
            "width": 5
           },
           "marker": {
            "color": "blue",
            "size": 2
           },
           "name": "Spine1",
           "type": "scatter3d",
           "x": [
            1.7822016443188067,
            1.1487871725157999
           ],
           "y": [
            43.06689634732499,
            32.84221208697372
           ],
           "z": [
            1.4308600484688139,
            1.7173313509328034
           ]
          },
          {
           "line": {
            "color": "black",
            "width": 5
           },
           "marker": {
            "color": "blue",
            "size": 2
           },
           "name": "Neck",
           "type": "scatter3d",
           "x": [
            1.9012811972892745,
            1.7822016443188067
           ],
           "y": [
            50.78664217953173,
            43.06689634732499
           ],
           "z": [
            2.715865240322527,
            1.4308600484688139
           ]
          },
          {
           "line": {
            "color": "black",
            "width": 5
           },
           "marker": {
            "color": "blue",
            "size": 2
           },
           "name": "Head",
           "type": "scatter3d",
           "x": [
            2.0730439283704842,
            1.9012811972892745
           ],
           "y": [
            57.49392827415843,
            50.78664217953173
           ],
           "z": [
            4.356454138108591,
            2.715865240322527
           ]
          },
          {
           "line": {
            "color": "black",
            "width": 5
           },
           "marker": {
            "color": "blue",
            "size": 2
           },
           "name": "LeftShoulder",
           "type": "scatter3d",
           "x": [
            1.9012811972892745,
            1.7822016443188067
           ],
           "y": [
            50.78664217953173,
            43.06689634732499
           ],
           "z": [
            2.715865240322527,
            1.4308600484688139
           ]
          },
          {
           "line": {
            "color": "black",
            "width": 5
           },
           "marker": {
            "color": "blue",
            "size": 2
           },
           "name": "LeftArm",
           "type": "scatter3d",
           "x": [
            8.56457563485153,
            1.9012811972892745
           ],
           "y": [
            50.74687247107408,
            50.78664217953173
           ],
           "z": [
            1.925016808926793,
            2.715865240322527
           ]
          },
          {
           "line": {
            "color": "black",
            "width": 5
           },
           "marker": {
            "color": "blue",
            "size": 2
           },
           "name": "LeftForeArm",
           "type": "scatter3d",
           "x": [
            6.45208639218659,
            8.56457563485153
           ],
           "y": [
            40.0194044523469,
            50.74687247107408
           ],
           "z": [
            1.441163665389917,
            1.925016808926793
           ]
          },
          {
           "line": {
            "color": "black",
            "width": 5
           },
           "marker": {
            "color": "blue",
            "size": 2
           },
           "name": "LeftHand",
           "type": "scatter3d",
           "x": [
            4.381716568546702,
            6.45208639218659
           ],
           "y": [
            31.821445740722794,
            40.0194044523469
           ],
           "z": [
            2.4895651947515756,
            1.441163665389917
           ]
          },
          {
           "line": {
            "color": "black",
            "width": 5
           },
           "marker": {
            "color": "blue",
            "size": 2
           },
           "name": "LeftHandThumb",
           "type": "scatter3d",
           "x": [
            4.381716568546702,
            4.381716568546702
           ],
           "y": [
            31.821445740722794,
            31.821445740722794
           ],
           "z": [
            2.4895651947515756,
            2.4895651947515756
           ]
          },
          {
           "line": {
            "color": "black",
            "width": 5
           },
           "marker": {
            "color": "blue",
            "size": 2
           },
           "name": "L_Wrist_End",
           "type": "scatter3d",
           "x": [
            2.1780794400921164,
            4.381716568546702
           ],
           "y": [
            28.591894948232344,
            31.821445740722794
           ],
           "z": [
            2.952116905288606,
            2.4895651947515756
           ]
          },
          {
           "line": {
            "color": "black",
            "width": 5
           },
           "marker": {
            "color": "blue",
            "size": 2
           },
           "name": "RightShoulder",
           "type": "scatter3d",
           "x": [
            1.9012811972892745,
            1.7822016443188067
           ],
           "y": [
            50.78664217953173,
            43.06689634732499
           ],
           "z": [
            2.715865240322527,
            1.4308600484688139
           ]
          },
          {
           "line": {
            "color": "black",
            "width": 5
           },
           "marker": {
            "color": "blue",
            "size": 2
           },
           "name": "RightArm",
           "type": "scatter3d",
           "x": [
            -4.047415969931223,
            1.9012811972892745
           ],
           "y": [
            50.80279455624644,
            50.78664217953173
           ],
           "z": [
            -0.3888500036618989,
            2.715865240322527
           ]
          },
          {
           "line": {
            "color": "black",
            "width": 5
           },
           "marker": {
            "color": "blue",
            "size": 2
           },
           "name": "RightForeArm",
           "type": "scatter3d",
           "x": [
            -3.434638859090344,
            -4.047415969931223
           ],
           "y": [
            39.88168557286997,
            50.80279455624644
           ],
           "z": [
            -0.029437227952326728,
            -0.3888500036618989
           ]
          },
          {
           "line": {
            "color": "black",
            "width": 5
           },
           "marker": {
            "color": "blue",
            "size": 2
           },
           "name": "RightHand",
           "type": "scatter3d",
           "x": [
            -3.078544963894704,
            -3.434638859090344
           ],
           "y": [
            31.550140509372742,
            39.88168557286997
           ],
           "z": [
            1.7171760674337568,
            -0.029437227952326728
           ]
          },
          {
           "line": {
            "color": "black",
            "width": 5
           },
           "marker": {
            "color": "blue",
            "size": 2
           },
           "name": "RightHandThumb",
           "type": "scatter3d",
           "x": [
            -3.078544963894704,
            -3.078544963894704
           ],
           "y": [
            31.550140509372742,
            31.550140509372742
           ],
           "z": [
            1.7171760674337568,
            1.7171760674337568
           ]
          },
          {
           "line": {
            "color": "black",
            "width": 5
           },
           "marker": {
            "color": "blue",
            "size": 2
           },
           "name": "R_Wrist_End",
           "type": "scatter3d",
           "x": [
            -1.7070519626437144,
            -3.078544963894704
           ],
           "y": [
            26.551432856763597,
            31.550140509372742
           ],
           "z": [
            3.208424057463033,
            1.7171760674337568
           ]
          }
         ],
         "name": "frame1"
        },
        {
         "data": [
          {
           "marker": {
            "color": "red",
            "size": 4
           },
           "name": "Hips",
           "type": "scatter3d",
           "x": [
            1.1201
           ],
           "y": [
            32.8027
           ],
           "z": [
            1.7049
           ]
          },
          {
           "line": {
            "color": "black",
            "width": 5
           },
           "marker": {
            "color": "blue",
            "size": 2
           },
           "name": "LeftUpLeg",
           "type": "scatter3d",
           "x": [
            4.723897122288685,
            1.1201
           ],
           "y": [
            32.64514420228107,
            32.8027
           ],
           "z": [
            2.2588780617397584,
            1.7049
           ]
          },
          {
           "line": {
            "color": "black",
            "width": 5
           },
           "marker": {
            "color": "blue",
            "size": 2
           },
           "name": "LeftLeg",
           "type": "scatter3d",
           "x": [
            6.5914763755739685,
            4.723897122288685
           ],
           "y": [
            17.051026499983,
            32.64514420228107
           ],
           "z": [
            2.3471642983360326,
            2.2588780617397584
           ]
          },
          {
           "line": {
            "color": "black",
            "width": 5
           },
           "marker": {
            "color": "blue",
            "size": 2
           },
           "name": "LeftFoot",
           "type": "scatter3d",
           "x": [
            8.61545946491552,
            6.5914763755739685
           ],
           "y": [
            2.019356590980683,
            17.051026499983
           ],
           "z": [
            -0.42551973879363514,
            2.3471642983360326
           ]
          },
          {
           "line": {
            "color": "black",
            "width": 5
           },
           "marker": {
            "color": "blue",
            "size": 2
           },
           "name": "LeftToeBase",
           "type": "scatter3d",
           "x": [
            8.247710148757617,
            8.61545946491552
           ],
           "y": [
            0.8517941051829567,
            2.019356590980683
           ],
           "z": [
            5.379287361879326,
            -0.42551973879363514
           ]
          },
          {
           "line": {
            "color": "black",
            "width": 5
           },
           "marker": {
            "color": "blue",
            "size": 2
           },
           "name": "RightUpLeg",
           "type": "scatter3d",
           "x": [
            -2.483697122288685,
            1.1201
           ],
           "y": [
            32.960255797718936,
            32.8027
           ],
           "z": [
            1.1509219382602418,
            1.7049
           ]
          },
          {
           "line": {
            "color": "black",
            "width": 5
           },
           "marker": {
            "color": "blue",
            "size": 2
           },
           "name": "RightLeg",
           "type": "scatter3d",
           "x": [
            -3.337038413580888,
            -2.483697122288685
           ],
           "y": [
            17.28070917198334,
            32.960255797718936
           ],
           "z": [
            1.460405204300822,
            1.1509219382602418
           ]
          },
          {
           "line": {
            "color": "black",
            "width": 5
           },
           "marker": {
            "color": "blue",
            "size": 2
           },
           "name": "RightFoot",
           "type": "scatter3d",
           "x": [
            -3.602542025845944,
            -3.337038413580888
           ],
           "y": [
            1.9849740642457867,
            17.28070917198334
           ],
           "z": [
            -0.46453113612684294,
            1.460405204300822
           ]
          },
          {
           "line": {
            "color": "black",
            "width": 5
           },
           "marker": {
            "color": "blue",
            "size": 2
           },
           "name": "RightToeBase",
           "type": "scatter3d",
           "x": [
            -5.032819032201387,
            -3.602542025845944
           ],
           "y": [
            1.8050952832137237,
            1.9849740642457867
           ],
           "z": [
            5.290134666769563,
            -0.46453113612684294
           ]
          },
          {
           "line": {
            "color": "black",
            "width": 5
           },
           "marker": {
            "color": "blue",
            "size": 2
           },
           "name": "Spine",
           "type": "scatter3d",
           "x": [
            1.1215862712756293,
            1.1201
           ],
           "y": [
            32.84201286076189,
            32.8027
           ],
           "z": [
            1.706412242180257,
            1.7049
           ]
          },
          {
           "line": {
            "color": "black",
            "width": 5
           },
           "marker": {
            "color": "blue",
            "size": 2
           },
           "name": "Spine1",
           "type": "scatter3d",
           "x": [
            1.757463167471876,
            1.1215862712756293
           ],
           "y": [
            43.06669025690425,
            32.84201286076189
           ],
           "z": [
            1.4251994369966678,
            1.706412242180257
           ]
          },
          {
           "line": {
            "color": "black",
            "width": 5
           },
           "marker": {
            "color": "blue",
            "size": 2
           },
           "name": "Neck",
           "type": "scatter3d",
           "x": [
            1.880635149187885,
            1.757463167471876
           ],
           "y": [
            50.78370711445857,
            43.06669025690425
           ],
           "z": [
            2.7261119936439724,
            1.4251994369966678
           ]
          },
          {
           "line": {
            "color": "black",
            "width": 5
           },
           "marker": {
            "color": "blue",
            "size": 2
           },
           "name": "Head",
           "type": "scatter3d",
           "x": [
            2.083003047100594,
            1.880635149187885
           ],
           "y": [
            57.48636567373214,
            50.78370711445857
           ],
           "z": [
            4.3820517854816,
            2.7261119936439724
           ]
          },
          {
           "line": {
            "color": "black",
            "width": 5
           },
           "marker": {
            "color": "blue",
            "size": 2
           },
           "name": "LeftShoulder",
           "type": "scatter3d",
           "x": [
            1.880635149187885,
            1.757463167471876
           ],
           "y": [
            50.78370711445857,
            43.06669025690425
           ],
           "z": [
            2.7261119936439724,
            1.4251994369966678
           ]
          },
          {
           "line": {
            "color": "black",
            "width": 5
           },
           "marker": {
            "color": "blue",
            "size": 2
           },
           "name": "LeftArm",
           "type": "scatter3d",
           "x": [
            8.542604845342826,
            1.880635149187885
           ],
           "y": [
            50.75090787075674,
            50.78370711445857
           ],
           "z": [
            1.9238653919523134,
            2.7261119936439724
           ]
          },
          {
           "line": {
            "color": "black",
            "width": 5
           },
           "marker": {
            "color": "blue",
            "size": 2
           },
           "name": "LeftForeArm",
           "type": "scatter3d",
           "x": [
            6.391150378639745,
            8.542604845342826
           ],
           "y": [
            40.03412723942958,
            50.75090787075674
           ],
           "z": [
            1.3787495002243175,
            1.9238653919523134
           ]
          },
          {
           "line": {
            "color": "black",
            "width": 5
           },
           "marker": {
            "color": "blue",
            "size": 2
           },
           "name": "LeftHand",
           "type": "scatter3d",
           "x": [
            4.242103994364173,
            6.391150378639745
           ],
           "y": [
            31.868811188620864,
            40.03412723942958
           ],
           "z": [
            2.519502514481857,
            1.3787495002243175
           ]
          },
          {
           "line": {
            "color": "black",
            "width": 5
           },
           "marker": {
            "color": "blue",
            "size": 2
           },
           "name": "LeftHandThumb",
           "type": "scatter3d",
           "x": [
            4.242103994364173,
            4.242103994364173
           ],
           "y": [
            31.868811188620864,
            31.868811188620864
           ],
           "z": [
            2.519502514481857,
            2.519502514481857
           ]
          },
          {
           "line": {
            "color": "black",
            "width": 5
           },
           "marker": {
            "color": "blue",
            "size": 2
           },
           "name": "L_Wrist_End",
           "type": "scatter3d",
           "x": [
            2.1754965867376344,
            4.242103994364173
           ],
           "y": [
            28.55785856171499,
            31.868811188620864
           ],
           "z": [
            3.0359282354023116,
            2.519502514481857
           ]
          },
          {
           "line": {
            "color": "black",
            "width": 5
           },
           "marker": {
            "color": "blue",
            "size": 2
           },
           "name": "RightShoulder",
           "type": "scatter3d",
           "x": [
            1.880635149187885,
            1.757463167471876
           ],
           "y": [
            50.78370711445857,
            43.06669025690425
           ],
           "z": [
            2.7261119936439724,
            1.4251994369966678
           ]
          },
          {
           "line": {
            "color": "black",
            "width": 5
           },
           "marker": {
            "color": "blue",
            "size": 2
           },
           "name": "RightArm",
           "type": "scatter3d",
           "x": [
            -4.081150884100622,
            1.880635149187885
           ],
           "y": [
            50.796117261853155,
            50.78370711445857
           ],
           "z": [
            -0.3534121439993272,
            2.7261119936439724
           ]
          },
          {
           "line": {
            "color": "black",
            "width": 5
           },
           "marker": {
            "color": "blue",
            "size": 2
           },
           "name": "RightForeArm",
           "type": "scatter3d",
           "x": [
            -3.290985783227284,
            -4.081150884100622
           ],
           "y": [
            39.88481010517269,
            50.796117261853155
           ],
           "z": [
            -0.04631280561595713,
            -0.3534121439993272
           ]
          },
          {
           "line": {
            "color": "black",
            "width": 5
           },
           "marker": {
            "color": "blue",
            "size": 2
           },
           "name": "RightHand",
           "type": "scatter3d",
           "x": [
            -2.7789757441130614,
            -3.290985783227284
           ],
           "y": [
            31.564066190043583,
            39.88481010517269
           ],
           "z": [
            1.712996840122439,
            -0.04631280561595713
           ]
          },
          {
           "line": {
            "color": "black",
            "width": 5
           },
           "marker": {
            "color": "blue",
            "size": 2
           },
           "name": "RightHandThumb",
           "type": "scatter3d",
           "x": [
            -2.7789757441130614,
            -2.7789757441130614
           ],
           "y": [
            31.564066190043583,
            31.564066190043583
           ],
           "z": [
            1.712996840122439,
            1.712996840122439
           ]
          },
          {
           "line": {
            "color": "black",
            "width": 5
           },
           "marker": {
            "color": "blue",
            "size": 2
           },
           "name": "R_Wrist_End",
           "type": "scatter3d",
           "x": [
            -1.2361805417763683,
            -2.7789757441130614
           ],
           "y": [
            26.598648654586903,
            31.564066190043583
           ],
           "z": [
            3.146978527148523,
            1.712996840122439
           ]
          }
         ],
         "name": "frame2"
        },
        {
         "data": [
          {
           "marker": {
            "color": "red",
            "size": 4
           },
           "name": "Hips",
           "type": "scatter3d",
           "x": [
            1.0947
           ],
           "y": [
            32.8004
           ],
           "z": [
            1.689
           ]
          },
          {
           "line": {
            "color": "black",
            "width": 5
           },
           "marker": {
            "color": "blue",
            "size": 2
           },
           "name": "LeftUpLeg",
           "type": "scatter3d",
           "x": [
            4.700481878883979,
            1.0947
           ],
           "y": [
            32.642740086399336,
            32.8004
           ],
           "z": [
            2.2298785579548808,
            1.689
           ]
          },
          {
           "line": {
            "color": "black",
            "width": 5
           },
           "marker": {
            "color": "blue",
            "size": 2
           },
           "name": "LeftLeg",
           "type": "scatter3d",
           "x": [
            6.575186563435641,
            4.700481878883979
           ],
           "y": [
            17.049706010565316,
            32.642740086399336
           ],
           "z": [
            2.352043592228537,
            2.2298785579548808
           ]
          },
          {
           "line": {
            "color": "black",
            "width": 5
           },
           "marker": {
            "color": "blue",
            "size": 2
           },
           "name": "LeftFoot",
           "type": "scatter3d",
           "x": [
            8.604910157053103,
            6.575186563435641
           ],
           "y": [
            2.019813760848683,
            17.049706010565316
           ],
           "z": [
            -0.42607549526941124,
            2.352043592228537
           ]
          },
          {
           "line": {
            "color": "black",
            "width": 5
           },
           "marker": {
            "color": "blue",
            "size": 2
           },
           "name": "LeftToeBase",
           "type": "scatter3d",
           "x": [
            8.239944963859115,
            8.604910157053103
           ],
           "y": [
            0.8524895802990304,
            2.019813760848683
           ],
           "z": [
            5.378955241863767,
            -0.42607549526941124
           ]
          },
          {
           "line": {
            "color": "black",
            "width": 5
           },
           "marker": {
            "color": "blue",
            "size": 2
           },
           "name": "RightUpLeg",
           "type": "scatter3d",
           "x": [
            -2.511081878883979,
            1.0947
           ],
           "y": [
            32.95805991360067,
            32.8004
           ],
           "z": [
            1.1481214420451193,
            1.689
           ]
          },
          {
           "line": {
            "color": "black",
            "width": 5
           },
           "marker": {
            "color": "blue",
            "size": 2
           },
           "name": "RightLeg",
           "type": "scatter3d",
           "x": [
            -3.3589689207926825,
            -2.511081878883979
           ],
           "y": [
            17.279176670104302,
            32.95805991360067
           ],
           "z": [
            1.5028910024249422,
            1.1481214420451193
           ]
          },
          {
           "line": {
            "color": "black",
            "width": 5
           },
           "marker": {
            "color": "blue",
            "size": 2
           },
           "name": "RightFoot",
           "type": "scatter3d",
           "x": [
            -3.6083681261141236,
            -3.3589689207926825
           ],
           "y": [
            1.989122489793644,
            17.279176670104302
           ],
           "z": [
            -0.4687650954911142,
            1.5028910024249422
           ]
          },
          {
           "line": {
            "color": "black",
            "width": 5
           },
           "marker": {
            "color": "blue",
            "size": 2
           },
           "name": "RightToeBase",
           "type": "scatter3d",
           "x": [
            -5.030827958653721,
            -3.6083681261141236
           ],
           "y": [
            1.823397784962093,
            1.989122489793644
           ],
           "z": [
            5.288262830515492,
            -0.4687650954911142
           ]
          },
          {
           "line": {
            "color": "black",
            "width": 5
           },
           "marker": {
            "color": "blue",
            "size": 2
           },
           "name": "Spine",
           "type": "scatter3d",
           "x": [
            1.0961956142967741,
            1.0947
           ],
           "y": [
            32.839713399207014,
            32.8004
           ],
           "z": [
            1.6904888521302501,
            1.689
           ]
          },
          {
           "line": {
            "color": "black",
            "width": 5
           },
           "marker": {
            "color": "blue",
            "size": 2
           },
           "name": "Spine1",
           "type": "scatter3d",
           "x": [
            1.7342374954403255,
            1.0961956142967741
           ],
           "y": [
            43.06442647336804,
            32.839713399207014
           ],
           "z": [
            1.415546979932866,
            1.6904888521302501
           ]
          },
          {
           "line": {
            "color": "black",
            "width": 5
           },
           "marker": {
            "color": "blue",
            "size": 2
           },
           "name": "Neck",
           "type": "scatter3d",
           "x": [
            1.859742032776182,
            1.7342374954403255
           ],
           "y": [
            50.77829222327945,
            43.06442647336804
           ],
           "z": [
            2.7347959330693374,
            1.415546979932866
           ]
          },
          {
           "line": {
            "color": "black",
            "width": 5
           },
           "marker": {
            "color": "blue",
            "size": 2
           },
           "name": "Head",
           "type": "scatter3d",
           "x": [
            2.080538152605369,
            1.859742032776182
           ],
           "y": [
            57.4745680066247,
            50.77829222327945
           ],
           "z": [
            4.414040057475402,
            2.7347959330693374
           ]
          },
          {
           "line": {
            "color": "black",
            "width": 5
           },
           "marker": {
            "color": "blue",
            "size": 2
           },
           "name": "LeftShoulder",
           "type": "scatter3d",
           "x": [
            1.859742032776182,
            1.7342374954403255
           ],
           "y": [
            50.77829222327945,
            43.06442647336804
           ],
           "z": [
            2.7347959330693374,
            1.415546979932866
           ]
          },
          {
           "line": {
            "color": "black",
            "width": 5
           },
           "marker": {
            "color": "blue",
            "size": 2
           },
           "name": "LeftArm",
           "type": "scatter3d",
           "x": [
            8.518977577139413,
            1.859742032776182
           ],
           "y": [
            50.74999312874063,
            50.77829222327945
           ],
           "z": [
            1.9099948911582525,
            2.7347959330693374
           ]
          },
          {
           "line": {
            "color": "black",
            "width": 5
           },
           "marker": {
            "color": "blue",
            "size": 2
           },
           "name": "LeftForeArm",
           "type": "scatter3d",
           "x": [
            6.360548704061199,
            8.518977577139413
           ],
           "y": [
            40.035732929195525,
            50.74999312874063
           ],
           "z": [
            1.3433310278265256,
            1.9099948911582525
           ]
          },
          {
           "line": {
            "color": "black",
            "width": 5
           },
           "marker": {
            "color": "blue",
            "size": 2
           },
           "name": "LeftHand",
           "type": "scatter3d",
           "x": [
            4.180188077436102,
            6.360548704061199
           ],
           "y": [
            31.890551458895484,
            40.035732929195525
           ],
           "z": [
            2.565685462777309,
            1.3433310278265256
           ]
          },
          {
           "line": {
            "color": "black",
            "width": 5
           },
           "marker": {
            "color": "blue",
            "size": 2
           },
           "name": "LeftHandThumb",
           "type": "scatter3d",
           "x": [
            4.180188077436102,
            4.180188077436102
           ],
           "y": [
            31.890551458895484,
            31.890551458895484
           ],
           "z": [
            2.565685462777309,
            2.565685462777309
           ]
          },
          {
           "line": {
            "color": "black",
            "width": 5
           },
           "marker": {
            "color": "blue",
            "size": 2
           },
           "name": "L_Wrist_End",
           "type": "scatter3d",
           "x": [
            2.2342331879410446,
            4.180188077436102
           ],
           "y": [
            28.51791996585401,
            31.890551458895484
           ],
           "z": [
            3.1475663614972325,
            2.565685462777309
           ]
          },
          {
           "line": {
            "color": "black",
            "width": 5
           },
           "marker": {
            "color": "blue",
            "size": 2
           },
           "name": "RightShoulder",
           "type": "scatter3d",
           "x": [
            1.859742032776182,
            1.7342374954403255
           ],
           "y": [
            50.77829222327945,
            43.06442647336804
           ],
           "z": [
            2.7347959330693374,
            1.415546979932866
           ]
          },
          {
           "line": {
            "color": "black",
            "width": 5
           },
           "marker": {
            "color": "blue",
            "size": 2
           },
           "name": "RightArm",
           "type": "scatter3d",
           "x": [
            -4.113559368403914,
            1.859742032776182
           ],
           "y": [
            50.78872878644336,
            50.77829222327945
           ],
           "z": [
            -0.3223395041674868,
            2.7347959330693374
           ]
          },
          {
           "line": {
            "color": "black",
            "width": 5
           },
           "marker": {
            "color": "blue",
            "size": 2
           },
           "name": "RightForeArm",
           "type": "scatter3d",
           "x": [
            -3.160947484209375,
            -4.113559368403914
           ],
           "y": [
            39.89008097087023,
            50.78872878644336
           ],
           "z": [
            -0.026871827602899745,
            -0.3223395041674868
           ]
          },
          {
           "line": {
            "color": "black",
            "width": 5
           },
           "marker": {
            "color": "blue",
            "size": 2
           },
           "name": "RightHand",
           "type": "scatter3d",
           "x": [
            -2.503579277779868,
            -3.160947484209375
           ],
           "y": [
            31.575838110633207,
            39.89008097087023
           ],
           "z": [
            1.7147758730166416,
            -0.026871827602899745
           ]
          },
          {
           "line": {
            "color": "black",
            "width": 5
           },
           "marker": {
            "color": "blue",
            "size": 2
           },
           "name": "RightHandThumb",
           "type": "scatter3d",
           "x": [
            -2.503579277779868,
            -2.503579277779868
           ],
           "y": [
            31.575838110633207,
            31.575838110633207
           ],
           "z": [
            1.7147758730166416,
            1.7147758730166416
           ]
          },
          {
           "line": {
            "color": "black",
            "width": 5
           },
           "marker": {
            "color": "blue",
            "size": 2
           },
           "name": "R_Wrist_End",
           "type": "scatter3d",
           "x": [
            -0.7513578157441005,
            -2.503579277779868
           ],
           "y": [
            26.668341326013568,
            31.575838110633207
           ],
           "z": [
            3.10692783075299,
            1.7147758730166416
           ]
          }
         ],
         "name": "frame3"
        },
        {
         "data": [
          {
           "marker": {
            "color": "red",
            "size": 4
           },
           "name": "Hips",
           "type": "scatter3d",
           "x": [
            1.0709
           ],
           "y": [
            32.7976
           ],
           "z": [
            1.6817
           ]
          },
          {
           "line": {
            "color": "black",
            "width": 5
           },
           "marker": {
            "color": "blue",
            "size": 2
           },
           "name": "LeftUpLeg",
           "type": "scatter3d",
           "x": [
            4.677752273747228,
            1.0709
           ],
           "y": [
            32.64081066126952,
            32.7976
           ],
           "z": [
            2.2156503717808507,
            1.6817
           ]
          },
          {
           "line": {
            "color": "black",
            "width": 5
           },
           "marker": {
            "color": "blue",
            "size": 2
           },
           "name": "LeftLeg",
           "type": "scatter3d",
           "x": [
            6.559325817951713,
            4.677752273747228
           ],
           "y": [
            17.04870559349225,
            32.64081066126952
           ],
           "z": [
            2.350165029510556,
            2.2156503717808507
           ]
          },
          {
           "line": {
            "color": "black",
            "width": 5
           },
           "marker": {
            "color": "blue",
            "size": 2
           },
           "name": "LeftFoot",
           "type": "scatter3d",
           "x": [
            8.598365691122563,
            6.559325817951713
           ],
           "y": [
            2.020079109254544,
            17.04870559349225
           ],
           "z": [
            -0.4279794882905512,
            2.350165029510556
           ]
          },
          {
           "line": {
            "color": "black",
            "width": 5
           },
           "marker": {
            "color": "blue",
            "size": 2
           },
           "name": "LeftToeBase",
           "type": "scatter3d",
           "x": [
            8.23210787325642,
            8.598365691122563
           ],
           "y": [
            0.8603868821629568,
            2.020079109254544
           ],
           "z": [
            5.37849933652878,
            -0.4279794882905512
           ]
          },
          {
           "line": {
            "color": "black",
            "width": 5
           },
           "marker": {
            "color": "blue",
            "size": 2
           },
           "name": "RightUpLeg",
           "type": "scatter3d",
           "x": [
            -2.5359522737472284,
            1.0709
           ],
           "y": [
            32.954389338730486,
            32.7976
           ],
           "z": [
            1.147749628219149,
            1.6817
           ]
          },
          {
           "line": {
            "color": "black",
            "width": 5
           },
           "marker": {
            "color": "blue",
            "size": 2
           },
           "name": "RightLeg",
           "type": "scatter3d",
           "x": [
            -3.3731997553734523,
            -2.5359522737472284
           ],
           "y": [
            17.275606446256482,
            32.954389338730486
           ],
           "z": [
            1.5310736493488983,
            1.147749628219149
           ]
          },
          {
           "line": {
            "color": "black",
            "width": 5
           },
           "marker": {
            "color": "blue",
            "size": 2
           },
           "name": "RightFoot",
           "type": "scatter3d",
           "x": [
            -3.60540634655341,
            -3.3731997553734523
           ],
           "y": [
            1.9892867033045452,
            17.275606446256482
           ],
           "z": [
            -0.471398169216946,
            1.5310736493488983
           ]
          },
          {
           "line": {
            "color": "black",
            "width": 5
           },
           "marker": {
            "color": "blue",
            "size": 2
           },
           "name": "RightToeBase",
           "type": "scatter3d",
           "x": [
            -5.021699421915589,
            -3.60540634655341
           ],
           "y": [
            1.8405386311585485,
            1.9892867033045452
           ],
           "z": [
            5.287613475979997,
            -0.471398169216946
           ]
          },
          {
           "line": {
            "color": "black",
            "width": 5
           },
           "marker": {
            "color": "blue",
            "size": 2
           },
           "name": "Spine",
           "type": "scatter3d",
           "x": [
            1.0723901454140146,
            1.0709
           ],
           "y": [
            32.83691400900895,
            32.7976
           ],
           "z": [
            1.6831781956195146,
            1.6817
           ]
          },
          {
           "line": {
            "color": "black",
            "width": 5
           },
           "marker": {
            "color": "blue",
            "size": 2
           },
           "name": "Spine1",
           "type": "scatter3d",
           "x": [
            1.7093845208866112,
            1.0723901454140146
           ],
           "y": [
            43.06184425238143,
            32.83691400900895
           ],
           "z": [
            1.4139429678294617,
            1.6831781956195146
           ]
          },
          {
           "line": {
            "color": "black",
            "width": 5
           },
           "marker": {
            "color": "blue",
            "size": 2
           },
           "name": "Neck",
           "type": "scatter3d",
           "x": [
            1.8344350359302752,
            1.7093845208866112
           ],
           "y": [
            50.77288339836477,
            43.06184425238143
           ],
           "z": [
            2.749656879825534,
            1.4139429678294617
           ]
          },
          {
           "line": {
            "color": "black",
            "width": 5
           },
           "marker": {
            "color": "blue",
            "size": 2
           },
           "name": "Head",
           "type": "scatter3d",
           "x": [
            2.0751497068294076,
            1.8344350359302752
           ],
           "y": [
            57.462370146643664,
            50.77288339836477
           ],
           "z": [
            4.453048970424459,
            2.749656879825534
           ]
          },
          {
           "line": {
            "color": "black",
            "width": 5
           },
           "marker": {
            "color": "blue",
            "size": 2
           },
           "name": "LeftShoulder",
           "type": "scatter3d",
           "x": [
            1.8344350359302752,
            1.7093845208866112
           ],
           "y": [
            50.77288339836477,
            43.06184425238143
           ],
           "z": [
            2.749656879825534,
            1.4139429678294617
           ]
          },
          {
           "line": {
            "color": "black",
            "width": 5
           },
           "marker": {
            "color": "blue",
            "size": 2
           },
           "name": "LeftArm",
           "type": "scatter3d",
           "x": [
            8.491620043983923,
            1.8344350359302752
           ],
           "y": [
            50.754505965001485,
            50.77288339836477
           ],
           "z": [
            1.9081904982696591,
            2.749656879825534
           ]
          },
          {
           "line": {
            "color": "black",
            "width": 5
           },
           "marker": {
            "color": "blue",
            "size": 2
           },
           "name": "LeftForeArm",
           "type": "scatter3d",
           "x": [
            6.396014689146382,
            8.491620043983923
           ],
           "y": [
            40.029349496173495,
            50.754505965001485
           ],
           "z": [
            1.312580161192323,
            1.9081904982696591
           ]
          },
          {
           "line": {
            "color": "black",
            "width": 5
           },
           "marker": {
            "color": "blue",
            "size": 2
           },
           "name": "LeftHand",
           "type": "scatter3d",
           "x": [
            4.2292808461786,
            6.396014689146382
           ],
           "y": [
            31.894048982381225,
            40.029349496173495
           ],
           "z": [
            2.6218753971606255,
            1.312580161192323
           ]
          },
          {
           "line": {
            "color": "black",
            "width": 5
           },
           "marker": {
            "color": "blue",
            "size": 2
           },
           "name": "LeftHandThumb",
           "type": "scatter3d",
           "x": [
            4.2292808461786,
            4.2292808461786
           ],
           "y": [
            31.894048982381225,
            31.894048982381225
           ],
           "z": [
            2.6218753971606255,
            2.6218753971606255
           ]
          },
          {
           "line": {
            "color": "black",
            "width": 5
           },
           "marker": {
            "color": "blue",
            "size": 2
           },
           "name": "L_Wrist_End",
           "type": "scatter3d",
           "x": [
            2.3873076204343384,
            4.2292808461786
           ],
           "y": [
            28.4691130187444,
            31.894048982381225
           ],
           "z": [
            3.23581129017258,
            2.6218753971606255
           ]
          },
          {
           "line": {
            "color": "black",
            "width": 5
           },
           "marker": {
            "color": "blue",
            "size": 2
           },
           "name": "RightShoulder",
           "type": "scatter3d",
           "x": [
            1.8344350359302752,
            1.7093845208866112
           ],
           "y": [
            50.77288339836477,
            43.06184425238143
           ],
           "z": [
            2.749656879825534,
            1.4139429678294617
           ]
          },
          {
           "line": {
            "color": "black",
            "width": 5
           },
           "marker": {
            "color": "blue",
            "size": 2
           },
           "name": "RightArm",
           "type": "scatter3d",
           "x": [
            -4.146146233323417,
            1.8344350359302752
           ],
           "y": [
            50.77485281521768,
            50.77288339836477
           ],
           "z": [
            -0.29322981475399956,
            2.749656879825534
           ]
          },
          {
           "line": {
            "color": "black",
            "width": 5
           },
           "marker": {
            "color": "blue",
            "size": 2
           },
           "name": "RightForeArm",
           "type": "scatter3d",
           "x": [
            -3.088076855577965,
            -4.146146233323417
           ],
           "y": [
            39.88523214191154,
            50.77485281521768
           ],
           "z": [
            -0.025003154854290777,
            -0.29322981475399956
           ]
          },
          {
           "line": {
            "color": "black",
            "width": 5
           },
           "marker": {
            "color": "blue",
            "size": 2
           },
           "name": "RightHand",
           "type": "scatter3d",
           "x": [
            -2.3455885905480436,
            -3.088076855577965
           ],
           "y": [
            31.581699734512796,
            39.88523214191154
           ],
           "z": [
            1.7334520610871564,
            -0.025003154854290777
           ]
          },
          {
           "line": {
            "color": "black",
            "width": 5
           },
           "marker": {
            "color": "blue",
            "size": 2
           },
           "name": "RightHandThumb",
           "type": "scatter3d",
           "x": [
            -2.3455885905480436,
            -2.3455885905480436
           ],
           "y": [
            31.581699734512796,
            31.581699734512796
           ],
           "z": [
            1.7334520610871564,
            1.7334520610871564
           ]
          },
          {
           "line": {
            "color": "black",
            "width": 5
           },
           "marker": {
            "color": "blue",
            "size": 2
           },
           "name": "R_Wrist_End",
           "type": "scatter3d",
           "x": [
            -0.4562642349945627,
            -2.3455885905480436
           ],
           "y": [
            26.70363471140844,
            31.581699734512796
           ],
           "z": [
            3.047539929678278,
            1.7334520610871564
           ]
          }
         ],
         "name": "frame4"
        },
        {
         "data": [
          {
           "marker": {
            "color": "red",
            "size": 4
           },
           "name": "Hips",
           "type": "scatter3d",
           "x": [
            1.0522
           ],
           "y": [
            32.7976
           ],
           "z": [
            1.6675
           ]
          },
          {
           "line": {
            "color": "black",
            "width": 5
           },
           "marker": {
            "color": "blue",
            "size": 2
           },
           "name": "LeftUpLeg",
           "type": "scatter3d",
           "x": [
            4.660779223379206,
            1.0522
           ],
           "y": [
            32.64188523619349,
            32.7976
           ],
           "z": [
            2.1899730823962233,
            1.6675
           ]
          },
          {
           "line": {
            "color": "black",
            "width": 5
           },
           "marker": {
            "color": "blue",
            "size": 2
           },
           "name": "LeftLeg",
           "type": "scatter3d",
           "x": [
            6.549655919599076,
            4.660779223379206
           ],
           "y": [
            17.05098985080163,
            32.64188523619349
           ],
           "z": [
            2.3581383232887516,
            2.1899730823962233
           ]
          },
          {
           "line": {
            "color": "black",
            "width": 5
           },
           "marker": {
            "color": "blue",
            "size": 2
           },
           "name": "LeftFoot",
           "type": "scatter3d",
           "x": [
            8.592586026105284,
            6.549655919599076
           ],
           "y": [
            2.0249781505794555,
            17.05098985080163
           ],
           "z": [
            -0.43126905707303465,
            2.3581383232887516
           ]
          },
          {
           "line": {
            "color": "black",
            "width": 5
           },
           "marker": {
            "color": "blue",
            "size": 2
           },
           "name": "LeftToeBase",
           "type": "scatter3d",
           "x": [
            8.22896665660447,
            8.592586026105284
           ],
           "y": [
            0.8681562443271713,
            2.0249781505794555
           ],
           "z": [
            5.375948109964777,
            -0.43126905707303465
           ]
          },
          {
           "line": {
            "color": "black",
            "width": 5
           },
           "marker": {
            "color": "blue",
            "size": 2
           },
           "name": "RightUpLeg",
           "type": "scatter3d",
           "x": [
            -2.5563792233792055,
            1.0522
           ],
           "y": [
            32.95331476380652,
            32.7976
           ],
           "z": [
            1.1450269176037768,
            1.6675
           ]
          },
          {
           "line": {
            "color": "black",
            "width": 5
           },
           "marker": {
            "color": "blue",
            "size": 2
           },
           "name": "RightLeg",
           "type": "scatter3d",
           "x": [
            -3.391150839668513,
            -2.5563792233792055
           ],
           "y": [
            17.275450434291386,
            32.95331476380652
           ],
           "z": [
            1.5691496049889497,
            1.1450269176037768
           ]
          },
          {
           "line": {
            "color": "black",
            "width": 5
           },
           "marker": {
            "color": "blue",
            "size": 2
           },
           "name": "RightFoot",
           "type": "scatter3d",
           "x": [
            -3.608038599253437,
            -3.391150839668513
           ],
           "y": [
            1.9948947574593028,
            17.275450434291386
           ],
           "z": [
            -0.4785228482801702,
            1.5691496049889497
           ]
          },
          {
           "line": {
            "color": "black",
            "width": 5
           },
           "marker": {
            "color": "blue",
            "size": 2
           },
           "name": "RightToeBase",
           "type": "scatter3d",
           "x": [
            -5.022218589987033,
            -3.608038599253437
           ],
           "y": [
            1.8593929084722312,
            1.9948947574593028
           ],
           "z": [
            5.2813349100789555,
            -0.4785228482801702
           ]
          },
          {
           "line": {
            "color": "black",
            "width": 5
           },
           "marker": {
            "color": "blue",
            "size": 2
           },
           "name": "Spine",
           "type": "scatter3d",
           "x": [
            1.0536838061416414,
            1.0522
           ],
           "y": [
            32.83691459927587,
            32.7976
           ],
           "z": [
            1.6689688441414445,
            1.6675
           ]
          },
          {
           "line": {
            "color": "black",
            "width": 5
           },
           "marker": {
            "color": "blue",
            "size": 2
           },
           "name": "Spine1",
           "type": "scatter3d",
           "x": [
            1.6855335316111195,
            1.0536838061416414
           ],
           "y": [
            43.06247474812993,
            32.83691459927587
           ],
           "z": [
            1.4118045178985617,
            1.6689688441414445
           ]
          },
          {
           "line": {
            "color": "black",
            "width": 5
           },
           "marker": {
            "color": "blue",
            "size": 2
           },
           "name": "Neck",
           "type": "scatter3d",
           "x": [
            1.8075157258503292,
            1.6855335316111195
           ],
           "y": [
            50.76962867881832,
            43.06247474812993
           ],
           "z": [
            2.7700359524718645,
            1.4118045178985617
           ]
          },
          {
           "line": {
            "color": "black",
            "width": 5
           },
           "marker": {
            "color": "blue",
            "size": 2
           },
           "name": "Head",
           "type": "scatter3d",
           "x": [
            2.0735421642512493,
            1.8075157258503292
           ],
           "y": [
            57.45408242173955,
            50.76962867881832
           ],
           "z": [
            4.489346632749888,
            2.7700359524718645
           ]
          },
          {
           "line": {
            "color": "black",
            "width": 5
           },
           "marker": {
            "color": "blue",
            "size": 2
           },
           "name": "LeftShoulder",
           "type": "scatter3d",
           "x": [
            1.8075157258503292,
            1.6855335316111195
           ],
           "y": [
            50.76962867881832,
            43.06247474812993
           ],
           "z": [
            2.7700359524718645,
            1.4118045178985617
           ]
          },
          {
           "line": {
            "color": "black",
            "width": 5
           },
           "marker": {
            "color": "blue",
            "size": 2
           },
           "name": "LeftArm",
           "type": "scatter3d",
           "x": [
            8.461602919651357,
            1.8075157258503292
           ],
           "y": [
            50.748334792740415,
            50.76962867881832
           ],
           "z": [
            1.9044807430779924,
            2.7700359524718645
           ]
          },
          {
           "line": {
            "color": "black",
            "width": 5
           },
           "marker": {
            "color": "blue",
            "size": 2
           },
           "name": "LeftForeArm",
           "type": "scatter3d",
           "x": [
            6.452323514676934,
            8.461602919651357
           ],
           "y": [
            40.00863489967631,
            50.748334792740415
           ],
           "z": [
            1.2744511903071931,
            1.9044807430779924
           ]
          },
          {
           "line": {
            "color": "black",
            "width": 5
           },
           "marker": {
            "color": "blue",
            "size": 2
           },
           "name": "LeftHand",
           "type": "scatter3d",
           "x": [
            4.3078405518657625,
            6.452323514676934
           ],
           "y": [
            31.88289626147405,
            40.00863489967631
           ],
           "z": [
            2.6764741632785682,
            1.2744511903071931
           ]
          },
          {
           "line": {
            "color": "black",
            "width": 5
           },
           "marker": {
            "color": "blue",
            "size": 2
           },
           "name": "LeftHandThumb",
           "type": "scatter3d",
           "x": [
            4.3078405518657625,
            4.3078405518657625
           ],
           "y": [
            31.88289626147405,
            31.88289626147405
           ],
           "z": [
            2.6764741632785682,
            2.6764741632785682
           ]
          },
          {
           "line": {
            "color": "black",
            "width": 5
           },
           "marker": {
            "color": "blue",
            "size": 2
           },
           "name": "L_Wrist_End",
           "type": "scatter3d",
           "x": [
            2.5169449974240505,
            4.3078405518657625
           ],
           "y": [
            28.436754238382008,
            31.88289626147405
           ],
           "z": [
            3.3220493098417063,
            2.6764741632785682
           ]
          },
          {
           "line": {
            "color": "black",
            "width": 5
           },
           "marker": {
            "color": "blue",
            "size": 2
           },
           "name": "RightShoulder",
           "type": "scatter3d",
           "x": [
            1.8075157258503292,
            1.6855335316111195
           ],
           "y": [
            50.76962867881832,
            43.06247474812993
           ],
           "z": [
            2.7700359524718645,
            1.4118045178985617
           ]
          },
          {
           "line": {
            "color": "black",
            "width": 5
           },
           "marker": {
            "color": "blue",
            "size": 2
           },
           "name": "RightArm",
           "type": "scatter3d",
           "x": [
            -4.1779860419723445,
            1.8075157258503292
           ],
           "y": [
            50.76272101847201,
            50.76962867881832
           ],
           "z": [
            -0.26315321149733784,
            2.7700359524718645
           ]
          },
          {
           "line": {
            "color": "black",
            "width": 5
           },
           "marker": {
            "color": "blue",
            "size": 2
           },
           "name": "RightForeArm",
           "type": "scatter3d",
           "x": [
            -3.078062738164441,
            -4.1779860419723445
           ],
           "y": [
            39.87649066457447,
            50.76272101847201
           ],
           "z": [
            -0.027670377048195804,
            -0.26315321149733784
           ]
          },
          {
           "line": {
            "color": "black",
            "width": 5
           },
           "marker": {
            "color": "blue",
            "size": 2
           },
           "name": "RightHand",
           "type": "scatter3d",
           "x": [
            -2.308041299967248,
            -3.078062738164441
           ],
           "y": [
            31.575420713944336,
            39.87649066457447
           ],
           "z": [
            1.7305698427062552,
            -0.027670377048195804
           ]
          },
          {
           "line": {
            "color": "black",
            "width": 5
           },
           "marker": {
            "color": "blue",
            "size": 2
           },
           "name": "RightHandThumb",
           "type": "scatter3d",
           "x": [
            -2.308041299967248,
            -2.308041299967248
           ],
           "y": [
            31.575420713944336,
            31.575420713944336
           ],
           "z": [
            1.7305698427062552,
            1.7305698427062552
           ]
          },
          {
           "line": {
            "color": "black",
            "width": 5
           },
           "marker": {
            "color": "blue",
            "size": 2
           },
           "name": "R_Wrist_End",
           "type": "scatter3d",
           "x": [
            -0.3819722441390532,
            -2.308041299967248
           ],
           "y": [
            26.70219443191654,
            31.575420713944336
           ],
           "z": [
            3.008777733792295,
            1.7305698427062552
           ]
          }
         ],
         "name": "frame5"
        }
       ],
       "layout": {
        "autosize": false,
        "height": 700,
        "scene": {
         "aspectratio": {
          "x": 1,
          "y": 1,
          "z": 1
         },
         "camera": {
          "eye": {
           "x": -1.7428,
           "y": 1.0707,
           "z": 0.71
          },
          "up": {
           "x": 0,
           "y": 1,
           "z": 0
          }
         },
         "xaxis": {
          "range": [
           -130,
           130
          ]
         },
         "yaxis": {
          "range": [
           -130,
           130
          ]
         },
         "zaxis": {
          "range": [
           -130,
           130
          ]
         }
        },
        "sliders": [
         {
          "currentvalue": {
           "font": {
            "size": 12
           },
           "prefix": "slice: ",
           "visible": true,
           "xanchor": "center"
          },
          "len": 1,
          "steps": [
           {
            "args": [
             [
              "frame1"
             ],
             {
              "frame": {
               "duration": 10,
               "redraw": true
              },
              "mode": "immediate",
              "transition": {
               "duration": 0
              }
             }
            ],
            "label": "1",
            "method": "animate"
           },
           {
            "args": [
             [
              "frame2"
             ],
             {
              "frame": {
               "duration": 10,
               "redraw": true
              },
              "mode": "immediate",
              "transition": {
               "duration": 0
              }
             }
            ],
            "label": "2",
            "method": "animate"
           },
           {
            "args": [
             [
              "frame3"
             ],
             {
              "frame": {
               "duration": 10,
               "redraw": true
              },
              "mode": "immediate",
              "transition": {
               "duration": 0
              }
             }
            ],
            "label": "3",
            "method": "animate"
           },
           {
            "args": [
             [
              "frame4"
             ],
             {
              "frame": {
               "duration": 10,
               "redraw": true
              },
              "mode": "immediate",
              "transition": {
               "duration": 0
              }
             }
            ],
            "label": "4",
            "method": "animate"
           },
           {
            "args": [
             [
              "frame5"
             ],
             {
              "frame": {
               "duration": 10,
               "redraw": true
              },
              "mode": "immediate",
              "transition": {
               "duration": 0
              }
             }
            ],
            "label": "5",
            "method": "animate"
           }
          ],
          "transition": {
           "duration": 0
          },
          "x": 0,
          "y": 0
         }
        ],
        "title": {
         "text": "action animation"
        },
        "updatemenus": [
         {
          "buttons": [
           {
            "args": [
             null
            ],
            "label": "Play",
            "method": "animate"
           }
          ],
          "pad": {
           "r": 10,
           "t": 0
          },
          "showactive": false,
          "type": "buttons",
          "x": 1,
          "xanchor": "right",
          "y": 1,
          "yanchor": "top"
         }
        ],
        "width": 800
       }
      },
      "text/html": [
       "<div>\n",
       "        \n",
       "        \n",
       "            <div id=\"e6048ae6-8b38-46d8-9fa8-8f8c2b280e26\" class=\"plotly-graph-div\" style=\"height:700px; width:800px;\"></div>\n",
       "            <script type=\"text/javascript\">\n",
       "                require([\"plotly\"], function(Plotly) {\n",
       "                    window.PLOTLYENV=window.PLOTLYENV || {};\n",
       "                    window.PLOTLYENV.BASE_URL='https://plot.ly';\n",
       "                    \n",
       "                if (document.getElementById(\"e6048ae6-8b38-46d8-9fa8-8f8c2b280e26\")) {\n",
       "                    Plotly.newPlot(\n",
       "                        'e6048ae6-8b38-46d8-9fa8-8f8c2b280e26',\n",
       "                        [{\"marker\": {\"color\": \"red\", \"size\": 4}, \"name\": \"Hips\", \"type\": \"scatter3d\", \"uid\": \"52006e61-184f-4849-9c97-45e5f6b56ead\", \"x\": [1.1473], \"y\": [32.8029], \"z\": [1.7158]}, {\"line\": {\"color\": \"black\", \"width\": 5}, \"marker\": {\"color\": \"blue\", \"size\": 2}, \"name\": \"LeftUpLeg\", \"type\": \"scatter3d\", \"uid\": \"970c600c-f06f-4e3c-8467-d4426ff0287c\", \"x\": [4.749909724872481, 1.1473], \"y\": [32.644741944791626, 32.8029], \"z\": [2.2772787802997843, 1.7158]}, {\"line\": {\"color\": \"black\", \"width\": 5}, \"marker\": {\"color\": \"blue\", \"size\": 2}, \"name\": \"LeftLeg\", \"type\": \"scatter3d\", \"uid\": \"b685b831-e592-4c0c-94b1-7eb1f57f7cbe\", \"x\": [6.606630913890318, 4.749909724872481], \"y\": [17.04925961054071, 32.644741944791626], \"z\": [2.3525836826624733, 2.2772787802997843]}, {\"line\": {\"color\": \"black\", \"width\": 5}, \"marker\": {\"color\": \"blue\", \"size\": 2}, \"name\": \"LeftFoot\", \"type\": \"scatter3d\", \"uid\": \"0e50e593-3b5c-4615-bee1-e6af84bc0700\", \"x\": [8.61853891441486, 6.606630913890318], \"y\": [2.0170691799566516, 17.04925961054071], \"z\": [-0.42606016370979694, 2.3525836826624733]}, {\"line\": {\"color\": \"black\", \"width\": 5}, \"marker\": {\"color\": \"blue\", \"size\": 2}, \"name\": \"LeftToeBase\", \"type\": \"scatter3d\", \"uid\": \"8d0dcca3-d47c-49b6-b97e-58128804cdc0\", \"x\": [8.255815916567263, 8.61853891441486], \"y\": [0.8498170646331555, 2.0170691799566516], \"z\": [5.379125597306407, -0.42606016370979694]}, {\"line\": {\"color\": \"black\", \"width\": 5}, \"marker\": {\"color\": \"blue\", \"size\": 2}, \"name\": \"RightUpLeg\", \"type\": \"scatter3d\", \"uid\": \"2bfc0c37-36e2-4dc7-bc10-f4b7d96c3835\", \"x\": [-2.4553097248724804, 1.1473], \"y\": [32.961058055208376, 32.8029], \"z\": [1.1543212197002157, 1.7158]}, {\"line\": {\"color\": \"black\", \"width\": 5}, \"marker\": {\"color\": \"blue\", \"size\": 2}, \"name\": \"RightLeg\", \"type\": \"scatter3d\", \"uid\": \"a68b6613-5fd0-4640-bedf-85862d0c352c\", \"x\": [-3.317346416252013, -2.4553097248724804], \"y\": [17.281216749943873, 32.961058055208376], \"z\": [1.4219460026267434, 1.1543212197002157]}, {\"line\": {\"color\": \"black\", \"width\": 5}, \"marker\": {\"color\": \"blue\", \"size\": 2}, \"name\": \"RightFoot\", \"type\": \"scatter3d\", \"uid\": \"5b4e70fb-12d7-4428-933b-b6d41cd44a03\", \"x\": [-3.6020169067643693, -3.317346416252013], \"y\": [1.9807211453624838, 17.281216749943873], \"z\": [-0.4619811549133037, 1.4219460026267434]}, {\"line\": {\"color\": \"black\", \"width\": 5}, \"marker\": {\"color\": \"blue\", \"size\": 2}, \"name\": \"RightToeBase\", \"type\": \"scatter3d\", \"uid\": \"1418eff8-301b-49e1-a779-167a5e7016a5\", \"x\": [-5.03512753248559, -3.6020169067643693], \"y\": [1.7878341380550604, 1.9807211453624838], \"z\": [5.291558254064174, -0.4619811549133037]}, {\"line\": {\"color\": \"black\", \"width\": 5}, \"marker\": {\"color\": \"blue\", \"size\": 2}, \"name\": \"Spine\", \"type\": \"scatter3d\", \"uid\": \"cab1654d-b248-40a5-bc81-35518318f58b\", \"x\": [1.1487871725157999, 1.1473], \"y\": [32.84221208697372, 32.8029], \"z\": [1.7173313509328034, 1.7158]}, {\"line\": {\"color\": \"black\", \"width\": 5}, \"marker\": {\"color\": \"blue\", \"size\": 2}, \"name\": \"Spine1\", \"type\": \"scatter3d\", \"uid\": \"f2192c9a-ee9c-49f0-a388-9b3bded33dbd\", \"x\": [1.7822016443188067, 1.1487871725157999], \"y\": [43.06689634732499, 32.84221208697372], \"z\": [1.4308600484688139, 1.7173313509328034]}, {\"line\": {\"color\": \"black\", \"width\": 5}, \"marker\": {\"color\": \"blue\", \"size\": 2}, \"name\": \"Neck\", \"type\": \"scatter3d\", \"uid\": \"83fff30a-74b7-416a-b932-7066211111e3\", \"x\": [1.9012811972892745, 1.7822016443188067], \"y\": [50.78664217953173, 43.06689634732499], \"z\": [2.715865240322527, 1.4308600484688139]}, {\"line\": {\"color\": \"black\", \"width\": 5}, \"marker\": {\"color\": \"blue\", \"size\": 2}, \"name\": \"Head\", \"type\": \"scatter3d\", \"uid\": \"25b86feb-1bc6-4853-a3ea-c5e995bc029e\", \"x\": [2.0730439283704842, 1.9012811972892745], \"y\": [57.49392827415843, 50.78664217953173], \"z\": [4.356454138108591, 2.715865240322527]}, {\"line\": {\"color\": \"black\", \"width\": 5}, \"marker\": {\"color\": \"blue\", \"size\": 2}, \"name\": \"LeftShoulder\", \"type\": \"scatter3d\", \"uid\": \"431c6dc6-3958-4229-a6cd-9de9c16e88a8\", \"x\": [1.9012811972892745, 1.7822016443188067], \"y\": [50.78664217953173, 43.06689634732499], \"z\": [2.715865240322527, 1.4308600484688139]}, {\"line\": {\"color\": \"black\", \"width\": 5}, \"marker\": {\"color\": \"blue\", \"size\": 2}, \"name\": \"LeftArm\", \"type\": \"scatter3d\", \"uid\": \"4b21030a-29fc-4af9-9272-dc70769155d9\", \"x\": [8.56457563485153, 1.9012811972892745], \"y\": [50.74687247107408, 50.78664217953173], \"z\": [1.925016808926793, 2.715865240322527]}, {\"line\": {\"color\": \"black\", \"width\": 5}, \"marker\": {\"color\": \"blue\", \"size\": 2}, \"name\": \"LeftForeArm\", \"type\": \"scatter3d\", \"uid\": \"263d48ec-79d6-49a4-bcb3-53577b97d530\", \"x\": [6.45208639218659, 8.56457563485153], \"y\": [40.0194044523469, 50.74687247107408], \"z\": [1.441163665389917, 1.925016808926793]}, {\"line\": {\"color\": \"black\", \"width\": 5}, \"marker\": {\"color\": \"blue\", \"size\": 2}, \"name\": \"LeftHand\", \"type\": \"scatter3d\", \"uid\": \"5fda75f6-e740-40a6-9ae9-1efc5b837ce1\", \"x\": [4.381716568546702, 6.45208639218659], \"y\": [31.821445740722794, 40.0194044523469], \"z\": [2.4895651947515756, 1.441163665389917]}, {\"line\": {\"color\": \"black\", \"width\": 5}, \"marker\": {\"color\": \"blue\", \"size\": 2}, \"name\": \"LeftHandThumb\", \"type\": \"scatter3d\", \"uid\": \"e3328c4b-bda6-4235-8b43-55e1920dd85b\", \"x\": [4.381716568546702, 4.381716568546702], \"y\": [31.821445740722794, 31.821445740722794], \"z\": [2.4895651947515756, 2.4895651947515756]}, {\"line\": {\"color\": \"black\", \"width\": 5}, \"marker\": {\"color\": \"blue\", \"size\": 2}, \"name\": \"L_Wrist_End\", \"type\": \"scatter3d\", \"uid\": \"dcb1c52b-e29e-47bd-8add-d7e8475b69e9\", \"x\": [2.1780794400921164, 4.381716568546702], \"y\": [28.591894948232344, 31.821445740722794], \"z\": [2.952116905288606, 2.4895651947515756]}, {\"line\": {\"color\": \"black\", \"width\": 5}, \"marker\": {\"color\": \"blue\", \"size\": 2}, \"name\": \"RightShoulder\", \"type\": \"scatter3d\", \"uid\": \"f8f747b3-5461-49d3-af64-5c525cc630a1\", \"x\": [1.9012811972892745, 1.7822016443188067], \"y\": [50.78664217953173, 43.06689634732499], \"z\": [2.715865240322527, 1.4308600484688139]}, {\"line\": {\"color\": \"black\", \"width\": 5}, \"marker\": {\"color\": \"blue\", \"size\": 2}, \"name\": \"RightArm\", \"type\": \"scatter3d\", \"uid\": \"7dde00ae-57c8-434c-a958-c58215e7a980\", \"x\": [-4.047415969931223, 1.9012811972892745], \"y\": [50.80279455624644, 50.78664217953173], \"z\": [-0.3888500036618989, 2.715865240322527]}, {\"line\": {\"color\": \"black\", \"width\": 5}, \"marker\": {\"color\": \"blue\", \"size\": 2}, \"name\": \"RightForeArm\", \"type\": \"scatter3d\", \"uid\": \"d92cf8b3-4943-4d58-8dc4-dbab9708286c\", \"x\": [-3.434638859090344, -4.047415969931223], \"y\": [39.88168557286997, 50.80279455624644], \"z\": [-0.029437227952326728, -0.3888500036618989]}, {\"line\": {\"color\": \"black\", \"width\": 5}, \"marker\": {\"color\": \"blue\", \"size\": 2}, \"name\": \"RightHand\", \"type\": \"scatter3d\", \"uid\": \"013dd32d-6f35-4e99-a1e6-56f73a70d358\", \"x\": [-3.078544963894704, -3.434638859090344], \"y\": [31.550140509372742, 39.88168557286997], \"z\": [1.7171760674337568, -0.029437227952326728]}, {\"line\": {\"color\": \"black\", \"width\": 5}, \"marker\": {\"color\": \"blue\", \"size\": 2}, \"name\": \"RightHandThumb\", \"type\": \"scatter3d\", \"uid\": \"386ff9e3-d6ec-401f-aa0b-c451b3aee807\", \"x\": [-3.078544963894704, -3.078544963894704], \"y\": [31.550140509372742, 31.550140509372742], \"z\": [1.7171760674337568, 1.7171760674337568]}, {\"line\": {\"color\": \"black\", \"width\": 5}, \"marker\": {\"color\": \"blue\", \"size\": 2}, \"name\": \"R_Wrist_End\", \"type\": \"scatter3d\", \"uid\": \"c47fc106-b27c-40ea-a1f5-8765cacdd942\", \"x\": [-1.7070519626437144, -3.078544963894704], \"y\": [26.551432856763597, 31.550140509372742], \"z\": [3.208424057463033, 1.7171760674337568]}],\n",
       "                        {\"autosize\": false, \"height\": 700, \"scene\": {\"aspectratio\": {\"x\": 1.0, \"y\": 1.0, \"z\": 1.0}, \"camera\": {\"eye\": {\"x\": -1.7428, \"y\": 1.0707, \"z\": 0.71}, \"up\": {\"x\": 0, \"y\": 1, \"z\": 0}}, \"xaxis\": {\"range\": [-130, 130]}, \"yaxis\": {\"range\": [-130, 130]}, \"zaxis\": {\"range\": [-130, 130]}}, \"sliders\": [{\"currentvalue\": {\"font\": {\"size\": 12}, \"prefix\": \"slice: \", \"visible\": true, \"xanchor\": \"center\"}, \"len\": 1.0, \"steps\": [{\"args\": [[\"frame1\"], {\"frame\": {\"duration\": 10, \"redraw\": true}, \"mode\": \"immediate\", \"transition\": {\"duration\": 0}}], \"label\": \"1\", \"method\": \"animate\"}, {\"args\": [[\"frame2\"], {\"frame\": {\"duration\": 10, \"redraw\": true}, \"mode\": \"immediate\", \"transition\": {\"duration\": 0}}], \"label\": \"2\", \"method\": \"animate\"}, {\"args\": [[\"frame3\"], {\"frame\": {\"duration\": 10, \"redraw\": true}, \"mode\": \"immediate\", \"transition\": {\"duration\": 0}}], \"label\": \"3\", \"method\": \"animate\"}, {\"args\": [[\"frame4\"], {\"frame\": {\"duration\": 10, \"redraw\": true}, \"mode\": \"immediate\", \"transition\": {\"duration\": 0}}], \"label\": \"4\", \"method\": \"animate\"}, {\"args\": [[\"frame5\"], {\"frame\": {\"duration\": 10, \"redraw\": true}, \"mode\": \"immediate\", \"transition\": {\"duration\": 0}}], \"label\": \"5\", \"method\": \"animate\"}], \"transition\": {\"duration\": 0}, \"x\": 0, \"y\": 0}], \"title\": {\"text\": \"action animation\"}, \"updatemenus\": [{\"buttons\": [{\"args\": [null], \"label\": \"Play\", \"method\": \"animate\"}], \"pad\": {\"r\": 10, \"t\": 0}, \"showactive\": false, \"type\": \"buttons\", \"x\": 1, \"xanchor\": \"right\", \"y\": 1, \"yanchor\": \"top\"}], \"width\": 800},\n",
       "                        {\"showLink\": false, \"responsive\": true, \"plotlyServerURL\": \"https://plot.ly\", \"linkText\": \"Export to plot.ly\"}\n",
       "                    ).then(function(){\n",
       "                            Plotly.addFrames('e6048ae6-8b38-46d8-9fa8-8f8c2b280e26', [{\"data\": [{\"y\": [32.8029], \"z\": [1.7158], \"marker\": {\"color\": \"red\", \"size\": 4}, \"x\": [1.1473], \"type\": \"scatter3d\", \"name\": \"Hips\"}, {\"y\": [32.644741944791626, 32.8029], \"z\": [2.2772787802997843, 1.7158], \"marker\": {\"color\": \"blue\", \"size\": 2}, \"line\": {\"color\": \"black\", \"width\": 5}, \"type\": \"scatter3d\", \"name\": \"LeftUpLeg\", \"x\": [4.749909724872481, 1.1473]}, {\"y\": [17.04925961054071, 32.644741944791626], \"z\": [2.3525836826624733, 2.2772787802997843], \"marker\": {\"color\": \"blue\", \"size\": 2}, \"line\": {\"color\": \"black\", \"width\": 5}, \"type\": \"scatter3d\", \"name\": \"LeftLeg\", \"x\": [6.606630913890318, 4.749909724872481]}, {\"y\": [2.0170691799566516, 17.04925961054071], \"z\": [-0.42606016370979694, 2.3525836826624733], \"marker\": {\"color\": \"blue\", \"size\": 2}, \"line\": {\"color\": \"black\", \"width\": 5}, \"type\": \"scatter3d\", \"name\": \"LeftFoot\", \"x\": [8.61853891441486, 6.606630913890318]}, {\"y\": [0.8498170646331555, 2.0170691799566516], \"z\": [5.379125597306407, -0.42606016370979694], \"marker\": {\"color\": \"blue\", \"size\": 2}, \"line\": {\"color\": \"black\", \"width\": 5}, \"type\": \"scatter3d\", \"name\": \"LeftToeBase\", \"x\": [8.255815916567263, 8.61853891441486]}, {\"y\": [32.961058055208376, 32.8029], \"z\": [1.1543212197002157, 1.7158], \"marker\": {\"color\": \"blue\", \"size\": 2}, \"line\": {\"color\": \"black\", \"width\": 5}, \"type\": \"scatter3d\", \"name\": \"RightUpLeg\", \"x\": [-2.4553097248724804, 1.1473]}, {\"y\": [17.281216749943873, 32.961058055208376], \"z\": [1.4219460026267434, 1.1543212197002157], \"marker\": {\"color\": \"blue\", \"size\": 2}, \"line\": {\"color\": \"black\", \"width\": 5}, \"type\": \"scatter3d\", \"name\": \"RightLeg\", \"x\": [-3.317346416252013, -2.4553097248724804]}, {\"y\": [1.9807211453624838, 17.281216749943873], \"z\": [-0.4619811549133037, 1.4219460026267434], \"marker\": {\"color\": \"blue\", \"size\": 2}, \"line\": {\"color\": \"black\", \"width\": 5}, \"type\": \"scatter3d\", \"name\": \"RightFoot\", \"x\": [-3.6020169067643693, -3.317346416252013]}, {\"y\": [1.7878341380550604, 1.9807211453624838], \"z\": [5.291558254064174, -0.4619811549133037], \"marker\": {\"color\": \"blue\", \"size\": 2}, \"line\": {\"color\": \"black\", \"width\": 5}, \"type\": \"scatter3d\", \"name\": \"RightToeBase\", \"x\": [-5.03512753248559, -3.6020169067643693]}, {\"y\": [32.84221208697372, 32.8029], \"z\": [1.7173313509328034, 1.7158], \"marker\": {\"color\": \"blue\", \"size\": 2}, \"line\": {\"color\": \"black\", \"width\": 5}, \"type\": \"scatter3d\", \"name\": \"Spine\", \"x\": [1.1487871725157999, 1.1473]}, {\"y\": [43.06689634732499, 32.84221208697372], \"z\": [1.4308600484688139, 1.7173313509328034], \"marker\": {\"color\": \"blue\", \"size\": 2}, \"line\": {\"color\": \"black\", \"width\": 5}, \"type\": \"scatter3d\", \"name\": \"Spine1\", \"x\": [1.7822016443188067, 1.1487871725157999]}, {\"y\": [50.78664217953173, 43.06689634732499], \"z\": [2.715865240322527, 1.4308600484688139], \"marker\": {\"color\": \"blue\", \"size\": 2}, \"line\": {\"color\": \"black\", \"width\": 5}, \"type\": \"scatter3d\", \"name\": \"Neck\", \"x\": [1.9012811972892745, 1.7822016443188067]}, {\"y\": [57.49392827415843, 50.78664217953173], \"z\": [4.356454138108591, 2.715865240322527], \"marker\": {\"color\": \"blue\", \"size\": 2}, \"line\": {\"color\": \"black\", \"width\": 5}, \"type\": \"scatter3d\", \"name\": \"Head\", \"x\": [2.0730439283704842, 1.9012811972892745]}, {\"y\": [50.78664217953173, 43.06689634732499], \"z\": [2.715865240322527, 1.4308600484688139], \"marker\": {\"color\": \"blue\", \"size\": 2}, \"line\": {\"color\": \"black\", \"width\": 5}, \"type\": \"scatter3d\", \"name\": \"LeftShoulder\", \"x\": [1.9012811972892745, 1.7822016443188067]}, {\"y\": [50.74687247107408, 50.78664217953173], \"z\": [1.925016808926793, 2.715865240322527], \"marker\": {\"color\": \"blue\", \"size\": 2}, \"line\": {\"color\": \"black\", \"width\": 5}, \"type\": \"scatter3d\", \"name\": \"LeftArm\", \"x\": [8.56457563485153, 1.9012811972892745]}, {\"y\": [40.0194044523469, 50.74687247107408], \"z\": [1.441163665389917, 1.925016808926793], \"marker\": {\"color\": \"blue\", \"size\": 2}, \"line\": {\"color\": \"black\", \"width\": 5}, \"type\": \"scatter3d\", \"name\": \"LeftForeArm\", \"x\": [6.45208639218659, 8.56457563485153]}, {\"y\": [31.821445740722794, 40.0194044523469], \"z\": [2.4895651947515756, 1.441163665389917], \"marker\": {\"color\": \"blue\", \"size\": 2}, \"line\": {\"color\": \"black\", \"width\": 5}, \"type\": \"scatter3d\", \"name\": \"LeftHand\", \"x\": [4.381716568546702, 6.45208639218659]}, {\"y\": [31.821445740722794, 31.821445740722794], \"z\": [2.4895651947515756, 2.4895651947515756], \"marker\": {\"color\": \"blue\", \"size\": 2}, \"line\": {\"color\": \"black\", \"width\": 5}, \"type\": \"scatter3d\", \"name\": \"LeftHandThumb\", \"x\": [4.381716568546702, 4.381716568546702]}, {\"y\": [28.591894948232344, 31.821445740722794], \"z\": [2.952116905288606, 2.4895651947515756], \"marker\": {\"color\": \"blue\", \"size\": 2}, \"line\": {\"color\": \"black\", \"width\": 5}, \"type\": \"scatter3d\", \"name\": \"L_Wrist_End\", \"x\": [2.1780794400921164, 4.381716568546702]}, {\"y\": [50.78664217953173, 43.06689634732499], \"z\": [2.715865240322527, 1.4308600484688139], \"marker\": {\"color\": \"blue\", \"size\": 2}, \"line\": {\"color\": \"black\", \"width\": 5}, \"type\": \"scatter3d\", \"name\": \"RightShoulder\", \"x\": [1.9012811972892745, 1.7822016443188067]}, {\"y\": [50.80279455624644, 50.78664217953173], \"z\": [-0.3888500036618989, 2.715865240322527], \"marker\": {\"color\": \"blue\", \"size\": 2}, \"line\": {\"color\": \"black\", \"width\": 5}, \"type\": \"scatter3d\", \"name\": \"RightArm\", \"x\": [-4.047415969931223, 1.9012811972892745]}, {\"y\": [39.88168557286997, 50.80279455624644], \"z\": [-0.029437227952326728, -0.3888500036618989], \"marker\": {\"color\": \"blue\", \"size\": 2}, \"line\": {\"color\": \"black\", \"width\": 5}, \"type\": \"scatter3d\", \"name\": \"RightForeArm\", \"x\": [-3.434638859090344, -4.047415969931223]}, {\"y\": [31.550140509372742, 39.88168557286997], \"z\": [1.7171760674337568, -0.029437227952326728], \"marker\": {\"color\": \"blue\", \"size\": 2}, \"line\": {\"color\": \"black\", \"width\": 5}, \"type\": \"scatter3d\", \"name\": \"RightHand\", \"x\": [-3.078544963894704, -3.434638859090344]}, {\"y\": [31.550140509372742, 31.550140509372742], \"z\": [1.7171760674337568, 1.7171760674337568], \"marker\": {\"color\": \"blue\", \"size\": 2}, \"line\": {\"color\": \"black\", \"width\": 5}, \"type\": \"scatter3d\", \"name\": \"RightHandThumb\", \"x\": [-3.078544963894704, -3.078544963894704]}, {\"y\": [26.551432856763597, 31.550140509372742], \"z\": [3.208424057463033, 1.7171760674337568], \"marker\": {\"color\": \"blue\", \"size\": 2}, \"line\": {\"color\": \"black\", \"width\": 5}, \"type\": \"scatter3d\", \"name\": \"R_Wrist_End\", \"x\": [-1.7070519626437144, -3.078544963894704]}], \"name\": \"frame1\"}, {\"data\": [{\"y\": [32.8027], \"z\": [1.7049], \"marker\": {\"color\": \"red\", \"size\": 4}, \"x\": [1.1201], \"type\": \"scatter3d\", \"name\": \"Hips\"}, {\"y\": [32.64514420228107, 32.8027], \"z\": [2.2588780617397584, 1.7049], \"marker\": {\"color\": \"blue\", \"size\": 2}, \"line\": {\"color\": \"black\", \"width\": 5}, \"type\": \"scatter3d\", \"name\": \"LeftUpLeg\", \"x\": [4.723897122288685, 1.1201]}, {\"y\": [17.051026499983, 32.64514420228107], \"z\": [2.3471642983360326, 2.2588780617397584], \"marker\": {\"color\": \"blue\", \"size\": 2}, \"line\": {\"color\": \"black\", \"width\": 5}, \"type\": \"scatter3d\", \"name\": \"LeftLeg\", \"x\": [6.5914763755739685, 4.723897122288685]}, {\"y\": [2.019356590980683, 17.051026499983], \"z\": [-0.42551973879363514, 2.3471642983360326], \"marker\": {\"color\": \"blue\", \"size\": 2}, \"line\": {\"color\": \"black\", \"width\": 5}, \"type\": \"scatter3d\", \"name\": \"LeftFoot\", \"x\": [8.61545946491552, 6.5914763755739685]}, {\"y\": [0.8517941051829567, 2.019356590980683], \"z\": [5.379287361879326, -0.42551973879363514], \"marker\": {\"color\": \"blue\", \"size\": 2}, \"line\": {\"color\": \"black\", \"width\": 5}, \"type\": \"scatter3d\", \"name\": \"LeftToeBase\", \"x\": [8.247710148757617, 8.61545946491552]}, {\"y\": [32.960255797718936, 32.8027], \"z\": [1.1509219382602418, 1.7049], \"marker\": {\"color\": \"blue\", \"size\": 2}, \"line\": {\"color\": \"black\", \"width\": 5}, \"type\": \"scatter3d\", \"name\": \"RightUpLeg\", \"x\": [-2.483697122288685, 1.1201]}, {\"y\": [17.28070917198334, 32.960255797718936], \"z\": [1.460405204300822, 1.1509219382602418], \"marker\": {\"color\": \"blue\", \"size\": 2}, \"line\": {\"color\": \"black\", \"width\": 5}, \"type\": \"scatter3d\", \"name\": \"RightLeg\", \"x\": [-3.337038413580888, -2.483697122288685]}, {\"y\": [1.9849740642457867, 17.28070917198334], \"z\": [-0.46453113612684294, 1.460405204300822], \"marker\": {\"color\": \"blue\", \"size\": 2}, \"line\": {\"color\": \"black\", \"width\": 5}, \"type\": \"scatter3d\", \"name\": \"RightFoot\", \"x\": [-3.602542025845944, -3.337038413580888]}, {\"y\": [1.8050952832137237, 1.9849740642457867], \"z\": [5.290134666769563, -0.46453113612684294], \"marker\": {\"color\": \"blue\", \"size\": 2}, \"line\": {\"color\": \"black\", \"width\": 5}, \"type\": \"scatter3d\", \"name\": \"RightToeBase\", \"x\": [-5.032819032201387, -3.602542025845944]}, {\"y\": [32.84201286076189, 32.8027], \"z\": [1.706412242180257, 1.7049], \"marker\": {\"color\": \"blue\", \"size\": 2}, \"line\": {\"color\": \"black\", \"width\": 5}, \"type\": \"scatter3d\", \"name\": \"Spine\", \"x\": [1.1215862712756293, 1.1201]}, {\"y\": [43.06669025690425, 32.84201286076189], \"z\": [1.4251994369966678, 1.706412242180257], \"marker\": {\"color\": \"blue\", \"size\": 2}, \"line\": {\"color\": \"black\", \"width\": 5}, \"type\": \"scatter3d\", \"name\": \"Spine1\", \"x\": [1.757463167471876, 1.1215862712756293]}, {\"y\": [50.78370711445857, 43.06669025690425], \"z\": [2.7261119936439724, 1.4251994369966678], \"marker\": {\"color\": \"blue\", \"size\": 2}, \"line\": {\"color\": \"black\", \"width\": 5}, \"type\": \"scatter3d\", \"name\": \"Neck\", \"x\": [1.880635149187885, 1.757463167471876]}, {\"y\": [57.48636567373214, 50.78370711445857], \"z\": [4.3820517854816, 2.7261119936439724], \"marker\": {\"color\": \"blue\", \"size\": 2}, \"line\": {\"color\": \"black\", \"width\": 5}, \"type\": \"scatter3d\", \"name\": \"Head\", \"x\": [2.083003047100594, 1.880635149187885]}, {\"y\": [50.78370711445857, 43.06669025690425], \"z\": [2.7261119936439724, 1.4251994369966678], \"marker\": {\"color\": \"blue\", \"size\": 2}, \"line\": {\"color\": \"black\", \"width\": 5}, \"type\": \"scatter3d\", \"name\": \"LeftShoulder\", \"x\": [1.880635149187885, 1.757463167471876]}, {\"y\": [50.75090787075674, 50.78370711445857], \"z\": [1.9238653919523134, 2.7261119936439724], \"marker\": {\"color\": \"blue\", \"size\": 2}, \"line\": {\"color\": \"black\", \"width\": 5}, \"type\": \"scatter3d\", \"name\": \"LeftArm\", \"x\": [8.542604845342826, 1.880635149187885]}, {\"y\": [40.03412723942958, 50.75090787075674], \"z\": [1.3787495002243175, 1.9238653919523134], \"marker\": {\"color\": \"blue\", \"size\": 2}, \"line\": {\"color\": \"black\", \"width\": 5}, \"type\": \"scatter3d\", \"name\": \"LeftForeArm\", \"x\": [6.391150378639745, 8.542604845342826]}, {\"y\": [31.868811188620864, 40.03412723942958], \"z\": [2.519502514481857, 1.3787495002243175], \"marker\": {\"color\": \"blue\", \"size\": 2}, \"line\": {\"color\": \"black\", \"width\": 5}, \"type\": \"scatter3d\", \"name\": \"LeftHand\", \"x\": [4.242103994364173, 6.391150378639745]}, {\"y\": [31.868811188620864, 31.868811188620864], \"z\": [2.519502514481857, 2.519502514481857], \"marker\": {\"color\": \"blue\", \"size\": 2}, \"line\": {\"color\": \"black\", \"width\": 5}, \"type\": \"scatter3d\", \"name\": \"LeftHandThumb\", \"x\": [4.242103994364173, 4.242103994364173]}, {\"y\": [28.55785856171499, 31.868811188620864], \"z\": [3.0359282354023116, 2.519502514481857], \"marker\": {\"color\": \"blue\", \"size\": 2}, \"line\": {\"color\": \"black\", \"width\": 5}, \"type\": \"scatter3d\", \"name\": \"L_Wrist_End\", \"x\": [2.1754965867376344, 4.242103994364173]}, {\"y\": [50.78370711445857, 43.06669025690425], \"z\": [2.7261119936439724, 1.4251994369966678], \"marker\": {\"color\": \"blue\", \"size\": 2}, \"line\": {\"color\": \"black\", \"width\": 5}, \"type\": \"scatter3d\", \"name\": \"RightShoulder\", \"x\": [1.880635149187885, 1.757463167471876]}, {\"y\": [50.796117261853155, 50.78370711445857], \"z\": [-0.3534121439993272, 2.7261119936439724], \"marker\": {\"color\": \"blue\", \"size\": 2}, \"line\": {\"color\": \"black\", \"width\": 5}, \"type\": \"scatter3d\", \"name\": \"RightArm\", \"x\": [-4.081150884100622, 1.880635149187885]}, {\"y\": [39.88481010517269, 50.796117261853155], \"z\": [-0.04631280561595713, -0.3534121439993272], \"marker\": {\"color\": \"blue\", \"size\": 2}, \"line\": {\"color\": \"black\", \"width\": 5}, \"type\": \"scatter3d\", \"name\": \"RightForeArm\", \"x\": [-3.290985783227284, -4.081150884100622]}, {\"y\": [31.564066190043583, 39.88481010517269], \"z\": [1.712996840122439, -0.04631280561595713], \"marker\": {\"color\": \"blue\", \"size\": 2}, \"line\": {\"color\": \"black\", \"width\": 5}, \"type\": \"scatter3d\", \"name\": \"RightHand\", \"x\": [-2.7789757441130614, -3.290985783227284]}, {\"y\": [31.564066190043583, 31.564066190043583], \"z\": [1.712996840122439, 1.712996840122439], \"marker\": {\"color\": \"blue\", \"size\": 2}, \"line\": {\"color\": \"black\", \"width\": 5}, \"type\": \"scatter3d\", \"name\": \"RightHandThumb\", \"x\": [-2.7789757441130614, -2.7789757441130614]}, {\"y\": [26.598648654586903, 31.564066190043583], \"z\": [3.146978527148523, 1.712996840122439], \"marker\": {\"color\": \"blue\", \"size\": 2}, \"line\": {\"color\": \"black\", \"width\": 5}, \"type\": \"scatter3d\", \"name\": \"R_Wrist_End\", \"x\": [-1.2361805417763683, -2.7789757441130614]}], \"name\": \"frame2\"}, {\"data\": [{\"y\": [32.8004], \"z\": [1.689], \"marker\": {\"color\": \"red\", \"size\": 4}, \"x\": [1.0947], \"type\": \"scatter3d\", \"name\": \"Hips\"}, {\"y\": [32.642740086399336, 32.8004], \"z\": [2.2298785579548808, 1.689], \"marker\": {\"color\": \"blue\", \"size\": 2}, \"line\": {\"color\": \"black\", \"width\": 5}, \"type\": \"scatter3d\", \"name\": \"LeftUpLeg\", \"x\": [4.700481878883979, 1.0947]}, {\"y\": [17.049706010565316, 32.642740086399336], \"z\": [2.352043592228537, 2.2298785579548808], \"marker\": {\"color\": \"blue\", \"size\": 2}, \"line\": {\"color\": \"black\", \"width\": 5}, \"type\": \"scatter3d\", \"name\": \"LeftLeg\", \"x\": [6.575186563435641, 4.700481878883979]}, {\"y\": [2.019813760848683, 17.049706010565316], \"z\": [-0.42607549526941124, 2.352043592228537], \"marker\": {\"color\": \"blue\", \"size\": 2}, \"line\": {\"color\": \"black\", \"width\": 5}, \"type\": \"scatter3d\", \"name\": \"LeftFoot\", \"x\": [8.604910157053103, 6.575186563435641]}, {\"y\": [0.8524895802990304, 2.019813760848683], \"z\": [5.378955241863767, -0.42607549526941124], \"marker\": {\"color\": \"blue\", \"size\": 2}, \"line\": {\"color\": \"black\", \"width\": 5}, \"type\": \"scatter3d\", \"name\": \"LeftToeBase\", \"x\": [8.239944963859115, 8.604910157053103]}, {\"y\": [32.95805991360067, 32.8004], \"z\": [1.1481214420451193, 1.689], \"marker\": {\"color\": \"blue\", \"size\": 2}, \"line\": {\"color\": \"black\", \"width\": 5}, \"type\": \"scatter3d\", \"name\": \"RightUpLeg\", \"x\": [-2.511081878883979, 1.0947]}, {\"y\": [17.279176670104302, 32.95805991360067], \"z\": [1.5028910024249422, 1.1481214420451193], \"marker\": {\"color\": \"blue\", \"size\": 2}, \"line\": {\"color\": \"black\", \"width\": 5}, \"type\": \"scatter3d\", \"name\": \"RightLeg\", \"x\": [-3.3589689207926825, -2.511081878883979]}, {\"y\": [1.989122489793644, 17.279176670104302], \"z\": [-0.4687650954911142, 1.5028910024249422], \"marker\": {\"color\": \"blue\", \"size\": 2}, \"line\": {\"color\": \"black\", \"width\": 5}, \"type\": \"scatter3d\", \"name\": \"RightFoot\", \"x\": [-3.6083681261141236, -3.3589689207926825]}, {\"y\": [1.823397784962093, 1.989122489793644], \"z\": [5.288262830515492, -0.4687650954911142], \"marker\": {\"color\": \"blue\", \"size\": 2}, \"line\": {\"color\": \"black\", \"width\": 5}, \"type\": \"scatter3d\", \"name\": \"RightToeBase\", \"x\": [-5.030827958653721, -3.6083681261141236]}, {\"y\": [32.839713399207014, 32.8004], \"z\": [1.6904888521302501, 1.689], \"marker\": {\"color\": \"blue\", \"size\": 2}, \"line\": {\"color\": \"black\", \"width\": 5}, \"type\": \"scatter3d\", \"name\": \"Spine\", \"x\": [1.0961956142967741, 1.0947]}, {\"y\": [43.06442647336804, 32.839713399207014], \"z\": [1.415546979932866, 1.6904888521302501], \"marker\": {\"color\": \"blue\", \"size\": 2}, \"line\": {\"color\": \"black\", \"width\": 5}, \"type\": \"scatter3d\", \"name\": \"Spine1\", \"x\": [1.7342374954403255, 1.0961956142967741]}, {\"y\": [50.77829222327945, 43.06442647336804], \"z\": [2.7347959330693374, 1.415546979932866], \"marker\": {\"color\": \"blue\", \"size\": 2}, \"line\": {\"color\": \"black\", \"width\": 5}, \"type\": \"scatter3d\", \"name\": \"Neck\", \"x\": [1.859742032776182, 1.7342374954403255]}, {\"y\": [57.4745680066247, 50.77829222327945], \"z\": [4.414040057475402, 2.7347959330693374], \"marker\": {\"color\": \"blue\", \"size\": 2}, \"line\": {\"color\": \"black\", \"width\": 5}, \"type\": \"scatter3d\", \"name\": \"Head\", \"x\": [2.080538152605369, 1.859742032776182]}, {\"y\": [50.77829222327945, 43.06442647336804], \"z\": [2.7347959330693374, 1.415546979932866], \"marker\": {\"color\": \"blue\", \"size\": 2}, \"line\": {\"color\": \"black\", \"width\": 5}, \"type\": \"scatter3d\", \"name\": \"LeftShoulder\", \"x\": [1.859742032776182, 1.7342374954403255]}, {\"y\": [50.74999312874063, 50.77829222327945], \"z\": [1.9099948911582525, 2.7347959330693374], \"marker\": {\"color\": \"blue\", \"size\": 2}, \"line\": {\"color\": \"black\", \"width\": 5}, \"type\": \"scatter3d\", \"name\": \"LeftArm\", \"x\": [8.518977577139413, 1.859742032776182]}, {\"y\": [40.035732929195525, 50.74999312874063], \"z\": [1.3433310278265256, 1.9099948911582525], \"marker\": {\"color\": \"blue\", \"size\": 2}, \"line\": {\"color\": \"black\", \"width\": 5}, \"type\": \"scatter3d\", \"name\": \"LeftForeArm\", \"x\": [6.360548704061199, 8.518977577139413]}, {\"y\": [31.890551458895484, 40.035732929195525], \"z\": [2.565685462777309, 1.3433310278265256], \"marker\": {\"color\": \"blue\", \"size\": 2}, \"line\": {\"color\": \"black\", \"width\": 5}, \"type\": \"scatter3d\", \"name\": \"LeftHand\", \"x\": [4.180188077436102, 6.360548704061199]}, {\"y\": [31.890551458895484, 31.890551458895484], \"z\": [2.565685462777309, 2.565685462777309], \"marker\": {\"color\": \"blue\", \"size\": 2}, \"line\": {\"color\": \"black\", \"width\": 5}, \"type\": \"scatter3d\", \"name\": \"LeftHandThumb\", \"x\": [4.180188077436102, 4.180188077436102]}, {\"y\": [28.51791996585401, 31.890551458895484], \"z\": [3.1475663614972325, 2.565685462777309], \"marker\": {\"color\": \"blue\", \"size\": 2}, \"line\": {\"color\": \"black\", \"width\": 5}, \"type\": \"scatter3d\", \"name\": \"L_Wrist_End\", \"x\": [2.2342331879410446, 4.180188077436102]}, {\"y\": [50.77829222327945, 43.06442647336804], \"z\": [2.7347959330693374, 1.415546979932866], \"marker\": {\"color\": \"blue\", \"size\": 2}, \"line\": {\"color\": \"black\", \"width\": 5}, \"type\": \"scatter3d\", \"name\": \"RightShoulder\", \"x\": [1.859742032776182, 1.7342374954403255]}, {\"y\": [50.78872878644336, 50.77829222327945], \"z\": [-0.3223395041674868, 2.7347959330693374], \"marker\": {\"color\": \"blue\", \"size\": 2}, \"line\": {\"color\": \"black\", \"width\": 5}, \"type\": \"scatter3d\", \"name\": \"RightArm\", \"x\": [-4.113559368403914, 1.859742032776182]}, {\"y\": [39.89008097087023, 50.78872878644336], \"z\": [-0.026871827602899745, -0.3223395041674868], \"marker\": {\"color\": \"blue\", \"size\": 2}, \"line\": {\"color\": \"black\", \"width\": 5}, \"type\": \"scatter3d\", \"name\": \"RightForeArm\", \"x\": [-3.160947484209375, -4.113559368403914]}, {\"y\": [31.575838110633207, 39.89008097087023], \"z\": [1.7147758730166416, -0.026871827602899745], \"marker\": {\"color\": \"blue\", \"size\": 2}, \"line\": {\"color\": \"black\", \"width\": 5}, \"type\": \"scatter3d\", \"name\": \"RightHand\", \"x\": [-2.503579277779868, -3.160947484209375]}, {\"y\": [31.575838110633207, 31.575838110633207], \"z\": [1.7147758730166416, 1.7147758730166416], \"marker\": {\"color\": \"blue\", \"size\": 2}, \"line\": {\"color\": \"black\", \"width\": 5}, \"type\": \"scatter3d\", \"name\": \"RightHandThumb\", \"x\": [-2.503579277779868, -2.503579277779868]}, {\"y\": [26.668341326013568, 31.575838110633207], \"z\": [3.10692783075299, 1.7147758730166416], \"marker\": {\"color\": \"blue\", \"size\": 2}, \"line\": {\"color\": \"black\", \"width\": 5}, \"type\": \"scatter3d\", \"name\": \"R_Wrist_End\", \"x\": [-0.7513578157441005, -2.503579277779868]}], \"name\": \"frame3\"}, {\"data\": [{\"y\": [32.7976], \"z\": [1.6817], \"marker\": {\"color\": \"red\", \"size\": 4}, \"x\": [1.0709], \"type\": \"scatter3d\", \"name\": \"Hips\"}, {\"y\": [32.64081066126952, 32.7976], \"z\": [2.2156503717808507, 1.6817], \"marker\": {\"color\": \"blue\", \"size\": 2}, \"line\": {\"color\": \"black\", \"width\": 5}, \"type\": \"scatter3d\", \"name\": \"LeftUpLeg\", \"x\": [4.677752273747228, 1.0709]}, {\"y\": [17.04870559349225, 32.64081066126952], \"z\": [2.350165029510556, 2.2156503717808507], \"marker\": {\"color\": \"blue\", \"size\": 2}, \"line\": {\"color\": \"black\", \"width\": 5}, \"type\": \"scatter3d\", \"name\": \"LeftLeg\", \"x\": [6.559325817951713, 4.677752273747228]}, {\"y\": [2.020079109254544, 17.04870559349225], \"z\": [-0.4279794882905512, 2.350165029510556], \"marker\": {\"color\": \"blue\", \"size\": 2}, \"line\": {\"color\": \"black\", \"width\": 5}, \"type\": \"scatter3d\", \"name\": \"LeftFoot\", \"x\": [8.598365691122563, 6.559325817951713]}, {\"y\": [0.8603868821629568, 2.020079109254544], \"z\": [5.37849933652878, -0.4279794882905512], \"marker\": {\"color\": \"blue\", \"size\": 2}, \"line\": {\"color\": \"black\", \"width\": 5}, \"type\": \"scatter3d\", \"name\": \"LeftToeBase\", \"x\": [8.23210787325642, 8.598365691122563]}, {\"y\": [32.954389338730486, 32.7976], \"z\": [1.147749628219149, 1.6817], \"marker\": {\"color\": \"blue\", \"size\": 2}, \"line\": {\"color\": \"black\", \"width\": 5}, \"type\": \"scatter3d\", \"name\": \"RightUpLeg\", \"x\": [-2.5359522737472284, 1.0709]}, {\"y\": [17.275606446256482, 32.954389338730486], \"z\": [1.5310736493488983, 1.147749628219149], \"marker\": {\"color\": \"blue\", \"size\": 2}, \"line\": {\"color\": \"black\", \"width\": 5}, \"type\": \"scatter3d\", \"name\": \"RightLeg\", \"x\": [-3.3731997553734523, -2.5359522737472284]}, {\"y\": [1.9892867033045452, 17.275606446256482], \"z\": [-0.471398169216946, 1.5310736493488983], \"marker\": {\"color\": \"blue\", \"size\": 2}, \"line\": {\"color\": \"black\", \"width\": 5}, \"type\": \"scatter3d\", \"name\": \"RightFoot\", \"x\": [-3.60540634655341, -3.3731997553734523]}, {\"y\": [1.8405386311585485, 1.9892867033045452], \"z\": [5.287613475979997, -0.471398169216946], \"marker\": {\"color\": \"blue\", \"size\": 2}, \"line\": {\"color\": \"black\", \"width\": 5}, \"type\": \"scatter3d\", \"name\": \"RightToeBase\", \"x\": [-5.021699421915589, -3.60540634655341]}, {\"y\": [32.83691400900895, 32.7976], \"z\": [1.6831781956195146, 1.6817], \"marker\": {\"color\": \"blue\", \"size\": 2}, \"line\": {\"color\": \"black\", \"width\": 5}, \"type\": \"scatter3d\", \"name\": \"Spine\", \"x\": [1.0723901454140146, 1.0709]}, {\"y\": [43.06184425238143, 32.83691400900895], \"z\": [1.4139429678294617, 1.6831781956195146], \"marker\": {\"color\": \"blue\", \"size\": 2}, \"line\": {\"color\": \"black\", \"width\": 5}, \"type\": \"scatter3d\", \"name\": \"Spine1\", \"x\": [1.7093845208866112, 1.0723901454140146]}, {\"y\": [50.77288339836477, 43.06184425238143], \"z\": [2.749656879825534, 1.4139429678294617], \"marker\": {\"color\": \"blue\", \"size\": 2}, \"line\": {\"color\": \"black\", \"width\": 5}, \"type\": \"scatter3d\", \"name\": \"Neck\", \"x\": [1.8344350359302752, 1.7093845208866112]}, {\"y\": [57.462370146643664, 50.77288339836477], \"z\": [4.453048970424459, 2.749656879825534], \"marker\": {\"color\": \"blue\", \"size\": 2}, \"line\": {\"color\": \"black\", \"width\": 5}, \"type\": \"scatter3d\", \"name\": \"Head\", \"x\": [2.0751497068294076, 1.8344350359302752]}, {\"y\": [50.77288339836477, 43.06184425238143], \"z\": [2.749656879825534, 1.4139429678294617], \"marker\": {\"color\": \"blue\", \"size\": 2}, \"line\": {\"color\": \"black\", \"width\": 5}, \"type\": \"scatter3d\", \"name\": \"LeftShoulder\", \"x\": [1.8344350359302752, 1.7093845208866112]}, {\"y\": [50.754505965001485, 50.77288339836477], \"z\": [1.9081904982696591, 2.749656879825534], \"marker\": {\"color\": \"blue\", \"size\": 2}, \"line\": {\"color\": \"black\", \"width\": 5}, \"type\": \"scatter3d\", \"name\": \"LeftArm\", \"x\": [8.491620043983923, 1.8344350359302752]}, {\"y\": [40.029349496173495, 50.754505965001485], \"z\": [1.312580161192323, 1.9081904982696591], \"marker\": {\"color\": \"blue\", \"size\": 2}, \"line\": {\"color\": \"black\", \"width\": 5}, \"type\": \"scatter3d\", \"name\": \"LeftForeArm\", \"x\": [6.396014689146382, 8.491620043983923]}, {\"y\": [31.894048982381225, 40.029349496173495], \"z\": [2.6218753971606255, 1.312580161192323], \"marker\": {\"color\": \"blue\", \"size\": 2}, \"line\": {\"color\": \"black\", \"width\": 5}, \"type\": \"scatter3d\", \"name\": \"LeftHand\", \"x\": [4.2292808461786, 6.396014689146382]}, {\"y\": [31.894048982381225, 31.894048982381225], \"z\": [2.6218753971606255, 2.6218753971606255], \"marker\": {\"color\": \"blue\", \"size\": 2}, \"line\": {\"color\": \"black\", \"width\": 5}, \"type\": \"scatter3d\", \"name\": \"LeftHandThumb\", \"x\": [4.2292808461786, 4.2292808461786]}, {\"y\": [28.4691130187444, 31.894048982381225], \"z\": [3.23581129017258, 2.6218753971606255], \"marker\": {\"color\": \"blue\", \"size\": 2}, \"line\": {\"color\": \"black\", \"width\": 5}, \"type\": \"scatter3d\", \"name\": \"L_Wrist_End\", \"x\": [2.3873076204343384, 4.2292808461786]}, {\"y\": [50.77288339836477, 43.06184425238143], \"z\": [2.749656879825534, 1.4139429678294617], \"marker\": {\"color\": \"blue\", \"size\": 2}, \"line\": {\"color\": \"black\", \"width\": 5}, \"type\": \"scatter3d\", \"name\": \"RightShoulder\", \"x\": [1.8344350359302752, 1.7093845208866112]}, {\"y\": [50.77485281521768, 50.77288339836477], \"z\": [-0.29322981475399956, 2.749656879825534], \"marker\": {\"color\": \"blue\", \"size\": 2}, \"line\": {\"color\": \"black\", \"width\": 5}, \"type\": \"scatter3d\", \"name\": \"RightArm\", \"x\": [-4.146146233323417, 1.8344350359302752]}, {\"y\": [39.88523214191154, 50.77485281521768], \"z\": [-0.025003154854290777, -0.29322981475399956], \"marker\": {\"color\": \"blue\", \"size\": 2}, \"line\": {\"color\": \"black\", \"width\": 5}, \"type\": \"scatter3d\", \"name\": \"RightForeArm\", \"x\": [-3.088076855577965, -4.146146233323417]}, {\"y\": [31.581699734512796, 39.88523214191154], \"z\": [1.7334520610871564, -0.025003154854290777], \"marker\": {\"color\": \"blue\", \"size\": 2}, \"line\": {\"color\": \"black\", \"width\": 5}, \"type\": \"scatter3d\", \"name\": \"RightHand\", \"x\": [-2.3455885905480436, -3.088076855577965]}, {\"y\": [31.581699734512796, 31.581699734512796], \"z\": [1.7334520610871564, 1.7334520610871564], \"marker\": {\"color\": \"blue\", \"size\": 2}, \"line\": {\"color\": \"black\", \"width\": 5}, \"type\": \"scatter3d\", \"name\": \"RightHandThumb\", \"x\": [-2.3455885905480436, -2.3455885905480436]}, {\"y\": [26.70363471140844, 31.581699734512796], \"z\": [3.047539929678278, 1.7334520610871564], \"marker\": {\"color\": \"blue\", \"size\": 2}, \"line\": {\"color\": \"black\", \"width\": 5}, \"type\": \"scatter3d\", \"name\": \"R_Wrist_End\", \"x\": [-0.4562642349945627, -2.3455885905480436]}], \"name\": \"frame4\"}, {\"data\": [{\"y\": [32.7976], \"z\": [1.6675], \"marker\": {\"color\": \"red\", \"size\": 4}, \"x\": [1.0522], \"type\": \"scatter3d\", \"name\": \"Hips\"}, {\"y\": [32.64188523619349, 32.7976], \"z\": [2.1899730823962233, 1.6675], \"marker\": {\"color\": \"blue\", \"size\": 2}, \"line\": {\"color\": \"black\", \"width\": 5}, \"type\": \"scatter3d\", \"name\": \"LeftUpLeg\", \"x\": [4.660779223379206, 1.0522]}, {\"y\": [17.05098985080163, 32.64188523619349], \"z\": [2.3581383232887516, 2.1899730823962233], \"marker\": {\"color\": \"blue\", \"size\": 2}, \"line\": {\"color\": \"black\", \"width\": 5}, \"type\": \"scatter3d\", \"name\": \"LeftLeg\", \"x\": [6.549655919599076, 4.660779223379206]}, {\"y\": [2.0249781505794555, 17.05098985080163], \"z\": [-0.43126905707303465, 2.3581383232887516], \"marker\": {\"color\": \"blue\", \"size\": 2}, \"line\": {\"color\": \"black\", \"width\": 5}, \"type\": \"scatter3d\", \"name\": \"LeftFoot\", \"x\": [8.592586026105284, 6.549655919599076]}, {\"y\": [0.8681562443271713, 2.0249781505794555], \"z\": [5.375948109964777, -0.43126905707303465], \"marker\": {\"color\": \"blue\", \"size\": 2}, \"line\": {\"color\": \"black\", \"width\": 5}, \"type\": \"scatter3d\", \"name\": \"LeftToeBase\", \"x\": [8.22896665660447, 8.592586026105284]}, {\"y\": [32.95331476380652, 32.7976], \"z\": [1.1450269176037768, 1.6675], \"marker\": {\"color\": \"blue\", \"size\": 2}, \"line\": {\"color\": \"black\", \"width\": 5}, \"type\": \"scatter3d\", \"name\": \"RightUpLeg\", \"x\": [-2.5563792233792055, 1.0522]}, {\"y\": [17.275450434291386, 32.95331476380652], \"z\": [1.5691496049889497, 1.1450269176037768], \"marker\": {\"color\": \"blue\", \"size\": 2}, \"line\": {\"color\": \"black\", \"width\": 5}, \"type\": \"scatter3d\", \"name\": \"RightLeg\", \"x\": [-3.391150839668513, -2.5563792233792055]}, {\"y\": [1.9948947574593028, 17.275450434291386], \"z\": [-0.4785228482801702, 1.5691496049889497], \"marker\": {\"color\": \"blue\", \"size\": 2}, \"line\": {\"color\": \"black\", \"width\": 5}, \"type\": \"scatter3d\", \"name\": \"RightFoot\", \"x\": [-3.608038599253437, -3.391150839668513]}, {\"y\": [1.8593929084722312, 1.9948947574593028], \"z\": [5.2813349100789555, -0.4785228482801702], \"marker\": {\"color\": \"blue\", \"size\": 2}, \"line\": {\"color\": \"black\", \"width\": 5}, \"type\": \"scatter3d\", \"name\": \"RightToeBase\", \"x\": [-5.022218589987033, -3.608038599253437]}, {\"y\": [32.83691459927587, 32.7976], \"z\": [1.6689688441414445, 1.6675], \"marker\": {\"color\": \"blue\", \"size\": 2}, \"line\": {\"color\": \"black\", \"width\": 5}, \"type\": \"scatter3d\", \"name\": \"Spine\", \"x\": [1.0536838061416414, 1.0522]}, {\"y\": [43.06247474812993, 32.83691459927587], \"z\": [1.4118045178985617, 1.6689688441414445], \"marker\": {\"color\": \"blue\", \"size\": 2}, \"line\": {\"color\": \"black\", \"width\": 5}, \"type\": \"scatter3d\", \"name\": \"Spine1\", \"x\": [1.6855335316111195, 1.0536838061416414]}, {\"y\": [50.76962867881832, 43.06247474812993], \"z\": [2.7700359524718645, 1.4118045178985617], \"marker\": {\"color\": \"blue\", \"size\": 2}, \"line\": {\"color\": \"black\", \"width\": 5}, \"type\": \"scatter3d\", \"name\": \"Neck\", \"x\": [1.8075157258503292, 1.6855335316111195]}, {\"y\": [57.45408242173955, 50.76962867881832], \"z\": [4.489346632749888, 2.7700359524718645], \"marker\": {\"color\": \"blue\", \"size\": 2}, \"line\": {\"color\": \"black\", \"width\": 5}, \"type\": \"scatter3d\", \"name\": \"Head\", \"x\": [2.0735421642512493, 1.8075157258503292]}, {\"y\": [50.76962867881832, 43.06247474812993], \"z\": [2.7700359524718645, 1.4118045178985617], \"marker\": {\"color\": \"blue\", \"size\": 2}, \"line\": {\"color\": \"black\", \"width\": 5}, \"type\": \"scatter3d\", \"name\": \"LeftShoulder\", \"x\": [1.8075157258503292, 1.6855335316111195]}, {\"y\": [50.748334792740415, 50.76962867881832], \"z\": [1.9044807430779924, 2.7700359524718645], \"marker\": {\"color\": \"blue\", \"size\": 2}, \"line\": {\"color\": \"black\", \"width\": 5}, \"type\": \"scatter3d\", \"name\": \"LeftArm\", \"x\": [8.461602919651357, 1.8075157258503292]}, {\"y\": [40.00863489967631, 50.748334792740415], \"z\": [1.2744511903071931, 1.9044807430779924], \"marker\": {\"color\": \"blue\", \"size\": 2}, \"line\": {\"color\": \"black\", \"width\": 5}, \"type\": \"scatter3d\", \"name\": \"LeftForeArm\", \"x\": [6.452323514676934, 8.461602919651357]}, {\"y\": [31.88289626147405, 40.00863489967631], \"z\": [2.6764741632785682, 1.2744511903071931], \"marker\": {\"color\": \"blue\", \"size\": 2}, \"line\": {\"color\": \"black\", \"width\": 5}, \"type\": \"scatter3d\", \"name\": \"LeftHand\", \"x\": [4.3078405518657625, 6.452323514676934]}, {\"y\": [31.88289626147405, 31.88289626147405], \"z\": [2.6764741632785682, 2.6764741632785682], \"marker\": {\"color\": \"blue\", \"size\": 2}, \"line\": {\"color\": \"black\", \"width\": 5}, \"type\": \"scatter3d\", \"name\": \"LeftHandThumb\", \"x\": [4.3078405518657625, 4.3078405518657625]}, {\"y\": [28.436754238382008, 31.88289626147405], \"z\": [3.3220493098417063, 2.6764741632785682], \"marker\": {\"color\": \"blue\", \"size\": 2}, \"line\": {\"color\": \"black\", \"width\": 5}, \"type\": \"scatter3d\", \"name\": \"L_Wrist_End\", \"x\": [2.5169449974240505, 4.3078405518657625]}, {\"y\": [50.76962867881832, 43.06247474812993], \"z\": [2.7700359524718645, 1.4118045178985617], \"marker\": {\"color\": \"blue\", \"size\": 2}, \"line\": {\"color\": \"black\", \"width\": 5}, \"type\": \"scatter3d\", \"name\": \"RightShoulder\", \"x\": [1.8075157258503292, 1.6855335316111195]}, {\"y\": [50.76272101847201, 50.76962867881832], \"z\": [-0.26315321149733784, 2.7700359524718645], \"marker\": {\"color\": \"blue\", \"size\": 2}, \"line\": {\"color\": \"black\", \"width\": 5}, \"type\": \"scatter3d\", \"name\": \"RightArm\", \"x\": [-4.1779860419723445, 1.8075157258503292]}, {\"y\": [39.87649066457447, 50.76272101847201], \"z\": [-0.027670377048195804, -0.26315321149733784], \"marker\": {\"color\": \"blue\", \"size\": 2}, \"line\": {\"color\": \"black\", \"width\": 5}, \"type\": \"scatter3d\", \"name\": \"RightForeArm\", \"x\": [-3.078062738164441, -4.1779860419723445]}, {\"y\": [31.575420713944336, 39.87649066457447], \"z\": [1.7305698427062552, -0.027670377048195804], \"marker\": {\"color\": \"blue\", \"size\": 2}, \"line\": {\"color\": \"black\", \"width\": 5}, \"type\": \"scatter3d\", \"name\": \"RightHand\", \"x\": [-2.308041299967248, -3.078062738164441]}, {\"y\": [31.575420713944336, 31.575420713944336], \"z\": [1.7305698427062552, 1.7305698427062552], \"marker\": {\"color\": \"blue\", \"size\": 2}, \"line\": {\"color\": \"black\", \"width\": 5}, \"type\": \"scatter3d\", \"name\": \"RightHandThumb\", \"x\": [-2.308041299967248, -2.308041299967248]}, {\"y\": [26.70219443191654, 31.575420713944336], \"z\": [3.008777733792295, 1.7305698427062552], \"marker\": {\"color\": \"blue\", \"size\": 2}, \"line\": {\"color\": \"black\", \"width\": 5}, \"type\": \"scatter3d\", \"name\": \"R_Wrist_End\", \"x\": [-0.3819722441390532, -2.308041299967248]}], \"name\": \"frame5\"}]);\n",
       "                        }).then(function(){\n",
       "                            Plotly.animate('e6048ae6-8b38-46d8-9fa8-8f8c2b280e26', null);\n",
       "                        }).then(function(){\n",
       "                            \n",
       "var gd = document.getElementById('e6048ae6-8b38-46d8-9fa8-8f8c2b280e26');\n",
       "var x = new MutationObserver(function (mutations, observer) {{\n",
       "        var display = window.getComputedStyle(gd).display;\n",
       "        if (!display || display === 'none') {{\n",
       "            console.log([gd, 'removed!']);\n",
       "            Plotly.purge(gd);\n",
       "            observer.disconnect();\n",
       "        }}\n",
       "}});\n",
       "\n",
       "// Listen for the removal of the full notebook cells\n",
       "var notebookContainer = gd.closest('#notebook-container');\n",
       "if (notebookContainer) {{\n",
       "    x.observe(notebookContainer, {childList: true});\n",
       "}}\n",
       "\n",
       "// Listen for the clearing of the current output cell\n",
       "var outputEl = gd.closest('.output');\n",
       "if (outputEl) {{\n",
       "    x.observe(outputEl, {childList: true});\n",
       "}}\n",
       "\n",
       "                        })\n",
       "                };\n",
       "                });\n",
       "            </script>\n",
       "        </div>"
      ]
     },
     "metadata": {},
     "output_type": "display_data"
    }
   ],
   "source": [
    "reader.show_data(5)"
   ]
  },
  {
   "cell_type": "code",
   "execution_count": 8,
   "metadata": {},
   "outputs": [],
   "source": [
    "output_json_path = './Output/human_points.json'\n",
    "output_npy_path = './Output/human_points.npy'\n",
    "human_nodes_lst = trans_joints_lst(bvh_joints_lst,\"bvh\")\n",
    "save_data(human_nodes_lst,output_json_path,output_npy_path)"
   ]
  },
  {
   "cell_type": "code",
   "execution_count": 9,
   "metadata": {},
   "outputs": [
    {
     "name": "stdout",
     "output_type": "stream",
     "text": [
      "2575\n",
      "17\n"
     ]
    },
    {
     "data": {
      "text/html": [
       "        <script type=\"text/javascript\">\n",
       "        window.PlotlyConfig = {MathJaxConfig: 'local'};\n",
       "        if (window.MathJax) {MathJax.Hub.Config({SVG: {font: \"STIX-Web\"}});}\n",
       "        if (typeof require !== 'undefined') {\n",
       "        require.undef(\"plotly\");\n",
       "        requirejs.config({\n",
       "            paths: {\n",
       "                'plotly': ['https://cdn.plot.ly/plotly-latest.min']\n",
       "            }\n",
       "        });\n",
       "        require(['plotly'], function(Plotly) {\n",
       "            window._Plotly = Plotly;\n",
       "        });\n",
       "        }\n",
       "        </script>\n",
       "        "
      ]
     },
     "metadata": {},
     "output_type": "display_data"
    },
    {
     "data": {
      "application/vnd.plotly.v1+json": {
       "config": {
        "linkText": "Export to plot.ly",
        "plotlyServerURL": "https://plot.ly",
        "responsive": true,
        "showLink": false
       },
       "data": [
        {
         "marker": {
          "color": "red",
          "size": 4
         },
         "name": "Hips",
         "type": "scatter3d",
         "uid": "eb241c21-e9a7-46fa-aac1-b90239c97b87",
         "x": [
          1.1473
         ],
         "y": [
          32.8029
         ],
         "z": [
          1.7158
         ]
        },
        {
         "line": {
          "color": "black",
          "width": 5
         },
         "marker": {
          "color": "blue",
          "size": 2
         },
         "name": "RightUpLeg",
         "type": "scatter3d",
         "uid": "80065726-de00-4ee5-a16d-69f6d10126a4",
         "x": [
          -2.4553097248724804,
          1.1473
         ],
         "y": [
          32.961058055208376,
          32.8029
         ],
         "z": [
          1.1543212197002157,
          1.7158
         ]
        },
        {
         "line": {
          "color": "black",
          "width": 5
         },
         "marker": {
          "color": "blue",
          "size": 2
         },
         "name": "RightLeg",
         "type": "scatter3d",
         "uid": "4022046e-9b41-473f-a134-fab105b00b53",
         "x": [
          -3.317346416252013,
          -2.4553097248724804
         ],
         "y": [
          17.281216749943873,
          32.961058055208376
         ],
         "z": [
          1.4219460026267434,
          1.1543212197002157
         ]
        },
        {
         "line": {
          "color": "black",
          "width": 5
         },
         "marker": {
          "color": "blue",
          "size": 2
         },
         "name": "RightFoot",
         "type": "scatter3d",
         "uid": "5a7590d3-7876-4a59-abc6-b68894589226",
         "x": [
          -3.6020169067643693,
          -3.317346416252013
         ],
         "y": [
          1.9807211453624838,
          17.281216749943873
         ],
         "z": [
          -0.4619811549133037,
          1.4219460026267434
         ]
        },
        {
         "line": {
          "color": "black",
          "width": 5
         },
         "marker": {
          "color": "blue",
          "size": 2
         },
         "name": "LeftUpLeg",
         "type": "scatter3d",
         "uid": "40b5cd95-f55a-4709-8ae6-20354862b8aa",
         "x": [
          4.749909724872481,
          1.1473
         ],
         "y": [
          32.644741944791626,
          32.8029
         ],
         "z": [
          2.2772787802997843,
          1.7158
         ]
        },
        {
         "line": {
          "color": "black",
          "width": 5
         },
         "marker": {
          "color": "blue",
          "size": 2
         },
         "name": "LeftLeg",
         "type": "scatter3d",
         "uid": "0ea8ee94-6e8a-4135-a9b7-b81d615331b3",
         "x": [
          6.606630913890318,
          4.749909724872481
         ],
         "y": [
          17.04925961054071,
          32.644741944791626
         ],
         "z": [
          2.3525836826624733,
          2.2772787802997843
         ]
        },
        {
         "line": {
          "color": "black",
          "width": 5
         },
         "marker": {
          "color": "blue",
          "size": 2
         },
         "name": "LeftFoot",
         "type": "scatter3d",
         "uid": "191a6e1d-66ab-4c6d-bda8-7adf49786c94",
         "x": [
          8.61853891441486,
          6.606630913890318
         ],
         "y": [
          2.0170691799566516,
          17.04925961054071
         ],
         "z": [
          -0.42606016370979694,
          2.3525836826624733
         ]
        },
        {
         "line": {
          "color": "black",
          "width": 5
         },
         "marker": {
          "color": "blue",
          "size": 2
         },
         "name": "Spine",
         "type": "scatter3d",
         "uid": "996a0fd9-d357-44f4-8cf3-c97974d06473",
         "x": [
          1.7822016443188067,
          1.1473
         ],
         "y": [
          43.06689634732499,
          32.8029
         ],
         "z": [
          1.4308600484688139,
          1.7158
         ]
        },
        {
         "line": {
          "color": "black",
          "width": 5
         },
         "marker": {
          "color": "blue",
          "size": 2
         },
         "name": "Spine1",
         "type": "scatter3d",
         "uid": "e85cc4b0-15e7-4acc-bf9e-e19b41850786",
         "x": [
          1.9012811972892745,
          1.7822016443188067
         ],
         "y": [
          50.78664217953173,
          43.06689634732499
         ],
         "z": [
          2.715865240322527,
          1.4308600484688139
         ]
        },
        {
         "line": {
          "color": "black",
          "width": 5
         },
         "marker": {
          "color": "blue",
          "size": 2
         },
         "name": "Neck",
         "type": "scatter3d",
         "uid": "56902a53-02be-435b-b1c8-7fba03bad9fd",
         "x": [
          1.9871625628298792,
          1.9012811972892745
         ],
         "y": [
          54.14028522684508,
          50.78664217953173
         ],
         "z": [
          3.536159689215559,
          2.715865240322527
         ]
        },
        {
         "line": {
          "color": "black",
          "width": 5
         },
         "marker": {
          "color": "blue",
          "size": 2
         },
         "name": "Head",
         "type": "scatter3d",
         "uid": "2ce55889-6a2d-4933-bda5-aad005af78e6",
         "x": [
          2.0730439283704842,
          1.9871625628298792
         ],
         "y": [
          57.49392827415843,
          54.14028522684508
         ],
         "z": [
          4.356454138108591,
          3.536159689215559
         ]
        },
        {
         "line": {
          "color": "black",
          "width": 5
         },
         "marker": {
          "color": "blue",
          "size": 2
         },
         "name": "LeftArm",
         "type": "scatter3d",
         "uid": "d52ddc4c-a4df-4807-8754-809a5f0a6d64",
         "x": [
          8.56457563485153,
          1.9012811972892745
         ],
         "y": [
          50.74687247107408,
          50.78664217953173
         ],
         "z": [
          1.925016808926793,
          2.715865240322527
         ]
        },
        {
         "line": {
          "color": "black",
          "width": 5
         },
         "marker": {
          "color": "blue",
          "size": 2
         },
         "name": "LeftForeArm",
         "type": "scatter3d",
         "uid": "4eaa910d-1903-4185-aed4-bdc736530364",
         "x": [
          6.45208639218659,
          8.56457563485153
         ],
         "y": [
          40.0194044523469,
          50.74687247107408
         ],
         "z": [
          1.441163665389917,
          1.925016808926793
         ]
        },
        {
         "line": {
          "color": "black",
          "width": 5
         },
         "marker": {
          "color": "blue",
          "size": 2
         },
         "name": "LeftHand",
         "type": "scatter3d",
         "uid": "ab606054-a1d3-451a-8a4f-4aa64c7690ce",
         "x": [
          4.381716568546702,
          6.45208639218659
         ],
         "y": [
          31.821445740722794,
          40.0194044523469
         ],
         "z": [
          2.4895651947515756,
          1.441163665389917
         ]
        },
        {
         "line": {
          "color": "black",
          "width": 5
         },
         "marker": {
          "color": "blue",
          "size": 2
         },
         "name": "RightArm",
         "type": "scatter3d",
         "uid": "ec386a3b-05cf-4abf-96bb-1da0d7da2014",
         "x": [
          -4.047415969931223,
          1.9012811972892745
         ],
         "y": [
          50.80279455624644,
          50.78664217953173
         ],
         "z": [
          -0.3888500036618989,
          2.715865240322527
         ]
        },
        {
         "line": {
          "color": "black",
          "width": 5
         },
         "marker": {
          "color": "blue",
          "size": 2
         },
         "name": "RightForeArm",
         "type": "scatter3d",
         "uid": "3bcc8a12-0917-4225-9e56-e42780aaa151",
         "x": [
          -3.434638859090344,
          -4.047415969931223
         ],
         "y": [
          39.88168557286997,
          50.80279455624644
         ],
         "z": [
          -0.029437227952326728,
          -0.3888500036618989
         ]
        },
        {
         "line": {
          "color": "black",
          "width": 5
         },
         "marker": {
          "color": "blue",
          "size": 2
         },
         "name": "RightHand",
         "type": "scatter3d",
         "uid": "d5137329-dcae-4441-ab41-12eb13c0e697",
         "x": [
          -3.078544963894704,
          -3.434638859090344
         ],
         "y": [
          31.550140509372742,
          39.88168557286997
         ],
         "z": [
          1.7171760674337568,
          -0.029437227952326728
         ]
        }
       ],
       "frames": [
        {
         "data": [
          {
           "marker": {
            "color": "red",
            "size": 4
           },
           "name": "Hips",
           "type": "scatter3d",
           "x": [
            1.1473
           ],
           "y": [
            32.8029
           ],
           "z": [
            1.7158
           ]
          },
          {
           "line": {
            "color": "black",
            "width": 5
           },
           "marker": {
            "color": "blue",
            "size": 2
           },
           "name": "RightUpLeg",
           "type": "scatter3d",
           "x": [
            -2.4553097248724804,
            1.1473
           ],
           "y": [
            32.961058055208376,
            32.8029
           ],
           "z": [
            1.1543212197002157,
            1.7158
           ]
          },
          {
           "line": {
            "color": "black",
            "width": 5
           },
           "marker": {
            "color": "blue",
            "size": 2
           },
           "name": "RightLeg",
           "type": "scatter3d",
           "x": [
            -3.317346416252013,
            -2.4553097248724804
           ],
           "y": [
            17.281216749943873,
            32.961058055208376
           ],
           "z": [
            1.4219460026267434,
            1.1543212197002157
           ]
          },
          {
           "line": {
            "color": "black",
            "width": 5
           },
           "marker": {
            "color": "blue",
            "size": 2
           },
           "name": "RightFoot",
           "type": "scatter3d",
           "x": [
            -3.6020169067643693,
            -3.317346416252013
           ],
           "y": [
            1.9807211453624838,
            17.281216749943873
           ],
           "z": [
            -0.4619811549133037,
            1.4219460026267434
           ]
          },
          {
           "line": {
            "color": "black",
            "width": 5
           },
           "marker": {
            "color": "blue",
            "size": 2
           },
           "name": "LeftUpLeg",
           "type": "scatter3d",
           "x": [
            4.749909724872481,
            1.1473
           ],
           "y": [
            32.644741944791626,
            32.8029
           ],
           "z": [
            2.2772787802997843,
            1.7158
           ]
          },
          {
           "line": {
            "color": "black",
            "width": 5
           },
           "marker": {
            "color": "blue",
            "size": 2
           },
           "name": "LeftLeg",
           "type": "scatter3d",
           "x": [
            6.606630913890318,
            4.749909724872481
           ],
           "y": [
            17.04925961054071,
            32.644741944791626
           ],
           "z": [
            2.3525836826624733,
            2.2772787802997843
           ]
          },
          {
           "line": {
            "color": "black",
            "width": 5
           },
           "marker": {
            "color": "blue",
            "size": 2
           },
           "name": "LeftFoot",
           "type": "scatter3d",
           "x": [
            8.61853891441486,
            6.606630913890318
           ],
           "y": [
            2.0170691799566516,
            17.04925961054071
           ],
           "z": [
            -0.42606016370979694,
            2.3525836826624733
           ]
          },
          {
           "line": {
            "color": "black",
            "width": 5
           },
           "marker": {
            "color": "blue",
            "size": 2
           },
           "name": "Spine",
           "type": "scatter3d",
           "x": [
            1.7822016443188067,
            1.1473
           ],
           "y": [
            43.06689634732499,
            32.8029
           ],
           "z": [
            1.4308600484688139,
            1.7158
           ]
          },
          {
           "line": {
            "color": "black",
            "width": 5
           },
           "marker": {
            "color": "blue",
            "size": 2
           },
           "name": "Spine1",
           "type": "scatter3d",
           "x": [
            1.9012811972892745,
            1.7822016443188067
           ],
           "y": [
            50.78664217953173,
            43.06689634732499
           ],
           "z": [
            2.715865240322527,
            1.4308600484688139
           ]
          },
          {
           "line": {
            "color": "black",
            "width": 5
           },
           "marker": {
            "color": "blue",
            "size": 2
           },
           "name": "Neck",
           "type": "scatter3d",
           "x": [
            1.9871625628298792,
            1.9012811972892745
           ],
           "y": [
            54.14028522684508,
            50.78664217953173
           ],
           "z": [
            3.536159689215559,
            2.715865240322527
           ]
          },
          {
           "line": {
            "color": "black",
            "width": 5
           },
           "marker": {
            "color": "blue",
            "size": 2
           },
           "name": "Head",
           "type": "scatter3d",
           "x": [
            2.0730439283704842,
            1.9871625628298792
           ],
           "y": [
            57.49392827415843,
            54.14028522684508
           ],
           "z": [
            4.356454138108591,
            3.536159689215559
           ]
          },
          {
           "line": {
            "color": "black",
            "width": 5
           },
           "marker": {
            "color": "blue",
            "size": 2
           },
           "name": "LeftArm",
           "type": "scatter3d",
           "x": [
            8.56457563485153,
            1.9012811972892745
           ],
           "y": [
            50.74687247107408,
            50.78664217953173
           ],
           "z": [
            1.925016808926793,
            2.715865240322527
           ]
          },
          {
           "line": {
            "color": "black",
            "width": 5
           },
           "marker": {
            "color": "blue",
            "size": 2
           },
           "name": "LeftForeArm",
           "type": "scatter3d",
           "x": [
            6.45208639218659,
            8.56457563485153
           ],
           "y": [
            40.0194044523469,
            50.74687247107408
           ],
           "z": [
            1.441163665389917,
            1.925016808926793
           ]
          },
          {
           "line": {
            "color": "black",
            "width": 5
           },
           "marker": {
            "color": "blue",
            "size": 2
           },
           "name": "LeftHand",
           "type": "scatter3d",
           "x": [
            4.381716568546702,
            6.45208639218659
           ],
           "y": [
            31.821445740722794,
            40.0194044523469
           ],
           "z": [
            2.4895651947515756,
            1.441163665389917
           ]
          },
          {
           "line": {
            "color": "black",
            "width": 5
           },
           "marker": {
            "color": "blue",
            "size": 2
           },
           "name": "RightArm",
           "type": "scatter3d",
           "x": [
            -4.047415969931223,
            1.9012811972892745
           ],
           "y": [
            50.80279455624644,
            50.78664217953173
           ],
           "z": [
            -0.3888500036618989,
            2.715865240322527
           ]
          },
          {
           "line": {
            "color": "black",
            "width": 5
           },
           "marker": {
            "color": "blue",
            "size": 2
           },
           "name": "RightForeArm",
           "type": "scatter3d",
           "x": [
            -3.434638859090344,
            -4.047415969931223
           ],
           "y": [
            39.88168557286997,
            50.80279455624644
           ],
           "z": [
            -0.029437227952326728,
            -0.3888500036618989
           ]
          },
          {
           "line": {
            "color": "black",
            "width": 5
           },
           "marker": {
            "color": "blue",
            "size": 2
           },
           "name": "RightHand",
           "type": "scatter3d",
           "x": [
            -3.078544963894704,
            -3.434638859090344
           ],
           "y": [
            31.550140509372742,
            39.88168557286997
           ],
           "z": [
            1.7171760674337568,
            -0.029437227952326728
           ]
          }
         ],
         "name": "frame1"
        },
        {
         "data": [
          {
           "marker": {
            "color": "red",
            "size": 4
           },
           "name": "Hips",
           "type": "scatter3d",
           "x": [
            1.1201
           ],
           "y": [
            32.8027
           ],
           "z": [
            1.7049
           ]
          },
          {
           "line": {
            "color": "black",
            "width": 5
           },
           "marker": {
            "color": "blue",
            "size": 2
           },
           "name": "RightUpLeg",
           "type": "scatter3d",
           "x": [
            -2.483697122288685,
            1.1201
           ],
           "y": [
            32.960255797718936,
            32.8027
           ],
           "z": [
            1.1509219382602418,
            1.7049
           ]
          },
          {
           "line": {
            "color": "black",
            "width": 5
           },
           "marker": {
            "color": "blue",
            "size": 2
           },
           "name": "RightLeg",
           "type": "scatter3d",
           "x": [
            -3.337038413580888,
            -2.483697122288685
           ],
           "y": [
            17.28070917198334,
            32.960255797718936
           ],
           "z": [
            1.460405204300822,
            1.1509219382602418
           ]
          },
          {
           "line": {
            "color": "black",
            "width": 5
           },
           "marker": {
            "color": "blue",
            "size": 2
           },
           "name": "RightFoot",
           "type": "scatter3d",
           "x": [
            -3.602542025845944,
            -3.337038413580888
           ],
           "y": [
            1.9849740642457867,
            17.28070917198334
           ],
           "z": [
            -0.46453113612684294,
            1.460405204300822
           ]
          },
          {
           "line": {
            "color": "black",
            "width": 5
           },
           "marker": {
            "color": "blue",
            "size": 2
           },
           "name": "LeftUpLeg",
           "type": "scatter3d",
           "x": [
            4.723897122288685,
            1.1201
           ],
           "y": [
            32.64514420228107,
            32.8027
           ],
           "z": [
            2.2588780617397584,
            1.7049
           ]
          },
          {
           "line": {
            "color": "black",
            "width": 5
           },
           "marker": {
            "color": "blue",
            "size": 2
           },
           "name": "LeftLeg",
           "type": "scatter3d",
           "x": [
            6.5914763755739685,
            4.723897122288685
           ],
           "y": [
            17.051026499983,
            32.64514420228107
           ],
           "z": [
            2.3471642983360326,
            2.2588780617397584
           ]
          },
          {
           "line": {
            "color": "black",
            "width": 5
           },
           "marker": {
            "color": "blue",
            "size": 2
           },
           "name": "LeftFoot",
           "type": "scatter3d",
           "x": [
            8.61545946491552,
            6.5914763755739685
           ],
           "y": [
            2.019356590980683,
            17.051026499983
           ],
           "z": [
            -0.42551973879363514,
            2.3471642983360326
           ]
          },
          {
           "line": {
            "color": "black",
            "width": 5
           },
           "marker": {
            "color": "blue",
            "size": 2
           },
           "name": "Spine",
           "type": "scatter3d",
           "x": [
            1.757463167471876,
            1.1201
           ],
           "y": [
            43.06669025690425,
            32.8027
           ],
           "z": [
            1.4251994369966678,
            1.7049
           ]
          },
          {
           "line": {
            "color": "black",
            "width": 5
           },
           "marker": {
            "color": "blue",
            "size": 2
           },
           "name": "Spine1",
           "type": "scatter3d",
           "x": [
            1.880635149187885,
            1.757463167471876
           ],
           "y": [
            50.78370711445857,
            43.06669025690425
           ],
           "z": [
            2.7261119936439724,
            1.4251994369966678
           ]
          },
          {
           "line": {
            "color": "black",
            "width": 5
           },
           "marker": {
            "color": "blue",
            "size": 2
           },
           "name": "Neck",
           "type": "scatter3d",
           "x": [
            1.9818190981442394,
            1.880635149187885
           ],
           "y": [
            54.13503639409535,
            50.78370711445857
           ],
           "z": [
            3.554081889562786,
            2.7261119936439724
           ]
          },
          {
           "line": {
            "color": "black",
            "width": 5
           },
           "marker": {
            "color": "blue",
            "size": 2
           },
           "name": "Head",
           "type": "scatter3d",
           "x": [
            2.083003047100594,
            1.9818190981442394
           ],
           "y": [
            57.48636567373214,
            54.13503639409535
           ],
           "z": [
            4.3820517854816,
            3.554081889562786
           ]
          },
          {
           "line": {
            "color": "black",
            "width": 5
           },
           "marker": {
            "color": "blue",
            "size": 2
           },
           "name": "LeftArm",
           "type": "scatter3d",
           "x": [
            8.542604845342826,
            1.880635149187885
           ],
           "y": [
            50.75090787075674,
            50.78370711445857
           ],
           "z": [
            1.9238653919523134,
            2.7261119936439724
           ]
          },
          {
           "line": {
            "color": "black",
            "width": 5
           },
           "marker": {
            "color": "blue",
            "size": 2
           },
           "name": "LeftForeArm",
           "type": "scatter3d",
           "x": [
            6.391150378639745,
            8.542604845342826
           ],
           "y": [
            40.03412723942958,
            50.75090787075674
           ],
           "z": [
            1.3787495002243175,
            1.9238653919523134
           ]
          },
          {
           "line": {
            "color": "black",
            "width": 5
           },
           "marker": {
            "color": "blue",
            "size": 2
           },
           "name": "LeftHand",
           "type": "scatter3d",
           "x": [
            4.242103994364173,
            6.391150378639745
           ],
           "y": [
            31.868811188620864,
            40.03412723942958
           ],
           "z": [
            2.519502514481857,
            1.3787495002243175
           ]
          },
          {
           "line": {
            "color": "black",
            "width": 5
           },
           "marker": {
            "color": "blue",
            "size": 2
           },
           "name": "RightArm",
           "type": "scatter3d",
           "x": [
            -4.081150884100622,
            1.880635149187885
           ],
           "y": [
            50.796117261853155,
            50.78370711445857
           ],
           "z": [
            -0.3534121439993272,
            2.7261119936439724
           ]
          },
          {
           "line": {
            "color": "black",
            "width": 5
           },
           "marker": {
            "color": "blue",
            "size": 2
           },
           "name": "RightForeArm",
           "type": "scatter3d",
           "x": [
            -3.290985783227284,
            -4.081150884100622
           ],
           "y": [
            39.88481010517269,
            50.796117261853155
           ],
           "z": [
            -0.04631280561595713,
            -0.3534121439993272
           ]
          },
          {
           "line": {
            "color": "black",
            "width": 5
           },
           "marker": {
            "color": "blue",
            "size": 2
           },
           "name": "RightHand",
           "type": "scatter3d",
           "x": [
            -2.7789757441130614,
            -3.290985783227284
           ],
           "y": [
            31.564066190043583,
            39.88481010517269
           ],
           "z": [
            1.712996840122439,
            -0.04631280561595713
           ]
          }
         ],
         "name": "frame2"
        },
        {
         "data": [
          {
           "marker": {
            "color": "red",
            "size": 4
           },
           "name": "Hips",
           "type": "scatter3d",
           "x": [
            1.0947
           ],
           "y": [
            32.8004
           ],
           "z": [
            1.689
           ]
          },
          {
           "line": {
            "color": "black",
            "width": 5
           },
           "marker": {
            "color": "blue",
            "size": 2
           },
           "name": "RightUpLeg",
           "type": "scatter3d",
           "x": [
            -2.511081878883979,
            1.0947
           ],
           "y": [
            32.95805991360067,
            32.8004
           ],
           "z": [
            1.1481214420451193,
            1.689
           ]
          },
          {
           "line": {
            "color": "black",
            "width": 5
           },
           "marker": {
            "color": "blue",
            "size": 2
           },
           "name": "RightLeg",
           "type": "scatter3d",
           "x": [
            -3.3589689207926825,
            -2.511081878883979
           ],
           "y": [
            17.279176670104302,
            32.95805991360067
           ],
           "z": [
            1.5028910024249422,
            1.1481214420451193
           ]
          },
          {
           "line": {
            "color": "black",
            "width": 5
           },
           "marker": {
            "color": "blue",
            "size": 2
           },
           "name": "RightFoot",
           "type": "scatter3d",
           "x": [
            -3.6083681261141236,
            -3.3589689207926825
           ],
           "y": [
            1.989122489793644,
            17.279176670104302
           ],
           "z": [
            -0.4687650954911142,
            1.5028910024249422
           ]
          },
          {
           "line": {
            "color": "black",
            "width": 5
           },
           "marker": {
            "color": "blue",
            "size": 2
           },
           "name": "LeftUpLeg",
           "type": "scatter3d",
           "x": [
            4.700481878883979,
            1.0947
           ],
           "y": [
            32.642740086399336,
            32.8004
           ],
           "z": [
            2.2298785579548808,
            1.689
           ]
          },
          {
           "line": {
            "color": "black",
            "width": 5
           },
           "marker": {
            "color": "blue",
            "size": 2
           },
           "name": "LeftLeg",
           "type": "scatter3d",
           "x": [
            6.575186563435641,
            4.700481878883979
           ],
           "y": [
            17.049706010565316,
            32.642740086399336
           ],
           "z": [
            2.352043592228537,
            2.2298785579548808
           ]
          },
          {
           "line": {
            "color": "black",
            "width": 5
           },
           "marker": {
            "color": "blue",
            "size": 2
           },
           "name": "LeftFoot",
           "type": "scatter3d",
           "x": [
            8.604910157053103,
            6.575186563435641
           ],
           "y": [
            2.019813760848683,
            17.049706010565316
           ],
           "z": [
            -0.42607549526941124,
            2.352043592228537
           ]
          },
          {
           "line": {
            "color": "black",
            "width": 5
           },
           "marker": {
            "color": "blue",
            "size": 2
           },
           "name": "Spine",
           "type": "scatter3d",
           "x": [
            1.7342374954403255,
            1.0947
           ],
           "y": [
            43.06442647336804,
            32.8004
           ],
           "z": [
            1.415546979932866,
            1.689
           ]
          },
          {
           "line": {
            "color": "black",
            "width": 5
           },
           "marker": {
            "color": "blue",
            "size": 2
           },
           "name": "Spine1",
           "type": "scatter3d",
           "x": [
            1.859742032776182,
            1.7342374954403255
           ],
           "y": [
            50.77829222327945,
            43.06442647336804
           ],
           "z": [
            2.7347959330693374,
            1.415546979932866
           ]
          },
          {
           "line": {
            "color": "black",
            "width": 5
           },
           "marker": {
            "color": "blue",
            "size": 2
           },
           "name": "Neck",
           "type": "scatter3d",
           "x": [
            1.9701400926907755,
            1.859742032776182
           ],
           "y": [
            54.12643011495207,
            50.77829222327945
           ],
           "z": [
            3.57441799527237,
            2.7347959330693374
           ]
          },
          {
           "line": {
            "color": "black",
            "width": 5
           },
           "marker": {
            "color": "blue",
            "size": 2
           },
           "name": "Head",
           "type": "scatter3d",
           "x": [
            2.080538152605369,
            1.9701400926907755
           ],
           "y": [
            57.4745680066247,
            54.12643011495207
           ],
           "z": [
            4.414040057475402,
            3.57441799527237
           ]
          },
          {
           "line": {
            "color": "black",
            "width": 5
           },
           "marker": {
            "color": "blue",
            "size": 2
           },
           "name": "LeftArm",
           "type": "scatter3d",
           "x": [
            8.518977577139413,
            1.859742032776182
           ],
           "y": [
            50.74999312874063,
            50.77829222327945
           ],
           "z": [
            1.9099948911582525,
            2.7347959330693374
           ]
          },
          {
           "line": {
            "color": "black",
            "width": 5
           },
           "marker": {
            "color": "blue",
            "size": 2
           },
           "name": "LeftForeArm",
           "type": "scatter3d",
           "x": [
            6.360548704061199,
            8.518977577139413
           ],
           "y": [
            40.035732929195525,
            50.74999312874063
           ],
           "z": [
            1.3433310278265256,
            1.9099948911582525
           ]
          },
          {
           "line": {
            "color": "black",
            "width": 5
           },
           "marker": {
            "color": "blue",
            "size": 2
           },
           "name": "LeftHand",
           "type": "scatter3d",
           "x": [
            4.180188077436102,
            6.360548704061199
           ],
           "y": [
            31.890551458895484,
            40.035732929195525
           ],
           "z": [
            2.565685462777309,
            1.3433310278265256
           ]
          },
          {
           "line": {
            "color": "black",
            "width": 5
           },
           "marker": {
            "color": "blue",
            "size": 2
           },
           "name": "RightArm",
           "type": "scatter3d",
           "x": [
            -4.113559368403914,
            1.859742032776182
           ],
           "y": [
            50.78872878644336,
            50.77829222327945
           ],
           "z": [
            -0.3223395041674868,
            2.7347959330693374
           ]
          },
          {
           "line": {
            "color": "black",
            "width": 5
           },
           "marker": {
            "color": "blue",
            "size": 2
           },
           "name": "RightForeArm",
           "type": "scatter3d",
           "x": [
            -3.160947484209375,
            -4.113559368403914
           ],
           "y": [
            39.89008097087023,
            50.78872878644336
           ],
           "z": [
            -0.026871827602899745,
            -0.3223395041674868
           ]
          },
          {
           "line": {
            "color": "black",
            "width": 5
           },
           "marker": {
            "color": "blue",
            "size": 2
           },
           "name": "RightHand",
           "type": "scatter3d",
           "x": [
            -2.503579277779868,
            -3.160947484209375
           ],
           "y": [
            31.575838110633207,
            39.89008097087023
           ],
           "z": [
            1.7147758730166416,
            -0.026871827602899745
           ]
          }
         ],
         "name": "frame3"
        },
        {
         "data": [
          {
           "marker": {
            "color": "red",
            "size": 4
           },
           "name": "Hips",
           "type": "scatter3d",
           "x": [
            1.0709
           ],
           "y": [
            32.7976
           ],
           "z": [
            1.6817
           ]
          },
          {
           "line": {
            "color": "black",
            "width": 5
           },
           "marker": {
            "color": "blue",
            "size": 2
           },
           "name": "RightUpLeg",
           "type": "scatter3d",
           "x": [
            -2.5359522737472284,
            1.0709
           ],
           "y": [
            32.954389338730486,
            32.7976
           ],
           "z": [
            1.147749628219149,
            1.6817
           ]
          },
          {
           "line": {
            "color": "black",
            "width": 5
           },
           "marker": {
            "color": "blue",
            "size": 2
           },
           "name": "RightLeg",
           "type": "scatter3d",
           "x": [
            -3.3731997553734523,
            -2.5359522737472284
           ],
           "y": [
            17.275606446256482,
            32.954389338730486
           ],
           "z": [
            1.5310736493488983,
            1.147749628219149
           ]
          },
          {
           "line": {
            "color": "black",
            "width": 5
           },
           "marker": {
            "color": "blue",
            "size": 2
           },
           "name": "RightFoot",
           "type": "scatter3d",
           "x": [
            -3.60540634655341,
            -3.3731997553734523
           ],
           "y": [
            1.9892867033045452,
            17.275606446256482
           ],
           "z": [
            -0.471398169216946,
            1.5310736493488983
           ]
          },
          {
           "line": {
            "color": "black",
            "width": 5
           },
           "marker": {
            "color": "blue",
            "size": 2
           },
           "name": "LeftUpLeg",
           "type": "scatter3d",
           "x": [
            4.677752273747228,
            1.0709
           ],
           "y": [
            32.64081066126952,
            32.7976
           ],
           "z": [
            2.2156503717808507,
            1.6817
           ]
          },
          {
           "line": {
            "color": "black",
            "width": 5
           },
           "marker": {
            "color": "blue",
            "size": 2
           },
           "name": "LeftLeg",
           "type": "scatter3d",
           "x": [
            6.559325817951713,
            4.677752273747228
           ],
           "y": [
            17.04870559349225,
            32.64081066126952
           ],
           "z": [
            2.350165029510556,
            2.2156503717808507
           ]
          },
          {
           "line": {
            "color": "black",
            "width": 5
           },
           "marker": {
            "color": "blue",
            "size": 2
           },
           "name": "LeftFoot",
           "type": "scatter3d",
           "x": [
            8.598365691122563,
            6.559325817951713
           ],
           "y": [
            2.020079109254544,
            17.04870559349225
           ],
           "z": [
            -0.4279794882905512,
            2.350165029510556
           ]
          },
          {
           "line": {
            "color": "black",
            "width": 5
           },
           "marker": {
            "color": "blue",
            "size": 2
           },
           "name": "Spine",
           "type": "scatter3d",
           "x": [
            1.7093845208866112,
            1.0709
           ],
           "y": [
            43.06184425238143,
            32.7976
           ],
           "z": [
            1.4139429678294617,
            1.6817
           ]
          },
          {
           "line": {
            "color": "black",
            "width": 5
           },
           "marker": {
            "color": "blue",
            "size": 2
           },
           "name": "Spine1",
           "type": "scatter3d",
           "x": [
            1.8344350359302752,
            1.7093845208866112
           ],
           "y": [
            50.77288339836477,
            43.06184425238143
           ],
           "z": [
            2.749656879825534,
            1.4139429678294617
           ]
          },
          {
           "line": {
            "color": "black",
            "width": 5
           },
           "marker": {
            "color": "blue",
            "size": 2
           },
           "name": "Neck",
           "type": "scatter3d",
           "x": [
            1.9547923713798414,
            1.8344350359302752
           ],
           "y": [
            54.11762677250422,
            50.77288339836477
           ],
           "z": [
            3.6013529251249965,
            2.749656879825534
           ]
          },
          {
           "line": {
            "color": "black",
            "width": 5
           },
           "marker": {
            "color": "blue",
            "size": 2
           },
           "name": "Head",
           "type": "scatter3d",
           "x": [
            2.0751497068294076,
            1.9547923713798414
           ],
           "y": [
            57.462370146643664,
            54.11762677250422
           ],
           "z": [
            4.453048970424459,
            3.6013529251249965
           ]
          },
          {
           "line": {
            "color": "black",
            "width": 5
           },
           "marker": {
            "color": "blue",
            "size": 2
           },
           "name": "LeftArm",
           "type": "scatter3d",
           "x": [
            8.491620043983923,
            1.8344350359302752
           ],
           "y": [
            50.754505965001485,
            50.77288339836477
           ],
           "z": [
            1.9081904982696591,
            2.749656879825534
           ]
          },
          {
           "line": {
            "color": "black",
            "width": 5
           },
           "marker": {
            "color": "blue",
            "size": 2
           },
           "name": "LeftForeArm",
           "type": "scatter3d",
           "x": [
            6.396014689146382,
            8.491620043983923
           ],
           "y": [
            40.029349496173495,
            50.754505965001485
           ],
           "z": [
            1.312580161192323,
            1.9081904982696591
           ]
          },
          {
           "line": {
            "color": "black",
            "width": 5
           },
           "marker": {
            "color": "blue",
            "size": 2
           },
           "name": "LeftHand",
           "type": "scatter3d",
           "x": [
            4.2292808461786,
            6.396014689146382
           ],
           "y": [
            31.894048982381225,
            40.029349496173495
           ],
           "z": [
            2.6218753971606255,
            1.312580161192323
           ]
          },
          {
           "line": {
            "color": "black",
            "width": 5
           },
           "marker": {
            "color": "blue",
            "size": 2
           },
           "name": "RightArm",
           "type": "scatter3d",
           "x": [
            -4.146146233323417,
            1.8344350359302752
           ],
           "y": [
            50.77485281521768,
            50.77288339836477
           ],
           "z": [
            -0.29322981475399956,
            2.749656879825534
           ]
          },
          {
           "line": {
            "color": "black",
            "width": 5
           },
           "marker": {
            "color": "blue",
            "size": 2
           },
           "name": "RightForeArm",
           "type": "scatter3d",
           "x": [
            -3.088076855577965,
            -4.146146233323417
           ],
           "y": [
            39.88523214191154,
            50.77485281521768
           ],
           "z": [
            -0.025003154854290777,
            -0.29322981475399956
           ]
          },
          {
           "line": {
            "color": "black",
            "width": 5
           },
           "marker": {
            "color": "blue",
            "size": 2
           },
           "name": "RightHand",
           "type": "scatter3d",
           "x": [
            -2.3455885905480436,
            -3.088076855577965
           ],
           "y": [
            31.581699734512796,
            39.88523214191154
           ],
           "z": [
            1.7334520610871564,
            -0.025003154854290777
           ]
          }
         ],
         "name": "frame4"
        },
        {
         "data": [
          {
           "marker": {
            "color": "red",
            "size": 4
           },
           "name": "Hips",
           "type": "scatter3d",
           "x": [
            1.0522
           ],
           "y": [
            32.7976
           ],
           "z": [
            1.6675
           ]
          },
          {
           "line": {
            "color": "black",
            "width": 5
           },
           "marker": {
            "color": "blue",
            "size": 2
           },
           "name": "RightUpLeg",
           "type": "scatter3d",
           "x": [
            -2.5563792233792055,
            1.0522
           ],
           "y": [
            32.95331476380652,
            32.7976
           ],
           "z": [
            1.1450269176037768,
            1.6675
           ]
          },
          {
           "line": {
            "color": "black",
            "width": 5
           },
           "marker": {
            "color": "blue",
            "size": 2
           },
           "name": "RightLeg",
           "type": "scatter3d",
           "x": [
            -3.391150839668513,
            -2.5563792233792055
           ],
           "y": [
            17.275450434291386,
            32.95331476380652
           ],
           "z": [
            1.5691496049889497,
            1.1450269176037768
           ]
          },
          {
           "line": {
            "color": "black",
            "width": 5
           },
           "marker": {
            "color": "blue",
            "size": 2
           },
           "name": "RightFoot",
           "type": "scatter3d",
           "x": [
            -3.608038599253437,
            -3.391150839668513
           ],
           "y": [
            1.9948947574593028,
            17.275450434291386
           ],
           "z": [
            -0.4785228482801702,
            1.5691496049889497
           ]
          },
          {
           "line": {
            "color": "black",
            "width": 5
           },
           "marker": {
            "color": "blue",
            "size": 2
           },
           "name": "LeftUpLeg",
           "type": "scatter3d",
           "x": [
            4.660779223379206,
            1.0522
           ],
           "y": [
            32.64188523619349,
            32.7976
           ],
           "z": [
            2.1899730823962233,
            1.6675
           ]
          },
          {
           "line": {
            "color": "black",
            "width": 5
           },
           "marker": {
            "color": "blue",
            "size": 2
           },
           "name": "LeftLeg",
           "type": "scatter3d",
           "x": [
            6.549655919599076,
            4.660779223379206
           ],
           "y": [
            17.05098985080163,
            32.64188523619349
           ],
           "z": [
            2.3581383232887516,
            2.1899730823962233
           ]
          },
          {
           "line": {
            "color": "black",
            "width": 5
           },
           "marker": {
            "color": "blue",
            "size": 2
           },
           "name": "LeftFoot",
           "type": "scatter3d",
           "x": [
            8.592586026105284,
            6.549655919599076
           ],
           "y": [
            2.0249781505794555,
            17.05098985080163
           ],
           "z": [
            -0.43126905707303465,
            2.3581383232887516
           ]
          },
          {
           "line": {
            "color": "black",
            "width": 5
           },
           "marker": {
            "color": "blue",
            "size": 2
           },
           "name": "Spine",
           "type": "scatter3d",
           "x": [
            1.6855335316111195,
            1.0522
           ],
           "y": [
            43.06247474812993,
            32.7976
           ],
           "z": [
            1.4118045178985617,
            1.6675
           ]
          },
          {
           "line": {
            "color": "black",
            "width": 5
           },
           "marker": {
            "color": "blue",
            "size": 2
           },
           "name": "Spine1",
           "type": "scatter3d",
           "x": [
            1.8075157258503292,
            1.6855335316111195
           ],
           "y": [
            50.76962867881832,
            43.06247474812993
           ],
           "z": [
            2.7700359524718645,
            1.4118045178985617
           ]
          },
          {
           "line": {
            "color": "black",
            "width": 5
           },
           "marker": {
            "color": "blue",
            "size": 2
           },
           "name": "Neck",
           "type": "scatter3d",
           "x": [
            1.9405289450507892,
            1.8075157258503292
           ],
           "y": [
            54.11185555027893,
            50.76962867881832
           ],
           "z": [
            3.629691292610876,
            2.7700359524718645
           ]
          },
          {
           "line": {
            "color": "black",
            "width": 5
           },
           "marker": {
            "color": "blue",
            "size": 2
           },
           "name": "Head",
           "type": "scatter3d",
           "x": [
            2.0735421642512493,
            1.9405289450507892
           ],
           "y": [
            57.45408242173955,
            54.11185555027893
           ],
           "z": [
            4.489346632749888,
            3.629691292610876
           ]
          },
          {
           "line": {
            "color": "black",
            "width": 5
           },
           "marker": {
            "color": "blue",
            "size": 2
           },
           "name": "LeftArm",
           "type": "scatter3d",
           "x": [
            8.461602919651357,
            1.8075157258503292
           ],
           "y": [
            50.748334792740415,
            50.76962867881832
           ],
           "z": [
            1.9044807430779924,
            2.7700359524718645
           ]
          },
          {
           "line": {
            "color": "black",
            "width": 5
           },
           "marker": {
            "color": "blue",
            "size": 2
           },
           "name": "LeftForeArm",
           "type": "scatter3d",
           "x": [
            6.452323514676934,
            8.461602919651357
           ],
           "y": [
            40.00863489967631,
            50.748334792740415
           ],
           "z": [
            1.2744511903071931,
            1.9044807430779924
           ]
          },
          {
           "line": {
            "color": "black",
            "width": 5
           },
           "marker": {
            "color": "blue",
            "size": 2
           },
           "name": "LeftHand",
           "type": "scatter3d",
           "x": [
            4.3078405518657625,
            6.452323514676934
           ],
           "y": [
            31.88289626147405,
            40.00863489967631
           ],
           "z": [
            2.6764741632785682,
            1.2744511903071931
           ]
          },
          {
           "line": {
            "color": "black",
            "width": 5
           },
           "marker": {
            "color": "blue",
            "size": 2
           },
           "name": "RightArm",
           "type": "scatter3d",
           "x": [
            -4.1779860419723445,
            1.8075157258503292
           ],
           "y": [
            50.76272101847201,
            50.76962867881832
           ],
           "z": [
            -0.26315321149733784,
            2.7700359524718645
           ]
          },
          {
           "line": {
            "color": "black",
            "width": 5
           },
           "marker": {
            "color": "blue",
            "size": 2
           },
           "name": "RightForeArm",
           "type": "scatter3d",
           "x": [
            -3.078062738164441,
            -4.1779860419723445
           ],
           "y": [
            39.87649066457447,
            50.76272101847201
           ],
           "z": [
            -0.027670377048195804,
            -0.26315321149733784
           ]
          },
          {
           "line": {
            "color": "black",
            "width": 5
           },
           "marker": {
            "color": "blue",
            "size": 2
           },
           "name": "RightHand",
           "type": "scatter3d",
           "x": [
            -2.308041299967248,
            -3.078062738164441
           ],
           "y": [
            31.575420713944336,
            39.87649066457447
           ],
           "z": [
            1.7305698427062552,
            -0.027670377048195804
           ]
          }
         ],
         "name": "frame5"
        }
       ],
       "layout": {
        "autosize": false,
        "height": 700,
        "scene": {
         "aspectratio": {
          "x": 1,
          "y": 1,
          "z": 1
         },
         "camera": {
          "eye": {
           "x": -1.7428,
           "y": 1.0707,
           "z": 0.71
          },
          "up": {
           "x": 0,
           "y": 1,
           "z": 0
          }
         },
         "xaxis": {
          "range": [
           -130,
           130
          ]
         },
         "yaxis": {
          "range": [
           -130,
           130
          ]
         },
         "zaxis": {
          "range": [
           -130,
           130
          ]
         }
        },
        "sliders": [
         {
          "currentvalue": {
           "font": {
            "size": 12
           },
           "prefix": "slice: ",
           "visible": true,
           "xanchor": "center"
          },
          "len": 1,
          "steps": [
           {
            "args": [
             [
              "frame1"
             ],
             {
              "frame": {
               "duration": 10,
               "redraw": true
              },
              "mode": "immediate",
              "transition": {
               "duration": 0
              }
             }
            ],
            "label": "1",
            "method": "animate"
           },
           {
            "args": [
             [
              "frame2"
             ],
             {
              "frame": {
               "duration": 10,
               "redraw": true
              },
              "mode": "immediate",
              "transition": {
               "duration": 0
              }
             }
            ],
            "label": "2",
            "method": "animate"
           },
           {
            "args": [
             [
              "frame3"
             ],
             {
              "frame": {
               "duration": 10,
               "redraw": true
              },
              "mode": "immediate",
              "transition": {
               "duration": 0
              }
             }
            ],
            "label": "3",
            "method": "animate"
           },
           {
            "args": [
             [
              "frame4"
             ],
             {
              "frame": {
               "duration": 10,
               "redraw": true
              },
              "mode": "immediate",
              "transition": {
               "duration": 0
              }
             }
            ],
            "label": "4",
            "method": "animate"
           },
           {
            "args": [
             [
              "frame5"
             ],
             {
              "frame": {
               "duration": 10,
               "redraw": true
              },
              "mode": "immediate",
              "transition": {
               "duration": 0
              }
             }
            ],
            "label": "5",
            "method": "animate"
           }
          ],
          "transition": {
           "duration": 0
          },
          "x": 0,
          "y": 0
         }
        ],
        "title": {
         "text": "action animation"
        },
        "updatemenus": [
         {
          "buttons": [
           {
            "args": [
             null
            ],
            "label": "Play",
            "method": "animate"
           }
          ],
          "pad": {
           "r": 10,
           "t": 0
          },
          "showactive": false,
          "type": "buttons",
          "x": 1,
          "xanchor": "right",
          "y": 1,
          "yanchor": "top"
         }
        ],
        "width": 800
       }
      },
      "text/html": [
       "<div>\n",
       "        \n",
       "        \n",
       "            <div id=\"0407d341-e64f-488d-8727-ebee4fd07a89\" class=\"plotly-graph-div\" style=\"height:700px; width:800px;\"></div>\n",
       "            <script type=\"text/javascript\">\n",
       "                require([\"plotly\"], function(Plotly) {\n",
       "                    window.PLOTLYENV=window.PLOTLYENV || {};\n",
       "                    window.PLOTLYENV.BASE_URL='https://plot.ly';\n",
       "                    \n",
       "                if (document.getElementById(\"0407d341-e64f-488d-8727-ebee4fd07a89\")) {\n",
       "                    Plotly.newPlot(\n",
       "                        '0407d341-e64f-488d-8727-ebee4fd07a89',\n",
       "                        [{\"marker\": {\"color\": \"red\", \"size\": 4}, \"name\": \"Hips\", \"type\": \"scatter3d\", \"uid\": \"c1ca7962-9f69-43a4-b8db-93449ac7bc5e\", \"x\": [1.1473], \"y\": [32.8029], \"z\": [1.7158]}, {\"line\": {\"color\": \"black\", \"width\": 5}, \"marker\": {\"color\": \"blue\", \"size\": 2}, \"name\": \"RightUpLeg\", \"type\": \"scatter3d\", \"uid\": \"b0f60e40-28f3-4793-9275-09de375031f3\", \"x\": [-2.4553097248724804, 1.1473], \"y\": [32.961058055208376, 32.8029], \"z\": [1.1543212197002157, 1.7158]}, {\"line\": {\"color\": \"black\", \"width\": 5}, \"marker\": {\"color\": \"blue\", \"size\": 2}, \"name\": \"RightLeg\", \"type\": \"scatter3d\", \"uid\": \"a574a216-1f7d-447e-aca4-5e18f1cbcd3b\", \"x\": [-3.317346416252013, -2.4553097248724804], \"y\": [17.281216749943873, 32.961058055208376], \"z\": [1.4219460026267434, 1.1543212197002157]}, {\"line\": {\"color\": \"black\", \"width\": 5}, \"marker\": {\"color\": \"blue\", \"size\": 2}, \"name\": \"RightFoot\", \"type\": \"scatter3d\", \"uid\": \"b93ddd2f-e9a6-4a4e-bbe5-74d232e20c9f\", \"x\": [-3.6020169067643693, -3.317346416252013], \"y\": [1.9807211453624838, 17.281216749943873], \"z\": [-0.4619811549133037, 1.4219460026267434]}, {\"line\": {\"color\": \"black\", \"width\": 5}, \"marker\": {\"color\": \"blue\", \"size\": 2}, \"name\": \"LeftUpLeg\", \"type\": \"scatter3d\", \"uid\": \"70273b33-785c-4c56-a7e0-ff64c18c2619\", \"x\": [4.749909724872481, 1.1473], \"y\": [32.644741944791626, 32.8029], \"z\": [2.2772787802997843, 1.7158]}, {\"line\": {\"color\": \"black\", \"width\": 5}, \"marker\": {\"color\": \"blue\", \"size\": 2}, \"name\": \"LeftLeg\", \"type\": \"scatter3d\", \"uid\": \"3579f83a-4c49-40ef-a64d-8f43d3c88cbb\", \"x\": [6.606630913890318, 4.749909724872481], \"y\": [17.04925961054071, 32.644741944791626], \"z\": [2.3525836826624733, 2.2772787802997843]}, {\"line\": {\"color\": \"black\", \"width\": 5}, \"marker\": {\"color\": \"blue\", \"size\": 2}, \"name\": \"LeftFoot\", \"type\": \"scatter3d\", \"uid\": \"5101e26c-e82a-41ac-95e4-73d77871ca8e\", \"x\": [8.61853891441486, 6.606630913890318], \"y\": [2.0170691799566516, 17.04925961054071], \"z\": [-0.42606016370979694, 2.3525836826624733]}, {\"line\": {\"color\": \"black\", \"width\": 5}, \"marker\": {\"color\": \"blue\", \"size\": 2}, \"name\": \"Spine\", \"type\": \"scatter3d\", \"uid\": \"14cbcf7b-75ff-4658-b5df-d51b43c36ce6\", \"x\": [1.7822016443188067, 1.1473], \"y\": [43.06689634732499, 32.8029], \"z\": [1.4308600484688139, 1.7158]}, {\"line\": {\"color\": \"black\", \"width\": 5}, \"marker\": {\"color\": \"blue\", \"size\": 2}, \"name\": \"Spine1\", \"type\": \"scatter3d\", \"uid\": \"3b1a864a-5efa-4345-964e-94b5f1d88621\", \"x\": [1.9012811972892745, 1.7822016443188067], \"y\": [50.78664217953173, 43.06689634732499], \"z\": [2.715865240322527, 1.4308600484688139]}, {\"line\": {\"color\": \"black\", \"width\": 5}, \"marker\": {\"color\": \"blue\", \"size\": 2}, \"name\": \"Neck\", \"type\": \"scatter3d\", \"uid\": \"22288499-bf0f-4dd4-b3fe-7629fd404c70\", \"x\": [1.9871625628298792, 1.9012811972892745], \"y\": [54.14028522684508, 50.78664217953173], \"z\": [3.536159689215559, 2.715865240322527]}, {\"line\": {\"color\": \"black\", \"width\": 5}, \"marker\": {\"color\": \"blue\", \"size\": 2}, \"name\": \"Head\", \"type\": \"scatter3d\", \"uid\": \"5018fd31-abae-4235-a696-97f0fc4c56e1\", \"x\": [2.0730439283704842, 1.9871625628298792], \"y\": [57.49392827415843, 54.14028522684508], \"z\": [4.356454138108591, 3.536159689215559]}, {\"line\": {\"color\": \"black\", \"width\": 5}, \"marker\": {\"color\": \"blue\", \"size\": 2}, \"name\": \"LeftArm\", \"type\": \"scatter3d\", \"uid\": \"d57f4579-b581-4dd1-87df-626736a601de\", \"x\": [8.56457563485153, 1.9012811972892745], \"y\": [50.74687247107408, 50.78664217953173], \"z\": [1.925016808926793, 2.715865240322527]}, {\"line\": {\"color\": \"black\", \"width\": 5}, \"marker\": {\"color\": \"blue\", \"size\": 2}, \"name\": \"LeftForeArm\", \"type\": \"scatter3d\", \"uid\": \"ee83251a-e576-4704-84e2-e33c08bc763d\", \"x\": [6.45208639218659, 8.56457563485153], \"y\": [40.0194044523469, 50.74687247107408], \"z\": [1.441163665389917, 1.925016808926793]}, {\"line\": {\"color\": \"black\", \"width\": 5}, \"marker\": {\"color\": \"blue\", \"size\": 2}, \"name\": \"LeftHand\", \"type\": \"scatter3d\", \"uid\": \"56c0fd3b-5ec7-4323-abe6-7b2068d6365a\", \"x\": [4.381716568546702, 6.45208639218659], \"y\": [31.821445740722794, 40.0194044523469], \"z\": [2.4895651947515756, 1.441163665389917]}, {\"line\": {\"color\": \"black\", \"width\": 5}, \"marker\": {\"color\": \"blue\", \"size\": 2}, \"name\": \"RightArm\", \"type\": \"scatter3d\", \"uid\": \"950ae01f-6396-4fe3-8419-2c8ea5e6fa5f\", \"x\": [-4.047415969931223, 1.9012811972892745], \"y\": [50.80279455624644, 50.78664217953173], \"z\": [-0.3888500036618989, 2.715865240322527]}, {\"line\": {\"color\": \"black\", \"width\": 5}, \"marker\": {\"color\": \"blue\", \"size\": 2}, \"name\": \"RightForeArm\", \"type\": \"scatter3d\", \"uid\": \"785980a1-5b8f-46c7-9781-be9201c8ce61\", \"x\": [-3.434638859090344, -4.047415969931223], \"y\": [39.88168557286997, 50.80279455624644], \"z\": [-0.029437227952326728, -0.3888500036618989]}, {\"line\": {\"color\": \"black\", \"width\": 5}, \"marker\": {\"color\": \"blue\", \"size\": 2}, \"name\": \"RightHand\", \"type\": \"scatter3d\", \"uid\": \"28de8a9d-0ff3-46c3-81b9-89589b5cff9c\", \"x\": [-3.078544963894704, -3.434638859090344], \"y\": [31.550140509372742, 39.88168557286997], \"z\": [1.7171760674337568, -0.029437227952326728]}],\n",
       "                        {\"autosize\": false, \"height\": 700, \"scene\": {\"aspectratio\": {\"x\": 1.0, \"y\": 1.0, \"z\": 1.0}, \"camera\": {\"eye\": {\"x\": -1.7428, \"y\": 1.0707, \"z\": 0.71}, \"up\": {\"x\": 0, \"y\": 1, \"z\": 0}}, \"xaxis\": {\"range\": [-130, 130]}, \"yaxis\": {\"range\": [-130, 130]}, \"zaxis\": {\"range\": [-130, 130]}}, \"sliders\": [{\"currentvalue\": {\"font\": {\"size\": 12}, \"prefix\": \"slice: \", \"visible\": true, \"xanchor\": \"center\"}, \"len\": 1.0, \"steps\": [{\"args\": [[\"frame1\"], {\"frame\": {\"duration\": 10, \"redraw\": true}, \"mode\": \"immediate\", \"transition\": {\"duration\": 0}}], \"label\": \"1\", \"method\": \"animate\"}, {\"args\": [[\"frame2\"], {\"frame\": {\"duration\": 10, \"redraw\": true}, \"mode\": \"immediate\", \"transition\": {\"duration\": 0}}], \"label\": \"2\", \"method\": \"animate\"}, {\"args\": [[\"frame3\"], {\"frame\": {\"duration\": 10, \"redraw\": true}, \"mode\": \"immediate\", \"transition\": {\"duration\": 0}}], \"label\": \"3\", \"method\": \"animate\"}, {\"args\": [[\"frame4\"], {\"frame\": {\"duration\": 10, \"redraw\": true}, \"mode\": \"immediate\", \"transition\": {\"duration\": 0}}], \"label\": \"4\", \"method\": \"animate\"}, {\"args\": [[\"frame5\"], {\"frame\": {\"duration\": 10, \"redraw\": true}, \"mode\": \"immediate\", \"transition\": {\"duration\": 0}}], \"label\": \"5\", \"method\": \"animate\"}], \"transition\": {\"duration\": 0}, \"x\": 0, \"y\": 0}], \"title\": {\"text\": \"action animation\"}, \"updatemenus\": [{\"buttons\": [{\"args\": [null], \"label\": \"Play\", \"method\": \"animate\"}], \"pad\": {\"r\": 10, \"t\": 0}, \"showactive\": false, \"type\": \"buttons\", \"x\": 1, \"xanchor\": \"right\", \"y\": 1, \"yanchor\": \"top\"}], \"width\": 800},\n",
       "                        {\"showLink\": false, \"responsive\": true, \"plotlyServerURL\": \"https://plot.ly\", \"linkText\": \"Export to plot.ly\"}\n",
       "                    ).then(function(){\n",
       "                            Plotly.addFrames('0407d341-e64f-488d-8727-ebee4fd07a89', [{\"data\": [{\"y\": [32.8029], \"z\": [1.7158], \"marker\": {\"color\": \"red\", \"size\": 4}, \"x\": [1.1473], \"type\": \"scatter3d\", \"name\": \"Hips\"}, {\"y\": [32.961058055208376, 32.8029], \"z\": [1.1543212197002157, 1.7158], \"marker\": {\"color\": \"blue\", \"size\": 2}, \"line\": {\"color\": \"black\", \"width\": 5}, \"type\": \"scatter3d\", \"name\": \"RightUpLeg\", \"x\": [-2.4553097248724804, 1.1473]}, {\"y\": [17.281216749943873, 32.961058055208376], \"z\": [1.4219460026267434, 1.1543212197002157], \"marker\": {\"color\": \"blue\", \"size\": 2}, \"line\": {\"color\": \"black\", \"width\": 5}, \"type\": \"scatter3d\", \"name\": \"RightLeg\", \"x\": [-3.317346416252013, -2.4553097248724804]}, {\"y\": [1.9807211453624838, 17.281216749943873], \"z\": [-0.4619811549133037, 1.4219460026267434], \"marker\": {\"color\": \"blue\", \"size\": 2}, \"line\": {\"color\": \"black\", \"width\": 5}, \"type\": \"scatter3d\", \"name\": \"RightFoot\", \"x\": [-3.6020169067643693, -3.317346416252013]}, {\"y\": [32.644741944791626, 32.8029], \"z\": [2.2772787802997843, 1.7158], \"marker\": {\"color\": \"blue\", \"size\": 2}, \"line\": {\"color\": \"black\", \"width\": 5}, \"type\": \"scatter3d\", \"name\": \"LeftUpLeg\", \"x\": [4.749909724872481, 1.1473]}, {\"y\": [17.04925961054071, 32.644741944791626], \"z\": [2.3525836826624733, 2.2772787802997843], \"marker\": {\"color\": \"blue\", \"size\": 2}, \"line\": {\"color\": \"black\", \"width\": 5}, \"type\": \"scatter3d\", \"name\": \"LeftLeg\", \"x\": [6.606630913890318, 4.749909724872481]}, {\"y\": [2.0170691799566516, 17.04925961054071], \"z\": [-0.42606016370979694, 2.3525836826624733], \"marker\": {\"color\": \"blue\", \"size\": 2}, \"line\": {\"color\": \"black\", \"width\": 5}, \"type\": \"scatter3d\", \"name\": \"LeftFoot\", \"x\": [8.61853891441486, 6.606630913890318]}, {\"y\": [43.06689634732499, 32.8029], \"z\": [1.4308600484688139, 1.7158], \"marker\": {\"color\": \"blue\", \"size\": 2}, \"line\": {\"color\": \"black\", \"width\": 5}, \"type\": \"scatter3d\", \"name\": \"Spine\", \"x\": [1.7822016443188067, 1.1473]}, {\"y\": [50.78664217953173, 43.06689634732499], \"z\": [2.715865240322527, 1.4308600484688139], \"marker\": {\"color\": \"blue\", \"size\": 2}, \"line\": {\"color\": \"black\", \"width\": 5}, \"type\": \"scatter3d\", \"name\": \"Spine1\", \"x\": [1.9012811972892745, 1.7822016443188067]}, {\"y\": [54.14028522684508, 50.78664217953173], \"z\": [3.536159689215559, 2.715865240322527], \"marker\": {\"color\": \"blue\", \"size\": 2}, \"line\": {\"color\": \"black\", \"width\": 5}, \"type\": \"scatter3d\", \"name\": \"Neck\", \"x\": [1.9871625628298792, 1.9012811972892745]}, {\"y\": [57.49392827415843, 54.14028522684508], \"z\": [4.356454138108591, 3.536159689215559], \"marker\": {\"color\": \"blue\", \"size\": 2}, \"line\": {\"color\": \"black\", \"width\": 5}, \"type\": \"scatter3d\", \"name\": \"Head\", \"x\": [2.0730439283704842, 1.9871625628298792]}, {\"y\": [50.74687247107408, 50.78664217953173], \"z\": [1.925016808926793, 2.715865240322527], \"marker\": {\"color\": \"blue\", \"size\": 2}, \"line\": {\"color\": \"black\", \"width\": 5}, \"type\": \"scatter3d\", \"name\": \"LeftArm\", \"x\": [8.56457563485153, 1.9012811972892745]}, {\"y\": [40.0194044523469, 50.74687247107408], \"z\": [1.441163665389917, 1.925016808926793], \"marker\": {\"color\": \"blue\", \"size\": 2}, \"line\": {\"color\": \"black\", \"width\": 5}, \"type\": \"scatter3d\", \"name\": \"LeftForeArm\", \"x\": [6.45208639218659, 8.56457563485153]}, {\"y\": [31.821445740722794, 40.0194044523469], \"z\": [2.4895651947515756, 1.441163665389917], \"marker\": {\"color\": \"blue\", \"size\": 2}, \"line\": {\"color\": \"black\", \"width\": 5}, \"type\": \"scatter3d\", \"name\": \"LeftHand\", \"x\": [4.381716568546702, 6.45208639218659]}, {\"y\": [50.80279455624644, 50.78664217953173], \"z\": [-0.3888500036618989, 2.715865240322527], \"marker\": {\"color\": \"blue\", \"size\": 2}, \"line\": {\"color\": \"black\", \"width\": 5}, \"type\": \"scatter3d\", \"name\": \"RightArm\", \"x\": [-4.047415969931223, 1.9012811972892745]}, {\"y\": [39.88168557286997, 50.80279455624644], \"z\": [-0.029437227952326728, -0.3888500036618989], \"marker\": {\"color\": \"blue\", \"size\": 2}, \"line\": {\"color\": \"black\", \"width\": 5}, \"type\": \"scatter3d\", \"name\": \"RightForeArm\", \"x\": [-3.434638859090344, -4.047415969931223]}, {\"y\": [31.550140509372742, 39.88168557286997], \"z\": [1.7171760674337568, -0.029437227952326728], \"marker\": {\"color\": \"blue\", \"size\": 2}, \"line\": {\"color\": \"black\", \"width\": 5}, \"type\": \"scatter3d\", \"name\": \"RightHand\", \"x\": [-3.078544963894704, -3.434638859090344]}], \"name\": \"frame1\"}, {\"data\": [{\"y\": [32.8027], \"z\": [1.7049], \"marker\": {\"color\": \"red\", \"size\": 4}, \"x\": [1.1201], \"type\": \"scatter3d\", \"name\": \"Hips\"}, {\"y\": [32.960255797718936, 32.8027], \"z\": [1.1509219382602418, 1.7049], \"marker\": {\"color\": \"blue\", \"size\": 2}, \"line\": {\"color\": \"black\", \"width\": 5}, \"type\": \"scatter3d\", \"name\": \"RightUpLeg\", \"x\": [-2.483697122288685, 1.1201]}, {\"y\": [17.28070917198334, 32.960255797718936], \"z\": [1.460405204300822, 1.1509219382602418], \"marker\": {\"color\": \"blue\", \"size\": 2}, \"line\": {\"color\": \"black\", \"width\": 5}, \"type\": \"scatter3d\", \"name\": \"RightLeg\", \"x\": [-3.337038413580888, -2.483697122288685]}, {\"y\": [1.9849740642457867, 17.28070917198334], \"z\": [-0.46453113612684294, 1.460405204300822], \"marker\": {\"color\": \"blue\", \"size\": 2}, \"line\": {\"color\": \"black\", \"width\": 5}, \"type\": \"scatter3d\", \"name\": \"RightFoot\", \"x\": [-3.602542025845944, -3.337038413580888]}, {\"y\": [32.64514420228107, 32.8027], \"z\": [2.2588780617397584, 1.7049], \"marker\": {\"color\": \"blue\", \"size\": 2}, \"line\": {\"color\": \"black\", \"width\": 5}, \"type\": \"scatter3d\", \"name\": \"LeftUpLeg\", \"x\": [4.723897122288685, 1.1201]}, {\"y\": [17.051026499983, 32.64514420228107], \"z\": [2.3471642983360326, 2.2588780617397584], \"marker\": {\"color\": \"blue\", \"size\": 2}, \"line\": {\"color\": \"black\", \"width\": 5}, \"type\": \"scatter3d\", \"name\": \"LeftLeg\", \"x\": [6.5914763755739685, 4.723897122288685]}, {\"y\": [2.019356590980683, 17.051026499983], \"z\": [-0.42551973879363514, 2.3471642983360326], \"marker\": {\"color\": \"blue\", \"size\": 2}, \"line\": {\"color\": \"black\", \"width\": 5}, \"type\": \"scatter3d\", \"name\": \"LeftFoot\", \"x\": [8.61545946491552, 6.5914763755739685]}, {\"y\": [43.06669025690425, 32.8027], \"z\": [1.4251994369966678, 1.7049], \"marker\": {\"color\": \"blue\", \"size\": 2}, \"line\": {\"color\": \"black\", \"width\": 5}, \"type\": \"scatter3d\", \"name\": \"Spine\", \"x\": [1.757463167471876, 1.1201]}, {\"y\": [50.78370711445857, 43.06669025690425], \"z\": [2.7261119936439724, 1.4251994369966678], \"marker\": {\"color\": \"blue\", \"size\": 2}, \"line\": {\"color\": \"black\", \"width\": 5}, \"type\": \"scatter3d\", \"name\": \"Spine1\", \"x\": [1.880635149187885, 1.757463167471876]}, {\"y\": [54.13503639409535, 50.78370711445857], \"z\": [3.554081889562786, 2.7261119936439724], \"marker\": {\"color\": \"blue\", \"size\": 2}, \"line\": {\"color\": \"black\", \"width\": 5}, \"type\": \"scatter3d\", \"name\": \"Neck\", \"x\": [1.9818190981442394, 1.880635149187885]}, {\"y\": [57.48636567373214, 54.13503639409535], \"z\": [4.3820517854816, 3.554081889562786], \"marker\": {\"color\": \"blue\", \"size\": 2}, \"line\": {\"color\": \"black\", \"width\": 5}, \"type\": \"scatter3d\", \"name\": \"Head\", \"x\": [2.083003047100594, 1.9818190981442394]}, {\"y\": [50.75090787075674, 50.78370711445857], \"z\": [1.9238653919523134, 2.7261119936439724], \"marker\": {\"color\": \"blue\", \"size\": 2}, \"line\": {\"color\": \"black\", \"width\": 5}, \"type\": \"scatter3d\", \"name\": \"LeftArm\", \"x\": [8.542604845342826, 1.880635149187885]}, {\"y\": [40.03412723942958, 50.75090787075674], \"z\": [1.3787495002243175, 1.9238653919523134], \"marker\": {\"color\": \"blue\", \"size\": 2}, \"line\": {\"color\": \"black\", \"width\": 5}, \"type\": \"scatter3d\", \"name\": \"LeftForeArm\", \"x\": [6.391150378639745, 8.542604845342826]}, {\"y\": [31.868811188620864, 40.03412723942958], \"z\": [2.519502514481857, 1.3787495002243175], \"marker\": {\"color\": \"blue\", \"size\": 2}, \"line\": {\"color\": \"black\", \"width\": 5}, \"type\": \"scatter3d\", \"name\": \"LeftHand\", \"x\": [4.242103994364173, 6.391150378639745]}, {\"y\": [50.796117261853155, 50.78370711445857], \"z\": [-0.3534121439993272, 2.7261119936439724], \"marker\": {\"color\": \"blue\", \"size\": 2}, \"line\": {\"color\": \"black\", \"width\": 5}, \"type\": \"scatter3d\", \"name\": \"RightArm\", \"x\": [-4.081150884100622, 1.880635149187885]}, {\"y\": [39.88481010517269, 50.796117261853155], \"z\": [-0.04631280561595713, -0.3534121439993272], \"marker\": {\"color\": \"blue\", \"size\": 2}, \"line\": {\"color\": \"black\", \"width\": 5}, \"type\": \"scatter3d\", \"name\": \"RightForeArm\", \"x\": [-3.290985783227284, -4.081150884100622]}, {\"y\": [31.564066190043583, 39.88481010517269], \"z\": [1.712996840122439, -0.04631280561595713], \"marker\": {\"color\": \"blue\", \"size\": 2}, \"line\": {\"color\": \"black\", \"width\": 5}, \"type\": \"scatter3d\", \"name\": \"RightHand\", \"x\": [-2.7789757441130614, -3.290985783227284]}], \"name\": \"frame2\"}, {\"data\": [{\"y\": [32.8004], \"z\": [1.689], \"marker\": {\"color\": \"red\", \"size\": 4}, \"x\": [1.0947], \"type\": \"scatter3d\", \"name\": \"Hips\"}, {\"y\": [32.95805991360067, 32.8004], \"z\": [1.1481214420451193, 1.689], \"marker\": {\"color\": \"blue\", \"size\": 2}, \"line\": {\"color\": \"black\", \"width\": 5}, \"type\": \"scatter3d\", \"name\": \"RightUpLeg\", \"x\": [-2.511081878883979, 1.0947]}, {\"y\": [17.279176670104302, 32.95805991360067], \"z\": [1.5028910024249422, 1.1481214420451193], \"marker\": {\"color\": \"blue\", \"size\": 2}, \"line\": {\"color\": \"black\", \"width\": 5}, \"type\": \"scatter3d\", \"name\": \"RightLeg\", \"x\": [-3.3589689207926825, -2.511081878883979]}, {\"y\": [1.989122489793644, 17.279176670104302], \"z\": [-0.4687650954911142, 1.5028910024249422], \"marker\": {\"color\": \"blue\", \"size\": 2}, \"line\": {\"color\": \"black\", \"width\": 5}, \"type\": \"scatter3d\", \"name\": \"RightFoot\", \"x\": [-3.6083681261141236, -3.3589689207926825]}, {\"y\": [32.642740086399336, 32.8004], \"z\": [2.2298785579548808, 1.689], \"marker\": {\"color\": \"blue\", \"size\": 2}, \"line\": {\"color\": \"black\", \"width\": 5}, \"type\": \"scatter3d\", \"name\": \"LeftUpLeg\", \"x\": [4.700481878883979, 1.0947]}, {\"y\": [17.049706010565316, 32.642740086399336], \"z\": [2.352043592228537, 2.2298785579548808], \"marker\": {\"color\": \"blue\", \"size\": 2}, \"line\": {\"color\": \"black\", \"width\": 5}, \"type\": \"scatter3d\", \"name\": \"LeftLeg\", \"x\": [6.575186563435641, 4.700481878883979]}, {\"y\": [2.019813760848683, 17.049706010565316], \"z\": [-0.42607549526941124, 2.352043592228537], \"marker\": {\"color\": \"blue\", \"size\": 2}, \"line\": {\"color\": \"black\", \"width\": 5}, \"type\": \"scatter3d\", \"name\": \"LeftFoot\", \"x\": [8.604910157053103, 6.575186563435641]}, {\"y\": [43.06442647336804, 32.8004], \"z\": [1.415546979932866, 1.689], \"marker\": {\"color\": \"blue\", \"size\": 2}, \"line\": {\"color\": \"black\", \"width\": 5}, \"type\": \"scatter3d\", \"name\": \"Spine\", \"x\": [1.7342374954403255, 1.0947]}, {\"y\": [50.77829222327945, 43.06442647336804], \"z\": [2.7347959330693374, 1.415546979932866], \"marker\": {\"color\": \"blue\", \"size\": 2}, \"line\": {\"color\": \"black\", \"width\": 5}, \"type\": \"scatter3d\", \"name\": \"Spine1\", \"x\": [1.859742032776182, 1.7342374954403255]}, {\"y\": [54.12643011495207, 50.77829222327945], \"z\": [3.57441799527237, 2.7347959330693374], \"marker\": {\"color\": \"blue\", \"size\": 2}, \"line\": {\"color\": \"black\", \"width\": 5}, \"type\": \"scatter3d\", \"name\": \"Neck\", \"x\": [1.9701400926907755, 1.859742032776182]}, {\"y\": [57.4745680066247, 54.12643011495207], \"z\": [4.414040057475402, 3.57441799527237], \"marker\": {\"color\": \"blue\", \"size\": 2}, \"line\": {\"color\": \"black\", \"width\": 5}, \"type\": \"scatter3d\", \"name\": \"Head\", \"x\": [2.080538152605369, 1.9701400926907755]}, {\"y\": [50.74999312874063, 50.77829222327945], \"z\": [1.9099948911582525, 2.7347959330693374], \"marker\": {\"color\": \"blue\", \"size\": 2}, \"line\": {\"color\": \"black\", \"width\": 5}, \"type\": \"scatter3d\", \"name\": \"LeftArm\", \"x\": [8.518977577139413, 1.859742032776182]}, {\"y\": [40.035732929195525, 50.74999312874063], \"z\": [1.3433310278265256, 1.9099948911582525], \"marker\": {\"color\": \"blue\", \"size\": 2}, \"line\": {\"color\": \"black\", \"width\": 5}, \"type\": \"scatter3d\", \"name\": \"LeftForeArm\", \"x\": [6.360548704061199, 8.518977577139413]}, {\"y\": [31.890551458895484, 40.035732929195525], \"z\": [2.565685462777309, 1.3433310278265256], \"marker\": {\"color\": \"blue\", \"size\": 2}, \"line\": {\"color\": \"black\", \"width\": 5}, \"type\": \"scatter3d\", \"name\": \"LeftHand\", \"x\": [4.180188077436102, 6.360548704061199]}, {\"y\": [50.78872878644336, 50.77829222327945], \"z\": [-0.3223395041674868, 2.7347959330693374], \"marker\": {\"color\": \"blue\", \"size\": 2}, \"line\": {\"color\": \"black\", \"width\": 5}, \"type\": \"scatter3d\", \"name\": \"RightArm\", \"x\": [-4.113559368403914, 1.859742032776182]}, {\"y\": [39.89008097087023, 50.78872878644336], \"z\": [-0.026871827602899745, -0.3223395041674868], \"marker\": {\"color\": \"blue\", \"size\": 2}, \"line\": {\"color\": \"black\", \"width\": 5}, \"type\": \"scatter3d\", \"name\": \"RightForeArm\", \"x\": [-3.160947484209375, -4.113559368403914]}, {\"y\": [31.575838110633207, 39.89008097087023], \"z\": [1.7147758730166416, -0.026871827602899745], \"marker\": {\"color\": \"blue\", \"size\": 2}, \"line\": {\"color\": \"black\", \"width\": 5}, \"type\": \"scatter3d\", \"name\": \"RightHand\", \"x\": [-2.503579277779868, -3.160947484209375]}], \"name\": \"frame3\"}, {\"data\": [{\"y\": [32.7976], \"z\": [1.6817], \"marker\": {\"color\": \"red\", \"size\": 4}, \"x\": [1.0709], \"type\": \"scatter3d\", \"name\": \"Hips\"}, {\"y\": [32.954389338730486, 32.7976], \"z\": [1.147749628219149, 1.6817], \"marker\": {\"color\": \"blue\", \"size\": 2}, \"line\": {\"color\": \"black\", \"width\": 5}, \"type\": \"scatter3d\", \"name\": \"RightUpLeg\", \"x\": [-2.5359522737472284, 1.0709]}, {\"y\": [17.275606446256482, 32.954389338730486], \"z\": [1.5310736493488983, 1.147749628219149], \"marker\": {\"color\": \"blue\", \"size\": 2}, \"line\": {\"color\": \"black\", \"width\": 5}, \"type\": \"scatter3d\", \"name\": \"RightLeg\", \"x\": [-3.3731997553734523, -2.5359522737472284]}, {\"y\": [1.9892867033045452, 17.275606446256482], \"z\": [-0.471398169216946, 1.5310736493488983], \"marker\": {\"color\": \"blue\", \"size\": 2}, \"line\": {\"color\": \"black\", \"width\": 5}, \"type\": \"scatter3d\", \"name\": \"RightFoot\", \"x\": [-3.60540634655341, -3.3731997553734523]}, {\"y\": [32.64081066126952, 32.7976], \"z\": [2.2156503717808507, 1.6817], \"marker\": {\"color\": \"blue\", \"size\": 2}, \"line\": {\"color\": \"black\", \"width\": 5}, \"type\": \"scatter3d\", \"name\": \"LeftUpLeg\", \"x\": [4.677752273747228, 1.0709]}, {\"y\": [17.04870559349225, 32.64081066126952], \"z\": [2.350165029510556, 2.2156503717808507], \"marker\": {\"color\": \"blue\", \"size\": 2}, \"line\": {\"color\": \"black\", \"width\": 5}, \"type\": \"scatter3d\", \"name\": \"LeftLeg\", \"x\": [6.559325817951713, 4.677752273747228]}, {\"y\": [2.020079109254544, 17.04870559349225], \"z\": [-0.4279794882905512, 2.350165029510556], \"marker\": {\"color\": \"blue\", \"size\": 2}, \"line\": {\"color\": \"black\", \"width\": 5}, \"type\": \"scatter3d\", \"name\": \"LeftFoot\", \"x\": [8.598365691122563, 6.559325817951713]}, {\"y\": [43.06184425238143, 32.7976], \"z\": [1.4139429678294617, 1.6817], \"marker\": {\"color\": \"blue\", \"size\": 2}, \"line\": {\"color\": \"black\", \"width\": 5}, \"type\": \"scatter3d\", \"name\": \"Spine\", \"x\": [1.7093845208866112, 1.0709]}, {\"y\": [50.77288339836477, 43.06184425238143], \"z\": [2.749656879825534, 1.4139429678294617], \"marker\": {\"color\": \"blue\", \"size\": 2}, \"line\": {\"color\": \"black\", \"width\": 5}, \"type\": \"scatter3d\", \"name\": \"Spine1\", \"x\": [1.8344350359302752, 1.7093845208866112]}, {\"y\": [54.11762677250422, 50.77288339836477], \"z\": [3.6013529251249965, 2.749656879825534], \"marker\": {\"color\": \"blue\", \"size\": 2}, \"line\": {\"color\": \"black\", \"width\": 5}, \"type\": \"scatter3d\", \"name\": \"Neck\", \"x\": [1.9547923713798414, 1.8344350359302752]}, {\"y\": [57.462370146643664, 54.11762677250422], \"z\": [4.453048970424459, 3.6013529251249965], \"marker\": {\"color\": \"blue\", \"size\": 2}, \"line\": {\"color\": \"black\", \"width\": 5}, \"type\": \"scatter3d\", \"name\": \"Head\", \"x\": [2.0751497068294076, 1.9547923713798414]}, {\"y\": [50.754505965001485, 50.77288339836477], \"z\": [1.9081904982696591, 2.749656879825534], \"marker\": {\"color\": \"blue\", \"size\": 2}, \"line\": {\"color\": \"black\", \"width\": 5}, \"type\": \"scatter3d\", \"name\": \"LeftArm\", \"x\": [8.491620043983923, 1.8344350359302752]}, {\"y\": [40.029349496173495, 50.754505965001485], \"z\": [1.312580161192323, 1.9081904982696591], \"marker\": {\"color\": \"blue\", \"size\": 2}, \"line\": {\"color\": \"black\", \"width\": 5}, \"type\": \"scatter3d\", \"name\": \"LeftForeArm\", \"x\": [6.396014689146382, 8.491620043983923]}, {\"y\": [31.894048982381225, 40.029349496173495], \"z\": [2.6218753971606255, 1.312580161192323], \"marker\": {\"color\": \"blue\", \"size\": 2}, \"line\": {\"color\": \"black\", \"width\": 5}, \"type\": \"scatter3d\", \"name\": \"LeftHand\", \"x\": [4.2292808461786, 6.396014689146382]}, {\"y\": [50.77485281521768, 50.77288339836477], \"z\": [-0.29322981475399956, 2.749656879825534], \"marker\": {\"color\": \"blue\", \"size\": 2}, \"line\": {\"color\": \"black\", \"width\": 5}, \"type\": \"scatter3d\", \"name\": \"RightArm\", \"x\": [-4.146146233323417, 1.8344350359302752]}, {\"y\": [39.88523214191154, 50.77485281521768], \"z\": [-0.025003154854290777, -0.29322981475399956], \"marker\": {\"color\": \"blue\", \"size\": 2}, \"line\": {\"color\": \"black\", \"width\": 5}, \"type\": \"scatter3d\", \"name\": \"RightForeArm\", \"x\": [-3.088076855577965, -4.146146233323417]}, {\"y\": [31.581699734512796, 39.88523214191154], \"z\": [1.7334520610871564, -0.025003154854290777], \"marker\": {\"color\": \"blue\", \"size\": 2}, \"line\": {\"color\": \"black\", \"width\": 5}, \"type\": \"scatter3d\", \"name\": \"RightHand\", \"x\": [-2.3455885905480436, -3.088076855577965]}], \"name\": \"frame4\"}, {\"data\": [{\"y\": [32.7976], \"z\": [1.6675], \"marker\": {\"color\": \"red\", \"size\": 4}, \"x\": [1.0522], \"type\": \"scatter3d\", \"name\": \"Hips\"}, {\"y\": [32.95331476380652, 32.7976], \"z\": [1.1450269176037768, 1.6675], \"marker\": {\"color\": \"blue\", \"size\": 2}, \"line\": {\"color\": \"black\", \"width\": 5}, \"type\": \"scatter3d\", \"name\": \"RightUpLeg\", \"x\": [-2.5563792233792055, 1.0522]}, {\"y\": [17.275450434291386, 32.95331476380652], \"z\": [1.5691496049889497, 1.1450269176037768], \"marker\": {\"color\": \"blue\", \"size\": 2}, \"line\": {\"color\": \"black\", \"width\": 5}, \"type\": \"scatter3d\", \"name\": \"RightLeg\", \"x\": [-3.391150839668513, -2.5563792233792055]}, {\"y\": [1.9948947574593028, 17.275450434291386], \"z\": [-0.4785228482801702, 1.5691496049889497], \"marker\": {\"color\": \"blue\", \"size\": 2}, \"line\": {\"color\": \"black\", \"width\": 5}, \"type\": \"scatter3d\", \"name\": \"RightFoot\", \"x\": [-3.608038599253437, -3.391150839668513]}, {\"y\": [32.64188523619349, 32.7976], \"z\": [2.1899730823962233, 1.6675], \"marker\": {\"color\": \"blue\", \"size\": 2}, \"line\": {\"color\": \"black\", \"width\": 5}, \"type\": \"scatter3d\", \"name\": \"LeftUpLeg\", \"x\": [4.660779223379206, 1.0522]}, {\"y\": [17.05098985080163, 32.64188523619349], \"z\": [2.3581383232887516, 2.1899730823962233], \"marker\": {\"color\": \"blue\", \"size\": 2}, \"line\": {\"color\": \"black\", \"width\": 5}, \"type\": \"scatter3d\", \"name\": \"LeftLeg\", \"x\": [6.549655919599076, 4.660779223379206]}, {\"y\": [2.0249781505794555, 17.05098985080163], \"z\": [-0.43126905707303465, 2.3581383232887516], \"marker\": {\"color\": \"blue\", \"size\": 2}, \"line\": {\"color\": \"black\", \"width\": 5}, \"type\": \"scatter3d\", \"name\": \"LeftFoot\", \"x\": [8.592586026105284, 6.549655919599076]}, {\"y\": [43.06247474812993, 32.7976], \"z\": [1.4118045178985617, 1.6675], \"marker\": {\"color\": \"blue\", \"size\": 2}, \"line\": {\"color\": \"black\", \"width\": 5}, \"type\": \"scatter3d\", \"name\": \"Spine\", \"x\": [1.6855335316111195, 1.0522]}, {\"y\": [50.76962867881832, 43.06247474812993], \"z\": [2.7700359524718645, 1.4118045178985617], \"marker\": {\"color\": \"blue\", \"size\": 2}, \"line\": {\"color\": \"black\", \"width\": 5}, \"type\": \"scatter3d\", \"name\": \"Spine1\", \"x\": [1.8075157258503292, 1.6855335316111195]}, {\"y\": [54.11185555027893, 50.76962867881832], \"z\": [3.629691292610876, 2.7700359524718645], \"marker\": {\"color\": \"blue\", \"size\": 2}, \"line\": {\"color\": \"black\", \"width\": 5}, \"type\": \"scatter3d\", \"name\": \"Neck\", \"x\": [1.9405289450507892, 1.8075157258503292]}, {\"y\": [57.45408242173955, 54.11185555027893], \"z\": [4.489346632749888, 3.629691292610876], \"marker\": {\"color\": \"blue\", \"size\": 2}, \"line\": {\"color\": \"black\", \"width\": 5}, \"type\": \"scatter3d\", \"name\": \"Head\", \"x\": [2.0735421642512493, 1.9405289450507892]}, {\"y\": [50.748334792740415, 50.76962867881832], \"z\": [1.9044807430779924, 2.7700359524718645], \"marker\": {\"color\": \"blue\", \"size\": 2}, \"line\": {\"color\": \"black\", \"width\": 5}, \"type\": \"scatter3d\", \"name\": \"LeftArm\", \"x\": [8.461602919651357, 1.8075157258503292]}, {\"y\": [40.00863489967631, 50.748334792740415], \"z\": [1.2744511903071931, 1.9044807430779924], \"marker\": {\"color\": \"blue\", \"size\": 2}, \"line\": {\"color\": \"black\", \"width\": 5}, \"type\": \"scatter3d\", \"name\": \"LeftForeArm\", \"x\": [6.452323514676934, 8.461602919651357]}, {\"y\": [31.88289626147405, 40.00863489967631], \"z\": [2.6764741632785682, 1.2744511903071931], \"marker\": {\"color\": \"blue\", \"size\": 2}, \"line\": {\"color\": \"black\", \"width\": 5}, \"type\": \"scatter3d\", \"name\": \"LeftHand\", \"x\": [4.3078405518657625, 6.452323514676934]}, {\"y\": [50.76272101847201, 50.76962867881832], \"z\": [-0.26315321149733784, 2.7700359524718645], \"marker\": {\"color\": \"blue\", \"size\": 2}, \"line\": {\"color\": \"black\", \"width\": 5}, \"type\": \"scatter3d\", \"name\": \"RightArm\", \"x\": [-4.1779860419723445, 1.8075157258503292]}, {\"y\": [39.87649066457447, 50.76272101847201], \"z\": [-0.027670377048195804, -0.26315321149733784], \"marker\": {\"color\": \"blue\", \"size\": 2}, \"line\": {\"color\": \"black\", \"width\": 5}, \"type\": \"scatter3d\", \"name\": \"RightForeArm\", \"x\": [-3.078062738164441, -4.1779860419723445]}, {\"y\": [31.575420713944336, 39.87649066457447], \"z\": [1.7305698427062552, -0.027670377048195804], \"marker\": {\"color\": \"blue\", \"size\": 2}, \"line\": {\"color\": \"black\", \"width\": 5}, \"type\": \"scatter3d\", \"name\": \"RightHand\", \"x\": [-2.308041299967248, -3.078062738164441]}], \"name\": \"frame5\"}]);\n",
       "                        }).then(function(){\n",
       "                            Plotly.animate('0407d341-e64f-488d-8727-ebee4fd07a89', null);\n",
       "                        }).then(function(){\n",
       "                            \n",
       "var gd = document.getElementById('0407d341-e64f-488d-8727-ebee4fd07a89');\n",
       "var x = new MutationObserver(function (mutations, observer) {{\n",
       "        var display = window.getComputedStyle(gd).display;\n",
       "        if (!display || display === 'none') {{\n",
       "            console.log([gd, 'removed!']);\n",
       "            Plotly.purge(gd);\n",
       "            observer.disconnect();\n",
       "        }}\n",
       "}});\n",
       "\n",
       "// Listen for the removal of the full notebook cells\n",
       "var notebookContainer = gd.closest('#notebook-container');\n",
       "if (notebookContainer) {{\n",
       "    x.observe(notebookContainer, {childList: true});\n",
       "}}\n",
       "\n",
       "// Listen for the clearing of the current output cell\n",
       "var outputEl = gd.closest('.output');\n",
       "if (outputEl) {{\n",
       "    x.observe(outputEl, {childList: true});\n",
       "}}\n",
       "\n",
       "                        })\n",
       "                };\n",
       "                });\n",
       "            </script>\n",
       "        </div>"
      ]
     },
     "metadata": {},
     "output_type": "display_data"
    }
   ],
   "source": [
    "reader = DataReader(output_json_path)\n",
    "reader.load_data()\n",
    "print(reader.frames_num)\n",
    "print(reader.joints_num)\n",
    "reader.show_data(5)"
   ]
  },
  {
   "cell_type": "code",
   "execution_count": 10,
   "metadata": {},
   "outputs": [
    {
     "name": "stdout",
     "output_type": "stream",
     "text": [
      "1 (4, 'LeftUpLeg')\n",
      "2 (5, 'LeftLeg')\n",
      "3 (6, 'LeftFoot')\n",
      "4 (4, 'LeftToeBase')\n",
      "5 (1, 'RightUpLeg')\n",
      "6 (2, 'RightLeg')\n",
      "7 (3, 'RightFoot')\n",
      "8 (8, 'RightToeBase')\n",
      "9 (7, 'Spine')\n",
      "10 (8, 'Spine1')\n",
      "11 (9, 'Neck')\n",
      "12 (10, 'Head')\n",
      "13 (13, 'LeftShoulder')\n",
      "14 (11, 'LeftArm')\n",
      "15 (12, 'LeftForeArm')\n",
      "16 (13, 'LeftHand')\n",
      "17 (17, 'LeftHandThumb')\n",
      "18 (18, 'L_Wrist_End')\n",
      "19 (19, 'RightShoulder')\n",
      "20 (14, 'RightArm')\n",
      "21 (15, 'RightForeArm')\n",
      "22 (16, 'RightHand')\n",
      "23 (23, 'RightHandThumb')\n",
      "24 (24, 'R_Wrist_End')\n"
     ]
    }
   ],
   "source": [
    "for (idx,joint) in bvh_joints_lst[200].items():\n",
    "    if(joint.parent != None):\n",
    "        print(idx,(joint.index,joint.name))"
   ]
  },
  {
   "cell_type": "code",
   "execution_count": null,
   "metadata": {
    "scrolled": false
   },
   "outputs": [],
   "source": []
  },
  {
   "cell_type": "code",
   "execution_count": null,
   "metadata": {},
   "outputs": [],
   "source": []
  },
  {
   "cell_type": "code",
   "execution_count": null,
   "metadata": {},
   "outputs": [],
   "source": []
  },
  {
   "cell_type": "code",
   "execution_count": null,
   "metadata": {},
   "outputs": [],
   "source": []
  },
  {
   "cell_type": "code",
   "execution_count": null,
   "metadata": {},
   "outputs": [],
   "source": []
  }
 ],
 "metadata": {
  "kernelspec": {
   "display_name": "Python 3",
   "language": "python",
   "name": "python3"
  },
  "language_info": {
   "codemirror_mode": {
    "name": "ipython",
    "version": 3
   },
   "file_extension": ".py",
   "mimetype": "text/x-python",
   "name": "python",
   "nbconvert_exporter": "python",
   "pygments_lexer": "ipython3",
   "version": "3.7.3"
  }
 },
 "nbformat": 4,
 "nbformat_minor": 2
}
