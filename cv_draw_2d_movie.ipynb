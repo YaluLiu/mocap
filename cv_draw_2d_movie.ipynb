{
 "cells": [
  {
   "cell_type": "code",
   "execution_count": 1,
   "metadata": {},
   "outputs": [],
   "source": [
    "from parser.datareader   import DataReader\n",
    "from parser.datasaver    import save_data\n",
    "\n",
    "import cv2\n",
    "import numpy as np"
   ]
  },
  {
   "cell_type": "code",
   "execution_count": 2,
   "metadata": {},
   "outputs": [],
   "source": [
    "def print_joint(joints):\n",
    "    for joint in joints.values():\n",
    "        print(joint.pos)"
   ]
  },
  {
   "cell_type": "code",
   "execution_count": 3,
   "metadata": {},
   "outputs": [],
   "source": [
    "def get_range(joints_lst):\n",
    "    range = np.zeros((3,2))\n",
    "    range[0][0] = 0\n",
    "    range[0][1] = 640\n",
    "    range[1][0] = 480\n",
    "    range[1][1] = 0\n",
    "    return range"
   ]
  },
  {
   "cell_type": "code",
   "execution_count": 9,
   "metadata": {},
   "outputs": [],
   "source": [
    "def read_and_show(human_idx = 1, action_idx = 2, cam_idx = 1):\n",
    "    str_person = str(human_idx).zfill(2)\n",
    "    str_action = str(action_idx).zfill(2)\n",
    "    json_path = \"./output_human/{0}/{1}/cam{2}/points_2d.json\".format(str_person,\n",
    "                str_action,str(cam_idx))\n",
    "    print(json_path)\n",
    "    reader = DataReader(json_path)\n",
    "    reader.load_data()\n",
    "    xyz_range = get_range(reader.frames)\n",
    "    reader.show_data(10,5, 2,xyz_range[0],xyz_range[1])"
   ]
  },
  {
   "cell_type": "code",
   "execution_count": 14,
   "metadata": {},
   "outputs": [
    {
     "name": "stdout",
     "output_type": "stream",
     "text": [
      "./output_human/01/01/cam0/points_2d.json\n"
     ]
    },
    {
     "data": {
      "text/html": [
       "        <script type=\"text/javascript\">\n",
       "        window.PlotlyConfig = {MathJaxConfig: 'local'};\n",
       "        if (window.MathJax) {MathJax.Hub.Config({SVG: {font: \"STIX-Web\"}});}\n",
       "        if (typeof require !== 'undefined') {\n",
       "        require.undef(\"plotly\");\n",
       "        requirejs.config({\n",
       "            paths: {\n",
       "                'plotly': ['https://cdn.plot.ly/plotly-latest.min']\n",
       "            }\n",
       "        });\n",
       "        require(['plotly'], function(Plotly) {\n",
       "            window._Plotly = Plotly;\n",
       "        });\n",
       "        }\n",
       "        </script>\n",
       "        "
      ]
     },
     "metadata": {},
     "output_type": "display_data"
    },
    {
     "data": {
      "application/vnd.plotly.v1+json": {
       "config": {
        "linkText": "Export to plot.ly",
        "plotlyServerURL": "https://plot.ly",
        "responsive": true,
        "showLink": false
       },
       "data": [
        {
         "marker": {
          "color": "red",
          "size": 4
         },
         "name": "root",
         "type": "scatter",
         "uid": "ed60ec64-2245-4194-b59c-d4588ec32e99",
         "x": [
          314.61736513604035
         ],
         "y": [
          287.2830349119448
         ]
        },
        {
         "line": {
          "color": "black",
          "width": 5
         },
         "marker": {
          "color": "blue",
          "size": 2
         },
         "name": "rhipjoint",
         "type": "scatter",
         "uid": "fc0c8b3e-9cbf-48c4-abe1-900eb1725a4a",
         "x": [
          319.71493090210987,
          314.61736513604035
         ],
         "y": [
          293.21848172722747,
          287.2830349119448
         ]
        },
        {
         "line": {
          "color": "black",
          "width": 5
         },
         "marker": {
          "color": "blue",
          "size": 2
         },
         "name": "rfemur",
         "type": "scatter",
         "uid": "e6eadf39-ff07-454c-b2b4-ae0957bb60c5",
         "x": [
          320.15632051851003,
          319.71493090210987
         ],
         "y": [
          318.6030971252975,
          293.21848172722747
         ]
        },
        {
         "line": {
          "color": "black",
          "width": 5
         },
         "marker": {
          "color": "blue",
          "size": 2
         },
         "name": "rtibia",
         "type": "scatter",
         "uid": "dad6e656-ab6d-47a9-9e3b-93d5c45d7dbf",
         "x": [
          320,
          320.15632051851003
         ],
         "y": [
          340,
          318.6030971252975
         ]
        },
        {
         "line": {
          "color": "black",
          "width": 5
         },
         "marker": {
          "color": "blue",
          "size": 2
         },
         "name": "lhipjoint",
         "type": "scatter",
         "uid": "047a9156-0ee8-41b0-ab8b-67d3126b42b7",
         "x": [
          310.7340926538172,
          314.61736513604035
         ],
         "y": [
          293.85321069587815,
          287.2830349119448
         ]
        },
        {
         "line": {
          "color": "black",
          "width": 5
         },
         "marker": {
          "color": "blue",
          "size": 2
         },
         "name": "lfemur",
         "type": "scatter",
         "uid": "1b2f93ee-f08f-44ab-acba-fc7e01c200b8",
         "x": [
          309.45359989539577,
          310.7340926538172
         ],
         "y": [
          318.0747045624697,
          293.85321069587815
         ]
        },
        {
         "line": {
          "color": "black",
          "width": 5
         },
         "marker": {
          "color": "blue",
          "size": 2
         },
         "name": "ltibia",
         "type": "scatter",
         "uid": "ebcada3c-1830-45f4-bcf2-55b8340dd4b8",
         "x": [
          307.49224836016685,
          309.45359989539577
         ],
         "y": [
          339.87401545290356,
          318.0747045624697
         ]
        },
        {
         "line": {
          "color": "black",
          "width": 5
         },
         "marker": {
          "color": "blue",
          "size": 2
         },
         "name": "upperback",
         "type": "scatter",
         "uid": "85605f39-bec4-44f1-85e2-903de901c8dc",
         "x": [
          314.0693266334386,
          314.61736513604035
         ],
         "y": [
          273.45215213846126,
          287.2830349119448
         ]
        },
        {
         "line": {
          "color": "black",
          "width": 5
         },
         "marker": {
          "color": "blue",
          "size": 2
         },
         "name": "lowerneck",
         "type": "scatter",
         "uid": "4b044f7b-7f75-4316-8bb6-0a33b9ec109c",
         "x": [
          313.9556933074109,
          314.0693266334386
         ],
         "y": [
          260.58580118403523,
          273.45215213846126
         ]
        },
        {
         "line": {
          "color": "black",
          "width": 5
         },
         "marker": {
          "color": "blue",
          "size": 2
         },
         "name": "upperneck",
         "type": "scatter",
         "uid": "af0c74c2-f523-4d9b-b48a-20ceda73f72c",
         "x": [
          313.3679488573254,
          313.9556933074109
         ],
         "y": [
          254.89453518493838,
          260.58580118403523
         ]
        },
        {
         "line": {
          "color": "black",
          "width": 5
         },
         "marker": {
          "color": "blue",
          "size": 2
         },
         "name": "head",
         "type": "scatter",
         "uid": "a098f971-059b-4d86-bcaf-9f45d4fc5504",
         "x": [
          313.37811561635937,
          313.3679488573254
         ],
         "y": [
          249.56679626527114,
          254.89453518493838
         ]
        },
        {
         "line": {
          "color": "black",
          "width": 5
         },
         "marker": {
          "color": "blue",
          "size": 2
         },
         "name": "lclavicle",
         "type": "scatter",
         "uid": "8e0265c1-1d46-4177-8e5e-a53af4b05d03",
         "x": [
          303.08640212981066,
          313.9556933074109
         ],
         "y": [
          261.94326011627913,
          260.58580118403523
         ]
        },
        {
         "line": {
          "color": "black",
          "width": 5
         },
         "marker": {
          "color": "blue",
          "size": 2
         },
         "name": "lradius",
         "type": "scatter",
         "uid": "9436a625-36e1-4032-8e62-56737e5be346",
         "x": [
          304.2127959381759,
          303.08640212981066
         ],
         "y": [
          262.50061972695886,
          261.94326011627913
         ]
        },
        {
         "line": {
          "color": "black",
          "width": 5
         },
         "marker": {
          "color": "blue",
          "size": 2
         },
         "name": "lwrist",
         "type": "scatter",
         "uid": "a6106714-f7dc-4e8a-95d2-805c29db97a6",
         "x": [
          307.4850648323092,
          304.2127959381759
         ],
         "y": [
          257.45856330610474,
          262.50061972695886
         ]
        },
        {
         "line": {
          "color": "black",
          "width": 5
         },
         "marker": {
          "color": "blue",
          "size": 2
         },
         "name": "rclavicle",
         "type": "scatter",
         "uid": "826dd843-a950-4080-a11f-f1571c8dddeb",
         "x": [
          324.683199448494,
          313.9556933074109
         ],
         "y": [
          262.28617848802895,
          260.58580118403523
         ]
        },
        {
         "line": {
          "color": "black",
          "width": 5
         },
         "marker": {
          "color": "blue",
          "size": 2
         },
         "name": "rradius",
         "type": "scatter",
         "uid": "d849c261-bb0c-4c4e-8b4f-9e10ae76d211",
         "x": [
          326.5073711284434,
          324.683199448494
         ],
         "y": [
          290.91591433624785,
          262.28617848802895
         ]
        },
        {
         "line": {
          "color": "black",
          "width": 5
         },
         "marker": {
          "color": "blue",
          "size": 2
         },
         "name": "rwrist",
         "type": "scatter",
         "uid": "2f7203b2-5e1e-4b86-b940-dc2a6448f921",
         "x": [
          327.40097767423725,
          326.5073711284434
         ],
         "y": [
          296.50113289828846,
          290.91591433624785
         ]
        }
       ],
       "frames": [
        {
         "data": [
          {
           "marker": {
            "color": "red",
            "size": 4
           },
           "name": "root",
           "type": "scatter",
           "x": [
            314.61736513604035
           ],
           "y": [
            287.2830349119448
           ]
          },
          {
           "line": {
            "color": "black",
            "width": 5
           },
           "marker": {
            "color": "blue",
            "size": 2
           },
           "name": "rhipjoint",
           "type": "scatter",
           "x": [
            319.71493090210987,
            314.61736513604035
           ],
           "y": [
            293.21848172722747,
            287.2830349119448
           ]
          },
          {
           "line": {
            "color": "black",
            "width": 5
           },
           "marker": {
            "color": "blue",
            "size": 2
           },
           "name": "rfemur",
           "type": "scatter",
           "x": [
            320.15632051851003,
            319.71493090210987
           ],
           "y": [
            318.6030971252975,
            293.21848172722747
           ]
          },
          {
           "line": {
            "color": "black",
            "width": 5
           },
           "marker": {
            "color": "blue",
            "size": 2
           },
           "name": "rtibia",
           "type": "scatter",
           "x": [
            320,
            320.15632051851003
           ],
           "y": [
            340,
            318.6030971252975
           ]
          },
          {
           "line": {
            "color": "black",
            "width": 5
           },
           "marker": {
            "color": "blue",
            "size": 2
           },
           "name": "lhipjoint",
           "type": "scatter",
           "x": [
            310.7340926538172,
            314.61736513604035
           ],
           "y": [
            293.85321069587815,
            287.2830349119448
           ]
          },
          {
           "line": {
            "color": "black",
            "width": 5
           },
           "marker": {
            "color": "blue",
            "size": 2
           },
           "name": "lfemur",
           "type": "scatter",
           "x": [
            309.45359989539577,
            310.7340926538172
           ],
           "y": [
            318.0747045624697,
            293.85321069587815
           ]
          },
          {
           "line": {
            "color": "black",
            "width": 5
           },
           "marker": {
            "color": "blue",
            "size": 2
           },
           "name": "ltibia",
           "type": "scatter",
           "x": [
            307.49224836016685,
            309.45359989539577
           ],
           "y": [
            339.87401545290356,
            318.0747045624697
           ]
          },
          {
           "line": {
            "color": "black",
            "width": 5
           },
           "marker": {
            "color": "blue",
            "size": 2
           },
           "name": "upperback",
           "type": "scatter",
           "x": [
            314.0693266334386,
            314.61736513604035
           ],
           "y": [
            273.45215213846126,
            287.2830349119448
           ]
          },
          {
           "line": {
            "color": "black",
            "width": 5
           },
           "marker": {
            "color": "blue",
            "size": 2
           },
           "name": "lowerneck",
           "type": "scatter",
           "x": [
            313.9556933074109,
            314.0693266334386
           ],
           "y": [
            260.58580118403523,
            273.45215213846126
           ]
          },
          {
           "line": {
            "color": "black",
            "width": 5
           },
           "marker": {
            "color": "blue",
            "size": 2
           },
           "name": "upperneck",
           "type": "scatter",
           "x": [
            313.3679488573254,
            313.9556933074109
           ],
           "y": [
            254.89453518493838,
            260.58580118403523
           ]
          },
          {
           "line": {
            "color": "black",
            "width": 5
           },
           "marker": {
            "color": "blue",
            "size": 2
           },
           "name": "head",
           "type": "scatter",
           "x": [
            313.37811561635937,
            313.3679488573254
           ],
           "y": [
            249.56679626527114,
            254.89453518493838
           ]
          },
          {
           "line": {
            "color": "black",
            "width": 5
           },
           "marker": {
            "color": "blue",
            "size": 2
           },
           "name": "lclavicle",
           "type": "scatter",
           "x": [
            303.08640212981066,
            313.9556933074109
           ],
           "y": [
            261.94326011627913,
            260.58580118403523
           ]
          },
          {
           "line": {
            "color": "black",
            "width": 5
           },
           "marker": {
            "color": "blue",
            "size": 2
           },
           "name": "lradius",
           "type": "scatter",
           "x": [
            304.2127959381759,
            303.08640212981066
           ],
           "y": [
            262.50061972695886,
            261.94326011627913
           ]
          },
          {
           "line": {
            "color": "black",
            "width": 5
           },
           "marker": {
            "color": "blue",
            "size": 2
           },
           "name": "lwrist",
           "type": "scatter",
           "x": [
            307.4850648323092,
            304.2127959381759
           ],
           "y": [
            257.45856330610474,
            262.50061972695886
           ]
          },
          {
           "line": {
            "color": "black",
            "width": 5
           },
           "marker": {
            "color": "blue",
            "size": 2
           },
           "name": "rclavicle",
           "type": "scatter",
           "x": [
            324.683199448494,
            313.9556933074109
           ],
           "y": [
            262.28617848802895,
            260.58580118403523
           ]
          },
          {
           "line": {
            "color": "black",
            "width": 5
           },
           "marker": {
            "color": "blue",
            "size": 2
           },
           "name": "rradius",
           "type": "scatter",
           "x": [
            326.5073711284434,
            324.683199448494
           ],
           "y": [
            290.91591433624785,
            262.28617848802895
           ]
          },
          {
           "line": {
            "color": "black",
            "width": 5
           },
           "marker": {
            "color": "blue",
            "size": 2
           },
           "name": "rwrist",
           "type": "scatter",
           "x": [
            327.40097767423725,
            326.5073711284434
           ],
           "y": [
            296.50113289828846,
            290.91591433624785
           ]
          }
         ],
         "name": "frame1"
        },
        {
         "data": [
          {
           "marker": {
            "color": "red",
            "size": 4
           },
           "name": "root",
           "type": "scatter",
           "x": [
            314.62878607923744
           ],
           "y": [
            287.3332013770578
           ]
          },
          {
           "line": {
            "color": "black",
            "width": 5
           },
           "marker": {
            "color": "blue",
            "size": 2
           },
           "name": "rhipjoint",
           "type": "scatter",
           "x": [
            319.7005509988112,
            314.62878607923744
           ],
           "y": [
            293.2763371650582,
            287.3332013770578
           ]
          },
          {
           "line": {
            "color": "black",
            "width": 5
           },
           "marker": {
            "color": "blue",
            "size": 2
           },
           "name": "rfemur",
           "type": "scatter",
           "x": [
            320.10120267659346,
            319.7005509988112
           ],
           "y": [
            318.66444078596936,
            293.2763371650582
           ]
          },
          {
           "line": {
            "color": "black",
            "width": 5
           },
           "marker": {
            "color": "blue",
            "size": 2
           },
           "name": "rtibia",
           "type": "scatter",
           "x": [
            319.9629517575369,
            320.10120267659346
           ],
           "y": [
            340.01123892803946,
            318.66444078596936
           ]
          },
          {
           "line": {
            "color": "black",
            "width": 5
           },
           "marker": {
            "color": "blue",
            "size": 2
           },
           "name": "lhipjoint",
           "type": "scatter",
           "x": [
            310.71435644349793,
            314.62878607923744
           ],
           "y": [
            293.8782629622286,
            287.3332013770578
           ]
          },
          {
           "line": {
            "color": "black",
            "width": 5
           },
           "marker": {
            "color": "blue",
            "size": 2
           },
           "name": "lfemur",
           "type": "scatter",
           "x": [
            309.4406540751663,
            310.71435644349793
           ],
           "y": [
            318.09907071606204,
            293.8782629622286
           ]
          },
          {
           "line": {
            "color": "black",
            "width": 5
           },
           "marker": {
            "color": "blue",
            "size": 2
           },
           "name": "ltibia",
           "type": "scatter",
           "x": [
            307.47952989773376,
            309.4406540751663
           ],
           "y": [
            339.9144099249433,
            318.09907071606204
           ]
          },
          {
           "line": {
            "color": "black",
            "width": 5
           },
           "marker": {
            "color": "blue",
            "size": 2
           },
           "name": "upperback",
           "type": "scatter",
           "x": [
            314.04308837535984,
            314.62878607923744
           ],
           "y": [
            273.5067226634241,
            287.3332013770578
           ]
          },
          {
           "line": {
            "color": "black",
            "width": 5
           },
           "marker": {
            "color": "blue",
            "size": 2
           },
           "name": "lowerneck",
           "type": "scatter",
           "x": [
            313.9096930944076,
            314.04308837535984
           ],
           "y": [
            260.6407434092944,
            273.5067226634241
           ]
          },
          {
           "line": {
            "color": "black",
            "width": 5
           },
           "marker": {
            "color": "blue",
            "size": 2
           },
           "name": "upperneck",
           "type": "scatter",
           "x": [
            313.35607337790555,
            313.9096930944076
           ],
           "y": [
            254.93368690392876,
            260.6407434092944
           ]
          },
          {
           "line": {
            "color": "black",
            "width": 5
           },
           "marker": {
            "color": "blue",
            "size": 2
           },
           "name": "head",
           "type": "scatter",
           "x": [
            313.4258096930547,
            313.35607337790555
           ],
           "y": [
            249.56552645368106,
            254.93368690392876
           ]
          },
          {
           "line": {
            "color": "black",
            "width": 5
           },
           "marker": {
            "color": "blue",
            "size": 2
           },
           "name": "lclavicle",
           "type": "scatter",
           "x": [
            303.08186209572307,
            313.9096930944076
           ],
           "y": [
            261.9777525116212,
            260.6407434092944
           ]
          },
          {
           "line": {
            "color": "black",
            "width": 5
           },
           "marker": {
            "color": "blue",
            "size": 2
           },
           "name": "lradius",
           "type": "scatter",
           "x": [
            304.4065587047068,
            303.08186209572307
           ],
           "y": [
            262.3950024001784,
            261.9777525116212
           ]
          },
          {
           "line": {
            "color": "black",
            "width": 5
           },
           "marker": {
            "color": "blue",
            "size": 2
           },
           "name": "lwrist",
           "type": "scatter",
           "x": [
            307.65526712008733,
            304.4065587047068
           ],
           "y": [
            257.34376851805695,
            262.3950024001784
           ]
          },
          {
           "line": {
            "color": "black",
            "width": 5
           },
           "marker": {
            "color": "blue",
            "size": 2
           },
           "name": "rclavicle",
           "type": "scatter",
           "x": [
            324.68663876147605,
            313.9096930944076
           ],
           "y": [
            262.35384214934396,
            260.6407434092944
           ]
          },
          {
           "line": {
            "color": "black",
            "width": 5
           },
           "marker": {
            "color": "blue",
            "size": 2
           },
           "name": "rradius",
           "type": "scatter",
           "x": [
            326.3152964428534,
            324.68663876147605
           ],
           "y": [
            291.0591631238145,
            262.35384214934396
           ]
          },
          {
           "line": {
            "color": "black",
            "width": 5
           },
           "marker": {
            "color": "blue",
            "size": 2
           },
           "name": "rwrist",
           "type": "scatter",
           "x": [
            327.14590794994876,
            326.3152964428534
           ],
           "y": [
            296.6794852484594,
            291.0591631238145
           ]
          }
         ],
         "name": "frame2"
        }
       ],
       "layout": {
        "autosize": false,
        "height": 700,
        "sliders": [
         {
          "currentvalue": {
           "font": {
            "size": 12
           },
           "prefix": "slice: ",
           "visible": true,
           "xanchor": "center"
          },
          "len": 1,
          "steps": [
           {
            "args": [
             [
              "frame1"
             ],
             {
              "frame": {
               "duration": 70,
               "redraw": true
              },
              "mode": "immediate",
              "transition": {
               "duration": 0
              }
             }
            ],
            "label": "1",
            "method": "animate"
           },
           {
            "args": [
             [
              "frame2"
             ],
             {
              "frame": {
               "duration": 70,
               "redraw": true
              },
              "mode": "immediate",
              "transition": {
               "duration": 0
              }
             }
            ],
            "label": "2",
            "method": "animate"
           }
          ],
          "transition": {
           "duration": 0
          },
          "x": 0,
          "y": 0
         }
        ],
        "title": {
         "text": "action animation"
        },
        "updatemenus": [
         {
          "buttons": [
           {
            "args": [
             null
            ],
            "label": "Play",
            "method": "animate"
           }
          ],
          "pad": {
           "r": 10,
           "t": 0
          },
          "showactive": false,
          "type": "buttons",
          "x": 1.3,
          "xanchor": "right",
          "y": 1,
          "yanchor": "top"
         }
        ],
        "width": 800,
        "xaxis": {
         "autorange": false,
         "range": [
          0,
          640
         ]
        },
        "yaxis": {
         "autorange": false,
         "range": [
          480,
          0
         ]
        }
       }
      },
      "text/html": [
       "<div>\n",
       "        \n",
       "        \n",
       "            <div id=\"6190e2d7-1283-4023-9fe1-24dae1a527d8\" class=\"plotly-graph-div\" style=\"height:700px; width:800px;\"></div>\n",
       "            <script type=\"text/javascript\">\n",
       "                require([\"plotly\"], function(Plotly) {\n",
       "                    window.PLOTLYENV=window.PLOTLYENV || {};\n",
       "                    window.PLOTLYENV.BASE_URL='https://plot.ly';\n",
       "                    \n",
       "                if (document.getElementById(\"6190e2d7-1283-4023-9fe1-24dae1a527d8\")) {\n",
       "                    Plotly.newPlot(\n",
       "                        '6190e2d7-1283-4023-9fe1-24dae1a527d8',\n",
       "                        [{\"marker\": {\"color\": \"red\", \"size\": 4}, \"name\": \"root\", \"type\": \"scatter\", \"uid\": \"467137a0-8e7c-4636-8c97-8ec6d11a768e\", \"x\": [314.61736513604035], \"y\": [287.2830349119448]}, {\"line\": {\"color\": \"black\", \"width\": 5}, \"marker\": {\"color\": \"blue\", \"size\": 2}, \"name\": \"rhipjoint\", \"type\": \"scatter\", \"uid\": \"00bc1802-e987-4f20-835d-f96006c64773\", \"x\": [319.71493090210987, 314.61736513604035], \"y\": [293.21848172722747, 287.2830349119448]}, {\"line\": {\"color\": \"black\", \"width\": 5}, \"marker\": {\"color\": \"blue\", \"size\": 2}, \"name\": \"rfemur\", \"type\": \"scatter\", \"uid\": \"0eb2ee4d-c6fe-4dca-82da-d76dc919c475\", \"x\": [320.15632051851003, 319.71493090210987], \"y\": [318.6030971252975, 293.21848172722747]}, {\"line\": {\"color\": \"black\", \"width\": 5}, \"marker\": {\"color\": \"blue\", \"size\": 2}, \"name\": \"rtibia\", \"type\": \"scatter\", \"uid\": \"3df17cbb-ecc9-4fbd-a695-ee8e42def4b3\", \"x\": [320.0, 320.15632051851003], \"y\": [340.0, 318.6030971252975]}, {\"line\": {\"color\": \"black\", \"width\": 5}, \"marker\": {\"color\": \"blue\", \"size\": 2}, \"name\": \"lhipjoint\", \"type\": \"scatter\", \"uid\": \"b966ed53-58ac-476e-8794-b4dfb574cecc\", \"x\": [310.7340926538172, 314.61736513604035], \"y\": [293.85321069587815, 287.2830349119448]}, {\"line\": {\"color\": \"black\", \"width\": 5}, \"marker\": {\"color\": \"blue\", \"size\": 2}, \"name\": \"lfemur\", \"type\": \"scatter\", \"uid\": \"8f64e6e7-e5f8-41d5-9ef3-f19da743c945\", \"x\": [309.45359989539577, 310.7340926538172], \"y\": [318.0747045624697, 293.85321069587815]}, {\"line\": {\"color\": \"black\", \"width\": 5}, \"marker\": {\"color\": \"blue\", \"size\": 2}, \"name\": \"ltibia\", \"type\": \"scatter\", \"uid\": \"ff100f55-29e1-4c8c-ad6f-d8cc0c8f43f0\", \"x\": [307.49224836016685, 309.45359989539577], \"y\": [339.87401545290356, 318.0747045624697]}, {\"line\": {\"color\": \"black\", \"width\": 5}, \"marker\": {\"color\": \"blue\", \"size\": 2}, \"name\": \"upperback\", \"type\": \"scatter\", \"uid\": \"f735fbb3-1f75-45ba-9b18-6ba696af1356\", \"x\": [314.0693266334386, 314.61736513604035], \"y\": [273.45215213846126, 287.2830349119448]}, {\"line\": {\"color\": \"black\", \"width\": 5}, \"marker\": {\"color\": \"blue\", \"size\": 2}, \"name\": \"lowerneck\", \"type\": \"scatter\", \"uid\": \"b070275d-1846-4d9b-aa64-a1ce0787b8d5\", \"x\": [313.9556933074109, 314.0693266334386], \"y\": [260.58580118403523, 273.45215213846126]}, {\"line\": {\"color\": \"black\", \"width\": 5}, \"marker\": {\"color\": \"blue\", \"size\": 2}, \"name\": \"upperneck\", \"type\": \"scatter\", \"uid\": \"4a66b735-ddf3-457b-93f7-1a838c3b1c4f\", \"x\": [313.3679488573254, 313.9556933074109], \"y\": [254.89453518493838, 260.58580118403523]}, {\"line\": {\"color\": \"black\", \"width\": 5}, \"marker\": {\"color\": \"blue\", \"size\": 2}, \"name\": \"head\", \"type\": \"scatter\", \"uid\": \"db8970ea-7e23-4650-b6be-e80e9d571b86\", \"x\": [313.37811561635937, 313.3679488573254], \"y\": [249.56679626527114, 254.89453518493838]}, {\"line\": {\"color\": \"black\", \"width\": 5}, \"marker\": {\"color\": \"blue\", \"size\": 2}, \"name\": \"lclavicle\", \"type\": \"scatter\", \"uid\": \"b44e6209-f815-4457-8db8-6298e5022e0e\", \"x\": [303.08640212981066, 313.9556933074109], \"y\": [261.94326011627913, 260.58580118403523]}, {\"line\": {\"color\": \"black\", \"width\": 5}, \"marker\": {\"color\": \"blue\", \"size\": 2}, \"name\": \"lradius\", \"type\": \"scatter\", \"uid\": \"3c090072-e7bf-4be8-9009-903cec48663a\", \"x\": [304.2127959381759, 303.08640212981066], \"y\": [262.50061972695886, 261.94326011627913]}, {\"line\": {\"color\": \"black\", \"width\": 5}, \"marker\": {\"color\": \"blue\", \"size\": 2}, \"name\": \"lwrist\", \"type\": \"scatter\", \"uid\": \"038ee69a-a348-480d-9deb-255a7895b4a7\", \"x\": [307.4850648323092, 304.2127959381759], \"y\": [257.45856330610474, 262.50061972695886]}, {\"line\": {\"color\": \"black\", \"width\": 5}, \"marker\": {\"color\": \"blue\", \"size\": 2}, \"name\": \"rclavicle\", \"type\": \"scatter\", \"uid\": \"ee5c8ab6-3aa0-4256-8302-1bc92a97fee0\", \"x\": [324.683199448494, 313.9556933074109], \"y\": [262.28617848802895, 260.58580118403523]}, {\"line\": {\"color\": \"black\", \"width\": 5}, \"marker\": {\"color\": \"blue\", \"size\": 2}, \"name\": \"rradius\", \"type\": \"scatter\", \"uid\": \"8de57b87-47af-412c-891e-b8ef609479a5\", \"x\": [326.5073711284434, 324.683199448494], \"y\": [290.91591433624785, 262.28617848802895]}, {\"line\": {\"color\": \"black\", \"width\": 5}, \"marker\": {\"color\": \"blue\", \"size\": 2}, \"name\": \"rwrist\", \"type\": \"scatter\", \"uid\": \"f96c6cb9-0664-458c-86fc-6b7212892058\", \"x\": [327.40097767423725, 326.5073711284434], \"y\": [296.50113289828846, 290.91591433624785]}],\n",
       "                        {\"autosize\": false, \"height\": 700, \"sliders\": [{\"currentvalue\": {\"font\": {\"size\": 12}, \"prefix\": \"slice: \", \"visible\": true, \"xanchor\": \"center\"}, \"len\": 1.0, \"steps\": [{\"args\": [[\"frame1\"], {\"frame\": {\"duration\": 70, \"redraw\": true}, \"mode\": \"immediate\", \"transition\": {\"duration\": 0}}], \"label\": \"1\", \"method\": \"animate\"}, {\"args\": [[\"frame2\"], {\"frame\": {\"duration\": 70, \"redraw\": true}, \"mode\": \"immediate\", \"transition\": {\"duration\": 0}}], \"label\": \"2\", \"method\": \"animate\"}], \"transition\": {\"duration\": 0}, \"x\": 0, \"y\": 0}], \"title\": {\"text\": \"action animation\"}, \"updatemenus\": [{\"buttons\": [{\"args\": [null], \"label\": \"Play\", \"method\": \"animate\"}], \"pad\": {\"r\": 10, \"t\": 0}, \"showactive\": false, \"type\": \"buttons\", \"x\": 1.3, \"xanchor\": \"right\", \"y\": 1, \"yanchor\": \"top\"}], \"width\": 800, \"xaxis\": {\"autorange\": false, \"range\": [0.0, 640.0]}, \"yaxis\": {\"autorange\": false, \"range\": [480.0, 0.0]}},\n",
       "                        {\"responsive\": true, \"plotlyServerURL\": \"https://plot.ly\", \"showLink\": false, \"linkText\": \"Export to plot.ly\"}\n",
       "                    ).then(function(){\n",
       "                            Plotly.addFrames('6190e2d7-1283-4023-9fe1-24dae1a527d8', [{\"name\": \"frame1\", \"data\": [{\"name\": \"root\", \"marker\": {\"color\": \"red\", \"size\": 4}, \"x\": [314.61736513604035], \"y\": [287.2830349119448], \"type\": \"scatter\"}, {\"line\": {\"color\": \"black\", \"width\": 5}, \"type\": \"scatter\", \"name\": \"rhipjoint\", \"marker\": {\"color\": \"blue\", \"size\": 2}, \"x\": [319.71493090210987, 314.61736513604035], \"y\": [293.21848172722747, 287.2830349119448]}, {\"line\": {\"color\": \"black\", \"width\": 5}, \"type\": \"scatter\", \"name\": \"rfemur\", \"marker\": {\"color\": \"blue\", \"size\": 2}, \"x\": [320.15632051851003, 319.71493090210987], \"y\": [318.6030971252975, 293.21848172722747]}, {\"line\": {\"color\": \"black\", \"width\": 5}, \"type\": \"scatter\", \"name\": \"rtibia\", \"marker\": {\"color\": \"blue\", \"size\": 2}, \"x\": [320.0, 320.15632051851003], \"y\": [340.0, 318.6030971252975]}, {\"line\": {\"color\": \"black\", \"width\": 5}, \"type\": \"scatter\", \"name\": \"lhipjoint\", \"marker\": {\"color\": \"blue\", \"size\": 2}, \"x\": [310.7340926538172, 314.61736513604035], \"y\": [293.85321069587815, 287.2830349119448]}, {\"line\": {\"color\": \"black\", \"width\": 5}, \"type\": \"scatter\", \"name\": \"lfemur\", \"marker\": {\"color\": \"blue\", \"size\": 2}, \"x\": [309.45359989539577, 310.7340926538172], \"y\": [318.0747045624697, 293.85321069587815]}, {\"line\": {\"color\": \"black\", \"width\": 5}, \"type\": \"scatter\", \"name\": \"ltibia\", \"marker\": {\"color\": \"blue\", \"size\": 2}, \"x\": [307.49224836016685, 309.45359989539577], \"y\": [339.87401545290356, 318.0747045624697]}, {\"line\": {\"color\": \"black\", \"width\": 5}, \"type\": \"scatter\", \"name\": \"upperback\", \"marker\": {\"color\": \"blue\", \"size\": 2}, \"x\": [314.0693266334386, 314.61736513604035], \"y\": [273.45215213846126, 287.2830349119448]}, {\"line\": {\"color\": \"black\", \"width\": 5}, \"type\": \"scatter\", \"name\": \"lowerneck\", \"marker\": {\"color\": \"blue\", \"size\": 2}, \"x\": [313.9556933074109, 314.0693266334386], \"y\": [260.58580118403523, 273.45215213846126]}, {\"line\": {\"color\": \"black\", \"width\": 5}, \"type\": \"scatter\", \"name\": \"upperneck\", \"marker\": {\"color\": \"blue\", \"size\": 2}, \"x\": [313.3679488573254, 313.9556933074109], \"y\": [254.89453518493838, 260.58580118403523]}, {\"line\": {\"color\": \"black\", \"width\": 5}, \"type\": \"scatter\", \"name\": \"head\", \"marker\": {\"color\": \"blue\", \"size\": 2}, \"x\": [313.37811561635937, 313.3679488573254], \"y\": [249.56679626527114, 254.89453518493838]}, {\"line\": {\"color\": \"black\", \"width\": 5}, \"type\": \"scatter\", \"name\": \"lclavicle\", \"marker\": {\"color\": \"blue\", \"size\": 2}, \"x\": [303.08640212981066, 313.9556933074109], \"y\": [261.94326011627913, 260.58580118403523]}, {\"line\": {\"color\": \"black\", \"width\": 5}, \"type\": \"scatter\", \"name\": \"lradius\", \"marker\": {\"color\": \"blue\", \"size\": 2}, \"x\": [304.2127959381759, 303.08640212981066], \"y\": [262.50061972695886, 261.94326011627913]}, {\"line\": {\"color\": \"black\", \"width\": 5}, \"type\": \"scatter\", \"name\": \"lwrist\", \"marker\": {\"color\": \"blue\", \"size\": 2}, \"x\": [307.4850648323092, 304.2127959381759], \"y\": [257.45856330610474, 262.50061972695886]}, {\"line\": {\"color\": \"black\", \"width\": 5}, \"type\": \"scatter\", \"name\": \"rclavicle\", \"marker\": {\"color\": \"blue\", \"size\": 2}, \"x\": [324.683199448494, 313.9556933074109], \"y\": [262.28617848802895, 260.58580118403523]}, {\"line\": {\"color\": \"black\", \"width\": 5}, \"type\": \"scatter\", \"name\": \"rradius\", \"marker\": {\"color\": \"blue\", \"size\": 2}, \"x\": [326.5073711284434, 324.683199448494], \"y\": [290.91591433624785, 262.28617848802895]}, {\"line\": {\"color\": \"black\", \"width\": 5}, \"type\": \"scatter\", \"name\": \"rwrist\", \"marker\": {\"color\": \"blue\", \"size\": 2}, \"x\": [327.40097767423725, 326.5073711284434], \"y\": [296.50113289828846, 290.91591433624785]}]}, {\"name\": \"frame2\", \"data\": [{\"name\": \"root\", \"marker\": {\"color\": \"red\", \"size\": 4}, \"x\": [314.62878607923744], \"y\": [287.3332013770578], \"type\": \"scatter\"}, {\"line\": {\"color\": \"black\", \"width\": 5}, \"type\": \"scatter\", \"name\": \"rhipjoint\", \"marker\": {\"color\": \"blue\", \"size\": 2}, \"x\": [319.7005509988112, 314.62878607923744], \"y\": [293.2763371650582, 287.3332013770578]}, {\"line\": {\"color\": \"black\", \"width\": 5}, \"type\": \"scatter\", \"name\": \"rfemur\", \"marker\": {\"color\": \"blue\", \"size\": 2}, \"x\": [320.10120267659346, 319.7005509988112], \"y\": [318.66444078596936, 293.2763371650582]}, {\"line\": {\"color\": \"black\", \"width\": 5}, \"type\": \"scatter\", \"name\": \"rtibia\", \"marker\": {\"color\": \"blue\", \"size\": 2}, \"x\": [319.9629517575369, 320.10120267659346], \"y\": [340.01123892803946, 318.66444078596936]}, {\"line\": {\"color\": \"black\", \"width\": 5}, \"type\": \"scatter\", \"name\": \"lhipjoint\", \"marker\": {\"color\": \"blue\", \"size\": 2}, \"x\": [310.71435644349793, 314.62878607923744], \"y\": [293.8782629622286, 287.3332013770578]}, {\"line\": {\"color\": \"black\", \"width\": 5}, \"type\": \"scatter\", \"name\": \"lfemur\", \"marker\": {\"color\": \"blue\", \"size\": 2}, \"x\": [309.4406540751663, 310.71435644349793], \"y\": [318.09907071606204, 293.8782629622286]}, {\"line\": {\"color\": \"black\", \"width\": 5}, \"type\": \"scatter\", \"name\": \"ltibia\", \"marker\": {\"color\": \"blue\", \"size\": 2}, \"x\": [307.47952989773376, 309.4406540751663], \"y\": [339.9144099249433, 318.09907071606204]}, {\"line\": {\"color\": \"black\", \"width\": 5}, \"type\": \"scatter\", \"name\": \"upperback\", \"marker\": {\"color\": \"blue\", \"size\": 2}, \"x\": [314.04308837535984, 314.62878607923744], \"y\": [273.5067226634241, 287.3332013770578]}, {\"line\": {\"color\": \"black\", \"width\": 5}, \"type\": \"scatter\", \"name\": \"lowerneck\", \"marker\": {\"color\": \"blue\", \"size\": 2}, \"x\": [313.9096930944076, 314.04308837535984], \"y\": [260.6407434092944, 273.5067226634241]}, {\"line\": {\"color\": \"black\", \"width\": 5}, \"type\": \"scatter\", \"name\": \"upperneck\", \"marker\": {\"color\": \"blue\", \"size\": 2}, \"x\": [313.35607337790555, 313.9096930944076], \"y\": [254.93368690392876, 260.6407434092944]}, {\"line\": {\"color\": \"black\", \"width\": 5}, \"type\": \"scatter\", \"name\": \"head\", \"marker\": {\"color\": \"blue\", \"size\": 2}, \"x\": [313.4258096930547, 313.35607337790555], \"y\": [249.56552645368106, 254.93368690392876]}, {\"line\": {\"color\": \"black\", \"width\": 5}, \"type\": \"scatter\", \"name\": \"lclavicle\", \"marker\": {\"color\": \"blue\", \"size\": 2}, \"x\": [303.08186209572307, 313.9096930944076], \"y\": [261.9777525116212, 260.6407434092944]}, {\"line\": {\"color\": \"black\", \"width\": 5}, \"type\": \"scatter\", \"name\": \"lradius\", \"marker\": {\"color\": \"blue\", \"size\": 2}, \"x\": [304.4065587047068, 303.08186209572307], \"y\": [262.3950024001784, 261.9777525116212]}, {\"line\": {\"color\": \"black\", \"width\": 5}, \"type\": \"scatter\", \"name\": \"lwrist\", \"marker\": {\"color\": \"blue\", \"size\": 2}, \"x\": [307.65526712008733, 304.4065587047068], \"y\": [257.34376851805695, 262.3950024001784]}, {\"line\": {\"color\": \"black\", \"width\": 5}, \"type\": \"scatter\", \"name\": \"rclavicle\", \"marker\": {\"color\": \"blue\", \"size\": 2}, \"x\": [324.68663876147605, 313.9096930944076], \"y\": [262.35384214934396, 260.6407434092944]}, {\"line\": {\"color\": \"black\", \"width\": 5}, \"type\": \"scatter\", \"name\": \"rradius\", \"marker\": {\"color\": \"blue\", \"size\": 2}, \"x\": [326.3152964428534, 324.68663876147605], \"y\": [291.0591631238145, 262.35384214934396]}, {\"line\": {\"color\": \"black\", \"width\": 5}, \"type\": \"scatter\", \"name\": \"rwrist\", \"marker\": {\"color\": \"blue\", \"size\": 2}, \"x\": [327.14590794994876, 326.3152964428534], \"y\": [296.6794852484594, 291.0591631238145]}]}]);\n",
       "                        }).then(function(){\n",
       "                            Plotly.animate('6190e2d7-1283-4023-9fe1-24dae1a527d8', null);\n",
       "                        }).then(function(){\n",
       "                            \n",
       "var gd = document.getElementById('6190e2d7-1283-4023-9fe1-24dae1a527d8');\n",
       "var x = new MutationObserver(function (mutations, observer) {{\n",
       "        var display = window.getComputedStyle(gd).display;\n",
       "        if (!display || display === 'none') {{\n",
       "            console.log([gd, 'removed!']);\n",
       "            Plotly.purge(gd);\n",
       "            observer.disconnect();\n",
       "        }}\n",
       "}});\n",
       "\n",
       "// Listen for the removal of the full notebook cells\n",
       "var notebookContainer = gd.closest('#notebook-container');\n",
       "if (notebookContainer) {{\n",
       "    x.observe(notebookContainer, {childList: true});\n",
       "}}\n",
       "\n",
       "// Listen for the clearing of the current output cell\n",
       "var outputEl = gd.closest('.output');\n",
       "if (outputEl) {{\n",
       "    x.observe(outputEl, {childList: true});\n",
       "}}\n",
       "\n",
       "                        })\n",
       "                };\n",
       "                });\n",
       "            </script>\n",
       "        </div>"
      ]
     },
     "metadata": {},
     "output_type": "display_data"
    }
   ],
   "source": [
    "read_and_show(1,1,0)"
   ]
  },
  {
   "cell_type": "code",
   "execution_count": null,
   "metadata": {
    "scrolled": true
   },
   "outputs": [],
   "source": []
  },
  {
   "cell_type": "code",
   "execution_count": null,
   "metadata": {},
   "outputs": [],
   "source": []
  },
  {
   "cell_type": "code",
   "execution_count": null,
   "metadata": {},
   "outputs": [],
   "source": []
  },
  {
   "cell_type": "code",
   "execution_count": null,
   "metadata": {},
   "outputs": [],
   "source": []
  },
  {
   "cell_type": "code",
   "execution_count": null,
   "metadata": {},
   "outputs": [],
   "source": []
  },
  {
   "cell_type": "code",
   "execution_count": null,
   "metadata": {},
   "outputs": [],
   "source": []
  }
 ],
 "metadata": {
  "kernelspec": {
   "display_name": "mocap",
   "language": "python",
   "name": "mocap"
  },
  "language_info": {
   "codemirror_mode": {
    "name": "ipython",
    "version": 3
   },
   "file_extension": ".py",
   "mimetype": "text/x-python",
   "name": "python",
   "nbconvert_exporter": "python",
   "pygments_lexer": "ipython3",
   "version": "3.5.2"
  }
 },
 "nbformat": 4,
 "nbformat_minor": 2
}
