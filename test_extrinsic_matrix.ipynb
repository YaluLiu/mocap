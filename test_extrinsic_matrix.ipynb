{
 "cells": [
  {
   "cell_type": "code",
   "execution_count": 1,
   "metadata": {},
   "outputs": [],
   "source": [
    "import json\n",
    "import numpy as np\n",
    "from transforms3d.euler import euler2mat,mat2euler\n",
    "import cv2"
   ]
  },
  {
   "cell_type": "code",
   "execution_count": 2,
   "metadata": {},
   "outputs": [],
   "source": [
    "def get_extrinsic_matrix(pos, focus, up):\n",
    "    forward = focus -  pos;forward = forward/np.linalg.norm(forward)\n",
    "    left = np.cross(up,forward);left = left/np.linalg.norm(left)\n",
    "    up  = np.cross(left,forward);up = up/np.linalg.norm(up)\n",
    "    #print(forward)\n",
    "    #print(left)\n",
    "    #print(up)\n",
    "    \n",
    "    mat = np.zeros((3,3), dtype = np.float32)\n",
    "    mat[0] = -left\n",
    "    mat[1] = -up\n",
    "    mat[2] = -forward\n",
    "    return mat"
   ]
  },
  {
   "cell_type": "code",
   "execution_count": 3,
   "metadata": {},
   "outputs": [],
   "source": [
    "def get_rvec_tvec(pos, focus, up):\n",
    "    mat = get_extrinsic_matrix(pos, focus, up)\n",
    "    rvec, _ = cv2.Rodrigues(mat)\n",
    "    tvec = pos\n",
    "    return rvec, tvec"
   ]
  },
  {
   "cell_type": "code",
   "execution_count": 4,
   "metadata": {},
   "outputs": [],
   "source": [
    "def world2camera(pts_3d_world_homo, rvec, tvec):\n",
    "    rmat, _ = cv2.Rodrigues(rvec)\n",
    "    print(rmat)\n",
    "    extrinsics = np.zeros((3,4))\n",
    "    extrinsics[:,:3] = rmat\n",
    "    extrinsics[:,3] = tvec.reshape(-1)\n",
    "    \n",
    "    pts_3d_cam = np.matmul(extrinsics, pts_3d_world_homo)\n",
    "    \n",
    "    return pts_3d_cam"
   ]
  },
  {
   "cell_type": "code",
   "execution_count": 5,
   "metadata": {},
   "outputs": [],
   "source": [
    "def parse_xyz(pos):\n",
    "    data = np.zeros((3),dtype = np.float64)\n",
    "    data[0] = pos['x']\n",
    "    data[1] = pos['y']\n",
    "    data[2] = pos['z']\n",
    "    return data\n",
    "def add_w(pos):\n",
    "    data = np.zeros((4),dtype = np.float64)\n",
    "    data[0:3] = pos\n",
    "    data[3] = 1\n",
    "    return data"
   ]
  },
  {
   "cell_type": "code",
   "execution_count": 6,
   "metadata": {},
   "outputs": [],
   "source": [
    "json_path = \"/media/yalu/6066C1DD66C1B3D6/Github/DeepMimic/Output/data/9.json\""
   ]
  },
  {
   "cell_type": "code",
   "execution_count": 7,
   "metadata": {},
   "outputs": [],
   "source": [
    "with open(json_path,\"r\") as file:\n",
    "    data = json.load(file)"
   ]
  },
  {
   "cell_type": "code",
   "execution_count": 8,
   "metadata": {},
   "outputs": [],
   "source": [
    "pos = parse_xyz(data[\"cam_par\"][\"pos\"])\n",
    "focus = parse_xyz(data[\"cam_par\"][\"focus\"])\n",
    "up = [0,1,0]"
   ]
  },
  {
   "cell_type": "code",
   "execution_count": 9,
   "metadata": {},
   "outputs": [
    {
     "name": "stdout",
     "output_type": "stream",
     "text": [
      "[-0.11684408 -0.83263253 -4.93251413]\n"
     ]
    }
   ],
   "source": [
    "part_name = \"right_ankle\"\n",
    "root_world = parse_xyz(data[\"WorldPos\"][part_name])\n",
    "root_camera = parse_xyz(data[\"CameraPos\"][part_name])\n",
    "print(root_camera)"
   ]
  },
  {
   "cell_type": "code",
   "execution_count": 10,
   "metadata": {},
   "outputs": [
    {
     "name": "stdout",
     "output_type": "stream",
     "text": [
      "[[ 6.123574e-17 -0.000000e+00 -1.000000e+00]\n",
      " [ 0.000000e+00  1.000000e+00 -0.000000e+00]\n",
      " [ 1.000000e+00 -0.000000e+00  6.123574e-17]]\n"
     ]
    }
   ],
   "source": [
    "R0 = get_extrinsic_matrix(pos, focus, up)\n",
    "print(R0)"
   ]
  },
  {
   "cell_type": "code",
   "execution_count": 11,
   "metadata": {},
   "outputs": [
    {
     "data": {
      "text/plain": [
       "True"
      ]
     },
     "execution_count": 11,
     "metadata": {},
     "output_type": "execute_result"
    }
   ],
   "source": [
    "answer0 = np.dot(R0,root_world) - np.dot(R0,pos)\n",
    "np.allclose(answer0,root_camera)"
   ]
  },
  {
   "cell_type": "code",
   "execution_count": 12,
   "metadata": {},
   "outputs": [
    {
     "name": "stdout",
     "output_type": "stream",
     "text": [
      "[[-4.371139e-08 -0.000000e+00 -1.000000e+00]\n",
      " [ 0.000000e+00  1.000000e+00 -0.000000e+00]\n",
      " [ 1.000000e+00  0.000000e+00 -4.371139e-08]]\n",
      "[4.82327725 0.94083347 0.011112  ]\n"
     ]
    }
   ],
   "source": [
    "rvec,tvec = get_rvec_tvec(pos, focus, up)\n",
    "answer1 = world2camera(add_w(root_world), rvec, tvec)\n",
    "print(answer1)"
   ]
  },
  {
   "cell_type": "code",
   "execution_count": null,
   "metadata": {},
   "outputs": [],
   "source": []
  },
  {
   "cell_type": "code",
   "execution_count": 27,
   "metadata": {},
   "outputs": [],
   "source": [
    "def Rmat(tx, ty, tz):\n",
    "    tx = np.deg2rad(tx); ty = np.deg2rad(ty); tz = np.deg2rad(tz)\n",
    "    \n",
    "    Rx = np.zeros((3,3)); Ry = np.zeros((3,3)); Rz = np.zeros((3,3))\n",
    "    \n",
    "    Rx[0][0] = 1; Rx[1][1] = np.cos(tx); Rx[1][2] = -np.sin(tx); Rx[2][1] = np.sin(tx); Rx[2][2] = np.cos(tx)\n",
    "    Ry[0][0] = np.cos(ty); Ry[0][2] = np.sin(ty); Ry[1][1] = 1; Ry[2][0] = -np.sin(ty); Ry[2][2] = np.cos(ty)    \n",
    "    Rz[0][0] = np.cos(tz); Rz[1][1] = -np.sin(tz); Rz[1][0] = np.sin(tz); Rz[1][1] = np.cos(tx); Rz[2][2] = 1\n",
    "    \n",
    "    R = np.matmul(Rz, np.matmul(Ry, Rx))\n",
    "    \n",
    "    rvec,_ = cv2.Rodrigues(R)\n",
    "    \n",
    "    return rvec, R"
   ]
  },
  {
   "cell_type": "code",
   "execution_count": 28,
   "metadata": {},
   "outputs": [
    {
     "name": "stdout",
     "output_type": "stream",
     "text": [
      "[[0.        ]\n",
      " [1.57079633]\n",
      " [0.        ]]\n",
      "[[ 6.123234e-17  0.000000e+00  1.000000e+00]\n",
      " [ 0.000000e+00  1.000000e+00  0.000000e+00]\n",
      " [-1.000000e+00  0.000000e+00  6.123234e-17]]\n"
     ]
    }
   ],
   "source": [
    "rvec, mat = Rmat(0,90,0)\n",
    "print(rvec)\n",
    "print(mat)"
   ]
  },
  {
   "cell_type": "code",
   "execution_count": 31,
   "metadata": {},
   "outputs": [
    {
     "name": "stdout",
     "output_type": "stream",
     "text": [
      "[[ 6.123234e-17  0.000000e+00  1.000000e+00]\n",
      " [ 0.000000e+00  1.000000e+00  0.000000e+00]\n",
      " [-1.000000e+00  0.000000e+00  6.123234e-17]]\n"
     ]
    }
   ],
   "source": [
    "angle = [0,90,0]\n",
    "angle = np.deg2rad(angle)\n",
    "mat = euler2mat(angle[0],angle[1],angle[2])\n",
    "print(mat)"
   ]
  },
  {
   "cell_type": "code",
   "execution_count": 32,
   "metadata": {},
   "outputs": [
    {
     "name": "stdout",
     "output_type": "stream",
     "text": [
      "[-1.0000000e+01  0.0000000e+00 -1.2246468e-15]\n"
     ]
    }
   ],
   "source": [
    "pos = [10,0,0]\n",
    "angle = [0,180,0]\n",
    "angle = np.deg2rad(angle)\n",
    "mat = euler2mat(angle[0],angle[1],angle[2])\n",
    "print(np.dot(mat,pos))"
   ]
  },
  {
   "cell_type": "code",
   "execution_count": 35,
   "metadata": {},
   "outputs": [
    {
     "name": "stdout",
     "output_type": "stream",
     "text": [
      "[[-1.0000000e+00  0.0000000e+00  1.2246468e-16]\n",
      " [-0.0000000e+00  1.0000000e+00  0.0000000e+00]\n",
      " [-1.2246468e-16 -0.0000000e+00 -1.0000000e+00]]\n",
      "[[-1.0000000e+00 -0.0000000e+00 -1.2246468e-16]\n",
      " [ 0.0000000e+00  1.0000000e+00  0.0000000e+00]\n",
      " [ 1.2246468e-16 -0.0000000e+00 -1.0000000e+00]]\n"
     ]
    }
   ],
   "source": [
    "def get_extrinsics(rvec,tvec):\n",
    "    extMat = np.zeros((4,4))\n",
    "    R = euler2mat(rvec[0],rvec[1],rvec[2],'rxyz')\n",
    "    R = -np.flip(np.flip(R, axis=0), axis =1) * np.array([[1,-1,1],[-1,1,-1],[-1,1,-1]])\n",
    "    extMat[:3,:3] = R\n",
    "    extMat[3,3] = 1\n",
    "    extMat[:3,3] = tvec\n",
    "    return R"
   ]
  },
  {
   "cell_type": "code",
   "execution_count": null,
   "metadata": {},
   "outputs": [],
   "source": [
    "get_extrinsics"
   ]
  }
 ],
 "metadata": {
  "kernelspec": {
   "display_name": "mocap",
   "language": "python",
   "name": "mocap"
  },
  "language_info": {
   "codemirror_mode": {
    "name": "ipython",
    "version": 3
   },
   "file_extension": ".py",
   "mimetype": "text/x-python",
   "name": "python",
   "nbconvert_exporter": "python",
   "pygments_lexer": "ipython3",
   "version": "3.5.2"
  }
 },
 "nbformat": 4,
 "nbformat_minor": 2
}
