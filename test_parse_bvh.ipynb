{
 "cells": [
  {
   "cell_type": "code",
   "execution_count": 1,
   "metadata": {},
   "outputs": [],
   "source": [
    "import numpy as np\n",
    "import matplotlib.pyplot as plt\n",
    "from transforms3d.euler import euler2mat\n",
    "from mpl_toolkits.mplot3d import Axes3D\n",
    "from bvh import Bvh, BvhNode\n",
    "import math\n",
    "# packages for 3d interactivate visualization\n",
    "import plotly\n",
    "import plotly.graph_objs as go \n",
    "import copy"
   ]
  },
  {
   "cell_type": "code",
   "execution_count": 2,
   "metadata": {},
   "outputs": [],
   "source": [
    "class MyNode:\n",
    "    def __init__(self,name):\n",
    "        self.name = name\n",
    "        self.children = []\n",
    "        self.parent = None\n",
    "        self.parent_index = None\n",
    "        self.offset = self.channels = self.index = None\n",
    "        self.pos = self.matrix = None"
   ]
  },
  {
   "cell_type": "code",
   "execution_count": 3,
   "metadata": {},
   "outputs": [],
   "source": [
    "def make_parent(Nodes):\n",
    "    for num in range(0,len(Nodes)):\n",
    "        node = Nodes[num]\n",
    "        if(node.parent_index != None):\n",
    "            pNum = node.parent_index\n",
    "            node.parent = Nodes[pNum]\n",
    "            Nodes[pNum].children.append(node)"
   ]
  },
  {
   "cell_type": "code",
   "execution_count": 4,
   "metadata": {},
   "outputs": [],
   "source": [
    "def get_nodes(joints):\n",
    "    Nodes = {}\n",
    "    for num in range(0,len(joints)):\n",
    "        name = joints[num].value[1]\n",
    "        node = MyNode(name)\n",
    "        node.offset = np.array(mocap.joint_offset(name))\n",
    "        node.channels = mocap.joint_channels(name)\n",
    "        node.index = mocap.get_joint_index(name)\n",
    "        if(num > 0):\n",
    "            parent_name = joints[num].parent.value[1]\n",
    "            node.parent_index = mocap.get_joint_index(parent_name)\n",
    "        else:\n",
    "            node.parent_index = None\n",
    "        Nodes[num] = node\n",
    "    make_parent(Nodes)\n",
    "    return Nodes"
   ]
  },
  {
   "cell_type": "code",
   "execution_count": 5,
   "metadata": {},
   "outputs": [],
   "source": [
    "def get_motions(frame_idx):\n",
    "    motions= []\n",
    "    root_pos = mocap.frame_joint_channels(frame_idx, 'Hips', ['Xposition','Yposition','Zposition'])\n",
    "    root_pos = np.array(root_pos)\n",
    "    names = mocap.get_joints_names()\n",
    "    for num in range(0,len(Nodes)):\n",
    "        name = names[num]\n",
    "        motion = mocap.frame_joint_channels(frame_idx, name, ['Xrotation','Yrotation','Zrotation'])\n",
    "        motions.append(motion)\n",
    "    return motions,root_pos"
   ]
  },
  {
   "cell_type": "code",
   "execution_count": 6,
   "metadata": {},
   "outputs": [],
   "source": [
    "def euler_to_matrix(euler,axis = 'szyx'):\n",
    "    rotation = np.deg2rad(euler)\n",
    "    matrix = euler2mat(*rotation,axis)\n",
    "    return matrix\n",
    "def euler_to_matrix_test(euler):\n",
    "    rotation = np.deg2rad(euler)\n",
    "    alpha = rotation[0]\n",
    "    beta = rotation[1]\n",
    "    gamma = rotation[2]\n",
    "    ca = math.cos(alpha)\n",
    "    cb = math.cos(beta)\n",
    "    cg = math.cos(gamma)\n",
    "    sa = math.sin(alpha)\n",
    "    sb = math.sin(beta)\n",
    "    sg = math.sin(gamma)        \n",
    "\n",
    "    Rx = np.asarray([[1, 0, 0], \n",
    "          [0, ca, sa], \n",
    "          [0, -sa, ca]\n",
    "          ])\n",
    "\n",
    "    Ry = np.asarray([[cb, 0, -sb], \n",
    "          [0, 1, 0],\n",
    "          [sb, 0, cb]])\n",
    "\n",
    "    Rz = np.asarray([[cg, sg, 0],\n",
    "          [-sg, cg, 0],\n",
    "          [0, 0, 1]])\n",
    "\n",
    "    rotmat = np.eye(3)\n",
    "\n",
    "    rotmat = np.matmul(Ry, rotmat)\n",
    "    rotmat = np.matmul(Rx, rotmat)\n",
    "    rotmat = np.matmul(Rz, rotmat)\n",
    "    return rotmat"
   ]
  },
  {
   "cell_type": "code",
   "execution_count": 7,
   "metadata": {},
   "outputs": [],
   "source": [
    "def compute_pos(Nodes,motions,root_pos):\n",
    "    for num in range(0,len(Nodes)):\n",
    "        node = Nodes[num]\n",
    "        rot_matrix = euler_to_matrix_test(motions[num])\n",
    "        if(node.parent_index != None):\n",
    "            node.matrix = rot_matrix.dot(node.parent.matrix)\n",
    "            direction = node.offset.dot(node.parent.matrix)\n",
    "            node.pos =  node.parent.pos + direction\n",
    "        else:\n",
    "            node.pos =  root_pos\n",
    "            node.matrix = rot_matrix"
   ]
  },
  {
   "cell_type": "code",
   "execution_count": 8,
   "metadata": {},
   "outputs": [],
   "source": [
    "with open('data/bvh/0005_BackwardsWalk001.bvh.txt') as f:\n",
    "        mocap = Bvh(f.read())"
   ]
  },
  {
   "cell_type": "code",
   "execution_count": 9,
   "metadata": {},
   "outputs": [
    {
     "name": "stdout",
     "output_type": "stream",
     "text": [
      "25\n",
      "[ROOT Hips, JOINT LeftUpLeg, JOINT LeftLeg, JOINT LeftFoot, JOINT LeftToeBase, JOINT RightUpLeg, JOINT RightLeg, JOINT RightFoot, JOINT RightToeBase, JOINT Spine, JOINT Spine1, JOINT Neck, JOINT Head, JOINT LeftShoulder, JOINT LeftArm, JOINT LeftForeArm, JOINT LeftHand, JOINT LeftHandThumb, JOINT L_Wrist_End, JOINT RightShoulder, JOINT RightArm, JOINT RightForeArm, JOINT RightHand, JOINT RightHandThumb, JOINT R_Wrist_End]\n"
     ]
    }
   ],
   "source": [
    "joints = mocap.get_joints()\n",
    "Nodes = get_nodes(joints)\n",
    "print(len(joints))\n",
    "print(joints)"
   ]
  },
  {
   "cell_type": "code",
   "execution_count": 10,
   "metadata": {},
   "outputs": [
    {
     "name": "stdout",
     "output_type": "stream",
     "text": [
      "1239\n",
      "25\n"
     ]
    }
   ],
   "source": [
    "framenum = mocap.nframes\n",
    "print(framenum)\n",
    "print(len(Nodes))"
   ]
  },
  {
   "cell_type": "code",
   "execution_count": 11,
   "metadata": {
    "scrolled": false
   },
   "outputs": [],
   "source": [
    "Nodes_lst = []\n",
    "for frame_idx in range(0,framenum//2,20):\n",
    "    motions,root_pos = get_motions(frame_idx)\n",
    "    compute_pos(Nodes,motions,root_pos)\n",
    "    Nodes_lst.append(copy.deepcopy(Nodes))"
   ]
  },
  {
   "cell_type": "code",
   "execution_count": 12,
   "metadata": {},
   "outputs": [],
   "source": [
    "# for Nodes in Nodes_lst[:5]:\n",
    "#     for node in Nodes.values():\n",
    "#         if(node.name == \"LeftShoulder\" \n",
    "#            or node.name == \"RightShoulder\"\n",
    "#            or node.name == \"Neck\"):\n",
    "#             print(node.pos,node.offset)"
   ]
  },
  {
   "cell_type": "code",
   "execution_count": 14,
   "metadata": {},
   "outputs": [
    {
     "name": "stdout",
     "output_type": "stream",
     "text": [
      "0 (0, 'Hips')\n",
      "1 (1, 'LeftUpLeg')\n",
      "2 (2, 'LeftLeg')\n",
      "3 (3, 'LeftFoot')\n",
      "4 (4, 'LeftToeBase')\n",
      "5 (5, 'RightUpLeg')\n",
      "6 (6, 'RightLeg')\n",
      "7 (7, 'RightFoot')\n",
      "8 (8, 'RightToeBase')\n",
      "9 (9, 'Spine')\n",
      "10 (10, 'Spine1')\n",
      "11 (11, 'Neck')\n",
      "12 (12, 'Head')\n",
      "13 (13, 'LeftShoulder')\n",
      "14 (14, 'LeftArm')\n",
      "15 (15, 'LeftForeArm')\n",
      "16 (16, 'LeftHand')\n",
      "17 (17, 'LeftHandThumb')\n",
      "18 (18, 'L_Wrist_End')\n",
      "19 (19, 'RightShoulder')\n",
      "20 (20, 'RightArm')\n",
      "21 (21, 'RightForeArm')\n",
      "22 (22, 'RightHand')\n",
      "23 (23, 'RightHandThumb')\n",
      "24 (24, 'R_Wrist_End')\n"
     ]
    }
   ],
   "source": [
    "for (idx,node) in Nodes_lst[20].items():\n",
    "    print(idx,(node.index,node.name))"
   ]
  },
  {
   "cell_type": "code",
   "execution_count": null,
   "metadata": {},
   "outputs": [],
   "source": []
  },
  {
   "cell_type": "code",
   "execution_count": null,
   "metadata": {},
   "outputs": [],
   "source": []
  },
  {
   "cell_type": "code",
   "execution_count": null,
   "metadata": {},
   "outputs": [],
   "source": []
  },
  {
   "cell_type": "code",
   "execution_count": null,
   "metadata": {},
   "outputs": [],
   "source": []
  }
 ],
 "metadata": {
  "kernelspec": {
   "display_name": "mocap",
   "language": "python",
   "name": "mocap"
  },
  "language_info": {
   "codemirror_mode": {
    "name": "ipython",
    "version": 3
   },
   "file_extension": ".py",
   "mimetype": "text/x-python",
   "name": "python",
   "nbconvert_exporter": "python",
   "pygments_lexer": "ipython3",
   "version": "3.5.2"
  }
 },
 "nbformat": 4,
 "nbformat_minor": 2
}
