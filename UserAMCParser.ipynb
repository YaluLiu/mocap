{
 "cells": [
  {
   "cell_type": "code",
   "execution_count": 1,
   "metadata": {},
   "outputs": [],
   "source": [
    "from parser.amcparser    import AMCParser\n",
    "from parser.datareader   import DataReader\n",
    "from parser.datasaver    import save_data\n",
    "from parser.trans_joints import trans_joints_lst"
   ]
  },
  {
   "cell_type": "markdown",
   "metadata": {},
   "source": [
    "<font color=blue size=5> parsr amc file</font>"
   ]
  },
  {
   "cell_type": "code",
   "execution_count": 20,
   "metadata": {},
   "outputs": [
    {
     "name": "stdout",
     "output_type": "stream",
     "text": [
      "4510\n",
      "31\n"
     ]
    }
   ],
   "source": [
    "asf_path = './data/01/01.asf.txt'\n",
    "amc_path = './data/01/01_03.amc.txt'\n",
    "# asf_path = './data/13.asf.txt'\n",
    "# amc_path = './data/13_box_1.amc.txt'\n",
    "\n",
    "amcparser = AMCParser(asf_path,amc_path)\n",
    "amcparser.parse()\n",
    "print(amcparser.frames_num)\n",
    "print(amcparser.joints_num)"
   ]
  },
  {
   "cell_type": "markdown",
   "metadata": {},
   "source": [
    "<font color=blue size=5> Trans to human3.6M </font>"
   ]
  },
  {
   "cell_type": "code",
   "execution_count": 23,
   "metadata": {},
   "outputs": [],
   "source": [
    "asf_nodes_lst = amcparser.joints_lst\n",
    "human_nodes_lst = trans_joints_lst(asf_nodes_lst,\"asf\")"
   ]
  },
  {
   "cell_type": "code",
   "execution_count": 24,
   "metadata": {},
   "outputs": [],
   "source": [
    "output_json_path = './Output/human_points_3d.json'\n",
    "output_npy_path = './Output/human_points_3d.npy'"
   ]
  },
  {
   "cell_type": "markdown",
   "metadata": {},
   "source": [
    "<font color=blue size=5>save human nodes_lst to file</font>"
   ]
  },
  {
   "cell_type": "code",
   "execution_count": 25,
   "metadata": {},
   "outputs": [],
   "source": [
    "save_data(human_nodes_lst,output_json_path,output_npy_path,dimension=3,special_solve=True)"
   ]
  },
  {
   "cell_type": "code",
   "execution_count": 26,
   "metadata": {},
   "outputs": [
    {
     "name": "stdout",
     "output_type": "stream",
     "text": [
      "4510\n",
      "17\n"
     ]
    }
   ],
   "source": [
    "reader = DataReader(output_json_path)\n",
    "reader.load_data()\n",
    "print(reader.frames_num)\n",
    "print(reader.joints_num)"
   ]
  },
  {
   "cell_type": "code",
   "execution_count": 27,
   "metadata": {},
   "outputs": [
    {
     "data": {
      "text/html": [
       "        <script type=\"text/javascript\">\n",
       "        window.PlotlyConfig = {MathJaxConfig: 'local'};\n",
       "        if (window.MathJax) {MathJax.Hub.Config({SVG: {font: \"STIX-Web\"}});}\n",
       "        if (typeof require !== 'undefined') {\n",
       "        require.undef(\"plotly\");\n",
       "        requirejs.config({\n",
       "            paths: {\n",
       "                'plotly': ['https://cdn.plot.ly/plotly-latest.min']\n",
       "            }\n",
       "        });\n",
       "        require(['plotly'], function(Plotly) {\n",
       "            window._Plotly = Plotly;\n",
       "        });\n",
       "        }\n",
       "        </script>\n",
       "        "
      ]
     },
     "metadata": {},
     "output_type": "display_data"
    },
    {
     "data": {
      "application/vnd.plotly.v1+json": {
       "config": {
        "linkText": "Export to plot.ly",
        "plotlyServerURL": "https://plot.ly",
        "responsive": true,
        "showLink": false
       },
       "data": [
        {
         "marker": {
          "color": "red",
          "size": 4
         },
         "name": "root",
         "type": "scatter3d",
         "uid": "33ed65be-9021-4444-b53e-bc1046e0d7f0",
         "x": [
          -0.031246292152410947
         ],
         "y": [
          0.9931577580126868
         ],
         "z": [
          0.09686800598570003
         ]
        },
        {
         "line": {
          "color": "black",
          "width": 5
         },
         "marker": {
          "color": "blue",
          "size": 2
         },
         "name": "rhipjoint",
         "type": "scatter3d",
         "uid": "7081ce0a-6332-40bc-b76e-b26572ed7e68",
         "x": [
          -0.06733105438235727,
          -0.031246292152410947
         ],
         "y": [
          0.8737347916849264,
          0.9931577580126868
         ],
         "z": [
          -0.00037350269002113615,
          0.09686800598570003
         ]
        },
        {
         "line": {
          "color": "black",
          "width": 5
         },
         "marker": {
          "color": "blue",
          "size": 2
         },
         "name": "rfemur",
         "type": "scatter3d",
         "uid": "f10813fa-726b-48c4-afe5-e6a2346675c9",
         "x": [
          -0.26413767284212214,
          -0.06733105438235727
         ],
         "y": [
          0.42194314899089047,
          0.8737347916849264
         ],
         "z": [
          -0.052925632745577406,
          -0.00037350269002113615
         ]
        },
        {
         "line": {
          "color": "black",
          "width": 5
         },
         "marker": {
          "color": "blue",
          "size": 2
         },
         "name": "rtibia",
         "type": "scatter3d",
         "uid": "c841e6ba-4208-4c8a-9b8b-cbfb1f01304c",
         "x": [
          0,
          -0.26413767284212214
         ],
         "y": [
          0,
          0.42194314899089047
         ],
         "z": [
          0,
          -0.052925632745577406
         ]
        },
        {
         "line": {
          "color": "black",
          "width": 5
         },
         "marker": {
          "color": "blue",
          "size": 2
         },
         "name": "lhipjoint",
         "type": "scatter3d",
         "uid": "b3c50d35-cdc9-4495-b7a0-6e319ebbda7c",
         "x": [
          -0.10027340974673686,
          -0.031246292152410947
         ],
         "y": [
          0.8710056000476293,
          0.9931577580126868
         ],
         "z": [
          0.17443358948801374,
          0.09686800598570003
         ]
        },
        {
         "line": {
          "color": "black",
          "width": 5
         },
         "marker": {
          "color": "blue",
          "size": 2
         },
         "name": "lfemur",
         "type": "scatter3d",
         "uid": "65187151-07a0-4eba-9e9d-be00ec6f18a0",
         "x": [
          -0.1524864588826616,
          -0.10027340974673686
         ],
         "y": [
          0.3967025784571153,
          0.8710056000476293
         ],
         "z": [
          0.17864025258754712,
          0.17443358948801374
         ]
        },
        {
         "line": {
          "color": "black",
          "width": 5
         },
         "marker": {
          "color": "blue",
          "size": 2
         },
         "name": "ltibia",
         "type": "scatter3d",
         "uid": "83330f52-d8ba-45d2-964b-b2b20c205da7",
         "x": [
          -0.014021595106126602,
          -0.1524864588826616
         ],
         "y": [
          -0.08313409155477262,
          0.3967025784571153
         ],
         "z": [
          0.18170661772965246,
          0.17864025258754712
         ]
        },
        {
         "line": {
          "color": "black",
          "width": 5
         },
         "marker": {
          "color": "blue",
          "size": 2
         },
         "name": "upperback",
         "type": "scatter3d",
         "uid": "4644c879-1732-43cd-b5e4-fb82babe3d58",
         "x": [
          -0.08137364442658572,
          -0.031246292152410947
         ],
         "y": [
          1.2595094443750139,
          0.9931577580126868
         ],
         "z": [
          0.12149517568788634,
          0.09686800598570003
         ]
        },
        {
         "line": {
          "color": "black",
          "width": 5
         },
         "marker": {
          "color": "blue",
          "size": 2
         },
         "name": "lowerneck",
         "type": "scatter3d",
         "uid": "4ecaaa63-7d62-4ed2-9bbe-bc3b220853c7",
         "x": [
          -0.1693852015712328,
          -0.08137364442658572
         ],
         "y": [
          1.4960701303011903,
          1.2595094443750139
         ],
         "z": [
          0.14910926877686326,
          0.12149517568788634
         ]
        },
        {
         "line": {
          "color": "black",
          "width": 5
         },
         "marker": {
          "color": "blue",
          "size": 2
         },
         "name": "upperneck",
         "type": "scatter3d",
         "uid": "9332e0ad-a32a-40f7-a4b2-fda757fd6298",
         "x": [
          -0.23824913818980148,
          -0.1693852015712328
         ],
         "y": [
          1.5902237642683388,
          1.4960701303011903
         ],
         "z": [
          0.16636234553014853,
          0.14910926877686326
         ]
        },
        {
         "line": {
          "color": "black",
          "width": 5
         },
         "marker": {
          "color": "blue",
          "size": 2
         },
         "name": "head",
         "type": "scatter3d",
         "uid": "93a3929b-14cf-47c8-b648-ea7ba7150b56",
         "x": [
          -0.3178573452011354,
          -0.23824913818980148
         ],
         "y": [
          1.6774483332002348,
          1.5902237642683388
         ],
         "z": [
          0.16932755663419266,
          0.16636234553014853
         ]
        },
        {
         "line": {
          "color": "black",
          "width": 5
         },
         "marker": {
          "color": "blue",
          "size": 2
         },
         "name": "lclavicle",
         "type": "scatter3d",
         "uid": "36275f6e-c1f0-4ad0-a11e-5c264f7df4b6",
         "x": [
          -0.14416594376760533,
          -0.1693852015712328
         ],
         "y": [
          1.4561408764048407,
          1.4960701303011903
         ],
         "z": [
          0.3592967632380161,
          0.14910926877686326
         ]
        },
        {
         "line": {
          "color": "black",
          "width": 5
         },
         "marker": {
          "color": "blue",
          "size": 2
         },
         "name": "lradius",
         "type": "scatter3d",
         "uid": "06d0a18c-b795-443f-9511-cf802d00417a",
         "x": [
          -0.23616698743844358,
          -0.14416594376760533
         ],
         "y": [
          0.9459798051003777,
          1.4561408764048407
         ],
         "z": [
          0.46765875238538424,
          0.3592967632380161
         ]
        },
        {
         "line": {
          "color": "black",
          "width": 5
         },
         "marker": {
          "color": "blue",
          "size": 2
         },
         "name": "lwrist",
         "type": "scatter3d",
         "uid": "b80b1707-ef6b-4d60-afe5-48d36b147e7e",
         "x": [
          -0.3017325575107032,
          -0.23616698743844358
         ],
         "y": [
          0.8520200876803493,
          0.9459798051003777
         ],
         "z": [
          0.4865339284611835,
          0.46765875238538424
         ]
        },
        {
         "line": {
          "color": "black",
          "width": 5
         },
         "marker": {
          "color": "blue",
          "size": 2
         },
         "name": "rclavicle",
         "type": "scatter3d",
         "uid": "40a57aea-8f12-412c-be89-e757b1e64194",
         "x": [
          -0.10089873336295498,
          -0.1693852015712328
         ],
         "y": [
          1.5020122969454484,
          1.4960701303011903
         ],
         "z": [
          -0.06955787088112461,
          0.14910926877686326
         ]
        },
        {
         "line": {
          "color": "black",
          "width": 5
         },
         "marker": {
          "color": "blue",
          "size": 2
         },
         "name": "rradius",
         "type": "scatter3d",
         "uid": "c571dd22-e379-481b-8189-9431807f14ed",
         "x": [
          -0.14883894258697367,
          -0.10089873336295498
         ],
         "y": [
          0.9759890239608197,
          1.5020122969454484
         ],
         "z": [
          -0.16855901210704521,
          -0.06955787088112461
         ]
        },
        {
         "line": {
          "color": "black",
          "width": 5
         },
         "marker": {
          "color": "blue",
          "size": 2
         },
         "name": "rwrist",
         "type": "scatter3d",
         "uid": "7782714f-ee2a-4ae9-b6ed-1b7c4a99c26a",
         "x": [
          -0.20981933540454892,
          -0.14883894258697367
         ],
         "y": [
          0.881964954101172,
          0.9759890239608197
         ],
         "z": [
          -0.1934845735820113,
          -0.16855901210704521
         ]
        }
       ],
       "frames": [
        {
         "data": [
          {
           "marker": {
            "color": "red",
            "size": 4
           },
           "name": "root",
           "type": "scatter3d",
           "x": [
            -0.031246292152410947
           ],
           "y": [
            0.9931577580126868
           ],
           "z": [
            0.09686800598570003
           ]
          },
          {
           "line": {
            "color": "black",
            "width": 5
           },
           "marker": {
            "color": "blue",
            "size": 2
           },
           "name": "rhipjoint",
           "type": "scatter3d",
           "x": [
            -0.06733105438235727,
            -0.031246292152410947
           ],
           "y": [
            0.8737347916849264,
            0.9931577580126868
           ],
           "z": [
            -0.00037350269002113615,
            0.09686800598570003
           ]
          },
          {
           "line": {
            "color": "black",
            "width": 5
           },
           "marker": {
            "color": "blue",
            "size": 2
           },
           "name": "rfemur",
           "type": "scatter3d",
           "x": [
            -0.26413767284212214,
            -0.06733105438235727
           ],
           "y": [
            0.42194314899089047,
            0.8737347916849264
           ],
           "z": [
            -0.052925632745577406,
            -0.00037350269002113615
           ]
          },
          {
           "line": {
            "color": "black",
            "width": 5
           },
           "marker": {
            "color": "blue",
            "size": 2
           },
           "name": "rtibia",
           "type": "scatter3d",
           "x": [
            0,
            -0.26413767284212214
           ],
           "y": [
            0,
            0.42194314899089047
           ],
           "z": [
            0,
            -0.052925632745577406
           ]
          },
          {
           "line": {
            "color": "black",
            "width": 5
           },
           "marker": {
            "color": "blue",
            "size": 2
           },
           "name": "lhipjoint",
           "type": "scatter3d",
           "x": [
            -0.10027340974673686,
            -0.031246292152410947
           ],
           "y": [
            0.8710056000476293,
            0.9931577580126868
           ],
           "z": [
            0.17443358948801374,
            0.09686800598570003
           ]
          },
          {
           "line": {
            "color": "black",
            "width": 5
           },
           "marker": {
            "color": "blue",
            "size": 2
           },
           "name": "lfemur",
           "type": "scatter3d",
           "x": [
            -0.1524864588826616,
            -0.10027340974673686
           ],
           "y": [
            0.3967025784571153,
            0.8710056000476293
           ],
           "z": [
            0.17864025258754712,
            0.17443358948801374
           ]
          },
          {
           "line": {
            "color": "black",
            "width": 5
           },
           "marker": {
            "color": "blue",
            "size": 2
           },
           "name": "ltibia",
           "type": "scatter3d",
           "x": [
            -0.014021595106126602,
            -0.1524864588826616
           ],
           "y": [
            -0.08313409155477262,
            0.3967025784571153
           ],
           "z": [
            0.18170661772965246,
            0.17864025258754712
           ]
          },
          {
           "line": {
            "color": "black",
            "width": 5
           },
           "marker": {
            "color": "blue",
            "size": 2
           },
           "name": "upperback",
           "type": "scatter3d",
           "x": [
            -0.08137364442658572,
            -0.031246292152410947
           ],
           "y": [
            1.2595094443750139,
            0.9931577580126868
           ],
           "z": [
            0.12149517568788634,
            0.09686800598570003
           ]
          },
          {
           "line": {
            "color": "black",
            "width": 5
           },
           "marker": {
            "color": "blue",
            "size": 2
           },
           "name": "lowerneck",
           "type": "scatter3d",
           "x": [
            -0.1693852015712328,
            -0.08137364442658572
           ],
           "y": [
            1.4960701303011903,
            1.2595094443750139
           ],
           "z": [
            0.14910926877686326,
            0.12149517568788634
           ]
          },
          {
           "line": {
            "color": "black",
            "width": 5
           },
           "marker": {
            "color": "blue",
            "size": 2
           },
           "name": "upperneck",
           "type": "scatter3d",
           "x": [
            -0.23824913818980148,
            -0.1693852015712328
           ],
           "y": [
            1.5902237642683388,
            1.4960701303011903
           ],
           "z": [
            0.16636234553014853,
            0.14910926877686326
           ]
          },
          {
           "line": {
            "color": "black",
            "width": 5
           },
           "marker": {
            "color": "blue",
            "size": 2
           },
           "name": "head",
           "type": "scatter3d",
           "x": [
            -0.3178573452011354,
            -0.23824913818980148
           ],
           "y": [
            1.6774483332002348,
            1.5902237642683388
           ],
           "z": [
            0.16932755663419266,
            0.16636234553014853
           ]
          },
          {
           "line": {
            "color": "black",
            "width": 5
           },
           "marker": {
            "color": "blue",
            "size": 2
           },
           "name": "lclavicle",
           "type": "scatter3d",
           "x": [
            -0.14416594376760533,
            -0.1693852015712328
           ],
           "y": [
            1.4561408764048407,
            1.4960701303011903
           ],
           "z": [
            0.3592967632380161,
            0.14910926877686326
           ]
          },
          {
           "line": {
            "color": "black",
            "width": 5
           },
           "marker": {
            "color": "blue",
            "size": 2
           },
           "name": "lradius",
           "type": "scatter3d",
           "x": [
            -0.23616698743844358,
            -0.14416594376760533
           ],
           "y": [
            0.9459798051003777,
            1.4561408764048407
           ],
           "z": [
            0.46765875238538424,
            0.3592967632380161
           ]
          },
          {
           "line": {
            "color": "black",
            "width": 5
           },
           "marker": {
            "color": "blue",
            "size": 2
           },
           "name": "lwrist",
           "type": "scatter3d",
           "x": [
            -0.3017325575107032,
            -0.23616698743844358
           ],
           "y": [
            0.8520200876803493,
            0.9459798051003777
           ],
           "z": [
            0.4865339284611835,
            0.46765875238538424
           ]
          },
          {
           "line": {
            "color": "black",
            "width": 5
           },
           "marker": {
            "color": "blue",
            "size": 2
           },
           "name": "rclavicle",
           "type": "scatter3d",
           "x": [
            -0.10089873336295498,
            -0.1693852015712328
           ],
           "y": [
            1.5020122969454484,
            1.4960701303011903
           ],
           "z": [
            -0.06955787088112461,
            0.14910926877686326
           ]
          },
          {
           "line": {
            "color": "black",
            "width": 5
           },
           "marker": {
            "color": "blue",
            "size": 2
           },
           "name": "rradius",
           "type": "scatter3d",
           "x": [
            -0.14883894258697367,
            -0.10089873336295498
           ],
           "y": [
            0.9759890239608197,
            1.5020122969454484
           ],
           "z": [
            -0.16855901210704521,
            -0.06955787088112461
           ]
          },
          {
           "line": {
            "color": "black",
            "width": 5
           },
           "marker": {
            "color": "blue",
            "size": 2
           },
           "name": "rwrist",
           "type": "scatter3d",
           "x": [
            -0.20981933540454892,
            -0.14883894258697367
           ],
           "y": [
            0.881964954101172,
            0.9759890239608197
           ],
           "z": [
            -0.1934845735820113,
            -0.16855901210704521
           ]
          }
         ],
         "name": "frame1"
        },
        {
         "data": [
          {
           "marker": {
            "color": "red",
            "size": 4
           },
           "name": "root",
           "type": "scatter3d",
           "x": [
            -0.16102255881907762
           ],
           "y": [
            0.9871644246793534
           ],
           "z": [
            0.07672800598569983
           ]
          },
          {
           "line": {
            "color": "black",
            "width": 5
           },
           "marker": {
            "color": "blue",
            "size": 2
           },
           "name": "rhipjoint",
           "type": "scatter3d",
           "x": [
            -0.18702564539650166,
            -0.16102255881907762
           ],
           "y": [
            0.8611096985234064,
            0.9871644246793534
           ],
           "z": [
            -0.015217148663360784,
            0.07672800598569983
           ]
          },
          {
           "line": {
            "color": "black",
            "width": 5
           },
           "marker": {
            "color": "blue",
            "size": 2
           },
           "name": "rfemur",
           "type": "scatter3d",
           "x": [
            -0.41347396904585715,
            -0.18702564539650166
           ],
           "y": [
            0.42411953199328406,
            0.8611096985234064
           ],
           "z": [
            -0.07327755620147454,
            -0.015217148663360784
           ]
          },
          {
           "line": {
            "color": "black",
            "width": 5
           },
           "marker": {
            "color": "blue",
            "size": 2
           },
           "name": "rtibia",
           "type": "scatter3d",
           "x": [
            -0.48704540824388426,
            -0.41347396904585715
           ],
           "y": [
            -0.07104913001260561,
            0.42411953199328406
           ],
           "z": [
            -0.07223194731256051,
            -0.07327755620147454
           ]
          },
          {
           "line": {
            "color": "black",
            "width": 5
           },
           "marker": {
            "color": "blue",
            "size": 2
           },
           "name": "lhipjoint",
           "type": "scatter3d",
           "x": [
            -0.2243672033076859,
            -0.16102255881907762
           ],
           "y": [
            0.8648013163920323,
            0.9871644246793534
           ],
           "z": [
            0.15868554467393045,
            0.07672800598569983
           ]
          },
          {
           "line": {
            "color": "black",
            "width": 5
           },
           "marker": {
            "color": "blue",
            "size": 2
           },
           "name": "lfemur",
           "type": "scatter3d",
           "x": [
            -0.1956271645363413,
            -0.2243672033076859
           ],
           "y": [
            0.38852406622625185,
            0.8648013163920323
           ],
           "z": [
            0.16510784568986026,
            0.15868554467393045
           ]
          },
          {
           "line": {
            "color": "black",
            "width": 5
           },
           "marker": {
            "color": "blue",
            "size": 2
           },
           "name": "ltibia",
           "type": "scatter3d",
           "x": [
            -0.016305491999647734,
            -0.1956271645363413
           ],
           "y": [
            -0.07746841536236371,
            0.38852406622625185
           ],
           "z": [
            0.17605754182551603,
            0.16510784568986026
           ]
          },
          {
           "line": {
            "color": "black",
            "width": 5
           },
           "marker": {
            "color": "blue",
            "size": 2
           },
           "name": "upperback",
           "type": "scatter3d",
           "x": [
            -0.22284381679370172,
            -0.16102255881907762
           ],
           "y": [
            1.2514546010702687,
            0.9871644246793534
           ],
           "z": [
            0.09717137274867724,
            0.07672800598569983
           ]
          },
          {
           "line": {
            "color": "black",
            "width": 5
           },
           "marker": {
            "color": "blue",
            "size": 2
           },
           "name": "lowerneck",
           "type": "scatter3d",
           "x": [
            -0.32206696273865004,
            -0.22284381679370172
           ],
           "y": [
            1.4842182770898957,
            1.2514546010702687
           ],
           "z": [
            0.11781070020307473,
            0.09717137274867724
           ]
          },
          {
           "line": {
            "color": "black",
            "width": 5
           },
           "marker": {
            "color": "blue",
            "size": 2
           },
           "name": "upperneck",
           "type": "scatter3d",
           "x": [
            -0.3933765811719372,
            -0.32206696273865004
           ],
           "y": [
            1.5772945367052005,
            1.4842182770898957
           ],
           "z": [
            0.13032331096998437,
            0.11781070020307473
           ]
          },
          {
           "line": {
            "color": "black",
            "width": 5
           },
           "marker": {
            "color": "blue",
            "size": 2
           },
           "name": "head",
           "type": "scatter3d",
           "x": [
            -0.4738870183555027,
            -0.3933765811719372
           ],
           "y": [
            1.6637022660699565,
            1.5772945367052005
           ],
           "z": [
            0.1278417114164102,
            0.13032331096998437
           ]
          },
          {
           "line": {
            "color": "black",
            "width": 5
           },
           "marker": {
            "color": "blue",
            "size": 2
           },
           "name": "lclavicle",
           "type": "scatter3d",
           "x": [
            -0.3056000945068307,
            -0.32206696273865004
           ],
           "y": [
            1.4480050626924337,
            1.4842182770898957
           ],
           "z": [
            0.3288515456059505,
            0.11781070020307473
           ]
          },
          {
           "line": {
            "color": "black",
            "width": 5
           },
           "marker": {
            "color": "blue",
            "size": 2
           },
           "name": "lradius",
           "type": "scatter3d",
           "x": [
            -0.4299832262017352,
            -0.3056000945068307
           ],
           "y": [
            0.9625022028593216,
            1.4480050626924337
           ],
           "z": [
            0.4237101580325079,
            0.3288515456059505
           ]
          },
          {
           "line": {
            "color": "black",
            "width": 5
           },
           "marker": {
            "color": "blue",
            "size": 2
           },
           "name": "lwrist",
           "type": "scatter3d",
           "x": [
            -0.5108194533290203,
            -0.4299832262017352
           ],
           "y": [
            0.8793024589703876,
            0.9625022028593216
           ],
           "z": [
            0.42889202536834387,
            0.4237101580325079
           ]
          },
          {
           "line": {
            "color": "black",
            "width": 5
           },
           "marker": {
            "color": "blue",
            "size": 2
           },
           "name": "rclavicle",
           "type": "scatter3d",
           "x": [
            -0.24310753778014635,
            -0.32206696273865004
           ],
           "y": [
            1.4906240020796035,
            1.4842182770898957
           ],
           "z": [
            -0.09796321782585776,
            0.11781070020307473
           ]
          },
          {
           "line": {
            "color": "black",
            "width": 5
           },
           "marker": {
            "color": "blue",
            "size": 2
           },
           "name": "rradius",
           "type": "scatter3d",
           "x": [
            -0.22907101388192685,
            -0.24310753778014635
           ],
           "y": [
            0.9494346091959824,
            1.4906240020796035
           ],
           "z": [
            -0.1775326511779672,
            -0.09796321782585776
           ]
          },
          {
           "line": {
            "color": "black",
            "width": 5
           },
           "marker": {
            "color": "blue",
            "size": 2
           },
           "name": "rwrist",
           "type": "scatter3d",
           "x": [
            -0.27183755391502396,
            -0.22907101388192685
           ],
           "y": [
            0.8455471092975687,
            0.9494346091959824
           ],
           "z": [
            -0.20117219547252993,
            -0.1775326511779672
           ]
          }
         ],
         "name": "frame2"
        },
        {
         "data": [
          {
           "marker": {
            "color": "red",
            "size": 4
           },
           "name": "root",
           "type": "scatter3d",
           "x": [
            -0.32744189215241093
           ],
           "y": [
            0.9802510913460201
           ],
           "z": [
            0.02609467265236655
           ]
          },
          {
           "line": {
            "color": "black",
            "width": 5
           },
           "marker": {
            "color": "blue",
            "size": 2
           },
           "name": "rhipjoint",
           "type": "scatter3d",
           "x": [
            -0.3526452243500804,
            -0.32744189215241093
           ],
           "y": [
            0.8498813596890239,
            0.9802510913460201
           ],
           "z": [
            -0.059861078028203236,
            0.02609467265236655
           ]
          },
          {
           "line": {
            "color": "black",
            "width": 5
           },
           "marker": {
            "color": "blue",
            "size": 2
           },
           "name": "rfemur",
           "type": "scatter3d",
           "x": [
            -0.5722707665793205,
            -0.3526452243500804
           ],
           "y": [
            0.40639797356931684,
            0.8498813596890239
           ],
           "z": [
            -0.08626879067867842,
            -0.059861078028203236
           ]
          },
          {
           "line": {
            "color": "black",
            "width": 5
           },
           "marker": {
            "color": "blue",
            "size": 2
           },
           "name": "rtibia",
           "type": "scatter3d",
           "x": [
            -0.661567786248546,
            -0.5722707665793205
           ],
           "y": [
            -0.08592072101260087,
            0.40639797356931684
           ],
           "z": [
            -0.07032517002115266,
            -0.08626879067867842
           ]
          },
          {
           "line": {
            "color": "black",
            "width": 5
           },
           "marker": {
            "color": "blue",
            "size": 2
           },
           "name": "lhipjoint",
           "type": "scatter3d",
           "x": [
            -0.3743166736808131,
            -0.32744189215241093
           ],
           "y": [
            0.8564982487658781,
            0.9802510913460201
           ],
           "z": [
            0.11659495559642608,
            0.02609467265236655
           ]
          },
          {
           "line": {
            "color": "black",
            "width": 5
           },
           "marker": {
            "color": "blue",
            "size": 2
           },
           "name": "lfemur",
           "type": "scatter3d",
           "x": [
            -0.2580027907118601,
            -0.3743166736808131
           ],
           "y": [
            0.3947899226504398,
            0.8564982487658781
           ],
           "z": [
            0.14827708034777085,
            0.11659495559642608
           ]
          },
          {
           "line": {
            "color": "black",
            "width": 5
           },
           "marker": {
            "color": "blue",
            "size": 2
           },
           "name": "ltibia",
           "type": "scatter3d",
           "x": [
            -0.041491358535836506,
            -0.2580027907118601
           ],
           "y": [
            -0.05427227676332335,
            0.3947899226504398
           ],
           "z": [
            0.17812824077240824,
            0.14827708034777085
           ]
          },
          {
           "line": {
            "color": "black",
            "width": 5
           },
           "marker": {
            "color": "blue",
            "size": 2
           },
           "name": "upperback",
           "type": "scatter3d",
           "x": [
            -0.3849733766556064,
            -0.32744189215241093
           ],
           "y": [
            1.2463791790302836,
            0.9802510913460201
           ],
           "z": [
            0.03185154314563453,
            0.02609467265236655
           ]
          },
          {
           "line": {
            "color": "black",
            "width": 5
           },
           "marker": {
            "color": "blue",
            "size": 2
           },
           "name": "lowerneck",
           "type": "scatter3d",
           "x": [
            -0.48540655877145145,
            -0.3849733766556064
           ],
           "y": [
            1.4789341205884956,
            1.2463791790302836
           ],
           "z": [
            0.04250623659332694,
            0.03185154314563453
           ]
          },
          {
           "line": {
            "color": "black",
            "width": 5
           },
           "marker": {
            "color": "blue",
            "size": 2
           },
           "name": "upperneck",
           "type": "scatter3d",
           "x": [
            -0.5568414886177885,
            -0.48540655877145145
           ],
           "y": [
            1.572555723038129,
            1.4789341205884956
           ],
           "z": [
            0.048577773951566885,
            0.04250623659332694
           ]
          },
          {
           "line": {
            "color": "black",
            "width": 5
           },
           "marker": {
            "color": "blue",
            "size": 2
           },
           "name": "head",
           "type": "scatter3d",
           "x": [
            -0.6365800079073901,
            -0.5568414886177885
           ],
           "y": [
            1.658928131661947,
            1.572555723038129
           ],
           "z": [
            0.036917581164648536,
            0.048577773951566885
           ]
          },
          {
           "line": {
            "color": "black",
            "width": 5
           },
           "marker": {
            "color": "blue",
            "size": 2
           },
           "name": "lclavicle",
           "type": "scatter3d",
           "x": [
            -0.47562968208291745,
            -0.48540655877145145
           ],
           "y": [
            1.454726447495324,
            1.4789341205884956
           ],
           "z": [
            0.24986355650595607,
            0.04250623659332694
           ]
          },
          {
           "line": {
            "color": "black",
            "width": 5
           },
           "marker": {
            "color": "blue",
            "size": 2
           },
           "name": "lradius",
           "type": "scatter3d",
           "x": [
            -0.528173403510208,
            -0.47562968208291745
           ],
           "y": [
            0.9387472317289394,
            1.454726447495324
           ],
           "z": [
            0.34977494570317447,
            0.24986355650595607
           ]
          },
          {
           "line": {
            "color": "black",
            "width": 5
           },
           "marker": {
            "color": "blue",
            "size": 2
           },
           "name": "lwrist",
           "type": "scatter3d",
           "x": [
            -0.5858142029767917,
            -0.528173403510208
           ],
           "y": [
            0.8382161317464908,
            0.9387472317289394
           ],
           "z": [
            0.3571628359038009,
            0.34977494570317447
           ]
          },
          {
           "line": {
            "color": "black",
            "width": 5
           },
           "marker": {
            "color": "blue",
            "size": 2
           },
           "name": "rclavicle",
           "type": "scatter3d",
           "x": [
            -0.40084089575578413,
            -0.48540655877145145
           ],
           "y": [
            1.4743376990669634,
            1.4789341205884956
           ],
           "z": [
            -0.1766508889417729,
            0.04250623659332694
           ]
          },
          {
           "line": {
            "color": "black",
            "width": 5
           },
           "marker": {
            "color": "blue",
            "size": 2
           },
           "name": "rradius",
           "type": "scatter3d",
           "x": [
            -0.3049249426431641,
            -0.40084089575578413
           ],
           "y": [
            0.9173039029912134,
            1.4743376990669634
           ],
           "z": [
            -0.23239972045634982,
            -0.1766508889417729
           ]
          },
          {
           "line": {
            "color": "black",
            "width": 5
           },
           "marker": {
            "color": "blue",
            "size": 2
           },
           "name": "rwrist",
           "type": "scatter3d",
           "x": [
            -0.3105573680359991,
            -0.3049249426431641
           ],
           "y": [
            0.8050332889852728,
            0.9173039029912134
           ],
           "z": [
            -0.25572358486435953,
            -0.23239972045634982
           ]
          }
         ],
         "name": "frame3"
        },
        {
         "data": [
          {
           "marker": {
            "color": "red",
            "size": 4
           },
           "name": "root",
           "type": "scatter3d",
           "x": [
            -0.5180072254857443
           ],
           "y": [
            0.9990510913460201
           ],
           "z": [
            -0.05389866068096675
           ]
          },
          {
           "line": {
            "color": "black",
            "width": 5
           },
           "marker": {
            "color": "blue",
            "size": 2
           },
           "name": "rhipjoint",
           "type": "scatter3d",
           "x": [
            -0.5411778269273816,
            -0.5180072254857443
           ],
           "y": [
            0.8794119447417553,
            0.9990510913460201
           ],
           "z": [
            -0.1547424199815777,
            -0.05389866068096675
           ]
          },
          {
           "line": {
            "color": "black",
            "width": 5
           },
           "marker": {
            "color": "blue",
            "size": 2
           },
           "name": "rfemur",
           "type": "scatter3d",
           "x": [
            -0.6870439999794645,
            -0.5411778269273816
           ],
           "y": [
            0.40586785099687356,
            0.8794119447417553
           ],
           "z": [
            -0.1452919866794776,
            -0.1547424199815777
           ]
          },
          {
           "line": {
            "color": "black",
            "width": 5
           },
           "marker": {
            "color": "blue",
            "size": 2
           },
           "name": "rtibia",
           "type": "scatter3d",
           "x": [
            -0.7002425457927463,
            -0.6870439999794645
           ],
           "y": [
            -0.09015357239667678,
            0.40586785099687356
           ],
           "z": [
            -0.07900171801678771,
            -0.1452919866794776
           ]
          },
          {
           "line": {
            "color": "black",
            "width": 5
           },
           "marker": {
            "color": "blue",
            "size": 2
           },
           "name": "lhipjoint",
           "type": "scatter3d",
           "x": [
            -0.5819534329874213,
            -0.5180072254857443
           ],
           "y": [
            0.8709410086101158,
            0.9990510913460201
           ],
           "z": [
            0.01821930969055619,
            -0.05389866068096675
           ]
          },
          {
           "line": {
            "color": "black",
            "width": 5
           },
           "marker": {
            "color": "blue",
            "size": 2
           },
           "name": "lfemur",
           "type": "scatter3d",
           "x": [
            -0.5803973409596556,
            -0.5819534329874213
           ],
           "y": [
            0.39736963761427707,
            0.8709410086101158
           ],
           "z": [
            0.07682809704465422,
            0.01821930969055619
           ]
          },
          {
           "line": {
            "color": "black",
            "width": 5
           },
           "marker": {
            "color": "blue",
            "size": 2
           },
           "name": "ltibia",
           "type": "scatter3d",
           "x": [
            -0.21752015949867418,
            -0.5803973409596556
           ],
           "y": [
            0.06803033028673346,
            0.39736963761427707
           ],
           "z": [
            0.17316564324489955,
            0.07682809704465422
           ]
          },
          {
           "line": {
            "color": "black",
            "width": 5
           },
           "marker": {
            "color": "blue",
            "size": 2
           },
           "name": "upperback",
           "type": "scatter3d",
           "x": [
            -0.5725383854920553,
            -0.5180072254857443
           ],
           "y": [
            1.2656919769435537,
            0.9990510913460201
           ],
           "z": [
            -0.05981968334986429,
            -0.05389866068096675
           ]
          },
          {
           "line": {
            "color": "black",
            "width": 5
           },
           "marker": {
            "color": "blue",
            "size": 2
           },
           "name": "lowerneck",
           "type": "scatter3d",
           "x": [
            -0.6645930233534691,
            -0.5725383854920553
           ],
           "y": [
            1.502385293728804,
            1.2656919769435537
           ],
           "z": [
            -0.06733459719958125,
            -0.05981968334986429
           ]
          },
          {
           "line": {
            "color": "black",
            "width": 5
           },
           "marker": {
            "color": "blue",
            "size": 2
           },
           "name": "upperneck",
           "type": "scatter3d",
           "x": [
            -0.732694330616042,
            -0.6645930233534691
           ],
           "y": [
            1.5984261578791101,
            1.502385293728804
           ],
           "z": [
            -0.07390586615404474,
            -0.06733459719958125
           ]
          },
          {
           "line": {
            "color": "black",
            "width": 5
           },
           "marker": {
            "color": "blue",
            "size": 2
           },
           "name": "head",
           "type": "scatter3d",
           "x": [
            -0.8081151473487257,
            -0.732694330616042
           ],
           "y": [
            1.6863057872434166,
            1.5984261578791101
           ],
           "z": [
            -0.09721371187116538,
            -0.07390586615404474
           ]
          },
          {
           "line": {
            "color": "black",
            "width": 5
           },
           "marker": {
            "color": "blue",
            "size": 2
           },
           "name": "lclavicle",
           "type": "scatter3d",
           "x": [
            -0.6740171188856984,
            -0.6645930233534691
           ],
           "y": [
            1.4803945133011245,
            1.502385293728804
           ],
           "z": [
            0.1469683131838863,
            -0.06733459719958125
           ]
          },
          {
           "line": {
            "color": "black",
            "width": 5
           },
           "marker": {
            "color": "blue",
            "size": 2
           },
           "name": "lradius",
           "type": "scatter3d",
           "x": [
            -0.5988645734065539,
            -0.6740171188856984
           ],
           "y": [
            0.949330277428947,
            1.4803945133011245
           ],
           "z": [
            0.2566101949653967,
            0.1469683131838863
           ]
          },
          {
           "line": {
            "color": "black",
            "width": 5
           },
           "marker": {
            "color": "blue",
            "size": 2
           },
           "name": "lwrist",
           "type": "scatter3d",
           "x": [
            -0.6165641338056811,
            -0.5988645734065539
           ],
           "y": [
            0.8358955169367758,
            0.949330277428947
           ],
           "z": [
            0.2740120748122948,
            0.2566101949653967
           ]
          },
          {
           "line": {
            "color": "black",
            "width": 5
           },
           "marker": {
            "color": "blue",
            "size": 2
           },
           "name": "rclavicle",
           "type": "scatter3d",
           "x": [
            -0.5652505518845307,
            -0.6645930233534691
           ],
           "y": [
            1.490186062749036,
            1.502385293728804
           ],
           "z": [
            -0.2725152924388664,
            -0.06733459719958125
           ]
          },
          {
           "line": {
            "color": "black",
            "width": 5
           },
           "marker": {
            "color": "blue",
            "size": 2
           },
           "name": "rradius",
           "type": "scatter3d",
           "x": [
            -0.4558850043236558,
            -0.5652505518845307
           ],
           "y": [
            0.9301969195902783,
            1.490186062749036
           ],
           "z": [
            -0.31883113403233193,
            -0.2725152924388664
           ]
          },
          {
           "line": {
            "color": "black",
            "width": 5
           },
           "marker": {
            "color": "blue",
            "size": 2
           },
           "name": "rwrist",
           "type": "scatter3d",
           "x": [
            -0.451228057079771,
            -0.4558850043236558
           ],
           "y": [
            0.817613588011591,
            0.9301969195902783
           ],
           "z": [
            -0.3408248587967057,
            -0.31883113403233193
           ]
          }
         ],
         "name": "frame4"
        },
        {
         "data": [
          {
           "marker": {
            "color": "red",
            "size": 4
           },
           "name": "root",
           "type": "scatter3d",
           "x": [
            -0.6814118921524109
           ],
           "y": [
            0.9934510913460202
           ],
           "z": [
            -0.11919199401430008
           ]
          },
          {
           "line": {
            "color": "black",
            "width": 5
           },
           "marker": {
            "color": "blue",
            "size": 2
           },
           "name": "rhipjoint",
           "type": "scatter3d",
           "x": [
            -0.6894269256208537,
            -0.6814118921524109
           ],
           "y": [
            0.8874867057311046,
            0.9934510913460202
           ],
           "z": [
            -0.2363550179638241,
            -0.11919199401430008
           ]
          },
          {
           "line": {
            "color": "black",
            "width": 5
           },
           "marker": {
            "color": "blue",
            "size": 2
           },
           "name": "rfemur",
           "type": "scatter3d",
           "x": [
            -0.7640839153015722,
            -0.6894269256208537
           ],
           "y": [
            0.3993748999746313,
            0.8874867057311046
           ],
           "z": [
            -0.19412400064139917,
            -0.2363550179638241
           ]
          },
          {
           "line": {
            "color": "black",
            "width": 5
           },
           "marker": {
            "color": "blue",
            "size": 2
           },
           "name": "rtibia",
           "type": "scatter3d",
           "x": [
            -0.7181656823850211,
            -0.7640839153015722
           ],
           "y": [
            -0.08730079948828315,
            0.3993748999746313
           ],
           "z": [
            -0.08621601560588428,
            -0.19412400064139917
           ]
          },
          {
           "line": {
            "color": "black",
            "width": 5
           },
           "marker": {
            "color": "blue",
            "size": 2
           },
           "name": "lhipjoint",
           "type": "scatter3d",
           "x": [
            -0.7681464230979922,
            -0.6814118921524109
           ],
           "y": [
            0.8649336075525066,
            0.9934510913460202
           ],
           "z": [
            -0.07841589925291217,
            -0.11919199401430008
           ]
          },
          {
           "line": {
            "color": "black",
            "width": 5
           },
           "marker": {
            "color": "blue",
            "size": 2
           },
           "name": "lfemur",
           "type": "scatter3d",
           "x": [
            -0.9373260523371055,
            -0.7681464230979922
           ],
           "y": [
            0.41879853881496815,
            0.8649336075525066
           ],
           "z": [
            -0.07141530660208725,
            -0.07841589925291217
           ]
          },
          {
           "line": {
            "color": "black",
            "width": 5
           },
           "marker": {
            "color": "blue",
            "size": 2
           },
           "name": "ltibia",
           "type": "scatter3d",
           "x": [
            -0.611724148330295,
            -0.9373260523371055
           ],
           "y": [
            0.08175737563798198,
            0.41879853881496815
           ],
           "z": [
            0.10124564849599077,
            -0.07141530660208725
           ]
          },
          {
           "line": {
            "color": "black",
            "width": 5
           },
           "marker": {
            "color": "blue",
            "size": 2
           },
           "name": "upperback",
           "type": "scatter3d",
           "x": [
            -0.7242804027195296,
            -0.6814118921524109
           ],
           "y": [
            1.261821941286157,
            0.9934510913460202
           ],
           "z": [
            -0.13344005231899392,
            -0.11919199401430008
           ]
          },
          {
           "line": {
            "color": "black",
            "width": 5
           },
           "marker": {
            "color": "blue",
            "size": 2
           },
           "name": "lowerneck",
           "type": "scatter3d",
           "x": [
            -0.799871635538573,
            -0.7242804027195296
           ],
           "y": [
            1.5040772222979368,
            1.261821941286157
           ],
           "z": [
            -0.1458735677255742,
            -0.13344005231899392
           ]
          },
          {
           "line": {
            "color": "black",
            "width": 5
           },
           "marker": {
            "color": "blue",
            "size": 2
           },
           "name": "upperneck",
           "type": "scatter3d",
           "x": [
            -0.8612984415171816,
            -0.799871635538573
           ],
           "y": [
            1.603539131359391,
            1.5040772222979368
           ],
           "z": [
            -0.16132974339739642,
            -0.1458735677255742
           ]
          },
          {
           "line": {
            "color": "black",
            "width": 5
           },
           "marker": {
            "color": "blue",
            "size": 2
           },
           "name": "head",
           "type": "scatter3d",
           "x": [
            -0.9290268904780847,
            -0.8612984415171816
           ],
           "y": [
            1.6940234533556857,
            1.603539131359391
           ],
           "z": [
            -0.1956783852923421,
            -0.16132974339739642
           ]
          },
          {
           "line": {
            "color": "black",
            "width": 5
           },
           "marker": {
            "color": "blue",
            "size": 2
           },
           "name": "lclavicle",
           "type": "scatter3d",
           "x": [
            -0.8310564743252317,
            -0.799871635538573
           ],
           "y": [
            1.4814670530538956,
            1.5040772222979368
           ],
           "z": [
            0.06533440119298603,
            -0.1458735677255742
           ]
          },
          {
           "line": {
            "color": "black",
            "width": 5
           },
           "marker": {
            "color": "blue",
            "size": 2
           },
           "name": "lradius",
           "type": "scatter3d",
           "x": [
            -0.7417373089857432,
            -0.8310564743252317
           ],
           "y": [
            0.9515746476327313,
            1.4814670530538956
           ],
           "z": [
            0.16190756385652633,
            0.06533440119298603
           ]
          },
          {
           "line": {
            "color": "black",
            "width": 5
           },
           "marker": {
            "color": "blue",
            "size": 2
           },
           "name": "lwrist",
           "type": "scatter3d",
           "x": [
            -0.7574658526451054,
            -0.7417373089857432
           ],
           "y": [
            0.8372427529927567,
            0.9515746476327313
           ],
           "z": [
            0.17472846596338912,
            0.16190756385652633
           ]
          },
          {
           "line": {
            "color": "black",
            "width": 5
           },
           "marker": {
            "color": "blue",
            "size": 2
           },
           "name": "rclavicle",
           "type": "scatter3d",
           "x": [
            -0.6835947781207673,
            -0.799871635538573
           ],
           "y": [
            1.4863973643948387,
            1.5040772222979368
           ],
           "z": [
            -0.34224783113155866,
            -0.1458735677255742
           ]
          },
          {
           "line": {
            "color": "black",
            "width": 5
           },
           "marker": {
            "color": "blue",
            "size": 2
           },
           "name": "rradius",
           "type": "scatter3d",
           "x": [
            -0.6738440946264973,
            -0.6835947781207673
           ],
           "y": [
            0.9355561788562868,
            1.4863973643948387
           ],
           "z": [
            -0.42333851563205277,
            -0.34224783113155866
           ]
          },
          {
           "line": {
            "color": "black",
            "width": 5
           },
           "marker": {
            "color": "blue",
            "size": 2
           },
           "name": "rwrist",
           "type": "scatter3d",
           "x": [
            -0.7049114737377775,
            -0.6738440946264973
           ],
           "y": [
            0.8310687244874676,
            0.9355561788562868
           ],
           "z": [
            -0.45936083469509914,
            -0.42333851563205277
           ]
          }
         ],
         "name": "frame5"
        },
        {
         "data": [
          {
           "marker": {
            "color": "red",
            "size": 4
           },
           "name": "root",
           "type": "scatter3d",
           "x": [
            -0.8341518921524109
           ],
           "y": [
            0.9732844246793533
           ],
           "z": [
            -0.17984532734763334
           ]
          },
          {
           "line": {
            "color": "black",
            "width": 5
           },
           "marker": {
            "color": "blue",
            "size": 2
           },
           "name": "rhipjoint",
           "type": "scatter3d",
           "x": [
            -0.8281744997051009,
            -0.8341518921524109
           ],
           "y": [
            0.8729098641463682,
            0.9732844246793533
           ],
           "z": [
            -0.3019480887356726,
            -0.17984532734763334
           ]
          },
          {
           "line": {
            "color": "black",
            "width": 5
           },
           "marker": {
            "color": "blue",
            "size": 2
           },
           "name": "rfemur",
           "type": "scatter3d",
           "x": [
            -0.8266314426246496,
            -0.8281744997051009
           ],
           "y": [
            0.38324393148899144,
            0.8729098641463682
           ],
           "z": [
            -0.22555991412240625,
            -0.3019480887356726
           ]
          },
          {
           "line": {
            "color": "black",
            "width": 5
           },
           "marker": {
            "color": "blue",
            "size": 2
           },
           "name": "rtibia",
           "type": "scatter3d",
           "x": [
            -0.7248399693381522,
            -0.8266314426246496
           ],
           "y": [
            -0.08651180070765457,
            0.38324393148899144
           ],
           "z": [
            -0.08565315291738868,
            -0.22555991412240625
           ]
          },
          {
           "line": {
            "color": "black",
            "width": 5
           },
           "marker": {
            "color": "blue",
            "size": 2
           },
           "name": "lhipjoint",
           "type": "scatter3d",
           "x": [
            -0.923591723630585,
            -0.8341518921524109
           ],
           "y": [
            0.8425941041035576,
            0.9732844246793533
           ],
           "z": [
            -0.15488798261893208,
            -0.17984532734763334
           ]
          },
          {
           "line": {
            "color": "black",
            "width": 5
           },
           "marker": {
            "color": "blue",
            "size": 2
           },
           "name": "lfemur",
           "type": "scatter3d",
           "x": [
            -1.1423923253096597,
            -0.923591723630585
           ],
           "y": [
            0.42474643769618525,
            0.8425941041035576
           ],
           "z": [
            -0.22725426749789507,
            -0.15488798261893208
           ]
          },
          {
           "line": {
            "color": "black",
            "width": 5
           },
           "marker": {
            "color": "blue",
            "size": 2
           },
           "name": "ltibia",
           "type": "scatter3d",
           "x": [
            -1.1146206481260301,
            -1.1423923253096597
           ],
           "y": [
            -0.05999609168861533,
            0.42474643769618525
           ],
           "z": [
            -0.11029886943534066,
            -0.22725426749789507
           ]
          },
          {
           "line": {
            "color": "black",
            "width": 5
           },
           "marker": {
            "color": "blue",
            "size": 2
           },
           "name": "upperback",
           "type": "scatter3d",
           "x": [
            -0.8732019974355818,
            -0.8341518921524109
           ],
           "y": [
            1.2414079393066555,
            0.9732844246793533
           ],
           "z": [
            -0.20717091771302013,
            -0.17984532734763334
           ]
          },
          {
           "line": {
            "color": "black",
            "width": 5
           },
           "marker": {
            "color": "blue",
            "size": 2
           },
           "name": "lowerneck",
           "type": "scatter3d",
           "x": [
            -0.9358602221015473,
            -0.8732019974355818
           ],
           "y": [
            1.487104073538312,
            1.2414079393066555
           ],
           "z": [
            -0.22632721129302702,
            -0.20717091771302013
           ]
          },
          {
           "line": {
            "color": "black",
            "width": 5
           },
           "marker": {
            "color": "blue",
            "size": 2
           },
           "name": "upperneck",
           "type": "scatter3d",
           "x": [
            -0.9915477427661271,
            -0.9358602221015473
           ],
           "y": [
            1.588705143736383,
            1.487104073538312
           ],
           "z": [
            -0.24825755078240733,
            -0.22632721129302702
           ]
          },
          {
           "line": {
            "color": "black",
            "width": 5
           },
           "marker": {
            "color": "blue",
            "size": 2
           },
           "name": "head",
           "type": "scatter3d",
           "x": [
            -1.053230261142518,
            -0.9915477427661271
           ],
           "y": [
            1.680866135199076,
            1.588705143736383
           ],
           "z": [
            -0.2889515688337827,
            -0.24825755078240733
           ]
          },
          {
           "line": {
            "color": "black",
            "width": 5
           },
           "marker": {
            "color": "blue",
            "size": 2
           },
           "name": "lclavicle",
           "type": "scatter3d",
           "x": [
            -0.9868948435486754,
            -0.9358602221015473
           ],
           "y": [
            1.4643611919021169,
            1.487104073538312
           ],
           "z": [
            -0.016063168367779213,
            -0.22632721129302702
           ]
          },
          {
           "line": {
            "color": "black",
            "width": 5
           },
           "marker": {
            "color": "blue",
            "size": 2
           },
           "name": "lradius",
           "type": "scatter3d",
           "x": [
            -0.9672240380763275,
            -0.9868948435486754
           ],
           "y": [
            0.9320623581536377,
            1.4643611919021169
           ],
           "z": [
            0.06767724746151225,
            -0.016063168367779213
           ]
          },
          {
           "line": {
            "color": "black",
            "width": 5
           },
           "marker": {
            "color": "blue",
            "size": 2
           },
           "name": "lwrist",
           "type": "scatter3d",
           "x": [
            -1.0024605332715575,
            -0.9672240380763275
           ],
           "y": [
            0.8215471911473953,
            0.9320623581536377
           ],
           "z": [
            0.0730000302283905,
            0.06767724746151225
           ]
          },
          {
           "line": {
            "color": "black",
            "width": 5
           },
           "marker": {
            "color": "blue",
            "size": 2
           },
           "name": "rclavicle",
           "type": "scatter3d",
           "x": [
            -0.8069324163554906,
            -0.9358602221015473
           ],
           "y": [
            1.465001973305795,
            1.487104073538312
           ],
           "z": [
            -0.41040521548171044,
            -0.22632721129302702
           ]
          },
          {
           "line": {
            "color": "black",
            "width": 5
           },
           "marker": {
            "color": "blue",
            "size": 2
           },
           "name": "rradius",
           "type": "scatter3d",
           "x": [
            -0.8693431486362787,
            -0.8069324163554906
           ],
           "y": [
            0.948685280967166,
            1.465001973305795
           ],
           "z": [
            -0.518396426703619,
            -0.41040521548171044
           ]
          },
          {
           "line": {
            "color": "black",
            "width": 5
           },
           "marker": {
            "color": "blue",
            "size": 2
           },
           "name": "rwrist",
           "type": "scatter3d",
           "x": [
            -0.929999682196197,
            -0.8693431486362787
           ],
           "y": [
            0.8625537515308298,
            0.948685280967166
           ],
           "z": [
            -0.5640315251416858,
            -0.518396426703619
           ]
          }
         ],
         "name": "frame6"
        },
        {
         "data": [
          {
           "marker": {
            "color": "red",
            "size": 4
           },
           "name": "root",
           "type": "scatter3d",
           "x": [
            -1.0015252254857443
           ],
           "y": [
            0.9594310913460201
           ],
           "z": [
            -0.2629653273476334
           ]
          },
          {
           "line": {
            "color": "black",
            "width": 5
           },
           "marker": {
            "color": "blue",
            "size": 2
           },
           "name": "rhipjoint",
           "type": "scatter3d",
           "x": [
            -0.9741853656908307,
            -1.0015252254857443
           ],
           "y": [
            0.85560207894871,
            0.9594310913460201
           ],
           "z": [
            -0.3791201129237654,
            -0.2629653273476334
           ]
          },
          {
           "line": {
            "color": "black",
            "width": 5
           },
           "marker": {
            "color": "blue",
            "size": 2
           },
           "name": "rfemur",
           "type": "scatter3d",
           "x": [
            -0.885178014169482,
            -0.9741853656908307
           ],
           "y": [
            0.38454514483253494,
            0.85560207894871
           ],
           "z": [
            -0.25344865217255275,
            -0.3791201129237654
           ]
          },
          {
           "line": {
            "color": "black",
            "width": 5
           },
           "marker": {
            "color": "blue",
            "size": 2
           },
           "name": "rtibia",
           "type": "scatter3d",
           "x": [
            -0.7361550516650499,
            -0.885178014169482
           ],
           "y": [
            -0.06505079002370996,
            0.38454514483253494
           ],
           "z": [
            -0.09139463092203808,
            -0.25344865217255275
           ]
          },
          {
           "line": {
            "color": "black",
            "width": 5
           },
           "marker": {
            "color": "blue",
            "size": 2
           },
           "name": "lhipjoint",
           "type": "scatter3d",
           "x": [
            -1.0838181656423937,
            -1.0015252254857443
           ],
           "y": [
            0.8233333281217734,
            0.9594310913460201
           ],
           "z": [
            -0.24277663623882867,
            -0.2629653273476334
           ]
          },
          {
           "line": {
            "color": "black",
            "width": 5
           },
           "marker": {
            "color": "blue",
            "size": 2
           },
           "name": "lfemur",
           "type": "scatter3d",
           "x": [
            -1.293181853968874,
            -1.0838181656423937
           ],
           "y": [
            0.4067291164878445,
            0.8233333281217734
           ],
           "z": [
            -0.3443395805817327,
            -0.24277663623882867
           ]
          },
          {
           "line": {
            "color": "black",
            "width": 5
           },
           "marker": {
            "color": "blue",
            "size": 2
           },
           "name": "ltibia",
           "type": "scatter3d",
           "x": [
            -1.3532743624419363,
            -1.293181853968874
           ],
           "y": [
            -0.0883372343880246,
            0.4067291164878445
           ],
           "z": [
            -0.31744442042600174,
            -0.3443395805817327
           ]
          },
          {
           "line": {
            "color": "black",
            "width": 5
           },
           "marker": {
            "color": "blue",
            "size": 2
           },
           "name": "upperback",
           "type": "scatter3d",
           "x": [
            -1.035457154909586,
            -1.0015252254857443
           ],
           "y": [
            1.228721841453172,
            0.9594310913460201
           ],
           "z": [
            -0.2858590476428738,
            -0.2629653273476334
           ]
          },
          {
           "line": {
            "color": "black",
            "width": 5
           },
           "marker": {
            "color": "blue",
            "size": 2
           },
           "name": "lowerneck",
           "type": "scatter3d",
           "x": [
            -1.099510915675236,
            -1.035457154909586
           ],
           "y": [
            1.4731755734327905,
            1.228721841453172
           ],
           "z": [
            -0.31376288823218357,
            -0.2858590476428738
           ]
          },
          {
           "line": {
            "color": "black",
            "width": 5
           },
           "marker": {
            "color": "blue",
            "size": 2
           },
           "name": "upperneck",
           "type": "scatter3d",
           "x": [
            -1.1550489955841534,
            -1.099510915675236
           ],
           "y": [
            1.5729920169052345,
            1.4731755734327905
           ],
           "z": [
            -0.34303773248153724,
            -0.31376288823218357
           ]
          },
          {
           "line": {
            "color": "black",
            "width": 5
           },
           "marker": {
            "color": "blue",
            "size": 2
           },
           "name": "head",
           "type": "scatter3d",
           "x": [
            -1.2146911264032858,
            -1.1550489955841534
           ],
           "y": [
            1.6625139232521289,
            1.5729920169052345
           ],
           "z": [
            -0.39185401092610295,
            -0.34303773248153724
           ]
          },
          {
           "line": {
            "color": "black",
            "width": 5
           },
           "marker": {
            "color": "blue",
            "size": 2
           },
           "name": "lclavicle",
           "type": "scatter3d",
           "x": [
            -1.1696477498151907,
            -1.099510915675236
           ],
           "y": [
            1.4525256365885117,
            1.4731755734327905
           ],
           "z": [
            -0.10961735710997686,
            -0.31376288823218357
           ]
          },
          {
           "line": {
            "color": "black",
            "width": 5
           },
           "marker": {
            "color": "blue",
            "size": 2
           },
           "name": "lradius",
           "type": "scatter3d",
           "x": [
            -1.2119039140624888,
            -1.1696477498151907
           ],
           "y": [
            0.9403196717995524,
            1.4525256365885117
           ],
           "z": [
            -0.021686419634083385,
            -0.10961735710997686
           ]
          },
          {
           "line": {
            "color": "black",
            "width": 5
           },
           "marker": {
            "color": "blue",
            "size": 2
           },
           "name": "lwrist",
           "type": "scatter3d",
           "x": [
            -1.2693319606719449,
            -1.2119039140624888
           ],
           "y": [
            0.8394327640492913,
            0.9403196717995524
           ],
           "z": [
            -0.024405988654513305,
            -0.021686419634083385
           ]
          },
          {
           "line": {
            "color": "black",
            "width": 5
           },
           "marker": {
            "color": "blue",
            "size": 2
           },
           "name": "rclavicle",
           "type": "scatter3d",
           "x": [
            -0.9528767820130027,
            -1.099510915675236
           ],
           "y": [
            1.4505785697634321,
            1.4731755734327905
           ],
           "z": [
            -0.4849826357026525,
            -0.31376288823218357
           ]
          },
          {
           "line": {
            "color": "black",
            "width": 5
           },
           "marker": {
            "color": "blue",
            "size": 2
           },
           "name": "rradius",
           "type": "scatter3d",
           "x": [
            -0.988795886373811,
            -0.9528767820130027
           ],
           "y": [
            0.926771179970396,
            1.4505785697634321
           ],
           "z": [
            -0.5859386443277036,
            -0.4849826357026525
           ]
          },
          {
           "line": {
            "color": "black",
            "width": 5
           },
           "marker": {
            "color": "blue",
            "size": 2
           },
           "name": "rwrist",
           "type": "scatter3d",
           "x": [
            -1.0397588408300915,
            -0.988795886373811
           ],
           "y": [
            0.8364476177229586,
            0.926771179970396
           ],
           "z": [
            -0.6351814002621594,
            -0.5859386443277036
           ]
          }
         ],
         "name": "frame7"
        },
        {
         "data": [
          {
           "marker": {
            "color": "red",
            "size": 4
           },
           "name": "root",
           "type": "scatter3d",
           "x": [
            -1.1819052254857445
           ],
           "y": [
            0.9864777580126867
           ],
           "z": [
            -0.3492519940143
           ]
          },
          {
           "line": {
            "color": "black",
            "width": 5
           },
           "marker": {
            "color": "blue",
            "size": 2
           },
           "name": "rhipjoint",
           "type": "scatter3d",
           "x": [
            -1.1549872227346811,
            -1.1819052254857445
           ],
           "y": [
            0.8697865191784584,
            0.9864777580126867
           ],
           "z": [
            -0.45258854063973325,
            -0.3492519940143
           ]
          },
          {
           "line": {
            "color": "black",
            "width": 5
           },
           "marker": {
            "color": "blue",
            "size": 2
           },
           "name": "rfemur",
           "type": "scatter3d",
           "x": [
            -1.2161518280548693,
            -1.1549872227346811
           ],
           "y": [
            0.37903343000432077,
            0.8697865191784584
           ],
           "z": [
            -0.48469082051492846,
            -0.45258854063973325
           ]
          },
          {
           "line": {
            "color": "black",
            "width": 5
           },
           "marker": {
            "color": "blue",
            "size": 2
           },
           "name": "rtibia",
           "type": "scatter3d",
           "x": [
            -0.9088717047703851,
            -1.2161518280548693
           ],
           "y": [
            0.08093142470740577,
            0.37903343000432077
           ],
           "z": [
            -0.22522989076142796,
            -0.48469082051492846
           ]
          },
          {
           "line": {
            "color": "black",
            "width": 5
           },
           "marker": {
            "color": "blue",
            "size": 2
           },
           "name": "lhipjoint",
           "type": "scatter3d",
           "x": [
            -1.2829627990291328,
            -1.1819052254857445
           ],
           "y": [
            0.8636528429629303,
            0.9864777580126867
           ],
           "z": [
            -0.32915922229165095,
            -0.3492519940143
           ]
          },
          {
           "line": {
            "color": "black",
            "width": 5
           },
           "marker": {
            "color": "blue",
            "size": 2
           },
           "name": "lfemur",
           "type": "scatter3d",
           "x": [
            -1.3926830407197046,
            -1.2829627990291328
           ],
           "y": [
            0.4036952327629606,
            0.8636528429629303
           ],
           "z": [
            -0.39325072084559287,
            -0.32915922229165095
           ]
          },
          {
           "line": {
            "color": "black",
            "width": 5
           },
           "marker": {
            "color": "blue",
            "size": 2
           },
           "name": "ltibia",
           "type": "scatter3d",
           "x": [
            -1.3737779139217452,
            -1.3926830407197046
           ],
           "y": [
            -0.09297641645775705,
            0.4036952327629606
           ],
           "z": [
            -0.34441405403609504,
            -0.39325072084559287
           ]
          },
          {
           "line": {
            "color": "black",
            "width": 5
           },
           "marker": {
            "color": "blue",
            "size": 2
           },
           "name": "upperback",
           "type": "scatter3d",
           "x": [
            -1.2152825068860564,
            -1.1819052254857445
           ],
           "y": [
            1.2554616646001184,
            0.9864777580126867
           ],
           "z": [
            -0.3757921648491008,
            -0.3492519940143
           ]
          },
          {
           "line": {
            "color": "black",
            "width": 5
           },
           "marker": {
            "color": "blue",
            "size": 2
           },
           "name": "lowerneck",
           "type": "scatter3d",
           "x": [
            -1.2786534652967065,
            -1.2152825068860564
           ],
           "y": [
            1.5001979440661288,
            1.2554616646001184
           ],
           "z": [
            -0.40363129645676304,
            -0.3757921648491008
           ]
          },
          {
           "line": {
            "color": "black",
            "width": 5
           },
           "marker": {
            "color": "blue",
            "size": 2
           },
           "name": "upperneck",
           "type": "scatter3d",
           "x": [
            -1.3297189558510962,
            -1.2786534652967065
           ],
           "y": [
            1.5987315906632584,
            1.5001979440661288
           ],
           "z": [
            -0.4434841931644345,
            -0.40363129645676304
           ]
          },
          {
           "line": {
            "color": "black",
            "width": 5
           },
           "marker": {
            "color": "blue",
            "size": 2
           },
           "name": "head",
           "type": "scatter3d",
           "x": [
            -1.3814057001964548,
            -1.3297189558510962
           ],
           "y": [
            1.6849198684344948,
            1.5987315906632584
           ],
           "z": [
            -0.5055683760100818,
            -0.4434841931644345
           ]
          },
          {
           "line": {
            "color": "black",
            "width": 5
           },
           "marker": {
            "color": "blue",
            "size": 2
           },
           "name": "lclavicle",
           "type": "scatter3d",
           "x": [
            -1.38555249151941,
            -1.2786534652967065
           ],
           "y": [
            1.468402792572872,
            1.5001979440661288
           ],
           "z": [
            -0.2182466275887793,
            -0.40363129645676304
           ]
          },
          {
           "line": {
            "color": "black",
            "width": 5
           },
           "marker": {
            "color": "blue",
            "size": 2
           },
           "name": "lradius",
           "type": "scatter3d",
           "x": [
            -1.4514389611808514,
            -1.38555249151941
           ],
           "y": [
            0.9513094561434059,
            1.468402792572872
           ],
           "z": [
            -0.10962185904019085,
            -0.2182466275887793
           ]
          },
          {
           "line": {
            "color": "black",
            "width": 5
           },
           "marker": {
            "color": "blue",
            "size": 2
           },
           "name": "lwrist",
           "type": "scatter3d",
           "x": [
            -1.5052011309825895,
            -1.4514389611808514
           ],
           "y": [
            0.8483863779300582,
            0.9513094561434059
           ],
           "z": [
            -0.10950431014551208,
            -0.10962185904019085
           ]
          },
          {
           "line": {
            "color": "black",
            "width": 5
           },
           "marker": {
            "color": "blue",
            "size": 2
           },
           "name": "rclavicle",
           "type": "scatter3d",
           "x": [
            -1.104990240077729,
            -1.2786534652967065
           ],
           "y": [
            1.4874753466035888,
            1.5001979440661288
           ],
           "z": [
            -0.5481156874789057,
            -0.40363129645676304
           ]
          },
          {
           "line": {
            "color": "black",
            "width": 5
           },
           "marker": {
            "color": "blue",
            "size": 2
           },
           "name": "rradius",
           "type": "scatter3d",
           "x": [
            -1.0548421848987504,
            -1.104990240077729
           ],
           "y": [
            0.9272320362353513,
            1.4874753466035888
           ],
           "z": [
            -0.6051351121529558,
            -0.5481156874789057
           ]
          },
          {
           "line": {
            "color": "black",
            "width": 5
           },
           "marker": {
            "color": "blue",
            "size": 2
           },
           "name": "rwrist",
           "type": "scatter3d",
           "x": [
            -1.0609434571299383,
            -1.0548421848987504
           ],
           "y": [
            0.818813419177635,
            0.9272320362353513
           ],
           "z": [
            -0.6423989765319111,
            -0.6051351121529558
           ]
          }
         ],
         "name": "frame8"
        },
        {
         "data": [
          {
           "marker": {
            "color": "red",
            "size": 4
           },
           "name": "root",
           "type": "scatter3d",
           "x": [
            -1.3083785588190777
           ],
           "y": [
            0.9890710913460201
           ],
           "z": [
            -0.4393119940143001
           ]
          },
          {
           "line": {
            "color": "black",
            "width": 5
           },
           "marker": {
            "color": "blue",
            "size": 2
           },
           "name": "rhipjoint",
           "type": "scatter3d",
           "x": [
            -1.2755171936270389,
            -1.3083785588190777
           ],
           "y": [
            0.8668017125832189,
            0.9890710913460201
           ],
           "z": [
            -0.534128636308349,
            -0.4393119940143001
           ]
          },
          {
           "line": {
            "color": "black",
            "width": 5
           },
           "marker": {
            "color": "blue",
            "size": 2
           },
           "name": "rfemur",
           "type": "scatter3d",
           "x": [
            -1.4422745192718058,
            -1.2755171936270389
           ],
           "y": [
            0.43664054819856984,
            0.8668017125832189
           ],
           "z": [
            -0.7151358926550686,
            -0.534128636308349
           ]
          },
          {
           "line": {
            "color": "black",
            "width": 5
           },
           "marker": {
            "color": "blue",
            "size": 2
           },
           "name": "rtibia",
           "type": "scatter3d",
           "x": [
            -1.247046296603034,
            -1.4422745192718058
           ],
           "y": [
            0.04998307372111087,
            0.43664054819856984
           ],
           "z": [
            -0.4641622041922616,
            -0.7151358926550686
           ]
          },
          {
           "line": {
            "color": "black",
            "width": 5
           },
           "marker": {
            "color": "blue",
            "size": 2
           },
           "name": "lhipjoint",
           "type": "scatter3d",
           "x": [
            -1.4150361669644822,
            -1.3083785588190777
           ],
           "y": [
            0.870386910100409,
            0.9890710913460201
           ],
           "z": [
            -0.423802895081223,
            -0.4393119940143001
           ]
          },
          {
           "line": {
            "color": "black",
            "width": 5
           },
           "marker": {
            "color": "blue",
            "size": 2
           },
           "name": "lfemur",
           "type": "scatter3d",
           "x": [
            -1.4581438061329213,
            -1.4150361669644822
           ],
           "y": [
            0.39551060892411216,
            0.870386910100409
           ],
           "z": [
            -0.4422822032619293,
            -0.423802895081223
           ]
          },
          {
           "line": {
            "color": "black",
            "width": 5
           },
           "marker": {
            "color": "blue",
            "size": 2
           },
           "name": "ltibia",
           "type": "scatter3d",
           "x": [
            -1.3764524070135526,
            -1.4581438061329213
           ],
           "y": [
            -0.08835534498503352,
            0.39551060892411216
           ],
           "z": [
            -0.3494091450510094,
            -0.4422822032619293
           ]
          },
          {
           "line": {
            "color": "black",
            "width": 5
           },
           "marker": {
            "color": "blue",
            "size": 2
           },
           "name": "upperback",
           "type": "scatter3d",
           "x": [
            -1.3515961702957278,
            -1.3083785588190777
           ],
           "y": [
            1.2571394629058745,
            0.9890710913460201
           ],
           "z": [
            -0.4593944793983782,
            -0.4393119940143001
           ]
          },
          {
           "line": {
            "color": "black",
            "width": 5
           },
           "marker": {
            "color": "blue",
            "size": 2
           },
           "name": "lowerneck",
           "type": "scatter3d",
           "x": [
            -1.4082136877565938,
            -1.3515961702957278
           ],
           "y": [
            1.5008607708649402,
            1.2571394629058745
           ],
           "z": [
            -0.5042710357054678,
            -0.4593944793983782
           ]
          },
          {
           "line": {
            "color": "black",
            "width": 5
           },
           "marker": {
            "color": "blue",
            "size": 2
           },
           "name": "upperneck",
           "type": "scatter3d",
           "x": [
            -1.4496956099707594,
            -1.4082136877565938
           ],
           "y": [
            1.5987583842639679,
            1.5008607708649402
           ],
           "z": [
            -0.5552624529585043,
            -0.5042710357054678
           ]
          },
          {
           "line": {
            "color": "black",
            "width": 5
           },
           "marker": {
            "color": "blue",
            "size": 2
           },
           "name": "head",
           "type": "scatter3d",
           "x": [
            -1.486650608718072,
            -1.4496956099707594
           ],
           "y": [
            1.683598578385469,
            1.5987583842639679
           ],
           "z": [
            -0.6286848885951553,
            -0.5552624529585043
           ]
          },
          {
           "line": {
            "color": "black",
            "width": 5
           },
           "marker": {
            "color": "blue",
            "size": 2
           },
           "name": "lclavicle",
           "type": "scatter3d",
           "x": [
            -1.5478136770184527,
            -1.4082136877565938
           ],
           "y": [
            1.4751606554935535,
            1.5008607708649402
           ],
           "z": [
            -0.3448438897091139,
            -0.5042710357054678
           ]
          },
          {
           "line": {
            "color": "black",
            "width": 5
           },
           "marker": {
            "color": "blue",
            "size": 2
           },
           "name": "lradius",
           "type": "scatter3d",
           "x": [
            -1.6544579523940444,
            -1.5478136770184527
           ],
           "y": [
            0.961259059697745,
            1.4751606554935535
           ],
           "z": [
            -0.24612520795659176,
            -0.3448438897091139
           ]
          },
          {
           "line": {
            "color": "black",
            "width": 5
           },
           "marker": {
            "color": "blue",
            "size": 2
           },
           "name": "lwrist",
           "type": "scatter3d",
           "x": [
            -1.7086233772890778,
            -1.6544579523940444
           ],
           "y": [
            0.8591194508496659,
            0.961259059697745
           ],
           "z": [
            -0.2569488764080166,
            -0.24612520795659176
           ]
          },
          {
           "line": {
            "color": "black",
            "width": 5
           },
           "marker": {
            "color": "blue",
            "size": 2
           },
           "name": "rclavicle",
           "type": "scatter3d",
           "x": [
            -1.2082095655679193,
            -1.4082136877565938
           ],
           "y": [
            1.4834129658823059,
            1.5008607708649402
           ],
           "z": [
            -0.6140900276261075,
            -0.5042710357054678
           ]
          },
          {
           "line": {
            "color": "black",
            "width": 5
           },
           "marker": {
            "color": "blue",
            "size": 2
           },
           "name": "rradius",
           "type": "scatter3d",
           "x": [
            -1.1038191275839104,
            -1.2082095655679193
           ],
           "y": [
            0.9286385089452397,
            1.4834129658823059
           ],
           "z": [
            -0.618459014580714,
            -0.6140900276261075
           ]
          },
          {
           "line": {
            "color": "black",
            "width": 5
           },
           "marker": {
            "color": "blue",
            "size": 2
           },
           "name": "rwrist",
           "type": "scatter3d",
           "x": [
            -1.092999591536165,
            -1.1038191275839104
           ],
           "y": [
            0.8185782645795643,
            0.9286385089452397
           ],
           "z": [
            -0.6492826724733026,
            -0.618459014580714
           ]
          }
         ],
         "name": "frame9"
        },
        {
         "data": [
          {
           "marker": {
            "color": "red",
            "size": 4
           },
           "name": "root",
           "type": "scatter3d",
           "x": [
            -1.4050452254857444
           ],
           "y": [
            0.9791577580126867
           ],
           "z": [
            -0.5474806606809667
           ]
          },
          {
           "line": {
            "color": "black",
            "width": 5
           },
           "marker": {
            "color": "blue",
            "size": 2
           },
           "name": "rhipjoint",
           "type": "scatter3d",
           "x": [
            -1.364452262047816,
            -1.4050452254857444
           ],
           "y": [
            0.8516140903053715,
            0.9791577580126867
           ],
           "z": [
            -0.631769984490904,
            -0.5474806606809667
           ]
          },
          {
           "line": {
            "color": "black",
            "width": 5
           },
           "marker": {
            "color": "blue",
            "size": 2
           },
           "name": "rfemur",
           "type": "scatter3d",
           "x": [
            -1.5321970333615884,
            -1.364452262047816
           ],
           "y": [
            0.4323882511215793,
            0.8516140903053715
           ],
           "z": [
            -0.8360287598437742,
            -0.631769984490904
           ]
          },
          {
           "line": {
            "color": "black",
            "width": 5
           },
           "marker": {
            "color": "blue",
            "size": 2
           },
           "name": "rtibia",
           "type": "scatter3d",
           "x": [
            -1.6129948283476276,
            -1.5321970333615884
           ],
           "y": [
            -0.06165061790428735,
            0.4323882511215793
           ],
           "z": [
            -0.8342494303753804,
            -0.8360287598437742
           ]
          },
          {
           "line": {
            "color": "black",
            "width": 5
           },
           "marker": {
            "color": "blue",
            "size": 2
           },
           "name": "lhipjoint",
           "type": "scatter3d",
           "x": [
            -1.5125741971485422,
            -1.4050452254857444
           ],
           "y": [
            0.8610499184798662,
            0.9791577580126867
           ],
           "z": [
            -0.5336831646405091,
            -0.5474806606809667
           ]
          },
          {
           "line": {
            "color": "black",
            "width": 5
           },
           "marker": {
            "color": "blue",
            "size": 2
           },
           "name": "lfemur",
           "type": "scatter3d",
           "x": [
            -1.488424167993247,
            -1.5125741971485422
           ],
           "y": [
            0.3871421234493017,
            0.8610499184798662
           ],
           "z": [
            -0.4833300842435583,
            -0.5336831646405091
           ]
          },
          {
           "line": {
            "color": "black",
            "width": 5
           },
           "marker": {
            "color": "blue",
            "size": 2
           },
           "name": "ltibia",
           "type": "scatter3d",
           "x": [
            -1.3776549035569539,
            -1.488424167993247
           ],
           "y": [
            -0.0814453461947858,
            0.3871421234493017
           ],
           "z": [
            -0.35073632747978595,
            -0.4833300842435583
           ]
          },
          {
           "line": {
            "color": "black",
            "width": 5
           },
           "marker": {
            "color": "blue",
            "size": 2
           },
           "name": "upperback",
           "type": "scatter3d",
           "x": [
            -1.4570173590946076,
            -1.4050452254857444
           ],
           "y": [
            1.244689801067701,
            0.9791577580126867
           ],
           "z": [
            -0.5778380686764962,
            -0.5474806606809667
           ]
          },
          {
           "line": {
            "color": "black",
            "width": 5
           },
           "marker": {
            "color": "blue",
            "size": 2
           },
           "name": "lowerneck",
           "type": "scatter3d",
           "x": [
            -1.5135279671964879,
            -1.4570173590946076
           ],
           "y": [
            1.4845051956560509,
            1.244689801067701
           ],
           "z": [
            -0.6387606445387102,
            -0.5778380686764962
           ]
          },
          {
           "line": {
            "color": "black",
            "width": 5
           },
           "marker": {
            "color": "blue",
            "size": 2
           },
           "name": "upperneck",
           "type": "scatter3d",
           "x": [
            -1.5500970722662475,
            -1.5135279671964879
           ],
           "y": [
            1.5815412971181655,
            1.4845051956560509
           ],
           "z": [
            -0.6948989806443687,
            -0.6387606445387102
           ]
          },
          {
           "line": {
            "color": "black",
            "width": 5
           },
           "marker": {
            "color": "blue",
            "size": 2
           },
           "name": "head",
           "type": "scatter3d",
           "x": [
            -1.5768075422995884,
            -1.5500970722662475
           ],
           "y": [
            1.6665845727824542,
            1.5815412971181655
           ],
           "z": [
            -0.7724139893890745,
            -0.6948989806443687
           ]
          },
          {
           "line": {
            "color": "black",
            "width": 5
           },
           "marker": {
            "color": "blue",
            "size": 2
           },
           "name": "lclavicle",
           "type": "scatter3d",
           "x": [
            -1.6761277224893412,
            -1.5135279671964879
           ],
           "y": [
            1.46096012308288,
            1.4845051956560509
           ],
           "z": [
            -0.5117004513284756,
            -0.6387606445387102
           ]
          },
          {
           "line": {
            "color": "black",
            "width": 5
           },
           "marker": {
            "color": "blue",
            "size": 2
           },
           "name": "lradius",
           "type": "scatter3d",
           "x": [
            -1.8117699131440026,
            -1.6761277224893412
           ],
           "y": [
            0.9506427862178028,
            1.46096012308288
           ],
           "z": [
            -0.45579052841166096,
            -0.5117004513284756
           ]
          },
          {
           "line": {
            "color": "black",
            "width": 5
           },
           "marker": {
            "color": "blue",
            "size": 2
           },
           "name": "lwrist",
           "type": "scatter3d",
           "x": [
            -1.8670867012284826,
            -1.8117699131440026
           ],
           "y": [
            0.8519846107021858,
            0.9506427862178028
           ],
           "z": [
            -0.4820614649840575,
            -0.45579052841166096
           ]
          },
          {
           "line": {
            "color": "black",
            "width": 5
           },
           "marker": {
            "color": "blue",
            "size": 2
           },
           "name": "rclavicle",
           "type": "scatter3d",
           "x": [
            -1.2915561206236876,
            -1.5135279671964879
           ],
           "y": [
            1.469282267982589,
            1.4845051956560509
           ],
           "z": [
            -0.7115202723343731,
            -0.6387606445387102
           ]
          },
          {
           "line": {
            "color": "black",
            "width": 5
           },
           "marker": {
            "color": "blue",
            "size": 2
           },
           "name": "rradius",
           "type": "scatter3d",
           "x": [
            -1.1764450918440457,
            -1.2915561206236876
           ],
           "y": [
            0.9180790333675278,
            1.469282267982589
           ],
           "z": [
            -0.676836864176933,
            -0.7115202723343731
           ]
          },
          {
           "line": {
            "color": "black",
            "width": 5
           },
           "marker": {
            "color": "blue",
            "size": 2
           },
           "name": "rwrist",
           "type": "scatter3d",
           "x": [
            -1.1577087919922129,
            -1.1764450918440457
           ],
           "y": [
            0.8075537272015877,
            0.9180790333675278
           ],
           "z": [
            -0.7016063090796237,
            -0.676836864176933
           ]
          }
         ],
         "name": "frame10"
        },
        {
         "data": [
          {
           "marker": {
            "color": "red",
            "size": 4
           },
           "name": "root",
           "type": "scatter3d",
           "x": [
            -1.4918052254857443
           ],
           "y": [
            0.9695977580126868
           ],
           "z": [
            -0.6990066606809667
           ]
          },
          {
           "line": {
            "color": "black",
            "width": 5
           },
           "marker": {
            "color": "blue",
            "size": 2
           },
           "name": "rhipjoint",
           "type": "scatter3d",
           "x": [
            -1.4537938150862122,
            -1.4918052254857443
           ],
           "y": [
            0.8383787542637113,
            0.9695977580126868
           ],
           "z": [
            -0.7787347717573507,
            -0.6990066606809667
           ]
          },
          {
           "line": {
            "color": "black",
            "width": 5
           },
           "marker": {
            "color": "blue",
            "size": 2
           },
           "name": "rfemur",
           "type": "scatter3d",
           "x": [
            -1.6156243948732958,
            -1.4537938150862122
           ],
           "y": [
            0.40721195195248144,
            0.8383787542637113
           ],
           "z": [
            -0.961809379176305,
            -0.7787347717573507
           ]
          },
          {
           "line": {
            "color": "black",
            "width": 5
           },
           "marker": {
            "color": "blue",
            "size": 2
           },
           "name": "rtibia",
           "type": "scatter3d",
           "x": [
            -1.7235108068203906,
            -1.6156243948732958
           ],
           "y": [
            -0.08160986071837595,
            0.40721195195248144
           ],
           "z": [
            -0.9573809064509097,
            -0.961809379176305
           ]
          },
          {
           "line": {
            "color": "black",
            "width": 5
           },
           "marker": {
            "color": "blue",
            "size": 2
           },
           "name": "lhipjoint",
           "type": "scatter3d",
           "x": [
            -1.6015582183363735,
            -1.4918052254857443
           ],
           "y": [
            0.8541441100328775,
            0.9695977580126868
           ],
           "z": [
            -0.6809221885725604,
            -0.6990066606809667
           ]
          },
          {
           "line": {
            "color": "black",
            "width": 5
           },
           "marker": {
            "color": "blue",
            "size": 2
           },
           "name": "lfemur",
           "type": "scatter3d",
           "x": [
            -1.504667705103622,
            -1.6015582183363735
           ],
           "y": [
            0.41323836217549714,
            0.8541441100328775
           ],
           "z": [
            -0.5262560812438599,
            -0.6809221885725604
           ]
          },
          {
           "line": {
            "color": "black",
            "width": 5
           },
           "marker": {
            "color": "blue",
            "size": 2
           },
           "name": "ltibia",
           "type": "scatter3d",
           "x": [
            -1.4032618703336592,
            -1.504667705103622
           ],
           "y": [
            -0.04821461113003581,
            0.41323836217549714
           ],
           "z": [
            -0.3643821763486398,
            -0.5262560812438599
           ]
          },
          {
           "line": {
            "color": "black",
            "width": 5
           },
           "marker": {
            "color": "blue",
            "size": 2
           },
           "name": "upperback",
           "type": "scatter3d",
           "x": [
            -1.534543457757728,
            -1.4918052254857443
           ],
           "y": [
            1.234513295491609,
            0.9695977580126868
           ],
           "z": [
            -0.7455581693608881,
            -0.6990066606809667
           ]
          },
          {
           "line": {
            "color": "black",
            "width": 5
           },
           "marker": {
            "color": "blue",
            "size": 2
           },
           "name": "lowerneck",
           "type": "scatter3d",
           "x": [
            -1.5895756301788322,
            -1.534543457757728
           ],
           "y": [
            1.4725441008158031,
            1.234513295491609
           ],
           "z": [
            -0.8151759402667869,
            -0.7455581693608881
           ]
          },
          {
           "line": {
            "color": "black",
            "width": 5
           },
           "marker": {
            "color": "blue",
            "size": 2
           },
           "name": "upperneck",
           "type": "scatter3d",
           "x": [
            -1.6186480588488628,
            -1.5895756301788322
           ],
           "y": [
            1.5713940574775325,
            1.4725441008158031
           ],
           "z": [
            -0.8725196162257018,
            -0.8151759402667869
           ]
          },
          {
           "line": {
            "color": "black",
            "width": 5
           },
           "marker": {
            "color": "blue",
            "size": 2
           },
           "name": "head",
           "type": "scatter3d",
           "x": [
            -1.6362815348565016,
            -1.6186480588488628
           ],
           "y": [
            1.6606906419903456,
            1.5713940574775325
           ],
           "z": [
            -0.9478161303816709,
            -0.8725196162257018
           ]
          },
          {
           "line": {
            "color": "black",
            "width": 5
           },
           "marker": {
            "color": "blue",
            "size": 2
           },
           "name": "lclavicle",
           "type": "scatter3d",
           "x": [
            -1.7537377128191418,
            -1.5895756301788322
           ],
           "y": [
            1.4509798446045208,
            1.4725441008158031
           ],
           "z": [
            -0.680346976892005,
            -0.8151759402667869
           ]
          },
          {
           "line": {
            "color": "black",
            "width": 5
           },
           "marker": {
            "color": "blue",
            "size": 2
           },
           "name": "lradius",
           "type": "scatter3d",
           "x": [
            -1.878940187556237,
            -1.7537377128191418
           ],
           "y": [
            0.9421942337214674,
            1.4509798446045208
           ],
           "z": [
            -0.6432929886104148,
            -0.680346976892005
           ]
          },
          {
           "line": {
            "color": "black",
            "width": 5
           },
           "marker": {
            "color": "blue",
            "size": 2
           },
           "name": "lwrist",
           "type": "scatter3d",
           "x": [
            -1.9283616257824618,
            -1.878940187556237
           ],
           "y": [
            0.8438177008536923,
            0.9421942337214674
           ],
           "z": [
            -0.680213497450509,
            -0.6432929886104148
           ]
          },
          {
           "line": {
            "color": "black",
            "width": 5
           },
           "marker": {
            "color": "blue",
            "size": 2
           },
           "name": "rclavicle",
           "type": "scatter3d",
           "x": [
            -1.3700886443659828,
            -1.5895756301788322
           ],
           "y": [
            1.4581988394740755,
            1.4725441008158031
           ],
           "z": [
            -0.8819748874405505,
            -0.8151759402667869
           ]
          },
          {
           "line": {
            "color": "black",
            "width": 5
           },
           "marker": {
            "color": "blue",
            "size": 2
           },
           "name": "rradius",
           "type": "scatter3d",
           "x": [
            -1.2653086941182936,
            -1.3700886443659828
           ],
           "y": [
            0.9098951476638466,
            1.4581988394740755
           ],
           "z": [
            -0.8129064866468018,
            -0.8819748874405505
           ]
          },
          {
           "line": {
            "color": "black",
            "width": 5
           },
           "marker": {
            "color": "blue",
            "size": 2
           },
           "name": "rwrist",
           "type": "scatter3d",
           "x": [
            -1.2478287243097372,
            -1.2653086941182936
           ],
           "y": [
            0.7981447128527681,
            0.9098951476638466
           ],
           "z": [
            -0.8325713947581266,
            -0.8129064866468018
           ]
          }
         ],
         "name": "frame11"
        },
        {
         "data": [
          {
           "marker": {
            "color": "red",
            "size": 4
           },
           "name": "root",
           "type": "scatter3d",
           "x": [
            -1.5675318921524108
           ],
           "y": [
            0.9813177580126868
           ],
           "z": [
            -0.8848539940143001
           ]
          },
          {
           "line": {
            "color": "black",
            "width": 5
           },
           "marker": {
            "color": "blue",
            "size": 2
           },
           "name": "rhipjoint",
           "type": "scatter3d",
           "x": [
            -1.5042459662793322,
            -1.5675318921524108
           ],
           "y": [
            0.860861130265744,
            0.9813177580126868
           ],
           "z": [
            -0.9655073161992237,
            -0.8848539940143001
           ]
          },
          {
           "line": {
            "color": "black",
            "width": 5
           },
           "marker": {
            "color": "blue",
            "size": 2
           },
           "name": "rfemur",
           "type": "scatter3d",
           "x": [
            -1.6460286203308387,
            -1.5042459662793322
           ],
           "y": [
            0.40221375229153383,
            0.860861130265744
           ],
           "z": [
            -1.088594771037692,
            -0.9655073161992237
           ]
          },
          {
           "line": {
            "color": "black",
            "width": 5
           },
           "marker": {
            "color": "blue",
            "size": 2
           },
           "name": "rtibia",
           "type": "scatter3d",
           "x": [
            -1.7441785940443368,
            -1.6460286203308387
           ],
           "y": [
            -0.07899162844697814,
            0.40221375229153383
           ],
           "z": [
            -0.9915699391405747,
            -1.088594771037692
           ]
          },
          {
           "line": {
            "color": "black",
            "width": 5
           },
           "marker": {
            "color": "blue",
            "size": 2
           },
           "name": "lhipjoint",
           "type": "scatter3d",
           "x": [
            -1.6680004862100166,
            -1.5675318921524108
           ],
           "y": [
            0.8568905044025852,
            0.9813177580126868
           ],
           "z": [
            -0.8960893208938845,
            -0.8848539940143001
           ]
          },
          {
           "line": {
            "color": "black",
            "width": 5
           },
           "marker": {
            "color": "blue",
            "size": 2
           },
           "name": "lfemur",
           "type": "scatter3d",
           "x": [
            -1.739236468171044,
            -1.6680004862100166
           ],
           "y": [
            0.3876225404410708,
            0.8568905044025852
           ],
           "z": [
            -0.8468931048009992,
            -0.8960893208938845
           ]
          },
          {
           "line": {
            "color": "black",
            "width": 5
           },
           "marker": {
            "color": "blue",
            "size": 2
           },
           "name": "ltibia",
           "type": "scatter3d",
           "x": [
            -1.57339053709086,
            -1.739236468171044
           ],
           "y": [
            0.06731383257541701,
            0.3876225404410708
           ],
           "z": [
            -0.5014620555400524,
            -0.8468931048009992
           ]
          },
          {
           "line": {
            "color": "black",
            "width": 5
           },
           "marker": {
            "color": "blue",
            "size": 2
           },
           "name": "upperback",
           "type": "scatter3d",
           "x": [
            -1.5979120963015434,
            -1.5675318921524108
           ],
           "y": [
            1.2478378788748694,
            0.9813177580126868
           ],
           "z": [
            -0.9311166298769649,
            -0.8848539940143001
           ]
          },
          {
           "line": {
            "color": "black",
            "width": 5
           },
           "marker": {
            "color": "blue",
            "size": 2
           },
           "name": "lowerneck",
           "type": "scatter3d",
           "x": [
            -1.6399148172949678,
            -1.5979120963015434
           ],
           "y": [
            1.4806061535203237,
            1.2478378788748694
           ],
           "z": [
            -1.0202367300672963,
            -0.9311166298769649
           ]
          },
          {
           "line": {
            "color": "black",
            "width": 5
           },
           "marker": {
            "color": "blue",
            "size": 2
           },
           "name": "upperneck",
           "type": "scatter3d",
           "x": [
            -1.6546083513149505,
            -1.6399148172949678
           ],
           "y": [
            1.5814948706897198,
            1.4806061535203237
           ],
           "z": [
            -1.0794852238810468,
            -1.0202367300672963
           ]
          },
          {
           "line": {
            "color": "black",
            "width": 5
           },
           "marker": {
            "color": "blue",
            "size": 2
           },
           "name": "head",
           "type": "scatter3d",
           "x": [
            -1.6512948623815267,
            -1.6546083513149505
           ],
           "y": [
            1.6771996671628089,
            1.5814948706897198
           ],
           "z": [
            -1.1486516698569587,
            -1.0794852238810468
           ]
          },
          {
           "line": {
            "color": "black",
            "width": 5
           },
           "marker": {
            "color": "blue",
            "size": 2
           },
           "name": "lclavicle",
           "type": "scatter3d",
           "x": [
            -1.8105130317994593,
            -1.6399148172949678
           ],
           "y": [
            1.476420310258829,
            1.4806061535203237
           ],
           "z": [
            -0.8897971157461946,
            -1.0202367300672963
           ]
          },
          {
           "line": {
            "color": "black",
            "width": 5
           },
           "marker": {
            "color": "blue",
            "size": 2
           },
           "name": "lradius",
           "type": "scatter3d",
           "x": [
            -1.8950877569605238,
            -1.8105130317994593
           ],
           "y": [
            0.9604566259408206,
            1.476420310258829
           ],
           "z": [
            -0.816793701748819,
            -0.8897971157461946
           ]
          },
          {
           "line": {
            "color": "black",
            "width": 5
           },
           "marker": {
            "color": "blue",
            "size": 2
           },
           "name": "lwrist",
           "type": "scatter3d",
           "x": [
            -1.935471032599388,
            -1.8950877569605238
           ],
           "y": [
            0.8553567739367322,
            0.9604566259408206
           ],
           "z": [
            -0.8451971681893546,
            -0.816793701748819
           ]
          },
          {
           "line": {
            "color": "black",
            "width": 5
           },
           "marker": {
            "color": "blue",
            "size": 2
           },
           "name": "rclavicle",
           "type": "scatter3d",
           "x": [
            -1.4094995335859486,
            -1.6399148172949678
           ],
           "y": [
            1.4604255658080243,
            1.4806061535203237
           ],
           "z": [
            -1.053580137835151,
            -1.0202367300672963
           ]
          },
          {
           "line": {
            "color": "black",
            "width": 5
           },
           "marker": {
            "color": "blue",
            "size": 2
           },
           "name": "rradius",
           "type": "scatter3d",
           "x": [
            -1.3062367825183974,
            -1.4094995335859486
           ],
           "y": [
            0.9201454447286447,
            1.4604255658080243
           ],
           "z": [
            -1.0144853820681863,
            -1.053580137835151
           ]
          },
          {
           "line": {
            "color": "black",
            "width": 5
           },
           "marker": {
            "color": "blue",
            "size": 2
           },
           "name": "rwrist",
           "type": "scatter3d",
           "x": [
            -1.2888032379489174,
            -1.3062367825183974
           ],
           "y": [
            0.8123205944894252,
            0.9201454447286447
           ],
           "z": [
            -1.049844833854574,
            -1.0144853820681863
           ]
          }
         ],
         "name": "frame12"
        },
        {
         "data": [
          {
           "marker": {
            "color": "red",
            "size": 4
           },
           "name": "root",
           "type": "scatter3d",
           "x": [
            -1.6205452254857444
           ],
           "y": [
            0.9878444246793535
           ],
           "z": [
            -1.0328153273476335
           ]
          },
          {
           "line": {
            "color": "black",
            "width": 5
           },
           "marker": {
            "color": "blue",
            "size": 2
           },
           "name": "rhipjoint",
           "type": "scatter3d",
           "x": [
            -1.5244105265051828,
            -1.6205452254857444
           ],
           "y": [
            0.8756592608498391,
            0.9878444246793535
           ],
           "z": [
            -1.0893173151861633,
            -1.0328153273476335
           ]
          },
          {
           "line": {
            "color": "black",
            "width": 5
           },
           "marker": {
            "color": "blue",
            "size": 2
           },
           "name": "rfemur",
           "type": "scatter3d",
           "x": [
            -1.632965455508177,
            -1.5244105265051828
           ],
           "y": [
            0.3956420839828986,
            0.8756592608498391
           ],
           "z": [
            -1.1477090710508928,
            -1.0893173151861633
           ]
          },
          {
           "line": {
            "color": "black",
            "width": 5
           },
           "marker": {
            "color": "blue",
            "size": 2
           },
           "name": "rtibia",
           "type": "scatter3d",
           "x": [
            -1.7430935443458462,
            -1.632965455508177
           ],
           "y": [
            -0.07244535147597043,
            0.3956420839828986
           ],
           "z": [
            -1.0085264190757917,
            -1.1477090710508928
           ]
          },
          {
           "line": {
            "color": "black",
            "width": 5
           },
           "marker": {
            "color": "blue",
            "size": 2
           },
           "name": "lhipjoint",
           "type": "scatter3d",
           "x": [
            -1.701179738787456,
            -1.6205452254857444
           ],
           "y": [
            0.8576943403072076,
            0.9878444246793535
           ],
           "z": [
            -1.0803689098149412,
            -1.0328153273476335
           ]
          },
          {
           "line": {
            "color": "black",
            "width": 5
           },
           "marker": {
            "color": "blue",
            "size": 2
           },
           "name": "lfemur",
           "type": "scatter3d",
           "x": [
            -1.813873934784116,
            -1.701179738787456
           ],
           "y": [
            0.4137719448482049,
            0.8576943403072076
           ],
           "z": [
            -1.2143098662211205,
            -1.0803689098149412
           ]
          },
          {
           "line": {
            "color": "black",
            "width": 5
           },
           "marker": {
            "color": "blue",
            "size": 2
           },
           "name": "ltibia",
           "type": "scatter3d",
           "x": [
            -1.8052682914911093,
            -1.813873934784116
           ],
           "y": [
            0.09054315375859331,
            0.4137719448482049
           ],
           "z": [
            -0.833686374436656,
            -1.2143098662211205
           ]
          },
          {
           "line": {
            "color": "black",
            "width": 5
           },
           "marker": {
            "color": "blue",
            "size": 2
           },
           "name": "upperback",
           "type": "scatter3d",
           "x": [
            -1.6374990270433412,
            -1.6205452254857444
           ],
           "y": [
            1.2544613696105809,
            0.9878444246793535
           ],
           "z": [
            -1.0856662576696423,
            -1.0328153273476335
           ]
          },
          {
           "line": {
            "color": "black",
            "width": 5
           },
           "marker": {
            "color": "blue",
            "size": 2
           },
           "name": "lowerneck",
           "type": "scatter3d",
           "x": [
            -1.6635138065520623,
            -1.6374990270433412
           ],
           "y": [
            1.4925574544559623,
            1.2544613696105809
           ],
           "z": [
            -1.1683400665072958,
            -1.0856662576696423
           ]
          },
          {
           "line": {
            "color": "black",
            "width": 5
           },
           "marker": {
            "color": "blue",
            "size": 2
           },
           "name": "upperneck",
           "type": "scatter3d",
           "x": [
            -1.6603315868728472,
            -1.6635138065520623
           ],
           "y": [
            1.5979089142166474,
            1.4925574544559623
           ],
           "z": [
            -1.2212150191549036,
            -1.1683400665072958
           ]
          },
          {
           "line": {
            "color": "black",
            "width": 5
           },
           "marker": {
            "color": "blue",
            "size": 2
           },
           "name": "head",
           "type": "scatter3d",
           "x": [
            -1.6349863876264654,
            -1.6603315868728472
           ],
           "y": [
            1.69726014019838,
            1.5979089142166474
           ],
           "z": [
            -1.279877948649551,
            -1.2212150191549036
           ]
          },
          {
           "line": {
            "color": "black",
            "width": 5
           },
           "marker": {
            "color": "blue",
            "size": 2
           },
           "name": "lclavicle",
           "type": "scatter3d",
           "x": [
            -1.8609070204328633,
            -1.6635138065520623
           ],
           "y": [
            1.476340678508487,
            1.4925574544559623
           ],
           "z": [
            -1.0895170670195458,
            -1.1683400665072958
           ]
          },
          {
           "line": {
            "color": "black",
            "width": 5
           },
           "marker": {
            "color": "blue",
            "size": 2
           },
           "name": "lradius",
           "type": "scatter3d",
           "x": [
            -1.9397321794054423,
            -1.8609070204328633
           ],
           "y": [
            0.9456690778645235,
            1.476340678508487
           ],
           "z": [
            -0.9973083664497226,
            -1.0895170670195458
           ]
          },
          {
           "line": {
            "color": "black",
            "width": 5
           },
           "marker": {
            "color": "blue",
            "size": 2
           },
           "name": "lwrist",
           "type": "scatter3d",
           "x": [
            -1.9696005707249722,
            -1.9397321794054423
           ],
           "y": [
            0.8344711621368865,
            0.9456690778645235
           ],
           "z": [
            -1.0123565386396356,
            -0.9973083664497226
           ]
          },
          {
           "line": {
            "color": "black",
            "width": 5
           },
           "marker": {
            "color": "blue",
            "size": 2
           },
           "name": "rclavicle",
           "type": "scatter3d",
           "x": [
            -1.4318501395157461,
            -1.6635138065520623
           ],
           "y": [
            1.4760606923967843,
            1.4925574544559623
           ],
           "z": [
            -1.1511827014485159,
            -1.1683400665072958
           ]
          },
          {
           "line": {
            "color": "black",
            "width": 5
           },
           "marker": {
            "color": "blue",
            "size": 2
           },
           "name": "rradius",
           "type": "scatter3d",
           "x": [
            -1.3031144180168754,
            -1.4318501395157461
           ],
           "y": [
            0.9804809335668272,
            1.4760606923967843
           ],
           "z": [
            -1.2334184882683568,
            -1.1511827014485159
           ]
          },
          {
           "line": {
            "color": "black",
            "width": 5
           },
           "marker": {
            "color": "blue",
            "size": 2
           },
           "name": "rwrist",
           "type": "scatter3d",
           "x": [
            -1.2729681768870942,
            -1.3031144180168754
           ],
           "y": [
            0.9003468426172816,
            0.9804809335668272
           ],
           "z": [
            -1.309904756640105,
            -1.2334184882683568
           ]
          }
         ],
         "name": "frame13"
        },
        {
         "data": [
          {
           "marker": {
            "color": "red",
            "size": 4
           },
           "name": "root",
           "type": "scatter3d",
           "x": [
            -1.6780252254857444
           ],
           "y": [
            0.9823644246793535
           ],
           "z": [
            -1.1709446606809668
           ]
          },
          {
           "line": {
            "color": "black",
            "width": 5
           },
           "marker": {
            "color": "blue",
            "size": 2
           },
           "name": "rhipjoint",
           "type": "scatter3d",
           "x": [
            -1.5637990315988077,
            -1.6780252254857444
           ],
           "y": [
            0.873733804884742,
            0.9823644246793535
           ],
           "z": [
            -1.184045463495527,
            -1.1709446606809668
           ]
          },
          {
           "line": {
            "color": "black",
            "width": 5
           },
           "marker": {
            "color": "blue",
            "size": 2
           },
           "name": "rfemur",
           "type": "scatter3d",
           "x": [
            -1.630661655630002,
            -1.5637990315988077
           ],
           "y": [
            0.3833392274298302,
            0.873733804884742
           ],
           "z": [
            -1.2095955664620666,
            -1.184045463495527
           ]
          },
          {
           "line": {
            "color": "black",
            "width": 5
           },
           "marker": {
            "color": "blue",
            "size": 2
           },
           "name": "rtibia",
           "type": "scatter3d",
           "x": [
            -1.7422575867803134,
            -1.630661655630002
           ],
           "y": [
            -0.06901610343004977,
            0.3833392274298302
           ],
           "z": [
            -1.0264921623711978,
            -1.2095955664620666
           ]
          },
          {
           "line": {
            "color": "black",
            "width": 5
           },
           "marker": {
            "color": "blue",
            "size": 2
           },
           "name": "lhipjoint",
           "type": "scatter3d",
           "x": [
            -1.7302578074133876,
            -1.6780252254857444
           ],
           "y": [
            0.8481519952629547,
            0.9823644246793535
           ],
           "z": [
            -1.2413796915837492,
            -1.1709446606809668
           ]
          },
          {
           "line": {
            "color": "black",
            "width": 5
           },
           "marker": {
            "color": "blue",
            "size": 2
           },
           "name": "lfemur",
           "type": "scatter3d",
           "x": [
            -1.742755340879223,
            -1.7302578074133876
           ],
           "y": [
            0.4191901139711833,
            0.8481519952629547
           ],
           "z": [
            -1.4500487378275304,
            -1.2413796915837492
           ]
          },
          {
           "line": {
            "color": "black",
            "width": 5
           },
           "marker": {
            "color": "blue",
            "size": 2
           },
           "name": "ltibia",
           "type": "scatter3d",
           "x": [
            -1.916602286046255,
            -1.742755340879223
           ],
           "y": [
            -0.03778696690122138,
            0.4191901139711833
           ],
           "z": [
            -1.3481942426033962,
            -1.4500487378275304
           ]
          },
          {
           "line": {
            "color": "black",
            "width": 5
           },
           "marker": {
            "color": "blue",
            "size": 2
           },
           "name": "upperback",
           "type": "scatter3d",
           "x": [
            -1.6661958947922595,
            -1.6780252254857444
           ],
           "y": [
            1.247232215356741,
            0.9823644246793535
           ],
           "z": [
            -1.2325707787873947,
            -1.1709446606809668
           ]
          },
          {
           "line": {
            "color": "black",
            "width": 5
           },
           "marker": {
            "color": "blue",
            "size": 2
           },
           "name": "lowerneck",
           "type": "scatter3d",
           "x": [
            -1.6492825390651957,
            -1.6661958947922595
           ],
           "y": [
            1.4846183695536965,
            1.247232215356741
           ],
           "z": [
            -1.320892589205248,
            -1.2325707787873947
           ]
          },
          {
           "line": {
            "color": "black",
            "width": 5
           },
           "marker": {
            "color": "blue",
            "size": 2
           },
           "name": "upperneck",
           "type": "scatter3d",
           "x": [
            -1.624494746089446,
            -1.6492825390651957
           ],
           "y": [
            1.5911778666240721,
            1.4846183695536965
           ],
           "z": [
            -1.3648864082799863,
            -1.320892589205248
           ]
          },
          {
           "line": {
            "color": "black",
            "width": 5
           },
           "marker": {
            "color": "blue",
            "size": 2
           },
           "name": "head",
           "type": "scatter3d",
           "x": [
            -1.5785648967249943,
            -1.624494746089446
           ],
           "y": [
            1.6913490724579259,
            1.5911778666240721
           ],
           "z": [
            -1.407437119025595,
            -1.3648864082799863
           ]
          },
          {
           "line": {
            "color": "black",
            "width": 5
           },
           "marker": {
            "color": "blue",
            "size": 2
           },
           "name": "lclavicle",
           "type": "scatter3d",
           "x": [
            -1.8640916533407088,
            -1.6492825390651957
           ],
           "y": [
            1.4765694532845217,
            1.4846183695536965
           ],
           "z": [
            -1.318582917513186,
            -1.320892589205248
           ]
          },
          {
           "line": {
            "color": "black",
            "width": 5
           },
           "marker": {
            "color": "blue",
            "size": 2
           },
           "name": "lradius",
           "type": "scatter3d",
           "x": [
            -1.9782104974659414,
            -1.8640916533407088
           ],
           "y": [
            0.9498614712853135,
            1.4765694532845217
           ],
           "z": [
            -1.2410622544193768,
            -1.318582917513186
           ]
          },
          {
           "line": {
            "color": "black",
            "width": 5
           },
           "marker": {
            "color": "blue",
            "size": 2
           },
           "name": "lwrist",
           "type": "scatter3d",
           "x": [
            -2.001663403882584,
            -1.9782104974659414
           ],
           "y": [
            0.8379971249512403,
            0.9498614712853135
           ],
           "z": [
            -1.2615530803741106,
            -1.2410622544193768
           ]
          },
          {
           "line": {
            "color": "black",
            "width": 5
           },
           "marker": {
            "color": "blue",
            "size": 2
           },
           "name": "rclavicle",
           "type": "scatter3d",
           "x": [
            -1.4404581253285258,
            -1.6492825390651957
           ],
           "y": [
            1.4586946102909144,
            1.4846183695536965
           ],
           "z": [
            -1.2285403728135809,
            -1.320892589205248
           ]
          },
          {
           "line": {
            "color": "black",
            "width": 5
           },
           "marker": {
            "color": "blue",
            "size": 2
           },
           "name": "rradius",
           "type": "scatter3d",
           "x": [
            -1.205150198468281,
            -1.4404581253285258
           ],
           "y": [
            1.063383716162548,
            1.4586946102909144
           ],
           "z": [
            -1.3851839757477953,
            -1.2285403728135809
           ]
          },
          {
           "line": {
            "color": "black",
            "width": 5
           },
           "marker": {
            "color": "blue",
            "size": 2
           },
           "name": "rwrist",
           "type": "scatter3d",
           "x": [
            -1.1442146675596634,
            -1.205150198468281
           ],
           "y": [
            1.0304651447741218,
            1.063383716162548
           ],
           "z": [
            -1.4767462297973215,
            -1.3851839757477953
           ]
          }
         ],
         "name": "frame14"
        },
        {
         "data": [
          {
           "marker": {
            "color": "red",
            "size": 4
           },
           "name": "root",
           "type": "scatter3d",
           "x": [
            -1.7251252254857443
           ],
           "y": [
            0.9634510913460201
           ],
           "z": [
            -1.3422353273476335
           ]
          },
          {
           "line": {
            "color": "black",
            "width": 5
           },
           "marker": {
            "color": "blue",
            "size": 2
           },
           "name": "rhipjoint",
           "type": "scatter3d",
           "x": [
            -1.6124473313715968,
            -1.7251252254857443
           ],
           "y": [
            0.8577499336953351,
            0.9634510913460201
           ],
           "z": [
            -1.3083115390781979,
            -1.3422353273476335
           ]
          },
          {
           "line": {
            "color": "black",
            "width": 5
           },
           "marker": {
            "color": "blue",
            "size": 2
           },
           "name": "rfemur",
           "type": "scatter3d",
           "x": [
            -1.6325192625008609,
            -1.6124473313715968
           ],
           "y": [
            0.36265605296951686,
            0.8577499336953351
           ],
           "z": [
            -1.298854969948219,
            -1.3083115390781979
           ]
          },
          {
           "line": {
            "color": "black",
            "width": 5
           },
           "marker": {
            "color": "blue",
            "size": 2
           },
           "name": "rtibia",
           "type": "scatter3d",
           "x": [
            -1.7475321569191562,
            -1.6325192625008609
           ],
           "y": [
            -0.057252346577146555,
            0.36265605296951686
           ],
           "z": [
            -1.0517622264205988,
            -1.298854969948219
           ]
          },
          {
           "line": {
            "color": "black",
            "width": 5
           },
           "marker": {
            "color": "blue",
            "size": 2
           },
           "name": "lhipjoint",
           "type": "scatter3d",
           "x": [
            -1.746204081113209,
            -1.7251252254857443
           ],
           "y": [
            0.8254599247609785,
            0.9634510913460201
           ],
           "z": [
            -1.4210796815709477,
            -1.3422353273476335
           ]
          },
          {
           "line": {
            "color": "black",
            "width": 5
           },
           "marker": {
            "color": "blue",
            "size": 2
           },
           "name": "lfemur",
           "type": "scatter3d",
           "x": [
            -1.7016322776022277,
            -1.746204081113209
           ],
           "y": [
            0.396886095938868,
            0.8254599247609785
           ],
           "z": [
            -1.6261286571473446,
            -1.4210796815709477
           ]
          },
          {
           "line": {
            "color": "black",
            "width": 5
           },
           "marker": {
            "color": "blue",
            "size": 2
           },
           "name": "ltibia",
           "type": "scatter3d",
           "x": [
            -1.8251055025784464,
            -1.7016322776022277
           ],
           "y": [
            -0.08048874138609824,
            0.396886095938868
           ],
           "z": [
            -1.7054556915484274,
            -1.6261286571473446
           ]
          },
          {
           "line": {
            "color": "black",
            "width": 5
           },
           "marker": {
            "color": "blue",
            "size": 2
           },
           "name": "upperback",
           "type": "scatter3d",
           "x": [
            -1.6852284613056105,
            -1.7251252254857443
           ],
           "y": [
            1.2285813416401075,
            0.9634510913460201
           ],
           "z": [
            -1.3790464699526495,
            -1.3422353273476335
           ]
          },
          {
           "line": {
            "color": "black",
            "width": 5
           },
           "marker": {
            "color": "blue",
            "size": 2
           },
           "name": "lowerneck",
           "type": "scatter3d",
           "x": [
            -1.620950184301334,
            -1.6852284613056105
           ],
           "y": [
            1.4524122933439847,
            1.2285813416401075
           ],
           "z": [
            -1.481394124867208,
            -1.3790464699526495
           ]
          },
          {
           "line": {
            "color": "black",
            "width": 5
           },
           "marker": {
            "color": "blue",
            "size": 2
           },
           "name": "upperneck",
           "type": "scatter3d",
           "x": [
            -1.5712627568397872,
            -1.620950184301334
           ],
           "y": [
            1.5519144923717354,
            1.4524122933439847
           ],
           "z": [
            -1.5205768909024975,
            -1.481394124867208
           ]
          },
          {
           "line": {
            "color": "black",
            "width": 5
           },
           "marker": {
            "color": "blue",
            "size": 2
           },
           "name": "head",
           "type": "scatter3d",
           "x": [
            -1.5008551201540354,
            -1.5712627568397872
           ],
           "y": [
            1.6389286006702173,
            1.5519144923717354
           ],
           "z": [
            -1.558335256586849,
            -1.5205768909024975
           ]
          },
          {
           "line": {
            "color": "black",
            "width": 5
           },
           "marker": {
            "color": "blue",
            "size": 2
           },
           "name": "lclavicle",
           "type": "scatter3d",
           "x": [
            -1.8271971555196052,
            -1.620950184301334
           ],
           "y": [
            1.4492461776949876,
            1.4524122933439847
           ],
           "z": [
            -1.5531392841410612,
            -1.481394124867208
           ]
          },
          {
           "line": {
            "color": "black",
            "width": 5
           },
           "marker": {
            "color": "blue",
            "size": 2
           },
           "name": "lradius",
           "type": "scatter3d",
           "x": [
            -1.9980328562636978,
            -1.8271971555196052
           ],
           "y": [
            0.9377772530692193,
            1.4492461776949876
           ],
           "z": [
            -1.5659807847025284,
            -1.5531392841410612
           ]
          },
          {
           "line": {
            "color": "black",
            "width": 5
           },
           "marker": {
            "color": "blue",
            "size": 2
           },
           "name": "lwrist",
           "type": "scatter3d",
           "x": [
            -2.0162791779232756,
            -1.9980328562636978
           ],
           "y": [
            0.8302372028535444,
            0.9377772530692193
           ],
           "z": [
            -1.605802312723811,
            -1.5659807847025284
           ]
          },
          {
           "line": {
            "color": "black",
            "width": 5
           },
           "marker": {
            "color": "blue",
            "size": 2
           },
           "name": "rclavicle",
           "type": "scatter3d",
           "x": [
            -1.4421156255173118,
            -1.620950184301334
           ],
           "y": [
            1.418525090019448,
            1.4524122933439847
           ],
           "z": [
            -1.3565153640621441,
            -1.481394124867208
           ]
          },
          {
           "line": {
            "color": "black",
            "width": 5
           },
           "marker": {
            "color": "blue",
            "size": 2
           },
           "name": "rradius",
           "type": "scatter3d",
           "x": [
            -1.0587172137392071,
            -1.4421156255173118
           ],
           "y": [
            1.066057579194255,
            1.418525090019448
           ],
           "z": [
            -1.5032125735417414,
            -1.3565153640621441
           ]
          },
          {
           "line": {
            "color": "black",
            "width": 5
           },
           "marker": {
            "color": "blue",
            "size": 2
           },
           "name": "rwrist",
           "type": "scatter3d",
           "x": [
            -0.9655527041831161,
            -1.0587172137392071
           ],
           "y": [
            1.033362462714215,
            1.066057579194255
           ],
           "z": [
            -1.5617943211559056,
            -1.5032125735417414
           ]
          }
         ],
         "name": "frame15"
        }
       ],
       "layout": {
        "autosize": false,
        "height": 700,
        "scene": {
         "aspectratio": {
          "x": 1,
          "y": 1,
          "z": 1
         },
         "camera": {
          "eye": {
           "x": -1.7428,
           "y": 1.0707,
           "z": 0.71
          },
          "up": {
           "x": 0,
           "y": 1,
           "z": 0
          }
         },
         "xaxis": {
          "range": [
           -130,
           130
          ]
         },
         "yaxis": {
          "range": [
           -130,
           130
          ]
         },
         "zaxis": {
          "range": [
           -130,
           130
          ]
         }
        },
        "sliders": [
         {
          "currentvalue": {
           "font": {
            "size": 12
           },
           "prefix": "slice: ",
           "visible": true,
           "xanchor": "center"
          },
          "len": 1,
          "steps": [
           {
            "args": [
             [
              "frame1"
             ],
             {
              "frame": {
               "duration": 10,
               "redraw": true
              },
              "mode": "immediate",
              "transition": {
               "duration": 0
              }
             }
            ],
            "label": "1",
            "method": "animate"
           },
           {
            "args": [
             [
              "frame2"
             ],
             {
              "frame": {
               "duration": 10,
               "redraw": true
              },
              "mode": "immediate",
              "transition": {
               "duration": 0
              }
             }
            ],
            "label": "2",
            "method": "animate"
           },
           {
            "args": [
             [
              "frame3"
             ],
             {
              "frame": {
               "duration": 10,
               "redraw": true
              },
              "mode": "immediate",
              "transition": {
               "duration": 0
              }
             }
            ],
            "label": "3",
            "method": "animate"
           },
           {
            "args": [
             [
              "frame4"
             ],
             {
              "frame": {
               "duration": 10,
               "redraw": true
              },
              "mode": "immediate",
              "transition": {
               "duration": 0
              }
             }
            ],
            "label": "4",
            "method": "animate"
           },
           {
            "args": [
             [
              "frame5"
             ],
             {
              "frame": {
               "duration": 10,
               "redraw": true
              },
              "mode": "immediate",
              "transition": {
               "duration": 0
              }
             }
            ],
            "label": "5",
            "method": "animate"
           },
           {
            "args": [
             [
              "frame6"
             ],
             {
              "frame": {
               "duration": 10,
               "redraw": true
              },
              "mode": "immediate",
              "transition": {
               "duration": 0
              }
             }
            ],
            "label": "6",
            "method": "animate"
           },
           {
            "args": [
             [
              "frame7"
             ],
             {
              "frame": {
               "duration": 10,
               "redraw": true
              },
              "mode": "immediate",
              "transition": {
               "duration": 0
              }
             }
            ],
            "label": "7",
            "method": "animate"
           },
           {
            "args": [
             [
              "frame8"
             ],
             {
              "frame": {
               "duration": 10,
               "redraw": true
              },
              "mode": "immediate",
              "transition": {
               "duration": 0
              }
             }
            ],
            "label": "8",
            "method": "animate"
           },
           {
            "args": [
             [
              "frame9"
             ],
             {
              "frame": {
               "duration": 10,
               "redraw": true
              },
              "mode": "immediate",
              "transition": {
               "duration": 0
              }
             }
            ],
            "label": "9",
            "method": "animate"
           },
           {
            "args": [
             [
              "frame10"
             ],
             {
              "frame": {
               "duration": 10,
               "redraw": true
              },
              "mode": "immediate",
              "transition": {
               "duration": 0
              }
             }
            ],
            "label": "10",
            "method": "animate"
           },
           {
            "args": [
             [
              "frame11"
             ],
             {
              "frame": {
               "duration": 10,
               "redraw": true
              },
              "mode": "immediate",
              "transition": {
               "duration": 0
              }
             }
            ],
            "label": "11",
            "method": "animate"
           },
           {
            "args": [
             [
              "frame12"
             ],
             {
              "frame": {
               "duration": 10,
               "redraw": true
              },
              "mode": "immediate",
              "transition": {
               "duration": 0
              }
             }
            ],
            "label": "12",
            "method": "animate"
           },
           {
            "args": [
             [
              "frame13"
             ],
             {
              "frame": {
               "duration": 10,
               "redraw": true
              },
              "mode": "immediate",
              "transition": {
               "duration": 0
              }
             }
            ],
            "label": "13",
            "method": "animate"
           },
           {
            "args": [
             [
              "frame14"
             ],
             {
              "frame": {
               "duration": 10,
               "redraw": true
              },
              "mode": "immediate",
              "transition": {
               "duration": 0
              }
             }
            ],
            "label": "14",
            "method": "animate"
           },
           {
            "args": [
             [
              "frame15"
             ],
             {
              "frame": {
               "duration": 10,
               "redraw": true
              },
              "mode": "immediate",
              "transition": {
               "duration": 0
              }
             }
            ],
            "label": "15",
            "method": "animate"
           }
          ],
          "transition": {
           "duration": 0
          },
          "x": 0,
          "y": 0
         }
        ],
        "title": {
         "text": "action animation"
        },
        "updatemenus": [
         {
          "buttons": [
           {
            "args": [
             null
            ],
            "label": "Play",
            "method": "animate"
           }
          ],
          "pad": {
           "r": 10,
           "t": 0
          },
          "showactive": false,
          "type": "buttons",
          "x": 1,
          "xanchor": "right",
          "y": 1,
          "yanchor": "top"
         }
        ],
        "width": 800
       }
      },
      "text/html": [
       "<div>\n",
       "        \n",
       "        \n",
       "            <div id=\"b2ffb153-be3d-4476-baf4-9b38a70ec85d\" class=\"plotly-graph-div\" style=\"height:700px; width:800px;\"></div>\n",
       "            <script type=\"text/javascript\">\n",
       "                require([\"plotly\"], function(Plotly) {\n",
       "                    window.PLOTLYENV=window.PLOTLYENV || {};\n",
       "                    window.PLOTLYENV.BASE_URL='https://plot.ly';\n",
       "                    \n",
       "                if (document.getElementById(\"b2ffb153-be3d-4476-baf4-9b38a70ec85d\")) {\n",
       "                    Plotly.newPlot(\n",
       "                        'b2ffb153-be3d-4476-baf4-9b38a70ec85d',\n",
       "                        [{\"marker\": {\"color\": \"red\", \"size\": 4}, \"name\": \"root\", \"type\": \"scatter3d\", \"uid\": \"534de944-d916-4e2f-b829-3b44c240f20d\", \"x\": [-0.031246292152410947], \"y\": [0.9931577580126868], \"z\": [0.09686800598570003]}, {\"line\": {\"color\": \"black\", \"width\": 5}, \"marker\": {\"color\": \"blue\", \"size\": 2}, \"name\": \"rhipjoint\", \"type\": \"scatter3d\", \"uid\": \"e6da0f73-529f-4633-b81f-2335faedfa5f\", \"x\": [-0.06733105438235727, -0.031246292152410947], \"y\": [0.8737347916849264, 0.9931577580126868], \"z\": [-0.00037350269002113615, 0.09686800598570003]}, {\"line\": {\"color\": \"black\", \"width\": 5}, \"marker\": {\"color\": \"blue\", \"size\": 2}, \"name\": \"rfemur\", \"type\": \"scatter3d\", \"uid\": \"5bcaf405-f0f6-4d29-b209-75585edb9cac\", \"x\": [-0.26413767284212214, -0.06733105438235727], \"y\": [0.42194314899089047, 0.8737347916849264], \"z\": [-0.052925632745577406, -0.00037350269002113615]}, {\"line\": {\"color\": \"black\", \"width\": 5}, \"marker\": {\"color\": \"blue\", \"size\": 2}, \"name\": \"rtibia\", \"type\": \"scatter3d\", \"uid\": \"239836a3-718b-4d0d-8a75-111b2555a4fb\", \"x\": [0.0, -0.26413767284212214], \"y\": [0.0, 0.42194314899089047], \"z\": [0.0, -0.052925632745577406]}, {\"line\": {\"color\": \"black\", \"width\": 5}, \"marker\": {\"color\": \"blue\", \"size\": 2}, \"name\": \"lhipjoint\", \"type\": \"scatter3d\", \"uid\": \"fe30cd9d-b16d-4fd9-9a28-f10b121fc2b4\", \"x\": [-0.10027340974673686, -0.031246292152410947], \"y\": [0.8710056000476293, 0.9931577580126868], \"z\": [0.17443358948801374, 0.09686800598570003]}, {\"line\": {\"color\": \"black\", \"width\": 5}, \"marker\": {\"color\": \"blue\", \"size\": 2}, \"name\": \"lfemur\", \"type\": \"scatter3d\", \"uid\": \"e7589b01-a551-4a71-8acc-fc08b1691434\", \"x\": [-0.1524864588826616, -0.10027340974673686], \"y\": [0.3967025784571153, 0.8710056000476293], \"z\": [0.17864025258754712, 0.17443358948801374]}, {\"line\": {\"color\": \"black\", \"width\": 5}, \"marker\": {\"color\": \"blue\", \"size\": 2}, \"name\": \"ltibia\", \"type\": \"scatter3d\", \"uid\": \"72606700-a0c9-4185-871b-f8bb204c02f9\", \"x\": [-0.014021595106126602, -0.1524864588826616], \"y\": [-0.08313409155477262, 0.3967025784571153], \"z\": [0.18170661772965246, 0.17864025258754712]}, {\"line\": {\"color\": \"black\", \"width\": 5}, \"marker\": {\"color\": \"blue\", \"size\": 2}, \"name\": \"upperback\", \"type\": \"scatter3d\", \"uid\": \"d11fdd1c-38d5-45ea-a0a2-6f18530b3881\", \"x\": [-0.08137364442658572, -0.031246292152410947], \"y\": [1.2595094443750139, 0.9931577580126868], \"z\": [0.12149517568788634, 0.09686800598570003]}, {\"line\": {\"color\": \"black\", \"width\": 5}, \"marker\": {\"color\": \"blue\", \"size\": 2}, \"name\": \"lowerneck\", \"type\": \"scatter3d\", \"uid\": \"c6066d89-001f-42b7-ba2e-e685dca1ce2d\", \"x\": [-0.1693852015712328, -0.08137364442658572], \"y\": [1.4960701303011903, 1.2595094443750139], \"z\": [0.14910926877686326, 0.12149517568788634]}, {\"line\": {\"color\": \"black\", \"width\": 5}, \"marker\": {\"color\": \"blue\", \"size\": 2}, \"name\": \"upperneck\", \"type\": \"scatter3d\", \"uid\": \"8257c567-c366-49dc-a33b-473e5e812cf2\", \"x\": [-0.23824913818980148, -0.1693852015712328], \"y\": [1.5902237642683388, 1.4960701303011903], \"z\": [0.16636234553014853, 0.14910926877686326]}, {\"line\": {\"color\": \"black\", \"width\": 5}, \"marker\": {\"color\": \"blue\", \"size\": 2}, \"name\": \"head\", \"type\": \"scatter3d\", \"uid\": \"4330dcf5-5ad1-4bd1-b153-ee5931081ba1\", \"x\": [-0.3178573452011354, -0.23824913818980148], \"y\": [1.6774483332002348, 1.5902237642683388], \"z\": [0.16932755663419266, 0.16636234553014853]}, {\"line\": {\"color\": \"black\", \"width\": 5}, \"marker\": {\"color\": \"blue\", \"size\": 2}, \"name\": \"lclavicle\", \"type\": \"scatter3d\", \"uid\": \"9d71411d-a44c-42e4-aa6b-11e58e563608\", \"x\": [-0.14416594376760533, -0.1693852015712328], \"y\": [1.4561408764048407, 1.4960701303011903], \"z\": [0.3592967632380161, 0.14910926877686326]}, {\"line\": {\"color\": \"black\", \"width\": 5}, \"marker\": {\"color\": \"blue\", \"size\": 2}, \"name\": \"lradius\", \"type\": \"scatter3d\", \"uid\": \"15a17417-9691-4207-844c-c0d35c6ac813\", \"x\": [-0.23616698743844358, -0.14416594376760533], \"y\": [0.9459798051003777, 1.4561408764048407], \"z\": [0.46765875238538424, 0.3592967632380161]}, {\"line\": {\"color\": \"black\", \"width\": 5}, \"marker\": {\"color\": \"blue\", \"size\": 2}, \"name\": \"lwrist\", \"type\": \"scatter3d\", \"uid\": \"b095d716-7388-47ed-8325-64451754ce2b\", \"x\": [-0.3017325575107032, -0.23616698743844358], \"y\": [0.8520200876803493, 0.9459798051003777], \"z\": [0.4865339284611835, 0.46765875238538424]}, {\"line\": {\"color\": \"black\", \"width\": 5}, \"marker\": {\"color\": \"blue\", \"size\": 2}, \"name\": \"rclavicle\", \"type\": \"scatter3d\", \"uid\": \"a5dc4889-62e5-4ced-b9c0-dd522ef982ca\", \"x\": [-0.10089873336295498, -0.1693852015712328], \"y\": [1.5020122969454484, 1.4960701303011903], \"z\": [-0.06955787088112461, 0.14910926877686326]}, {\"line\": {\"color\": \"black\", \"width\": 5}, \"marker\": {\"color\": \"blue\", \"size\": 2}, \"name\": \"rradius\", \"type\": \"scatter3d\", \"uid\": \"4e6784f6-46e8-46fe-8fd7-c5ed9550e450\", \"x\": [-0.14883894258697367, -0.10089873336295498], \"y\": [0.9759890239608197, 1.5020122969454484], \"z\": [-0.16855901210704521, -0.06955787088112461]}, {\"line\": {\"color\": \"black\", \"width\": 5}, \"marker\": {\"color\": \"blue\", \"size\": 2}, \"name\": \"rwrist\", \"type\": \"scatter3d\", \"uid\": \"8194ec16-ec56-4961-8ae1-15a8cb72b32d\", \"x\": [-0.20981933540454892, -0.14883894258697367], \"y\": [0.881964954101172, 0.9759890239608197], \"z\": [-0.1934845735820113, -0.16855901210704521]}],\n",
       "                        {\"autosize\": false, \"height\": 700, \"scene\": {\"aspectratio\": {\"x\": 1.0, \"y\": 1.0, \"z\": 1.0}, \"camera\": {\"eye\": {\"x\": -1.7428, \"y\": 1.0707, \"z\": 0.71}, \"up\": {\"x\": 0, \"y\": 1, \"z\": 0}}, \"xaxis\": {\"range\": [-130, 130]}, \"yaxis\": {\"range\": [-130, 130]}, \"zaxis\": {\"range\": [-130, 130]}}, \"sliders\": [{\"currentvalue\": {\"font\": {\"size\": 12}, \"prefix\": \"slice: \", \"visible\": true, \"xanchor\": \"center\"}, \"len\": 1.0, \"steps\": [{\"args\": [[\"frame1\"], {\"frame\": {\"duration\": 10, \"redraw\": true}, \"mode\": \"immediate\", \"transition\": {\"duration\": 0}}], \"label\": \"1\", \"method\": \"animate\"}, {\"args\": [[\"frame2\"], {\"frame\": {\"duration\": 10, \"redraw\": true}, \"mode\": \"immediate\", \"transition\": {\"duration\": 0}}], \"label\": \"2\", \"method\": \"animate\"}, {\"args\": [[\"frame3\"], {\"frame\": {\"duration\": 10, \"redraw\": true}, \"mode\": \"immediate\", \"transition\": {\"duration\": 0}}], \"label\": \"3\", \"method\": \"animate\"}, {\"args\": [[\"frame4\"], {\"frame\": {\"duration\": 10, \"redraw\": true}, \"mode\": \"immediate\", \"transition\": {\"duration\": 0}}], \"label\": \"4\", \"method\": \"animate\"}, {\"args\": [[\"frame5\"], {\"frame\": {\"duration\": 10, \"redraw\": true}, \"mode\": \"immediate\", \"transition\": {\"duration\": 0}}], \"label\": \"5\", \"method\": \"animate\"}, {\"args\": [[\"frame6\"], {\"frame\": {\"duration\": 10, \"redraw\": true}, \"mode\": \"immediate\", \"transition\": {\"duration\": 0}}], \"label\": \"6\", \"method\": \"animate\"}, {\"args\": [[\"frame7\"], {\"frame\": {\"duration\": 10, \"redraw\": true}, \"mode\": \"immediate\", \"transition\": {\"duration\": 0}}], \"label\": \"7\", \"method\": \"animate\"}, {\"args\": [[\"frame8\"], {\"frame\": {\"duration\": 10, \"redraw\": true}, \"mode\": \"immediate\", \"transition\": {\"duration\": 0}}], \"label\": \"8\", \"method\": \"animate\"}, {\"args\": [[\"frame9\"], {\"frame\": {\"duration\": 10, \"redraw\": true}, \"mode\": \"immediate\", \"transition\": {\"duration\": 0}}], \"label\": \"9\", \"method\": \"animate\"}, {\"args\": [[\"frame10\"], {\"frame\": {\"duration\": 10, \"redraw\": true}, \"mode\": \"immediate\", \"transition\": {\"duration\": 0}}], \"label\": \"10\", \"method\": \"animate\"}, {\"args\": [[\"frame11\"], {\"frame\": {\"duration\": 10, \"redraw\": true}, \"mode\": \"immediate\", \"transition\": {\"duration\": 0}}], \"label\": \"11\", \"method\": \"animate\"}, {\"args\": [[\"frame12\"], {\"frame\": {\"duration\": 10, \"redraw\": true}, \"mode\": \"immediate\", \"transition\": {\"duration\": 0}}], \"label\": \"12\", \"method\": \"animate\"}, {\"args\": [[\"frame13\"], {\"frame\": {\"duration\": 10, \"redraw\": true}, \"mode\": \"immediate\", \"transition\": {\"duration\": 0}}], \"label\": \"13\", \"method\": \"animate\"}, {\"args\": [[\"frame14\"], {\"frame\": {\"duration\": 10, \"redraw\": true}, \"mode\": \"immediate\", \"transition\": {\"duration\": 0}}], \"label\": \"14\", \"method\": \"animate\"}, {\"args\": [[\"frame15\"], {\"frame\": {\"duration\": 10, \"redraw\": true}, \"mode\": \"immediate\", \"transition\": {\"duration\": 0}}], \"label\": \"15\", \"method\": \"animate\"}], \"transition\": {\"duration\": 0}, \"x\": 0, \"y\": 0}], \"title\": {\"text\": \"action animation\"}, \"updatemenus\": [{\"buttons\": [{\"args\": [null], \"label\": \"Play\", \"method\": \"animate\"}], \"pad\": {\"r\": 10, \"t\": 0}, \"showactive\": false, \"type\": \"buttons\", \"x\": 1, \"xanchor\": \"right\", \"y\": 1, \"yanchor\": \"top\"}], \"width\": 800},\n",
       "                        {\"plotlyServerURL\": \"https://plot.ly\", \"showLink\": false, \"linkText\": \"Export to plot.ly\", \"responsive\": true}\n",
       "                    ).then(function(){\n",
       "                            Plotly.addFrames('b2ffb153-be3d-4476-baf4-9b38a70ec85d', [{\"data\": [{\"type\": \"scatter3d\", \"marker\": {\"size\": 4, \"color\": \"red\"}, \"x\": [-0.031246292152410947], \"z\": [0.09686800598570003], \"name\": \"root\", \"y\": [0.9931577580126868]}, {\"line\": {\"width\": 5, \"color\": \"black\"}, \"type\": \"scatter3d\", \"marker\": {\"size\": 2, \"color\": \"blue\"}, \"x\": [-0.06733105438235727, -0.031246292152410947], \"z\": [-0.00037350269002113615, 0.09686800598570003], \"name\": \"rhipjoint\", \"y\": [0.8737347916849264, 0.9931577580126868]}, {\"line\": {\"width\": 5, \"color\": \"black\"}, \"type\": \"scatter3d\", \"marker\": {\"size\": 2, \"color\": \"blue\"}, \"x\": [-0.26413767284212214, -0.06733105438235727], \"z\": [-0.052925632745577406, -0.00037350269002113615], \"name\": \"rfemur\", \"y\": [0.42194314899089047, 0.8737347916849264]}, {\"line\": {\"width\": 5, \"color\": \"black\"}, \"type\": \"scatter3d\", \"marker\": {\"size\": 2, \"color\": \"blue\"}, \"x\": [0.0, -0.26413767284212214], \"z\": [0.0, -0.052925632745577406], \"name\": \"rtibia\", \"y\": [0.0, 0.42194314899089047]}, {\"line\": {\"width\": 5, \"color\": \"black\"}, \"type\": \"scatter3d\", \"marker\": {\"size\": 2, \"color\": \"blue\"}, \"x\": [-0.10027340974673686, -0.031246292152410947], \"z\": [0.17443358948801374, 0.09686800598570003], \"name\": \"lhipjoint\", \"y\": [0.8710056000476293, 0.9931577580126868]}, {\"line\": {\"width\": 5, \"color\": \"black\"}, \"type\": \"scatter3d\", \"marker\": {\"size\": 2, \"color\": \"blue\"}, \"x\": [-0.1524864588826616, -0.10027340974673686], \"z\": [0.17864025258754712, 0.17443358948801374], \"name\": \"lfemur\", \"y\": [0.3967025784571153, 0.8710056000476293]}, {\"line\": {\"width\": 5, \"color\": \"black\"}, \"type\": \"scatter3d\", \"marker\": {\"size\": 2, \"color\": \"blue\"}, \"x\": [-0.014021595106126602, -0.1524864588826616], \"z\": [0.18170661772965246, 0.17864025258754712], \"name\": \"ltibia\", \"y\": [-0.08313409155477262, 0.3967025784571153]}, {\"line\": {\"width\": 5, \"color\": \"black\"}, \"type\": \"scatter3d\", \"marker\": {\"size\": 2, \"color\": \"blue\"}, \"x\": [-0.08137364442658572, -0.031246292152410947], \"z\": [0.12149517568788634, 0.09686800598570003], \"name\": \"upperback\", \"y\": [1.2595094443750139, 0.9931577580126868]}, {\"line\": {\"width\": 5, \"color\": \"black\"}, \"type\": \"scatter3d\", \"marker\": {\"size\": 2, \"color\": \"blue\"}, \"x\": [-0.1693852015712328, -0.08137364442658572], \"z\": [0.14910926877686326, 0.12149517568788634], \"name\": \"lowerneck\", \"y\": [1.4960701303011903, 1.2595094443750139]}, {\"line\": {\"width\": 5, \"color\": \"black\"}, \"type\": \"scatter3d\", \"marker\": {\"size\": 2, \"color\": \"blue\"}, \"x\": [-0.23824913818980148, -0.1693852015712328], \"z\": [0.16636234553014853, 0.14910926877686326], \"name\": \"upperneck\", \"y\": [1.5902237642683388, 1.4960701303011903]}, {\"line\": {\"width\": 5, \"color\": \"black\"}, \"type\": \"scatter3d\", \"marker\": {\"size\": 2, \"color\": \"blue\"}, \"x\": [-0.3178573452011354, -0.23824913818980148], \"z\": [0.16932755663419266, 0.16636234553014853], \"name\": \"head\", \"y\": [1.6774483332002348, 1.5902237642683388]}, {\"line\": {\"width\": 5, \"color\": \"black\"}, \"type\": \"scatter3d\", \"marker\": {\"size\": 2, \"color\": \"blue\"}, \"x\": [-0.14416594376760533, -0.1693852015712328], \"z\": [0.3592967632380161, 0.14910926877686326], \"name\": \"lclavicle\", \"y\": [1.4561408764048407, 1.4960701303011903]}, {\"line\": {\"width\": 5, \"color\": \"black\"}, \"type\": \"scatter3d\", \"marker\": {\"size\": 2, \"color\": \"blue\"}, \"x\": [-0.23616698743844358, -0.14416594376760533], \"z\": [0.46765875238538424, 0.3592967632380161], \"name\": \"lradius\", \"y\": [0.9459798051003777, 1.4561408764048407]}, {\"line\": {\"width\": 5, \"color\": \"black\"}, \"type\": \"scatter3d\", \"marker\": {\"size\": 2, \"color\": \"blue\"}, \"x\": [-0.3017325575107032, -0.23616698743844358], \"z\": [0.4865339284611835, 0.46765875238538424], \"name\": \"lwrist\", \"y\": [0.8520200876803493, 0.9459798051003777]}, {\"line\": {\"width\": 5, \"color\": \"black\"}, \"type\": \"scatter3d\", \"marker\": {\"size\": 2, \"color\": \"blue\"}, \"x\": [-0.10089873336295498, -0.1693852015712328], \"z\": [-0.06955787088112461, 0.14910926877686326], \"name\": \"rclavicle\", \"y\": [1.5020122969454484, 1.4960701303011903]}, {\"line\": {\"width\": 5, \"color\": \"black\"}, \"type\": \"scatter3d\", \"marker\": {\"size\": 2, \"color\": \"blue\"}, \"x\": [-0.14883894258697367, -0.10089873336295498], \"z\": [-0.16855901210704521, -0.06955787088112461], \"name\": \"rradius\", \"y\": [0.9759890239608197, 1.5020122969454484]}, {\"line\": {\"width\": 5, \"color\": \"black\"}, \"type\": \"scatter3d\", \"marker\": {\"size\": 2, \"color\": \"blue\"}, \"x\": [-0.20981933540454892, -0.14883894258697367], \"z\": [-0.1934845735820113, -0.16855901210704521], \"name\": \"rwrist\", \"y\": [0.881964954101172, 0.9759890239608197]}], \"name\": \"frame1\"}, {\"data\": [{\"type\": \"scatter3d\", \"marker\": {\"size\": 4, \"color\": \"red\"}, \"x\": [-0.16102255881907762], \"z\": [0.07672800598569983], \"name\": \"root\", \"y\": [0.9871644246793534]}, {\"line\": {\"width\": 5, \"color\": \"black\"}, \"type\": \"scatter3d\", \"marker\": {\"size\": 2, \"color\": \"blue\"}, \"x\": [-0.18702564539650166, -0.16102255881907762], \"z\": [-0.015217148663360784, 0.07672800598569983], \"name\": \"rhipjoint\", \"y\": [0.8611096985234064, 0.9871644246793534]}, {\"line\": {\"width\": 5, \"color\": \"black\"}, \"type\": \"scatter3d\", \"marker\": {\"size\": 2, \"color\": \"blue\"}, \"x\": [-0.41347396904585715, -0.18702564539650166], \"z\": [-0.07327755620147454, -0.015217148663360784], \"name\": \"rfemur\", \"y\": [0.42411953199328406, 0.8611096985234064]}, {\"line\": {\"width\": 5, \"color\": \"black\"}, \"type\": \"scatter3d\", \"marker\": {\"size\": 2, \"color\": \"blue\"}, \"x\": [-0.48704540824388426, -0.41347396904585715], \"z\": [-0.07223194731256051, -0.07327755620147454], \"name\": \"rtibia\", \"y\": [-0.07104913001260561, 0.42411953199328406]}, {\"line\": {\"width\": 5, \"color\": \"black\"}, \"type\": \"scatter3d\", \"marker\": {\"size\": 2, \"color\": \"blue\"}, \"x\": [-0.2243672033076859, -0.16102255881907762], \"z\": [0.15868554467393045, 0.07672800598569983], \"name\": \"lhipjoint\", \"y\": [0.8648013163920323, 0.9871644246793534]}, {\"line\": {\"width\": 5, \"color\": \"black\"}, \"type\": \"scatter3d\", \"marker\": {\"size\": 2, \"color\": \"blue\"}, \"x\": [-0.1956271645363413, -0.2243672033076859], \"z\": [0.16510784568986026, 0.15868554467393045], \"name\": \"lfemur\", \"y\": [0.38852406622625185, 0.8648013163920323]}, {\"line\": {\"width\": 5, \"color\": \"black\"}, \"type\": \"scatter3d\", \"marker\": {\"size\": 2, \"color\": \"blue\"}, \"x\": [-0.016305491999647734, -0.1956271645363413], \"z\": [0.17605754182551603, 0.16510784568986026], \"name\": \"ltibia\", \"y\": [-0.07746841536236371, 0.38852406622625185]}, {\"line\": {\"width\": 5, \"color\": \"black\"}, \"type\": \"scatter3d\", \"marker\": {\"size\": 2, \"color\": \"blue\"}, \"x\": [-0.22284381679370172, -0.16102255881907762], \"z\": [0.09717137274867724, 0.07672800598569983], \"name\": \"upperback\", \"y\": [1.2514546010702687, 0.9871644246793534]}, {\"line\": {\"width\": 5, \"color\": \"black\"}, \"type\": \"scatter3d\", \"marker\": {\"size\": 2, \"color\": \"blue\"}, \"x\": [-0.32206696273865004, -0.22284381679370172], \"z\": [0.11781070020307473, 0.09717137274867724], \"name\": \"lowerneck\", \"y\": [1.4842182770898957, 1.2514546010702687]}, {\"line\": {\"width\": 5, \"color\": \"black\"}, \"type\": \"scatter3d\", \"marker\": {\"size\": 2, \"color\": \"blue\"}, \"x\": [-0.3933765811719372, -0.32206696273865004], \"z\": [0.13032331096998437, 0.11781070020307473], \"name\": \"upperneck\", \"y\": [1.5772945367052005, 1.4842182770898957]}, {\"line\": {\"width\": 5, \"color\": \"black\"}, \"type\": \"scatter3d\", \"marker\": {\"size\": 2, \"color\": \"blue\"}, \"x\": [-0.4738870183555027, -0.3933765811719372], \"z\": [0.1278417114164102, 0.13032331096998437], \"name\": \"head\", \"y\": [1.6637022660699565, 1.5772945367052005]}, {\"line\": {\"width\": 5, \"color\": \"black\"}, \"type\": \"scatter3d\", \"marker\": {\"size\": 2, \"color\": \"blue\"}, \"x\": [-0.3056000945068307, -0.32206696273865004], \"z\": [0.3288515456059505, 0.11781070020307473], \"name\": \"lclavicle\", \"y\": [1.4480050626924337, 1.4842182770898957]}, {\"line\": {\"width\": 5, \"color\": \"black\"}, \"type\": \"scatter3d\", \"marker\": {\"size\": 2, \"color\": \"blue\"}, \"x\": [-0.4299832262017352, -0.3056000945068307], \"z\": [0.4237101580325079, 0.3288515456059505], \"name\": \"lradius\", \"y\": [0.9625022028593216, 1.4480050626924337]}, {\"line\": {\"width\": 5, \"color\": \"black\"}, \"type\": \"scatter3d\", \"marker\": {\"size\": 2, \"color\": \"blue\"}, \"x\": [-0.5108194533290203, -0.4299832262017352], \"z\": [0.42889202536834387, 0.4237101580325079], \"name\": \"lwrist\", \"y\": [0.8793024589703876, 0.9625022028593216]}, {\"line\": {\"width\": 5, \"color\": \"black\"}, \"type\": \"scatter3d\", \"marker\": {\"size\": 2, \"color\": \"blue\"}, \"x\": [-0.24310753778014635, -0.32206696273865004], \"z\": [-0.09796321782585776, 0.11781070020307473], \"name\": \"rclavicle\", \"y\": [1.4906240020796035, 1.4842182770898957]}, {\"line\": {\"width\": 5, \"color\": \"black\"}, \"type\": \"scatter3d\", \"marker\": {\"size\": 2, \"color\": \"blue\"}, \"x\": [-0.22907101388192685, -0.24310753778014635], \"z\": [-0.1775326511779672, -0.09796321782585776], \"name\": \"rradius\", \"y\": [0.9494346091959824, 1.4906240020796035]}, {\"line\": {\"width\": 5, \"color\": \"black\"}, \"type\": \"scatter3d\", \"marker\": {\"size\": 2, \"color\": \"blue\"}, \"x\": [-0.27183755391502396, -0.22907101388192685], \"z\": [-0.20117219547252993, -0.1775326511779672], \"name\": \"rwrist\", \"y\": [0.8455471092975687, 0.9494346091959824]}], \"name\": \"frame2\"}, {\"data\": [{\"type\": \"scatter3d\", \"marker\": {\"size\": 4, \"color\": \"red\"}, \"x\": [-0.32744189215241093], \"z\": [0.02609467265236655], \"name\": \"root\", \"y\": [0.9802510913460201]}, {\"line\": {\"width\": 5, \"color\": \"black\"}, \"type\": \"scatter3d\", \"marker\": {\"size\": 2, \"color\": \"blue\"}, \"x\": [-0.3526452243500804, -0.32744189215241093], \"z\": [-0.059861078028203236, 0.02609467265236655], \"name\": \"rhipjoint\", \"y\": [0.8498813596890239, 0.9802510913460201]}, {\"line\": {\"width\": 5, \"color\": \"black\"}, \"type\": \"scatter3d\", \"marker\": {\"size\": 2, \"color\": \"blue\"}, \"x\": [-0.5722707665793205, -0.3526452243500804], \"z\": [-0.08626879067867842, -0.059861078028203236], \"name\": \"rfemur\", \"y\": [0.40639797356931684, 0.8498813596890239]}, {\"line\": {\"width\": 5, \"color\": \"black\"}, \"type\": \"scatter3d\", \"marker\": {\"size\": 2, \"color\": \"blue\"}, \"x\": [-0.661567786248546, -0.5722707665793205], \"z\": [-0.07032517002115266, -0.08626879067867842], \"name\": \"rtibia\", \"y\": [-0.08592072101260087, 0.40639797356931684]}, {\"line\": {\"width\": 5, \"color\": \"black\"}, \"type\": \"scatter3d\", \"marker\": {\"size\": 2, \"color\": \"blue\"}, \"x\": [-0.3743166736808131, -0.32744189215241093], \"z\": [0.11659495559642608, 0.02609467265236655], \"name\": \"lhipjoint\", \"y\": [0.8564982487658781, 0.9802510913460201]}, {\"line\": {\"width\": 5, \"color\": \"black\"}, \"type\": \"scatter3d\", \"marker\": {\"size\": 2, \"color\": \"blue\"}, \"x\": [-0.2580027907118601, -0.3743166736808131], \"z\": [0.14827708034777085, 0.11659495559642608], \"name\": \"lfemur\", \"y\": [0.3947899226504398, 0.8564982487658781]}, {\"line\": {\"width\": 5, \"color\": \"black\"}, \"type\": \"scatter3d\", \"marker\": {\"size\": 2, \"color\": \"blue\"}, \"x\": [-0.041491358535836506, -0.2580027907118601], \"z\": [0.17812824077240824, 0.14827708034777085], \"name\": \"ltibia\", \"y\": [-0.05427227676332335, 0.3947899226504398]}, {\"line\": {\"width\": 5, \"color\": \"black\"}, \"type\": \"scatter3d\", \"marker\": {\"size\": 2, \"color\": \"blue\"}, \"x\": [-0.3849733766556064, -0.32744189215241093], \"z\": [0.03185154314563453, 0.02609467265236655], \"name\": \"upperback\", \"y\": [1.2463791790302836, 0.9802510913460201]}, {\"line\": {\"width\": 5, \"color\": \"black\"}, \"type\": \"scatter3d\", \"marker\": {\"size\": 2, \"color\": \"blue\"}, \"x\": [-0.48540655877145145, -0.3849733766556064], \"z\": [0.04250623659332694, 0.03185154314563453], \"name\": \"lowerneck\", \"y\": [1.4789341205884956, 1.2463791790302836]}, {\"line\": {\"width\": 5, \"color\": \"black\"}, \"type\": \"scatter3d\", \"marker\": {\"size\": 2, \"color\": \"blue\"}, \"x\": [-0.5568414886177885, -0.48540655877145145], \"z\": [0.048577773951566885, 0.04250623659332694], \"name\": \"upperneck\", \"y\": [1.572555723038129, 1.4789341205884956]}, {\"line\": {\"width\": 5, \"color\": \"black\"}, \"type\": \"scatter3d\", \"marker\": {\"size\": 2, \"color\": \"blue\"}, \"x\": [-0.6365800079073901, -0.5568414886177885], \"z\": [0.036917581164648536, 0.048577773951566885], \"name\": \"head\", \"y\": [1.658928131661947, 1.572555723038129]}, {\"line\": {\"width\": 5, \"color\": \"black\"}, \"type\": \"scatter3d\", \"marker\": {\"size\": 2, \"color\": \"blue\"}, \"x\": [-0.47562968208291745, -0.48540655877145145], \"z\": [0.24986355650595607, 0.04250623659332694], \"name\": \"lclavicle\", \"y\": [1.454726447495324, 1.4789341205884956]}, {\"line\": {\"width\": 5, \"color\": \"black\"}, \"type\": \"scatter3d\", \"marker\": {\"size\": 2, \"color\": \"blue\"}, \"x\": [-0.528173403510208, -0.47562968208291745], \"z\": [0.34977494570317447, 0.24986355650595607], \"name\": \"lradius\", \"y\": [0.9387472317289394, 1.454726447495324]}, {\"line\": {\"width\": 5, \"color\": \"black\"}, \"type\": \"scatter3d\", \"marker\": {\"size\": 2, \"color\": \"blue\"}, \"x\": [-0.5858142029767917, -0.528173403510208], \"z\": [0.3571628359038009, 0.34977494570317447], \"name\": \"lwrist\", \"y\": [0.8382161317464908, 0.9387472317289394]}, {\"line\": {\"width\": 5, \"color\": \"black\"}, \"type\": \"scatter3d\", \"marker\": {\"size\": 2, \"color\": \"blue\"}, \"x\": [-0.40084089575578413, -0.48540655877145145], \"z\": [-0.1766508889417729, 0.04250623659332694], \"name\": \"rclavicle\", \"y\": [1.4743376990669634, 1.4789341205884956]}, {\"line\": {\"width\": 5, \"color\": \"black\"}, \"type\": \"scatter3d\", \"marker\": {\"size\": 2, \"color\": \"blue\"}, \"x\": [-0.3049249426431641, -0.40084089575578413], \"z\": [-0.23239972045634982, -0.1766508889417729], \"name\": \"rradius\", \"y\": [0.9173039029912134, 1.4743376990669634]}, {\"line\": {\"width\": 5, \"color\": \"black\"}, \"type\": \"scatter3d\", \"marker\": {\"size\": 2, \"color\": \"blue\"}, \"x\": [-0.3105573680359991, -0.3049249426431641], \"z\": [-0.25572358486435953, -0.23239972045634982], \"name\": \"rwrist\", \"y\": [0.8050332889852728, 0.9173039029912134]}], \"name\": \"frame3\"}, {\"data\": [{\"type\": \"scatter3d\", \"marker\": {\"size\": 4, \"color\": \"red\"}, \"x\": [-0.5180072254857443], \"z\": [-0.05389866068096675], \"name\": \"root\", \"y\": [0.9990510913460201]}, {\"line\": {\"width\": 5, \"color\": \"black\"}, \"type\": \"scatter3d\", \"marker\": {\"size\": 2, \"color\": \"blue\"}, \"x\": [-0.5411778269273816, -0.5180072254857443], \"z\": [-0.1547424199815777, -0.05389866068096675], \"name\": \"rhipjoint\", \"y\": [0.8794119447417553, 0.9990510913460201]}, {\"line\": {\"width\": 5, \"color\": \"black\"}, \"type\": \"scatter3d\", \"marker\": {\"size\": 2, \"color\": \"blue\"}, \"x\": [-0.6870439999794645, -0.5411778269273816], \"z\": [-0.1452919866794776, -0.1547424199815777], \"name\": \"rfemur\", \"y\": [0.40586785099687356, 0.8794119447417553]}, {\"line\": {\"width\": 5, \"color\": \"black\"}, \"type\": \"scatter3d\", \"marker\": {\"size\": 2, \"color\": \"blue\"}, \"x\": [-0.7002425457927463, -0.6870439999794645], \"z\": [-0.07900171801678771, -0.1452919866794776], \"name\": \"rtibia\", \"y\": [-0.09015357239667678, 0.40586785099687356]}, {\"line\": {\"width\": 5, \"color\": \"black\"}, \"type\": \"scatter3d\", \"marker\": {\"size\": 2, \"color\": \"blue\"}, \"x\": [-0.5819534329874213, -0.5180072254857443], \"z\": [0.01821930969055619, -0.05389866068096675], \"name\": \"lhipjoint\", \"y\": [0.8709410086101158, 0.9990510913460201]}, {\"line\": {\"width\": 5, \"color\": \"black\"}, \"type\": \"scatter3d\", \"marker\": {\"size\": 2, \"color\": \"blue\"}, \"x\": [-0.5803973409596556, -0.5819534329874213], \"z\": [0.07682809704465422, 0.01821930969055619], \"name\": \"lfemur\", \"y\": [0.39736963761427707, 0.8709410086101158]}, {\"line\": {\"width\": 5, \"color\": \"black\"}, \"type\": \"scatter3d\", \"marker\": {\"size\": 2, \"color\": \"blue\"}, \"x\": [-0.21752015949867418, -0.5803973409596556], \"z\": [0.17316564324489955, 0.07682809704465422], \"name\": \"ltibia\", \"y\": [0.06803033028673346, 0.39736963761427707]}, {\"line\": {\"width\": 5, \"color\": \"black\"}, \"type\": \"scatter3d\", \"marker\": {\"size\": 2, \"color\": \"blue\"}, \"x\": [-0.5725383854920553, -0.5180072254857443], \"z\": [-0.05981968334986429, -0.05389866068096675], \"name\": \"upperback\", \"y\": [1.2656919769435537, 0.9990510913460201]}, {\"line\": {\"width\": 5, \"color\": \"black\"}, \"type\": \"scatter3d\", \"marker\": {\"size\": 2, \"color\": \"blue\"}, \"x\": [-0.6645930233534691, -0.5725383854920553], \"z\": [-0.06733459719958125, -0.05981968334986429], \"name\": \"lowerneck\", \"y\": [1.502385293728804, 1.2656919769435537]}, {\"line\": {\"width\": 5, \"color\": \"black\"}, \"type\": \"scatter3d\", \"marker\": {\"size\": 2, \"color\": \"blue\"}, \"x\": [-0.732694330616042, -0.6645930233534691], \"z\": [-0.07390586615404474, -0.06733459719958125], \"name\": \"upperneck\", \"y\": [1.5984261578791101, 1.502385293728804]}, {\"line\": {\"width\": 5, \"color\": \"black\"}, \"type\": \"scatter3d\", \"marker\": {\"size\": 2, \"color\": \"blue\"}, \"x\": [-0.8081151473487257, -0.732694330616042], \"z\": [-0.09721371187116538, -0.07390586615404474], \"name\": \"head\", \"y\": [1.6863057872434166, 1.5984261578791101]}, {\"line\": {\"width\": 5, \"color\": \"black\"}, \"type\": \"scatter3d\", \"marker\": {\"size\": 2, \"color\": \"blue\"}, \"x\": [-0.6740171188856984, -0.6645930233534691], \"z\": [0.1469683131838863, -0.06733459719958125], \"name\": \"lclavicle\", \"y\": [1.4803945133011245, 1.502385293728804]}, {\"line\": {\"width\": 5, \"color\": \"black\"}, \"type\": \"scatter3d\", \"marker\": {\"size\": 2, \"color\": \"blue\"}, \"x\": [-0.5988645734065539, -0.6740171188856984], \"z\": [0.2566101949653967, 0.1469683131838863], \"name\": \"lradius\", \"y\": [0.949330277428947, 1.4803945133011245]}, {\"line\": {\"width\": 5, \"color\": \"black\"}, \"type\": \"scatter3d\", \"marker\": {\"size\": 2, \"color\": \"blue\"}, \"x\": [-0.6165641338056811, -0.5988645734065539], \"z\": [0.2740120748122948, 0.2566101949653967], \"name\": \"lwrist\", \"y\": [0.8358955169367758, 0.949330277428947]}, {\"line\": {\"width\": 5, \"color\": \"black\"}, \"type\": \"scatter3d\", \"marker\": {\"size\": 2, \"color\": \"blue\"}, \"x\": [-0.5652505518845307, -0.6645930233534691], \"z\": [-0.2725152924388664, -0.06733459719958125], \"name\": \"rclavicle\", \"y\": [1.490186062749036, 1.502385293728804]}, {\"line\": {\"width\": 5, \"color\": \"black\"}, \"type\": \"scatter3d\", \"marker\": {\"size\": 2, \"color\": \"blue\"}, \"x\": [-0.4558850043236558, -0.5652505518845307], \"z\": [-0.31883113403233193, -0.2725152924388664], \"name\": \"rradius\", \"y\": [0.9301969195902783, 1.490186062749036]}, {\"line\": {\"width\": 5, \"color\": \"black\"}, \"type\": \"scatter3d\", \"marker\": {\"size\": 2, \"color\": \"blue\"}, \"x\": [-0.451228057079771, -0.4558850043236558], \"z\": [-0.3408248587967057, -0.31883113403233193], \"name\": \"rwrist\", \"y\": [0.817613588011591, 0.9301969195902783]}], \"name\": \"frame4\"}, {\"data\": [{\"type\": \"scatter3d\", \"marker\": {\"size\": 4, \"color\": \"red\"}, \"x\": [-0.6814118921524109], \"z\": [-0.11919199401430008], \"name\": \"root\", \"y\": [0.9934510913460202]}, {\"line\": {\"width\": 5, \"color\": \"black\"}, \"type\": \"scatter3d\", \"marker\": {\"size\": 2, \"color\": \"blue\"}, \"x\": [-0.6894269256208537, -0.6814118921524109], \"z\": [-0.2363550179638241, -0.11919199401430008], \"name\": \"rhipjoint\", \"y\": [0.8874867057311046, 0.9934510913460202]}, {\"line\": {\"width\": 5, \"color\": \"black\"}, \"type\": \"scatter3d\", \"marker\": {\"size\": 2, \"color\": \"blue\"}, \"x\": [-0.7640839153015722, -0.6894269256208537], \"z\": [-0.19412400064139917, -0.2363550179638241], \"name\": \"rfemur\", \"y\": [0.3993748999746313, 0.8874867057311046]}, {\"line\": {\"width\": 5, \"color\": \"black\"}, \"type\": \"scatter3d\", \"marker\": {\"size\": 2, \"color\": \"blue\"}, \"x\": [-0.7181656823850211, -0.7640839153015722], \"z\": [-0.08621601560588428, -0.19412400064139917], \"name\": \"rtibia\", \"y\": [-0.08730079948828315, 0.3993748999746313]}, {\"line\": {\"width\": 5, \"color\": \"black\"}, \"type\": \"scatter3d\", \"marker\": {\"size\": 2, \"color\": \"blue\"}, \"x\": [-0.7681464230979922, -0.6814118921524109], \"z\": [-0.07841589925291217, -0.11919199401430008], \"name\": \"lhipjoint\", \"y\": [0.8649336075525066, 0.9934510913460202]}, {\"line\": {\"width\": 5, \"color\": \"black\"}, \"type\": \"scatter3d\", \"marker\": {\"size\": 2, \"color\": \"blue\"}, \"x\": [-0.9373260523371055, -0.7681464230979922], \"z\": [-0.07141530660208725, -0.07841589925291217], \"name\": \"lfemur\", \"y\": [0.41879853881496815, 0.8649336075525066]}, {\"line\": {\"width\": 5, \"color\": \"black\"}, \"type\": \"scatter3d\", \"marker\": {\"size\": 2, \"color\": \"blue\"}, \"x\": [-0.611724148330295, -0.9373260523371055], \"z\": [0.10124564849599077, -0.07141530660208725], \"name\": \"ltibia\", \"y\": [0.08175737563798198, 0.41879853881496815]}, {\"line\": {\"width\": 5, \"color\": \"black\"}, \"type\": \"scatter3d\", \"marker\": {\"size\": 2, \"color\": \"blue\"}, \"x\": [-0.7242804027195296, -0.6814118921524109], \"z\": [-0.13344005231899392, -0.11919199401430008], \"name\": \"upperback\", \"y\": [1.261821941286157, 0.9934510913460202]}, {\"line\": {\"width\": 5, \"color\": \"black\"}, \"type\": \"scatter3d\", \"marker\": {\"size\": 2, \"color\": \"blue\"}, \"x\": [-0.799871635538573, -0.7242804027195296], \"z\": [-0.1458735677255742, -0.13344005231899392], \"name\": \"lowerneck\", \"y\": [1.5040772222979368, 1.261821941286157]}, {\"line\": {\"width\": 5, \"color\": \"black\"}, \"type\": \"scatter3d\", \"marker\": {\"size\": 2, \"color\": \"blue\"}, \"x\": [-0.8612984415171816, -0.799871635538573], \"z\": [-0.16132974339739642, -0.1458735677255742], \"name\": \"upperneck\", \"y\": [1.603539131359391, 1.5040772222979368]}, {\"line\": {\"width\": 5, \"color\": \"black\"}, \"type\": \"scatter3d\", \"marker\": {\"size\": 2, \"color\": \"blue\"}, \"x\": [-0.9290268904780847, -0.8612984415171816], \"z\": [-0.1956783852923421, -0.16132974339739642], \"name\": \"head\", \"y\": [1.6940234533556857, 1.603539131359391]}, {\"line\": {\"width\": 5, \"color\": \"black\"}, \"type\": \"scatter3d\", \"marker\": {\"size\": 2, \"color\": \"blue\"}, \"x\": [-0.8310564743252317, -0.799871635538573], \"z\": [0.06533440119298603, -0.1458735677255742], \"name\": \"lclavicle\", \"y\": [1.4814670530538956, 1.5040772222979368]}, {\"line\": {\"width\": 5, \"color\": \"black\"}, \"type\": \"scatter3d\", \"marker\": {\"size\": 2, \"color\": \"blue\"}, \"x\": [-0.7417373089857432, -0.8310564743252317], \"z\": [0.16190756385652633, 0.06533440119298603], \"name\": \"lradius\", \"y\": [0.9515746476327313, 1.4814670530538956]}, {\"line\": {\"width\": 5, \"color\": \"black\"}, \"type\": \"scatter3d\", \"marker\": {\"size\": 2, \"color\": \"blue\"}, \"x\": [-0.7574658526451054, -0.7417373089857432], \"z\": [0.17472846596338912, 0.16190756385652633], \"name\": \"lwrist\", \"y\": [0.8372427529927567, 0.9515746476327313]}, {\"line\": {\"width\": 5, \"color\": \"black\"}, \"type\": \"scatter3d\", \"marker\": {\"size\": 2, \"color\": \"blue\"}, \"x\": [-0.6835947781207673, -0.799871635538573], \"z\": [-0.34224783113155866, -0.1458735677255742], \"name\": \"rclavicle\", \"y\": [1.4863973643948387, 1.5040772222979368]}, {\"line\": {\"width\": 5, \"color\": \"black\"}, \"type\": \"scatter3d\", \"marker\": {\"size\": 2, \"color\": \"blue\"}, \"x\": [-0.6738440946264973, -0.6835947781207673], \"z\": [-0.42333851563205277, -0.34224783113155866], \"name\": \"rradius\", \"y\": [0.9355561788562868, 1.4863973643948387]}, {\"line\": {\"width\": 5, \"color\": \"black\"}, \"type\": \"scatter3d\", \"marker\": {\"size\": 2, \"color\": \"blue\"}, \"x\": [-0.7049114737377775, -0.6738440946264973], \"z\": [-0.45936083469509914, -0.42333851563205277], \"name\": \"rwrist\", \"y\": [0.8310687244874676, 0.9355561788562868]}], \"name\": \"frame5\"}, {\"data\": [{\"type\": \"scatter3d\", \"marker\": {\"size\": 4, \"color\": \"red\"}, \"x\": [-0.8341518921524109], \"z\": [-0.17984532734763334], \"name\": \"root\", \"y\": [0.9732844246793533]}, {\"line\": {\"width\": 5, \"color\": \"black\"}, \"type\": \"scatter3d\", \"marker\": {\"size\": 2, \"color\": \"blue\"}, \"x\": [-0.8281744997051009, -0.8341518921524109], \"z\": [-0.3019480887356726, -0.17984532734763334], \"name\": \"rhipjoint\", \"y\": [0.8729098641463682, 0.9732844246793533]}, {\"line\": {\"width\": 5, \"color\": \"black\"}, \"type\": \"scatter3d\", \"marker\": {\"size\": 2, \"color\": \"blue\"}, \"x\": [-0.8266314426246496, -0.8281744997051009], \"z\": [-0.22555991412240625, -0.3019480887356726], \"name\": \"rfemur\", \"y\": [0.38324393148899144, 0.8729098641463682]}, {\"line\": {\"width\": 5, \"color\": \"black\"}, \"type\": \"scatter3d\", \"marker\": {\"size\": 2, \"color\": \"blue\"}, \"x\": [-0.7248399693381522, -0.8266314426246496], \"z\": [-0.08565315291738868, -0.22555991412240625], \"name\": \"rtibia\", \"y\": [-0.08651180070765457, 0.38324393148899144]}, {\"line\": {\"width\": 5, \"color\": \"black\"}, \"type\": \"scatter3d\", \"marker\": {\"size\": 2, \"color\": \"blue\"}, \"x\": [-0.923591723630585, -0.8341518921524109], \"z\": [-0.15488798261893208, -0.17984532734763334], \"name\": \"lhipjoint\", \"y\": [0.8425941041035576, 0.9732844246793533]}, {\"line\": {\"width\": 5, \"color\": \"black\"}, \"type\": \"scatter3d\", \"marker\": {\"size\": 2, \"color\": \"blue\"}, \"x\": [-1.1423923253096597, -0.923591723630585], \"z\": [-0.22725426749789507, -0.15488798261893208], \"name\": \"lfemur\", \"y\": [0.42474643769618525, 0.8425941041035576]}, {\"line\": {\"width\": 5, \"color\": \"black\"}, \"type\": \"scatter3d\", \"marker\": {\"size\": 2, \"color\": \"blue\"}, \"x\": [-1.1146206481260301, -1.1423923253096597], \"z\": [-0.11029886943534066, -0.22725426749789507], \"name\": \"ltibia\", \"y\": [-0.05999609168861533, 0.42474643769618525]}, {\"line\": {\"width\": 5, \"color\": \"black\"}, \"type\": \"scatter3d\", \"marker\": {\"size\": 2, \"color\": \"blue\"}, \"x\": [-0.8732019974355818, -0.8341518921524109], \"z\": [-0.20717091771302013, -0.17984532734763334], \"name\": \"upperback\", \"y\": [1.2414079393066555, 0.9732844246793533]}, {\"line\": {\"width\": 5, \"color\": \"black\"}, \"type\": \"scatter3d\", \"marker\": {\"size\": 2, \"color\": \"blue\"}, \"x\": [-0.9358602221015473, -0.8732019974355818], \"z\": [-0.22632721129302702, -0.20717091771302013], \"name\": \"lowerneck\", \"y\": [1.487104073538312, 1.2414079393066555]}, {\"line\": {\"width\": 5, \"color\": \"black\"}, \"type\": \"scatter3d\", \"marker\": {\"size\": 2, \"color\": \"blue\"}, \"x\": [-0.9915477427661271, -0.9358602221015473], \"z\": [-0.24825755078240733, -0.22632721129302702], \"name\": \"upperneck\", \"y\": [1.588705143736383, 1.487104073538312]}, {\"line\": {\"width\": 5, \"color\": \"black\"}, \"type\": \"scatter3d\", \"marker\": {\"size\": 2, \"color\": \"blue\"}, \"x\": [-1.053230261142518, -0.9915477427661271], \"z\": [-0.2889515688337827, -0.24825755078240733], \"name\": \"head\", \"y\": [1.680866135199076, 1.588705143736383]}, {\"line\": {\"width\": 5, \"color\": \"black\"}, \"type\": \"scatter3d\", \"marker\": {\"size\": 2, \"color\": \"blue\"}, \"x\": [-0.9868948435486754, -0.9358602221015473], \"z\": [-0.016063168367779213, -0.22632721129302702], \"name\": \"lclavicle\", \"y\": [1.4643611919021169, 1.487104073538312]}, {\"line\": {\"width\": 5, \"color\": \"black\"}, \"type\": \"scatter3d\", \"marker\": {\"size\": 2, \"color\": \"blue\"}, \"x\": [-0.9672240380763275, -0.9868948435486754], \"z\": [0.06767724746151225, -0.016063168367779213], \"name\": \"lradius\", \"y\": [0.9320623581536377, 1.4643611919021169]}, {\"line\": {\"width\": 5, \"color\": \"black\"}, \"type\": \"scatter3d\", \"marker\": {\"size\": 2, \"color\": \"blue\"}, \"x\": [-1.0024605332715575, -0.9672240380763275], \"z\": [0.0730000302283905, 0.06767724746151225], \"name\": \"lwrist\", \"y\": [0.8215471911473953, 0.9320623581536377]}, {\"line\": {\"width\": 5, \"color\": \"black\"}, \"type\": \"scatter3d\", \"marker\": {\"size\": 2, \"color\": \"blue\"}, \"x\": [-0.8069324163554906, -0.9358602221015473], \"z\": [-0.41040521548171044, -0.22632721129302702], \"name\": \"rclavicle\", \"y\": [1.465001973305795, 1.487104073538312]}, {\"line\": {\"width\": 5, \"color\": \"black\"}, \"type\": \"scatter3d\", \"marker\": {\"size\": 2, \"color\": \"blue\"}, \"x\": [-0.8693431486362787, -0.8069324163554906], \"z\": [-0.518396426703619, -0.41040521548171044], \"name\": \"rradius\", \"y\": [0.948685280967166, 1.465001973305795]}, {\"line\": {\"width\": 5, \"color\": \"black\"}, \"type\": \"scatter3d\", \"marker\": {\"size\": 2, \"color\": \"blue\"}, \"x\": [-0.929999682196197, -0.8693431486362787], \"z\": [-0.5640315251416858, -0.518396426703619], \"name\": \"rwrist\", \"y\": [0.8625537515308298, 0.948685280967166]}], \"name\": \"frame6\"}, {\"data\": [{\"type\": \"scatter3d\", \"marker\": {\"size\": 4, \"color\": \"red\"}, \"x\": [-1.0015252254857443], \"z\": [-0.2629653273476334], \"name\": \"root\", \"y\": [0.9594310913460201]}, {\"line\": {\"width\": 5, \"color\": \"black\"}, \"type\": \"scatter3d\", \"marker\": {\"size\": 2, \"color\": \"blue\"}, \"x\": [-0.9741853656908307, -1.0015252254857443], \"z\": [-0.3791201129237654, -0.2629653273476334], \"name\": \"rhipjoint\", \"y\": [0.85560207894871, 0.9594310913460201]}, {\"line\": {\"width\": 5, \"color\": \"black\"}, \"type\": \"scatter3d\", \"marker\": {\"size\": 2, \"color\": \"blue\"}, \"x\": [-0.885178014169482, -0.9741853656908307], \"z\": [-0.25344865217255275, -0.3791201129237654], \"name\": \"rfemur\", \"y\": [0.38454514483253494, 0.85560207894871]}, {\"line\": {\"width\": 5, \"color\": \"black\"}, \"type\": \"scatter3d\", \"marker\": {\"size\": 2, \"color\": \"blue\"}, \"x\": [-0.7361550516650499, -0.885178014169482], \"z\": [-0.09139463092203808, -0.25344865217255275], \"name\": \"rtibia\", \"y\": [-0.06505079002370996, 0.38454514483253494]}, {\"line\": {\"width\": 5, \"color\": \"black\"}, \"type\": \"scatter3d\", \"marker\": {\"size\": 2, \"color\": \"blue\"}, \"x\": [-1.0838181656423937, -1.0015252254857443], \"z\": [-0.24277663623882867, -0.2629653273476334], \"name\": \"lhipjoint\", \"y\": [0.8233333281217734, 0.9594310913460201]}, {\"line\": {\"width\": 5, \"color\": \"black\"}, \"type\": \"scatter3d\", \"marker\": {\"size\": 2, \"color\": \"blue\"}, \"x\": [-1.293181853968874, -1.0838181656423937], \"z\": [-0.3443395805817327, -0.24277663623882867], \"name\": \"lfemur\", \"y\": [0.4067291164878445, 0.8233333281217734]}, {\"line\": {\"width\": 5, \"color\": \"black\"}, \"type\": \"scatter3d\", \"marker\": {\"size\": 2, \"color\": \"blue\"}, \"x\": [-1.3532743624419363, -1.293181853968874], \"z\": [-0.31744442042600174, -0.3443395805817327], \"name\": \"ltibia\", \"y\": [-0.0883372343880246, 0.4067291164878445]}, {\"line\": {\"width\": 5, \"color\": \"black\"}, \"type\": \"scatter3d\", \"marker\": {\"size\": 2, \"color\": \"blue\"}, \"x\": [-1.035457154909586, -1.0015252254857443], \"z\": [-0.2858590476428738, -0.2629653273476334], \"name\": \"upperback\", \"y\": [1.228721841453172, 0.9594310913460201]}, {\"line\": {\"width\": 5, \"color\": \"black\"}, \"type\": \"scatter3d\", \"marker\": {\"size\": 2, \"color\": \"blue\"}, \"x\": [-1.099510915675236, -1.035457154909586], \"z\": [-0.31376288823218357, -0.2858590476428738], \"name\": \"lowerneck\", \"y\": [1.4731755734327905, 1.228721841453172]}, {\"line\": {\"width\": 5, \"color\": \"black\"}, \"type\": \"scatter3d\", \"marker\": {\"size\": 2, \"color\": \"blue\"}, \"x\": [-1.1550489955841534, -1.099510915675236], \"z\": [-0.34303773248153724, -0.31376288823218357], \"name\": \"upperneck\", \"y\": [1.5729920169052345, 1.4731755734327905]}, {\"line\": {\"width\": 5, \"color\": \"black\"}, \"type\": \"scatter3d\", \"marker\": {\"size\": 2, \"color\": \"blue\"}, \"x\": [-1.2146911264032858, -1.1550489955841534], \"z\": [-0.39185401092610295, -0.34303773248153724], \"name\": \"head\", \"y\": [1.6625139232521289, 1.5729920169052345]}, {\"line\": {\"width\": 5, \"color\": \"black\"}, \"type\": \"scatter3d\", \"marker\": {\"size\": 2, \"color\": \"blue\"}, \"x\": [-1.1696477498151907, -1.099510915675236], \"z\": [-0.10961735710997686, -0.31376288823218357], \"name\": \"lclavicle\", \"y\": [1.4525256365885117, 1.4731755734327905]}, {\"line\": {\"width\": 5, \"color\": \"black\"}, \"type\": \"scatter3d\", \"marker\": {\"size\": 2, \"color\": \"blue\"}, \"x\": [-1.2119039140624888, -1.1696477498151907], \"z\": [-0.021686419634083385, -0.10961735710997686], \"name\": \"lradius\", \"y\": [0.9403196717995524, 1.4525256365885117]}, {\"line\": {\"width\": 5, \"color\": \"black\"}, \"type\": \"scatter3d\", \"marker\": {\"size\": 2, \"color\": \"blue\"}, \"x\": [-1.2693319606719449, -1.2119039140624888], \"z\": [-0.024405988654513305, -0.021686419634083385], \"name\": \"lwrist\", \"y\": [0.8394327640492913, 0.9403196717995524]}, {\"line\": {\"width\": 5, \"color\": \"black\"}, \"type\": \"scatter3d\", \"marker\": {\"size\": 2, \"color\": \"blue\"}, \"x\": [-0.9528767820130027, -1.099510915675236], \"z\": [-0.4849826357026525, -0.31376288823218357], \"name\": \"rclavicle\", \"y\": [1.4505785697634321, 1.4731755734327905]}, {\"line\": {\"width\": 5, \"color\": \"black\"}, \"type\": \"scatter3d\", \"marker\": {\"size\": 2, \"color\": \"blue\"}, \"x\": [-0.988795886373811, -0.9528767820130027], \"z\": [-0.5859386443277036, -0.4849826357026525], \"name\": \"rradius\", \"y\": [0.926771179970396, 1.4505785697634321]}, {\"line\": {\"width\": 5, \"color\": \"black\"}, \"type\": \"scatter3d\", \"marker\": {\"size\": 2, \"color\": \"blue\"}, \"x\": [-1.0397588408300915, -0.988795886373811], \"z\": [-0.6351814002621594, -0.5859386443277036], \"name\": \"rwrist\", \"y\": [0.8364476177229586, 0.926771179970396]}], \"name\": \"frame7\"}, {\"data\": [{\"type\": \"scatter3d\", \"marker\": {\"size\": 4, \"color\": \"red\"}, \"x\": [-1.1819052254857445], \"z\": [-0.3492519940143], \"name\": \"root\", \"y\": [0.9864777580126867]}, {\"line\": {\"width\": 5, \"color\": \"black\"}, \"type\": \"scatter3d\", \"marker\": {\"size\": 2, \"color\": \"blue\"}, \"x\": [-1.1549872227346811, -1.1819052254857445], \"z\": [-0.45258854063973325, -0.3492519940143], \"name\": \"rhipjoint\", \"y\": [0.8697865191784584, 0.9864777580126867]}, {\"line\": {\"width\": 5, \"color\": \"black\"}, \"type\": \"scatter3d\", \"marker\": {\"size\": 2, \"color\": \"blue\"}, \"x\": [-1.2161518280548693, -1.1549872227346811], \"z\": [-0.48469082051492846, -0.45258854063973325], \"name\": \"rfemur\", \"y\": [0.37903343000432077, 0.8697865191784584]}, {\"line\": {\"width\": 5, \"color\": \"black\"}, \"type\": \"scatter3d\", \"marker\": {\"size\": 2, \"color\": \"blue\"}, \"x\": [-0.9088717047703851, -1.2161518280548693], \"z\": [-0.22522989076142796, -0.48469082051492846], \"name\": \"rtibia\", \"y\": [0.08093142470740577, 0.37903343000432077]}, {\"line\": {\"width\": 5, \"color\": \"black\"}, \"type\": \"scatter3d\", \"marker\": {\"size\": 2, \"color\": \"blue\"}, \"x\": [-1.2829627990291328, -1.1819052254857445], \"z\": [-0.32915922229165095, -0.3492519940143], \"name\": \"lhipjoint\", \"y\": [0.8636528429629303, 0.9864777580126867]}, {\"line\": {\"width\": 5, \"color\": \"black\"}, \"type\": \"scatter3d\", \"marker\": {\"size\": 2, \"color\": \"blue\"}, \"x\": [-1.3926830407197046, -1.2829627990291328], \"z\": [-0.39325072084559287, -0.32915922229165095], \"name\": \"lfemur\", \"y\": [0.4036952327629606, 0.8636528429629303]}, {\"line\": {\"width\": 5, \"color\": \"black\"}, \"type\": \"scatter3d\", \"marker\": {\"size\": 2, \"color\": \"blue\"}, \"x\": [-1.3737779139217452, -1.3926830407197046], \"z\": [-0.34441405403609504, -0.39325072084559287], \"name\": \"ltibia\", \"y\": [-0.09297641645775705, 0.4036952327629606]}, {\"line\": {\"width\": 5, \"color\": \"black\"}, \"type\": \"scatter3d\", \"marker\": {\"size\": 2, \"color\": \"blue\"}, \"x\": [-1.2152825068860564, -1.1819052254857445], \"z\": [-0.3757921648491008, -0.3492519940143], \"name\": \"upperback\", \"y\": [1.2554616646001184, 0.9864777580126867]}, {\"line\": {\"width\": 5, \"color\": \"black\"}, \"type\": \"scatter3d\", \"marker\": {\"size\": 2, \"color\": \"blue\"}, \"x\": [-1.2786534652967065, -1.2152825068860564], \"z\": [-0.40363129645676304, -0.3757921648491008], \"name\": \"lowerneck\", \"y\": [1.5001979440661288, 1.2554616646001184]}, {\"line\": {\"width\": 5, \"color\": \"black\"}, \"type\": \"scatter3d\", \"marker\": {\"size\": 2, \"color\": \"blue\"}, \"x\": [-1.3297189558510962, -1.2786534652967065], \"z\": [-0.4434841931644345, -0.40363129645676304], \"name\": \"upperneck\", \"y\": [1.5987315906632584, 1.5001979440661288]}, {\"line\": {\"width\": 5, \"color\": \"black\"}, \"type\": \"scatter3d\", \"marker\": {\"size\": 2, \"color\": \"blue\"}, \"x\": [-1.3814057001964548, -1.3297189558510962], \"z\": [-0.5055683760100818, -0.4434841931644345], \"name\": \"head\", \"y\": [1.6849198684344948, 1.5987315906632584]}, {\"line\": {\"width\": 5, \"color\": \"black\"}, \"type\": \"scatter3d\", \"marker\": {\"size\": 2, \"color\": \"blue\"}, \"x\": [-1.38555249151941, -1.2786534652967065], \"z\": [-0.2182466275887793, -0.40363129645676304], \"name\": \"lclavicle\", \"y\": [1.468402792572872, 1.5001979440661288]}, {\"line\": {\"width\": 5, \"color\": \"black\"}, \"type\": \"scatter3d\", \"marker\": {\"size\": 2, \"color\": \"blue\"}, \"x\": [-1.4514389611808514, -1.38555249151941], \"z\": [-0.10962185904019085, -0.2182466275887793], \"name\": \"lradius\", \"y\": [0.9513094561434059, 1.468402792572872]}, {\"line\": {\"width\": 5, \"color\": \"black\"}, \"type\": \"scatter3d\", \"marker\": {\"size\": 2, \"color\": \"blue\"}, \"x\": [-1.5052011309825895, -1.4514389611808514], \"z\": [-0.10950431014551208, -0.10962185904019085], \"name\": \"lwrist\", \"y\": [0.8483863779300582, 0.9513094561434059]}, {\"line\": {\"width\": 5, \"color\": \"black\"}, \"type\": \"scatter3d\", \"marker\": {\"size\": 2, \"color\": \"blue\"}, \"x\": [-1.104990240077729, -1.2786534652967065], \"z\": [-0.5481156874789057, -0.40363129645676304], \"name\": \"rclavicle\", \"y\": [1.4874753466035888, 1.5001979440661288]}, {\"line\": {\"width\": 5, \"color\": \"black\"}, \"type\": \"scatter3d\", \"marker\": {\"size\": 2, \"color\": \"blue\"}, \"x\": [-1.0548421848987504, -1.104990240077729], \"z\": [-0.6051351121529558, -0.5481156874789057], \"name\": \"rradius\", \"y\": [0.9272320362353513, 1.4874753466035888]}, {\"line\": {\"width\": 5, \"color\": \"black\"}, \"type\": \"scatter3d\", \"marker\": {\"size\": 2, \"color\": \"blue\"}, \"x\": [-1.0609434571299383, -1.0548421848987504], \"z\": [-0.6423989765319111, -0.6051351121529558], \"name\": \"rwrist\", \"y\": [0.818813419177635, 0.9272320362353513]}], \"name\": \"frame8\"}, {\"data\": [{\"type\": \"scatter3d\", \"marker\": {\"size\": 4, \"color\": \"red\"}, \"x\": [-1.3083785588190777], \"z\": [-0.4393119940143001], \"name\": \"root\", \"y\": [0.9890710913460201]}, {\"line\": {\"width\": 5, \"color\": \"black\"}, \"type\": \"scatter3d\", \"marker\": {\"size\": 2, \"color\": \"blue\"}, \"x\": [-1.2755171936270389, -1.3083785588190777], \"z\": [-0.534128636308349, -0.4393119940143001], \"name\": \"rhipjoint\", \"y\": [0.8668017125832189, 0.9890710913460201]}, {\"line\": {\"width\": 5, \"color\": \"black\"}, \"type\": \"scatter3d\", \"marker\": {\"size\": 2, \"color\": \"blue\"}, \"x\": [-1.4422745192718058, -1.2755171936270389], \"z\": [-0.7151358926550686, -0.534128636308349], \"name\": \"rfemur\", \"y\": [0.43664054819856984, 0.8668017125832189]}, {\"line\": {\"width\": 5, \"color\": \"black\"}, \"type\": \"scatter3d\", \"marker\": {\"size\": 2, \"color\": \"blue\"}, \"x\": [-1.247046296603034, -1.4422745192718058], \"z\": [-0.4641622041922616, -0.7151358926550686], \"name\": \"rtibia\", \"y\": [0.04998307372111087, 0.43664054819856984]}, {\"line\": {\"width\": 5, \"color\": \"black\"}, \"type\": \"scatter3d\", \"marker\": {\"size\": 2, \"color\": \"blue\"}, \"x\": [-1.4150361669644822, -1.3083785588190777], \"z\": [-0.423802895081223, -0.4393119940143001], \"name\": \"lhipjoint\", \"y\": [0.870386910100409, 0.9890710913460201]}, {\"line\": {\"width\": 5, \"color\": \"black\"}, \"type\": \"scatter3d\", \"marker\": {\"size\": 2, \"color\": \"blue\"}, \"x\": [-1.4581438061329213, -1.4150361669644822], \"z\": [-0.4422822032619293, -0.423802895081223], \"name\": \"lfemur\", \"y\": [0.39551060892411216, 0.870386910100409]}, {\"line\": {\"width\": 5, \"color\": \"black\"}, \"type\": \"scatter3d\", \"marker\": {\"size\": 2, \"color\": \"blue\"}, \"x\": [-1.3764524070135526, -1.4581438061329213], \"z\": [-0.3494091450510094, -0.4422822032619293], \"name\": \"ltibia\", \"y\": [-0.08835534498503352, 0.39551060892411216]}, {\"line\": {\"width\": 5, \"color\": \"black\"}, \"type\": \"scatter3d\", \"marker\": {\"size\": 2, \"color\": \"blue\"}, \"x\": [-1.3515961702957278, -1.3083785588190777], \"z\": [-0.4593944793983782, -0.4393119940143001], \"name\": \"upperback\", \"y\": [1.2571394629058745, 0.9890710913460201]}, {\"line\": {\"width\": 5, \"color\": \"black\"}, \"type\": \"scatter3d\", \"marker\": {\"size\": 2, \"color\": \"blue\"}, \"x\": [-1.4082136877565938, -1.3515961702957278], \"z\": [-0.5042710357054678, -0.4593944793983782], \"name\": \"lowerneck\", \"y\": [1.5008607708649402, 1.2571394629058745]}, {\"line\": {\"width\": 5, \"color\": \"black\"}, \"type\": \"scatter3d\", \"marker\": {\"size\": 2, \"color\": \"blue\"}, \"x\": [-1.4496956099707594, -1.4082136877565938], \"z\": [-0.5552624529585043, -0.5042710357054678], \"name\": \"upperneck\", \"y\": [1.5987583842639679, 1.5008607708649402]}, {\"line\": {\"width\": 5, \"color\": \"black\"}, \"type\": \"scatter3d\", \"marker\": {\"size\": 2, \"color\": \"blue\"}, \"x\": [-1.486650608718072, -1.4496956099707594], \"z\": [-0.6286848885951553, -0.5552624529585043], \"name\": \"head\", \"y\": [1.683598578385469, 1.5987583842639679]}, {\"line\": {\"width\": 5, \"color\": \"black\"}, \"type\": \"scatter3d\", \"marker\": {\"size\": 2, \"color\": \"blue\"}, \"x\": [-1.5478136770184527, -1.4082136877565938], \"z\": [-0.3448438897091139, -0.5042710357054678], \"name\": \"lclavicle\", \"y\": [1.4751606554935535, 1.5008607708649402]}, {\"line\": {\"width\": 5, \"color\": \"black\"}, \"type\": \"scatter3d\", \"marker\": {\"size\": 2, \"color\": \"blue\"}, \"x\": [-1.6544579523940444, -1.5478136770184527], \"z\": [-0.24612520795659176, -0.3448438897091139], \"name\": \"lradius\", \"y\": [0.961259059697745, 1.4751606554935535]}, {\"line\": {\"width\": 5, \"color\": \"black\"}, \"type\": \"scatter3d\", \"marker\": {\"size\": 2, \"color\": \"blue\"}, \"x\": [-1.7086233772890778, -1.6544579523940444], \"z\": [-0.2569488764080166, -0.24612520795659176], \"name\": \"lwrist\", \"y\": [0.8591194508496659, 0.961259059697745]}, {\"line\": {\"width\": 5, \"color\": \"black\"}, \"type\": \"scatter3d\", \"marker\": {\"size\": 2, \"color\": \"blue\"}, \"x\": [-1.2082095655679193, -1.4082136877565938], \"z\": [-0.6140900276261075, -0.5042710357054678], \"name\": \"rclavicle\", \"y\": [1.4834129658823059, 1.5008607708649402]}, {\"line\": {\"width\": 5, \"color\": \"black\"}, \"type\": \"scatter3d\", \"marker\": {\"size\": 2, \"color\": \"blue\"}, \"x\": [-1.1038191275839104, -1.2082095655679193], \"z\": [-0.618459014580714, -0.6140900276261075], \"name\": \"rradius\", \"y\": [0.9286385089452397, 1.4834129658823059]}, {\"line\": {\"width\": 5, \"color\": \"black\"}, \"type\": \"scatter3d\", \"marker\": {\"size\": 2, \"color\": \"blue\"}, \"x\": [-1.092999591536165, -1.1038191275839104], \"z\": [-0.6492826724733026, -0.618459014580714], \"name\": \"rwrist\", \"y\": [0.8185782645795643, 0.9286385089452397]}], \"name\": \"frame9\"}, {\"data\": [{\"type\": \"scatter3d\", \"marker\": {\"size\": 4, \"color\": \"red\"}, \"x\": [-1.4050452254857444], \"z\": [-0.5474806606809667], \"name\": \"root\", \"y\": [0.9791577580126867]}, {\"line\": {\"width\": 5, \"color\": \"black\"}, \"type\": \"scatter3d\", \"marker\": {\"size\": 2, \"color\": \"blue\"}, \"x\": [-1.364452262047816, -1.4050452254857444], \"z\": [-0.631769984490904, -0.5474806606809667], \"name\": \"rhipjoint\", \"y\": [0.8516140903053715, 0.9791577580126867]}, {\"line\": {\"width\": 5, \"color\": \"black\"}, \"type\": \"scatter3d\", \"marker\": {\"size\": 2, \"color\": \"blue\"}, \"x\": [-1.5321970333615884, -1.364452262047816], \"z\": [-0.8360287598437742, -0.631769984490904], \"name\": \"rfemur\", \"y\": [0.4323882511215793, 0.8516140903053715]}, {\"line\": {\"width\": 5, \"color\": \"black\"}, \"type\": \"scatter3d\", \"marker\": {\"size\": 2, \"color\": \"blue\"}, \"x\": [-1.6129948283476276, -1.5321970333615884], \"z\": [-0.8342494303753804, -0.8360287598437742], \"name\": \"rtibia\", \"y\": [-0.06165061790428735, 0.4323882511215793]}, {\"line\": {\"width\": 5, \"color\": \"black\"}, \"type\": \"scatter3d\", \"marker\": {\"size\": 2, \"color\": \"blue\"}, \"x\": [-1.5125741971485422, -1.4050452254857444], \"z\": [-0.5336831646405091, -0.5474806606809667], \"name\": \"lhipjoint\", \"y\": [0.8610499184798662, 0.9791577580126867]}, {\"line\": {\"width\": 5, \"color\": \"black\"}, \"type\": \"scatter3d\", \"marker\": {\"size\": 2, \"color\": \"blue\"}, \"x\": [-1.488424167993247, -1.5125741971485422], \"z\": [-0.4833300842435583, -0.5336831646405091], \"name\": \"lfemur\", \"y\": [0.3871421234493017, 0.8610499184798662]}, {\"line\": {\"width\": 5, \"color\": \"black\"}, \"type\": \"scatter3d\", \"marker\": {\"size\": 2, \"color\": \"blue\"}, \"x\": [-1.3776549035569539, -1.488424167993247], \"z\": [-0.35073632747978595, -0.4833300842435583], \"name\": \"ltibia\", \"y\": [-0.0814453461947858, 0.3871421234493017]}, {\"line\": {\"width\": 5, \"color\": \"black\"}, \"type\": \"scatter3d\", \"marker\": {\"size\": 2, \"color\": \"blue\"}, \"x\": [-1.4570173590946076, -1.4050452254857444], \"z\": [-0.5778380686764962, -0.5474806606809667], \"name\": \"upperback\", \"y\": [1.244689801067701, 0.9791577580126867]}, {\"line\": {\"width\": 5, \"color\": \"black\"}, \"type\": \"scatter3d\", \"marker\": {\"size\": 2, \"color\": \"blue\"}, \"x\": [-1.5135279671964879, -1.4570173590946076], \"z\": [-0.6387606445387102, -0.5778380686764962], \"name\": \"lowerneck\", \"y\": [1.4845051956560509, 1.244689801067701]}, {\"line\": {\"width\": 5, \"color\": \"black\"}, \"type\": \"scatter3d\", \"marker\": {\"size\": 2, \"color\": \"blue\"}, \"x\": [-1.5500970722662475, -1.5135279671964879], \"z\": [-0.6948989806443687, -0.6387606445387102], \"name\": \"upperneck\", \"y\": [1.5815412971181655, 1.4845051956560509]}, {\"line\": {\"width\": 5, \"color\": \"black\"}, \"type\": \"scatter3d\", \"marker\": {\"size\": 2, \"color\": \"blue\"}, \"x\": [-1.5768075422995884, -1.5500970722662475], \"z\": [-0.7724139893890745, -0.6948989806443687], \"name\": \"head\", \"y\": [1.6665845727824542, 1.5815412971181655]}, {\"line\": {\"width\": 5, \"color\": \"black\"}, \"type\": \"scatter3d\", \"marker\": {\"size\": 2, \"color\": \"blue\"}, \"x\": [-1.6761277224893412, -1.5135279671964879], \"z\": [-0.5117004513284756, -0.6387606445387102], \"name\": \"lclavicle\", \"y\": [1.46096012308288, 1.4845051956560509]}, {\"line\": {\"width\": 5, \"color\": \"black\"}, \"type\": \"scatter3d\", \"marker\": {\"size\": 2, \"color\": \"blue\"}, \"x\": [-1.8117699131440026, -1.6761277224893412], \"z\": [-0.45579052841166096, -0.5117004513284756], \"name\": \"lradius\", \"y\": [0.9506427862178028, 1.46096012308288]}, {\"line\": {\"width\": 5, \"color\": \"black\"}, \"type\": \"scatter3d\", \"marker\": {\"size\": 2, \"color\": \"blue\"}, \"x\": [-1.8670867012284826, -1.8117699131440026], \"z\": [-0.4820614649840575, -0.45579052841166096], \"name\": \"lwrist\", \"y\": [0.8519846107021858, 0.9506427862178028]}, {\"line\": {\"width\": 5, \"color\": \"black\"}, \"type\": \"scatter3d\", \"marker\": {\"size\": 2, \"color\": \"blue\"}, \"x\": [-1.2915561206236876, -1.5135279671964879], \"z\": [-0.7115202723343731, -0.6387606445387102], \"name\": \"rclavicle\", \"y\": [1.469282267982589, 1.4845051956560509]}, {\"line\": {\"width\": 5, \"color\": \"black\"}, \"type\": \"scatter3d\", \"marker\": {\"size\": 2, \"color\": \"blue\"}, \"x\": [-1.1764450918440457, -1.2915561206236876], \"z\": [-0.676836864176933, -0.7115202723343731], \"name\": \"rradius\", \"y\": [0.9180790333675278, 1.469282267982589]}, {\"line\": {\"width\": 5, \"color\": \"black\"}, \"type\": \"scatter3d\", \"marker\": {\"size\": 2, \"color\": \"blue\"}, \"x\": [-1.1577087919922129, -1.1764450918440457], \"z\": [-0.7016063090796237, -0.676836864176933], \"name\": \"rwrist\", \"y\": [0.8075537272015877, 0.9180790333675278]}], \"name\": \"frame10\"}, {\"data\": [{\"type\": \"scatter3d\", \"marker\": {\"size\": 4, \"color\": \"red\"}, \"x\": [-1.4918052254857443], \"z\": [-0.6990066606809667], \"name\": \"root\", \"y\": [0.9695977580126868]}, {\"line\": {\"width\": 5, \"color\": \"black\"}, \"type\": \"scatter3d\", \"marker\": {\"size\": 2, \"color\": \"blue\"}, \"x\": [-1.4537938150862122, -1.4918052254857443], \"z\": [-0.7787347717573507, -0.6990066606809667], \"name\": \"rhipjoint\", \"y\": [0.8383787542637113, 0.9695977580126868]}, {\"line\": {\"width\": 5, \"color\": \"black\"}, \"type\": \"scatter3d\", \"marker\": {\"size\": 2, \"color\": \"blue\"}, \"x\": [-1.6156243948732958, -1.4537938150862122], \"z\": [-0.961809379176305, -0.7787347717573507], \"name\": \"rfemur\", \"y\": [0.40721195195248144, 0.8383787542637113]}, {\"line\": {\"width\": 5, \"color\": \"black\"}, \"type\": \"scatter3d\", \"marker\": {\"size\": 2, \"color\": \"blue\"}, \"x\": [-1.7235108068203906, -1.6156243948732958], \"z\": [-0.9573809064509097, -0.961809379176305], \"name\": \"rtibia\", \"y\": [-0.08160986071837595, 0.40721195195248144]}, {\"line\": {\"width\": 5, \"color\": \"black\"}, \"type\": \"scatter3d\", \"marker\": {\"size\": 2, \"color\": \"blue\"}, \"x\": [-1.6015582183363735, -1.4918052254857443], \"z\": [-0.6809221885725604, -0.6990066606809667], \"name\": \"lhipjoint\", \"y\": [0.8541441100328775, 0.9695977580126868]}, {\"line\": {\"width\": 5, \"color\": \"black\"}, \"type\": \"scatter3d\", \"marker\": {\"size\": 2, \"color\": \"blue\"}, \"x\": [-1.504667705103622, -1.6015582183363735], \"z\": [-0.5262560812438599, -0.6809221885725604], \"name\": \"lfemur\", \"y\": [0.41323836217549714, 0.8541441100328775]}, {\"line\": {\"width\": 5, \"color\": \"black\"}, \"type\": \"scatter3d\", \"marker\": {\"size\": 2, \"color\": \"blue\"}, \"x\": [-1.4032618703336592, -1.504667705103622], \"z\": [-0.3643821763486398, -0.5262560812438599], \"name\": \"ltibia\", \"y\": [-0.04821461113003581, 0.41323836217549714]}, {\"line\": {\"width\": 5, \"color\": \"black\"}, \"type\": \"scatter3d\", \"marker\": {\"size\": 2, \"color\": \"blue\"}, \"x\": [-1.534543457757728, -1.4918052254857443], \"z\": [-0.7455581693608881, -0.6990066606809667], \"name\": \"upperback\", \"y\": [1.234513295491609, 0.9695977580126868]}, {\"line\": {\"width\": 5, \"color\": \"black\"}, \"type\": \"scatter3d\", \"marker\": {\"size\": 2, \"color\": \"blue\"}, \"x\": [-1.5895756301788322, -1.534543457757728], \"z\": [-0.8151759402667869, -0.7455581693608881], \"name\": \"lowerneck\", \"y\": [1.4725441008158031, 1.234513295491609]}, {\"line\": {\"width\": 5, \"color\": \"black\"}, \"type\": \"scatter3d\", \"marker\": {\"size\": 2, \"color\": \"blue\"}, \"x\": [-1.6186480588488628, -1.5895756301788322], \"z\": [-0.8725196162257018, -0.8151759402667869], \"name\": \"upperneck\", \"y\": [1.5713940574775325, 1.4725441008158031]}, {\"line\": {\"width\": 5, \"color\": \"black\"}, \"type\": \"scatter3d\", \"marker\": {\"size\": 2, \"color\": \"blue\"}, \"x\": [-1.6362815348565016, -1.6186480588488628], \"z\": [-0.9478161303816709, -0.8725196162257018], \"name\": \"head\", \"y\": [1.6606906419903456, 1.5713940574775325]}, {\"line\": {\"width\": 5, \"color\": \"black\"}, \"type\": \"scatter3d\", \"marker\": {\"size\": 2, \"color\": \"blue\"}, \"x\": [-1.7537377128191418, -1.5895756301788322], \"z\": [-0.680346976892005, -0.8151759402667869], \"name\": \"lclavicle\", \"y\": [1.4509798446045208, 1.4725441008158031]}, {\"line\": {\"width\": 5, \"color\": \"black\"}, \"type\": \"scatter3d\", \"marker\": {\"size\": 2, \"color\": \"blue\"}, \"x\": [-1.878940187556237, -1.7537377128191418], \"z\": [-0.6432929886104148, -0.680346976892005], \"name\": \"lradius\", \"y\": [0.9421942337214674, 1.4509798446045208]}, {\"line\": {\"width\": 5, \"color\": \"black\"}, \"type\": \"scatter3d\", \"marker\": {\"size\": 2, \"color\": \"blue\"}, \"x\": [-1.9283616257824618, -1.878940187556237], \"z\": [-0.680213497450509, -0.6432929886104148], \"name\": \"lwrist\", \"y\": [0.8438177008536923, 0.9421942337214674]}, {\"line\": {\"width\": 5, \"color\": \"black\"}, \"type\": \"scatter3d\", \"marker\": {\"size\": 2, \"color\": \"blue\"}, \"x\": [-1.3700886443659828, -1.5895756301788322], \"z\": [-0.8819748874405505, -0.8151759402667869], \"name\": \"rclavicle\", \"y\": [1.4581988394740755, 1.4725441008158031]}, {\"line\": {\"width\": 5, \"color\": \"black\"}, \"type\": \"scatter3d\", \"marker\": {\"size\": 2, \"color\": \"blue\"}, \"x\": [-1.2653086941182936, -1.3700886443659828], \"z\": [-0.8129064866468018, -0.8819748874405505], \"name\": \"rradius\", \"y\": [0.9098951476638466, 1.4581988394740755]}, {\"line\": {\"width\": 5, \"color\": \"black\"}, \"type\": \"scatter3d\", \"marker\": {\"size\": 2, \"color\": \"blue\"}, \"x\": [-1.2478287243097372, -1.2653086941182936], \"z\": [-0.8325713947581266, -0.8129064866468018], \"name\": \"rwrist\", \"y\": [0.7981447128527681, 0.9098951476638466]}], \"name\": \"frame11\"}, {\"data\": [{\"type\": \"scatter3d\", \"marker\": {\"size\": 4, \"color\": \"red\"}, \"x\": [-1.5675318921524108], \"z\": [-0.8848539940143001], \"name\": \"root\", \"y\": [0.9813177580126868]}, {\"line\": {\"width\": 5, \"color\": \"black\"}, \"type\": \"scatter3d\", \"marker\": {\"size\": 2, \"color\": \"blue\"}, \"x\": [-1.5042459662793322, -1.5675318921524108], \"z\": [-0.9655073161992237, -0.8848539940143001], \"name\": \"rhipjoint\", \"y\": [0.860861130265744, 0.9813177580126868]}, {\"line\": {\"width\": 5, \"color\": \"black\"}, \"type\": \"scatter3d\", \"marker\": {\"size\": 2, \"color\": \"blue\"}, \"x\": [-1.6460286203308387, -1.5042459662793322], \"z\": [-1.088594771037692, -0.9655073161992237], \"name\": \"rfemur\", \"y\": [0.40221375229153383, 0.860861130265744]}, {\"line\": {\"width\": 5, \"color\": \"black\"}, \"type\": \"scatter3d\", \"marker\": {\"size\": 2, \"color\": \"blue\"}, \"x\": [-1.7441785940443368, -1.6460286203308387], \"z\": [-0.9915699391405747, -1.088594771037692], \"name\": \"rtibia\", \"y\": [-0.07899162844697814, 0.40221375229153383]}, {\"line\": {\"width\": 5, \"color\": \"black\"}, \"type\": \"scatter3d\", \"marker\": {\"size\": 2, \"color\": \"blue\"}, \"x\": [-1.6680004862100166, -1.5675318921524108], \"z\": [-0.8960893208938845, -0.8848539940143001], \"name\": \"lhipjoint\", \"y\": [0.8568905044025852, 0.9813177580126868]}, {\"line\": {\"width\": 5, \"color\": \"black\"}, \"type\": \"scatter3d\", \"marker\": {\"size\": 2, \"color\": \"blue\"}, \"x\": [-1.739236468171044, -1.6680004862100166], \"z\": [-0.8468931048009992, -0.8960893208938845], \"name\": \"lfemur\", \"y\": [0.3876225404410708, 0.8568905044025852]}, {\"line\": {\"width\": 5, \"color\": \"black\"}, \"type\": \"scatter3d\", \"marker\": {\"size\": 2, \"color\": \"blue\"}, \"x\": [-1.57339053709086, -1.739236468171044], \"z\": [-0.5014620555400524, -0.8468931048009992], \"name\": \"ltibia\", \"y\": [0.06731383257541701, 0.3876225404410708]}, {\"line\": {\"width\": 5, \"color\": \"black\"}, \"type\": \"scatter3d\", \"marker\": {\"size\": 2, \"color\": \"blue\"}, \"x\": [-1.5979120963015434, -1.5675318921524108], \"z\": [-0.9311166298769649, -0.8848539940143001], \"name\": \"upperback\", \"y\": [1.2478378788748694, 0.9813177580126868]}, {\"line\": {\"width\": 5, \"color\": \"black\"}, \"type\": \"scatter3d\", \"marker\": {\"size\": 2, \"color\": \"blue\"}, \"x\": [-1.6399148172949678, -1.5979120963015434], \"z\": [-1.0202367300672963, -0.9311166298769649], \"name\": \"lowerneck\", \"y\": [1.4806061535203237, 1.2478378788748694]}, {\"line\": {\"width\": 5, \"color\": \"black\"}, \"type\": \"scatter3d\", \"marker\": {\"size\": 2, \"color\": \"blue\"}, \"x\": [-1.6546083513149505, -1.6399148172949678], \"z\": [-1.0794852238810468, -1.0202367300672963], \"name\": \"upperneck\", \"y\": [1.5814948706897198, 1.4806061535203237]}, {\"line\": {\"width\": 5, \"color\": \"black\"}, \"type\": \"scatter3d\", \"marker\": {\"size\": 2, \"color\": \"blue\"}, \"x\": [-1.6512948623815267, -1.6546083513149505], \"z\": [-1.1486516698569587, -1.0794852238810468], \"name\": \"head\", \"y\": [1.6771996671628089, 1.5814948706897198]}, {\"line\": {\"width\": 5, \"color\": \"black\"}, \"type\": \"scatter3d\", \"marker\": {\"size\": 2, \"color\": \"blue\"}, \"x\": [-1.8105130317994593, -1.6399148172949678], \"z\": [-0.8897971157461946, -1.0202367300672963], \"name\": \"lclavicle\", \"y\": [1.476420310258829, 1.4806061535203237]}, {\"line\": {\"width\": 5, \"color\": \"black\"}, \"type\": \"scatter3d\", \"marker\": {\"size\": 2, \"color\": \"blue\"}, \"x\": [-1.8950877569605238, -1.8105130317994593], \"z\": [-0.816793701748819, -0.8897971157461946], \"name\": \"lradius\", \"y\": [0.9604566259408206, 1.476420310258829]}, {\"line\": {\"width\": 5, \"color\": \"black\"}, \"type\": \"scatter3d\", \"marker\": {\"size\": 2, \"color\": \"blue\"}, \"x\": [-1.935471032599388, -1.8950877569605238], \"z\": [-0.8451971681893546, -0.816793701748819], \"name\": \"lwrist\", \"y\": [0.8553567739367322, 0.9604566259408206]}, {\"line\": {\"width\": 5, \"color\": \"black\"}, \"type\": \"scatter3d\", \"marker\": {\"size\": 2, \"color\": \"blue\"}, \"x\": [-1.4094995335859486, -1.6399148172949678], \"z\": [-1.053580137835151, -1.0202367300672963], \"name\": \"rclavicle\", \"y\": [1.4604255658080243, 1.4806061535203237]}, {\"line\": {\"width\": 5, \"color\": \"black\"}, \"type\": \"scatter3d\", \"marker\": {\"size\": 2, \"color\": \"blue\"}, \"x\": [-1.3062367825183974, -1.4094995335859486], \"z\": [-1.0144853820681863, -1.053580137835151], \"name\": \"rradius\", \"y\": [0.9201454447286447, 1.4604255658080243]}, {\"line\": {\"width\": 5, \"color\": \"black\"}, \"type\": \"scatter3d\", \"marker\": {\"size\": 2, \"color\": \"blue\"}, \"x\": [-1.2888032379489174, -1.3062367825183974], \"z\": [-1.049844833854574, -1.0144853820681863], \"name\": \"rwrist\", \"y\": [0.8123205944894252, 0.9201454447286447]}], \"name\": \"frame12\"}, {\"data\": [{\"type\": \"scatter3d\", \"marker\": {\"size\": 4, \"color\": \"red\"}, \"x\": [-1.6205452254857444], \"z\": [-1.0328153273476335], \"name\": \"root\", \"y\": [0.9878444246793535]}, {\"line\": {\"width\": 5, \"color\": \"black\"}, \"type\": \"scatter3d\", \"marker\": {\"size\": 2, \"color\": \"blue\"}, \"x\": [-1.5244105265051828, -1.6205452254857444], \"z\": [-1.0893173151861633, -1.0328153273476335], \"name\": \"rhipjoint\", \"y\": [0.8756592608498391, 0.9878444246793535]}, {\"line\": {\"width\": 5, \"color\": \"black\"}, \"type\": \"scatter3d\", \"marker\": {\"size\": 2, \"color\": \"blue\"}, \"x\": [-1.632965455508177, -1.5244105265051828], \"z\": [-1.1477090710508928, -1.0893173151861633], \"name\": \"rfemur\", \"y\": [0.3956420839828986, 0.8756592608498391]}, {\"line\": {\"width\": 5, \"color\": \"black\"}, \"type\": \"scatter3d\", \"marker\": {\"size\": 2, \"color\": \"blue\"}, \"x\": [-1.7430935443458462, -1.632965455508177], \"z\": [-1.0085264190757917, -1.1477090710508928], \"name\": \"rtibia\", \"y\": [-0.07244535147597043, 0.3956420839828986]}, {\"line\": {\"width\": 5, \"color\": \"black\"}, \"type\": \"scatter3d\", \"marker\": {\"size\": 2, \"color\": \"blue\"}, \"x\": [-1.701179738787456, -1.6205452254857444], \"z\": [-1.0803689098149412, -1.0328153273476335], \"name\": \"lhipjoint\", \"y\": [0.8576943403072076, 0.9878444246793535]}, {\"line\": {\"width\": 5, \"color\": \"black\"}, \"type\": \"scatter3d\", \"marker\": {\"size\": 2, \"color\": \"blue\"}, \"x\": [-1.813873934784116, -1.701179738787456], \"z\": [-1.2143098662211205, -1.0803689098149412], \"name\": \"lfemur\", \"y\": [0.4137719448482049, 0.8576943403072076]}, {\"line\": {\"width\": 5, \"color\": \"black\"}, \"type\": \"scatter3d\", \"marker\": {\"size\": 2, \"color\": \"blue\"}, \"x\": [-1.8052682914911093, -1.813873934784116], \"z\": [-0.833686374436656, -1.2143098662211205], \"name\": \"ltibia\", \"y\": [0.09054315375859331, 0.4137719448482049]}, {\"line\": {\"width\": 5, \"color\": \"black\"}, \"type\": \"scatter3d\", \"marker\": {\"size\": 2, \"color\": \"blue\"}, \"x\": [-1.6374990270433412, -1.6205452254857444], \"z\": [-1.0856662576696423, -1.0328153273476335], \"name\": \"upperback\", \"y\": [1.2544613696105809, 0.9878444246793535]}, {\"line\": {\"width\": 5, \"color\": \"black\"}, \"type\": \"scatter3d\", \"marker\": {\"size\": 2, \"color\": \"blue\"}, \"x\": [-1.6635138065520623, -1.6374990270433412], \"z\": [-1.1683400665072958, -1.0856662576696423], \"name\": \"lowerneck\", \"y\": [1.4925574544559623, 1.2544613696105809]}, {\"line\": {\"width\": 5, \"color\": \"black\"}, \"type\": \"scatter3d\", \"marker\": {\"size\": 2, \"color\": \"blue\"}, \"x\": [-1.6603315868728472, -1.6635138065520623], \"z\": [-1.2212150191549036, -1.1683400665072958], \"name\": \"upperneck\", \"y\": [1.5979089142166474, 1.4925574544559623]}, {\"line\": {\"width\": 5, \"color\": \"black\"}, \"type\": \"scatter3d\", \"marker\": {\"size\": 2, \"color\": \"blue\"}, \"x\": [-1.6349863876264654, -1.6603315868728472], \"z\": [-1.279877948649551, -1.2212150191549036], \"name\": \"head\", \"y\": [1.69726014019838, 1.5979089142166474]}, {\"line\": {\"width\": 5, \"color\": \"black\"}, \"type\": \"scatter3d\", \"marker\": {\"size\": 2, \"color\": \"blue\"}, \"x\": [-1.8609070204328633, -1.6635138065520623], \"z\": [-1.0895170670195458, -1.1683400665072958], \"name\": \"lclavicle\", \"y\": [1.476340678508487, 1.4925574544559623]}, {\"line\": {\"width\": 5, \"color\": \"black\"}, \"type\": \"scatter3d\", \"marker\": {\"size\": 2, \"color\": \"blue\"}, \"x\": [-1.9397321794054423, -1.8609070204328633], \"z\": [-0.9973083664497226, -1.0895170670195458], \"name\": \"lradius\", \"y\": [0.9456690778645235, 1.476340678508487]}, {\"line\": {\"width\": 5, \"color\": \"black\"}, \"type\": \"scatter3d\", \"marker\": {\"size\": 2, \"color\": \"blue\"}, \"x\": [-1.9696005707249722, -1.9397321794054423], \"z\": [-1.0123565386396356, -0.9973083664497226], \"name\": \"lwrist\", \"y\": [0.8344711621368865, 0.9456690778645235]}, {\"line\": {\"width\": 5, \"color\": \"black\"}, \"type\": \"scatter3d\", \"marker\": {\"size\": 2, \"color\": \"blue\"}, \"x\": [-1.4318501395157461, -1.6635138065520623], \"z\": [-1.1511827014485159, -1.1683400665072958], \"name\": \"rclavicle\", \"y\": [1.4760606923967843, 1.4925574544559623]}, {\"line\": {\"width\": 5, \"color\": \"black\"}, \"type\": \"scatter3d\", \"marker\": {\"size\": 2, \"color\": \"blue\"}, \"x\": [-1.3031144180168754, -1.4318501395157461], \"z\": [-1.2334184882683568, -1.1511827014485159], \"name\": \"rradius\", \"y\": [0.9804809335668272, 1.4760606923967843]}, {\"line\": {\"width\": 5, \"color\": \"black\"}, \"type\": \"scatter3d\", \"marker\": {\"size\": 2, \"color\": \"blue\"}, \"x\": [-1.2729681768870942, -1.3031144180168754], \"z\": [-1.309904756640105, -1.2334184882683568], \"name\": \"rwrist\", \"y\": [0.9003468426172816, 0.9804809335668272]}], \"name\": \"frame13\"}, {\"data\": [{\"type\": \"scatter3d\", \"marker\": {\"size\": 4, \"color\": \"red\"}, \"x\": [-1.6780252254857444], \"z\": [-1.1709446606809668], \"name\": \"root\", \"y\": [0.9823644246793535]}, {\"line\": {\"width\": 5, \"color\": \"black\"}, \"type\": \"scatter3d\", \"marker\": {\"size\": 2, \"color\": \"blue\"}, \"x\": [-1.5637990315988077, -1.6780252254857444], \"z\": [-1.184045463495527, -1.1709446606809668], \"name\": \"rhipjoint\", \"y\": [0.873733804884742, 0.9823644246793535]}, {\"line\": {\"width\": 5, \"color\": \"black\"}, \"type\": \"scatter3d\", \"marker\": {\"size\": 2, \"color\": \"blue\"}, \"x\": [-1.630661655630002, -1.5637990315988077], \"z\": [-1.2095955664620666, -1.184045463495527], \"name\": \"rfemur\", \"y\": [0.3833392274298302, 0.873733804884742]}, {\"line\": {\"width\": 5, \"color\": \"black\"}, \"type\": \"scatter3d\", \"marker\": {\"size\": 2, \"color\": \"blue\"}, \"x\": [-1.7422575867803134, -1.630661655630002], \"z\": [-1.0264921623711978, -1.2095955664620666], \"name\": \"rtibia\", \"y\": [-0.06901610343004977, 0.3833392274298302]}, {\"line\": {\"width\": 5, \"color\": \"black\"}, \"type\": \"scatter3d\", \"marker\": {\"size\": 2, \"color\": \"blue\"}, \"x\": [-1.7302578074133876, -1.6780252254857444], \"z\": [-1.2413796915837492, -1.1709446606809668], \"name\": \"lhipjoint\", \"y\": [0.8481519952629547, 0.9823644246793535]}, {\"line\": {\"width\": 5, \"color\": \"black\"}, \"type\": \"scatter3d\", \"marker\": {\"size\": 2, \"color\": \"blue\"}, \"x\": [-1.742755340879223, -1.7302578074133876], \"z\": [-1.4500487378275304, -1.2413796915837492], \"name\": \"lfemur\", \"y\": [0.4191901139711833, 0.8481519952629547]}, {\"line\": {\"width\": 5, \"color\": \"black\"}, \"type\": \"scatter3d\", \"marker\": {\"size\": 2, \"color\": \"blue\"}, \"x\": [-1.916602286046255, -1.742755340879223], \"z\": [-1.3481942426033962, -1.4500487378275304], \"name\": \"ltibia\", \"y\": [-0.03778696690122138, 0.4191901139711833]}, {\"line\": {\"width\": 5, \"color\": \"black\"}, \"type\": \"scatter3d\", \"marker\": {\"size\": 2, \"color\": \"blue\"}, \"x\": [-1.6661958947922595, -1.6780252254857444], \"z\": [-1.2325707787873947, -1.1709446606809668], \"name\": \"upperback\", \"y\": [1.247232215356741, 0.9823644246793535]}, {\"line\": {\"width\": 5, \"color\": \"black\"}, \"type\": \"scatter3d\", \"marker\": {\"size\": 2, \"color\": \"blue\"}, \"x\": [-1.6492825390651957, -1.6661958947922595], \"z\": [-1.320892589205248, -1.2325707787873947], \"name\": \"lowerneck\", \"y\": [1.4846183695536965, 1.247232215356741]}, {\"line\": {\"width\": 5, \"color\": \"black\"}, \"type\": \"scatter3d\", \"marker\": {\"size\": 2, \"color\": \"blue\"}, \"x\": [-1.624494746089446, -1.6492825390651957], \"z\": [-1.3648864082799863, -1.320892589205248], \"name\": \"upperneck\", \"y\": [1.5911778666240721, 1.4846183695536965]}, {\"line\": {\"width\": 5, \"color\": \"black\"}, \"type\": \"scatter3d\", \"marker\": {\"size\": 2, \"color\": \"blue\"}, \"x\": [-1.5785648967249943, -1.624494746089446], \"z\": [-1.407437119025595, -1.3648864082799863], \"name\": \"head\", \"y\": [1.6913490724579259, 1.5911778666240721]}, {\"line\": {\"width\": 5, \"color\": \"black\"}, \"type\": \"scatter3d\", \"marker\": {\"size\": 2, \"color\": \"blue\"}, \"x\": [-1.8640916533407088, -1.6492825390651957], \"z\": [-1.318582917513186, -1.320892589205248], \"name\": \"lclavicle\", \"y\": [1.4765694532845217, 1.4846183695536965]}, {\"line\": {\"width\": 5, \"color\": \"black\"}, \"type\": \"scatter3d\", \"marker\": {\"size\": 2, \"color\": \"blue\"}, \"x\": [-1.9782104974659414, -1.8640916533407088], \"z\": [-1.2410622544193768, -1.318582917513186], \"name\": \"lradius\", \"y\": [0.9498614712853135, 1.4765694532845217]}, {\"line\": {\"width\": 5, \"color\": \"black\"}, \"type\": \"scatter3d\", \"marker\": {\"size\": 2, \"color\": \"blue\"}, \"x\": [-2.001663403882584, -1.9782104974659414], \"z\": [-1.2615530803741106, -1.2410622544193768], \"name\": \"lwrist\", \"y\": [0.8379971249512403, 0.9498614712853135]}, {\"line\": {\"width\": 5, \"color\": \"black\"}, \"type\": \"scatter3d\", \"marker\": {\"size\": 2, \"color\": \"blue\"}, \"x\": [-1.4404581253285258, -1.6492825390651957], \"z\": [-1.2285403728135809, -1.320892589205248], \"name\": \"rclavicle\", \"y\": [1.4586946102909144, 1.4846183695536965]}, {\"line\": {\"width\": 5, \"color\": \"black\"}, \"type\": \"scatter3d\", \"marker\": {\"size\": 2, \"color\": \"blue\"}, \"x\": [-1.205150198468281, -1.4404581253285258], \"z\": [-1.3851839757477953, -1.2285403728135809], \"name\": \"rradius\", \"y\": [1.063383716162548, 1.4586946102909144]}, {\"line\": {\"width\": 5, \"color\": \"black\"}, \"type\": \"scatter3d\", \"marker\": {\"size\": 2, \"color\": \"blue\"}, \"x\": [-1.1442146675596634, -1.205150198468281], \"z\": [-1.4767462297973215, -1.3851839757477953], \"name\": \"rwrist\", \"y\": [1.0304651447741218, 1.063383716162548]}], \"name\": \"frame14\"}, {\"data\": [{\"type\": \"scatter3d\", \"marker\": {\"size\": 4, \"color\": \"red\"}, \"x\": [-1.7251252254857443], \"z\": [-1.3422353273476335], \"name\": \"root\", \"y\": [0.9634510913460201]}, {\"line\": {\"width\": 5, \"color\": \"black\"}, \"type\": \"scatter3d\", \"marker\": {\"size\": 2, \"color\": \"blue\"}, \"x\": [-1.6124473313715968, -1.7251252254857443], \"z\": [-1.3083115390781979, -1.3422353273476335], \"name\": \"rhipjoint\", \"y\": [0.8577499336953351, 0.9634510913460201]}, {\"line\": {\"width\": 5, \"color\": \"black\"}, \"type\": \"scatter3d\", \"marker\": {\"size\": 2, \"color\": \"blue\"}, \"x\": [-1.6325192625008609, -1.6124473313715968], \"z\": [-1.298854969948219, -1.3083115390781979], \"name\": \"rfemur\", \"y\": [0.36265605296951686, 0.8577499336953351]}, {\"line\": {\"width\": 5, \"color\": \"black\"}, \"type\": \"scatter3d\", \"marker\": {\"size\": 2, \"color\": \"blue\"}, \"x\": [-1.7475321569191562, -1.6325192625008609], \"z\": [-1.0517622264205988, -1.298854969948219], \"name\": \"rtibia\", \"y\": [-0.057252346577146555, 0.36265605296951686]}, {\"line\": {\"width\": 5, \"color\": \"black\"}, \"type\": \"scatter3d\", \"marker\": {\"size\": 2, \"color\": \"blue\"}, \"x\": [-1.746204081113209, -1.7251252254857443], \"z\": [-1.4210796815709477, -1.3422353273476335], \"name\": \"lhipjoint\", \"y\": [0.8254599247609785, 0.9634510913460201]}, {\"line\": {\"width\": 5, \"color\": \"black\"}, \"type\": \"scatter3d\", \"marker\": {\"size\": 2, \"color\": \"blue\"}, \"x\": [-1.7016322776022277, -1.746204081113209], \"z\": [-1.6261286571473446, -1.4210796815709477], \"name\": \"lfemur\", \"y\": [0.396886095938868, 0.8254599247609785]}, {\"line\": {\"width\": 5, \"color\": \"black\"}, \"type\": \"scatter3d\", \"marker\": {\"size\": 2, \"color\": \"blue\"}, \"x\": [-1.8251055025784464, -1.7016322776022277], \"z\": [-1.7054556915484274, -1.6261286571473446], \"name\": \"ltibia\", \"y\": [-0.08048874138609824, 0.396886095938868]}, {\"line\": {\"width\": 5, \"color\": \"black\"}, \"type\": \"scatter3d\", \"marker\": {\"size\": 2, \"color\": \"blue\"}, \"x\": [-1.6852284613056105, -1.7251252254857443], \"z\": [-1.3790464699526495, -1.3422353273476335], \"name\": \"upperback\", \"y\": [1.2285813416401075, 0.9634510913460201]}, {\"line\": {\"width\": 5, \"color\": \"black\"}, \"type\": \"scatter3d\", \"marker\": {\"size\": 2, \"color\": \"blue\"}, \"x\": [-1.620950184301334, -1.6852284613056105], \"z\": [-1.481394124867208, -1.3790464699526495], \"name\": \"lowerneck\", \"y\": [1.4524122933439847, 1.2285813416401075]}, {\"line\": {\"width\": 5, \"color\": \"black\"}, \"type\": \"scatter3d\", \"marker\": {\"size\": 2, \"color\": \"blue\"}, \"x\": [-1.5712627568397872, -1.620950184301334], \"z\": [-1.5205768909024975, -1.481394124867208], \"name\": \"upperneck\", \"y\": [1.5519144923717354, 1.4524122933439847]}, {\"line\": {\"width\": 5, \"color\": \"black\"}, \"type\": \"scatter3d\", \"marker\": {\"size\": 2, \"color\": \"blue\"}, \"x\": [-1.5008551201540354, -1.5712627568397872], \"z\": [-1.558335256586849, -1.5205768909024975], \"name\": \"head\", \"y\": [1.6389286006702173, 1.5519144923717354]}, {\"line\": {\"width\": 5, \"color\": \"black\"}, \"type\": \"scatter3d\", \"marker\": {\"size\": 2, \"color\": \"blue\"}, \"x\": [-1.8271971555196052, -1.620950184301334], \"z\": [-1.5531392841410612, -1.481394124867208], \"name\": \"lclavicle\", \"y\": [1.4492461776949876, 1.4524122933439847]}, {\"line\": {\"width\": 5, \"color\": \"black\"}, \"type\": \"scatter3d\", \"marker\": {\"size\": 2, \"color\": \"blue\"}, \"x\": [-1.9980328562636978, -1.8271971555196052], \"z\": [-1.5659807847025284, -1.5531392841410612], \"name\": \"lradius\", \"y\": [0.9377772530692193, 1.4492461776949876]}, {\"line\": {\"width\": 5, \"color\": \"black\"}, \"type\": \"scatter3d\", \"marker\": {\"size\": 2, \"color\": \"blue\"}, \"x\": [-2.0162791779232756, -1.9980328562636978], \"z\": [-1.605802312723811, -1.5659807847025284], \"name\": \"lwrist\", \"y\": [0.8302372028535444, 0.9377772530692193]}, {\"line\": {\"width\": 5, \"color\": \"black\"}, \"type\": \"scatter3d\", \"marker\": {\"size\": 2, \"color\": \"blue\"}, \"x\": [-1.4421156255173118, -1.620950184301334], \"z\": [-1.3565153640621441, -1.481394124867208], \"name\": \"rclavicle\", \"y\": [1.418525090019448, 1.4524122933439847]}, {\"line\": {\"width\": 5, \"color\": \"black\"}, \"type\": \"scatter3d\", \"marker\": {\"size\": 2, \"color\": \"blue\"}, \"x\": [-1.0587172137392071, -1.4421156255173118], \"z\": [-1.5032125735417414, -1.3565153640621441], \"name\": \"rradius\", \"y\": [1.066057579194255, 1.418525090019448]}, {\"line\": {\"width\": 5, \"color\": \"black\"}, \"type\": \"scatter3d\", \"marker\": {\"size\": 2, \"color\": \"blue\"}, \"x\": [-0.9655527041831161, -1.0587172137392071], \"z\": [-1.5617943211559056, -1.5032125735417414], \"name\": \"rwrist\", \"y\": [1.033362462714215, 1.066057579194255]}], \"name\": \"frame15\"}]);\n",
       "                        }).then(function(){\n",
       "                            Plotly.animate('b2ffb153-be3d-4476-baf4-9b38a70ec85d', null);\n",
       "                        }).then(function(){\n",
       "                            \n",
       "var gd = document.getElementById('b2ffb153-be3d-4476-baf4-9b38a70ec85d');\n",
       "var x = new MutationObserver(function (mutations, observer) {{\n",
       "        var display = window.getComputedStyle(gd).display;\n",
       "        if (!display || display === 'none') {{\n",
       "            console.log([gd, 'removed!']);\n",
       "            Plotly.purge(gd);\n",
       "            observer.disconnect();\n",
       "        }}\n",
       "}});\n",
       "\n",
       "// Listen for the removal of the full notebook cells\n",
       "var notebookContainer = gd.closest('#notebook-container');\n",
       "if (notebookContainer) {{\n",
       "    x.observe(notebookContainer, {childList: true});\n",
       "}}\n",
       "\n",
       "// Listen for the clearing of the current output cell\n",
       "var outputEl = gd.closest('.output');\n",
       "if (outputEl) {{\n",
       "    x.observe(outputEl, {childList: true});\n",
       "}}\n",
       "\n",
       "                        })\n",
       "                };\n",
       "                });\n",
       "            </script>\n",
       "        </div>"
      ]
     },
     "metadata": {},
     "output_type": "display_data"
    }
   ],
   "source": []
  },
  {
   "cell_type": "code",
   "execution_count": 11,
   "metadata": {},
   "outputs": [
    {
     "name": "stdout",
     "output_type": "stream",
     "text": [
      "r [0. 0. 0.]\n",
      "h [0.13003619 1.81213358 0.18133035]\n",
      "r [ 0.00119116 -0.0011186  -0.00090562]\n",
      "h [0.12720317 1.81399278 0.18036759]\n",
      "r [ 0.0021164  -0.00229892 -0.00219149]\n",
      "h [0.12845215 1.81459401 0.18677575]\n",
      "r [ 0.00165545 -0.00198957 -0.00227307]\n",
      "h [0.12814978 1.81645661 0.20125457]\n",
      "r [ 0.00252172 -0.00196142 -0.00255367]\n",
      "h [0.12221833 1.81824419 0.21663163]\n",
      "r [ 0.00294449 -0.00435087 -0.00541399]\n",
      "h [0.11232532 1.81582227 0.2291184 ]\n",
      "r [ 0.0020562  -0.00562506 -0.00510223]\n",
      "h [0.10429385 1.81035263 0.23480734]\n",
      "r [ 0.0021654  -0.00736517 -0.00567683]\n",
      "h [0.10045108 1.80716488 0.23401413]\n",
      "r [ 0.00192656 -0.00702748 -0.00527608]\n",
      "h [0.10461462 1.80680551 0.22872986]\n",
      "r [ 0.00160396 -0.00531923 -0.00394441]\n",
      "h [0.10956059 1.80663298 0.23064501]\n",
      "r [ 0.00097461 -0.00207513 -0.00308991]\n",
      "h [0.11407053 1.80589118 0.23701953]\n",
      "r [ 0.00089527 -0.00123607 -0.0022285 ]\n",
      "h [0.11616085 1.80381545 0.24403594]\n",
      "r [ 0.00122175 -0.00096832 -0.00236317]\n",
      "h [0.11417815 1.80296588 0.24970136]\n",
      "r [ 0.00074731 -0.00016205 -0.00333801]\n",
      "h [0.11298736 1.80280822 0.25939852]\n",
      "r [-0.00107851  0.00126067 -0.00269699]\n",
      "h [0.11120007 1.79980958 0.27580601]\n",
      "r [-1.60689576e-03  7.36039280e-03 -9.42952921e-05]\n",
      "h [0.1104205  1.78346034 0.30013552]\n",
      "r [-0.00040565  0.00931319  0.00386783]\n",
      "h [0.11039796 1.73039917 0.32960553]\n",
      "r [ 0.00600542  0.00061332 -0.00092436]\n",
      "h [0.10922464 1.64316835 0.36160234]\n",
      "r [0.01131982 0.00318198 0.00839012]\n",
      "h [0.10432775 1.54773167 0.39434903]\n",
      "r [0.01424618 0.00601033 0.01464235]\n",
      "h [0.09735646 1.4764808  0.42833808]\n",
      "r [0.01524974 0.00615263 0.01827709]\n",
      "h [0.08904417 1.47607374 0.45331427]\n",
      "r [0.01318938 0.00630127 0.01654459]\n",
      "h [0.08087256 1.58047937 0.46509236]\n",
      "r [-0.01266643  0.06030458  0.05771881]\n",
      "h [0.07364967 1.79138314 0.47901597]\n",
      "r [-0.04333856  0.20622185  0.19860037]\n",
      "h [0.07162792 1.98993771 0.50743884]\n",
      "r [-0.02969722  0.3034118   0.35388498]\n",
      "h [0.07086706 2.09547356 0.56930483]\n",
      "r [-0.03389067  0.2952516   0.54466988]\n",
      "h [0.06391976 2.11775076 0.64324608]\n",
      "r [-0.05535607  0.21849835  0.7519084 ]\n",
      "h [0.05657916 2.06071204 0.7188794 ]\n",
      "r [-0.07413603  0.09010698  0.93888528]\n",
      "h [0.04892992 1.92590527 0.79414447]\n",
      "r [-0.04771123  0.00457051  0.94415872]\n",
      "h [0.04253956 1.76237411 0.85734472]\n",
      "r [-0.04390074 -0.00206969  0.93776826]\n",
      "h [0.03122207 1.72264538 0.90037744]\n"
     ]
    }
   ],
   "source": [
    "joints_lst = reader.frames\n",
    "for joints in joints_lst[:300:10]:\n",
    "    for joint in joints.values():\n",
    "        if(joint.name == \"head\" or joint.name == 'rtibia'):\n",
    "            print(joint.name[0],joint.pos)"
   ]
  },
  {
   "cell_type": "code",
   "execution_count": null,
   "metadata": {},
   "outputs": [],
   "source": []
  }
 ],
 "metadata": {
  "kernelspec": {
   "display_name": "mocap",
   "language": "python",
   "name": "mocap"
  },
  "language_info": {
   "codemirror_mode": {
    "name": "ipython",
    "version": 3
   },
   "file_extension": ".py",
   "mimetype": "text/x-python",
   "name": "python",
   "nbconvert_exporter": "python",
   "pygments_lexer": "ipython3",
   "version": "3.5.2"
  }
 },
 "nbformat": 4,
 "nbformat_minor": 2
}
